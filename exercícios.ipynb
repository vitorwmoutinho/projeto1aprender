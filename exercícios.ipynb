{
  "nbformat": 4,
  "nbformat_minor": 0,
  "metadata": {
    "colab": {
      "provenance": [],
      "authorship_tag": "ABX9TyP0Bx/iy9vWQD+NXR+l7kHI",
      "include_colab_link": true
    },
    "kernelspec": {
      "name": "python3",
      "display_name": "Python 3"
    },
    "language_info": {
      "name": "python"
    }
  },
  "cells": [
    {
      "cell_type": "markdown",
      "metadata": {
        "id": "view-in-github",
        "colab_type": "text"
      },
      "source": [
        "<a href=\"https://colab.research.google.com/github/vitorwmoutinho/projeto1aprender/blob/main/exerc%C3%ADcios.ipynb\" target=\"_parent\"><img src=\"https://colab.research.google.com/assets/colab-badge.svg\" alt=\"Open In Colab\"/></a>"
      ]
    },
    {
      "cell_type": "code",
      "source": [
        "# A program that reads a sequence of numbers\n",
        "# and counts how many numbers are even and many are odd\n",
        "# The program terminates when zero is entered\n",
        "\n",
        "odd_numbers = 0\n",
        "even_numbers = 0\n",
        "\n",
        "# Read the first number.\n",
        "number = int(input(\"Enter a number or type 0 to stop: \"))\n",
        "\n",
        "# 0 terminate execution.\n",
        "while number != 0:\n",
        "  # Check if the number is odd\n",
        "   if number % 2 == 1:\n",
        "   # read the next number.\n",
        "      odd_numbers += 1\n",
        "   else:\n",
        "    # Increase the even_numbers counter\n",
        "    even_numbers += 1\n",
        "    # Read the next number\n",
        "   number = int(input(\"Enter a number or type 0 to stop: \"))\n",
        "\n",
        "# Print results\n",
        "print(\"Odd numbers count:\", odd_numbers)\n",
        "print(\"Even numbers count:\", even_numbers)"
      ],
      "metadata": {
        "colab": {
          "base_uri": "https://localhost:8080/"
        },
        "id": "5QkWzdESZ6ny",
        "outputId": "adfdee13-828d-4a57-a8c7-fca2a915c975"
      },
      "execution_count": null,
      "outputs": [
        {
          "output_type": "stream",
          "name": "stdout",
          "text": [
            "Enter a number or type 0 to stop: 1\n",
            "Enter a number or type 0 to stop: 2\n",
            "Enter a number or type 0 to stop: 3\n",
            "Enter a number or type 0 to stop: 4\n",
            "Enter a number or type 0 to stop: 5\n",
            "Enter a number or type 0 to stop: 0\n",
            "Odd numbers count: 3\n",
            "Even numbers count: 2\n"
          ]
        }
      ]
    },
    {
      "cell_type": "code",
      "source": [
        "for i in range(1, 6):\n",
        "    print(\"The value of i is currently\", i)"
      ],
      "metadata": {
        "colab": {
          "base_uri": "https://localhost:8080/"
        },
        "id": "Zn3toTLclZi7",
        "outputId": "b1dd70c1-f1ea-4842-b79a-d8fd79798dcd"
      },
      "execution_count": null,
      "outputs": [
        {
          "output_type": "stream",
          "name": "stdout",
          "text": [
            "The value of i is currently 1\n",
            "The value of i is currently 2\n",
            "The value of i is currently 3\n",
            "The value of i is currently 4\n",
            "The value of i is currently 5\n"
          ]
        }
      ]
    },
    {
      "cell_type": "code",
      "source": [
        "import time\n",
        "    # Write a for loop that counts to five.\n",
        "for i in range(1, 6):\n",
        "    # Body of the loop - use: time.sleep(1)\n",
        "    time.sleep(1)\n",
        "    print(i, \"Mississippi\")\n",
        "# Write a print function with the final message.\n",
        "print(\"Ready or not, here I come\")"
      ],
      "metadata": {
        "colab": {
          "base_uri": "https://localhost:8080/"
        },
        "id": "MckEU67umfO-",
        "outputId": "9b61b700-8707-4dc9-9900-35752bc6ddee"
      },
      "execution_count": null,
      "outputs": [
        {
          "output_type": "stream",
          "name": "stdout",
          "text": [
            "1 Mississippi\n",
            "2 Mississippi\n",
            "3 Mississippi\n",
            "4 Mississippi\n",
            "5 Mississippi\n",
            "Ready or not, here I come\n"
          ]
        }
      ]
    },
    {
      "cell_type": "code",
      "source": [
        "# break - example\n",
        "\n",
        "print(\"The break instruction:\")\n",
        "for i in range(1, 6):\n",
        "    if i == 3:\n",
        "        break\n",
        "    print(\"Inside the loop.\", i)\n",
        "print(\"Outside the loop.\")\n"
      ],
      "metadata": {
        "colab": {
          "base_uri": "https://localhost:8080/"
        },
        "id": "37YeIOVSdTxo",
        "outputId": "7aa26fcc-edba-4260-dd2a-bca4ce9a081c"
      },
      "execution_count": null,
      "outputs": [
        {
          "output_type": "stream",
          "name": "stdout",
          "text": [
            "The break instruction:\n",
            "Inside the loop. 1\n",
            "Inside the loop. 2\n",
            "Outside the loop.\n"
          ]
        }
      ]
    },
    {
      "cell_type": "code",
      "source": [
        "\n",
        "# continue - example\n",
        "\n",
        "print(\"\\nThe continue instruction:\")\n",
        "for i in range(1, 6):\n",
        "    if i == 3:\n",
        "        continue\n",
        "    print(\"Inside the loop.\", i)\n",
        "print(\"Outside the loop.\")"
      ],
      "metadata": {
        "colab": {
          "base_uri": "https://localhost:8080/"
        },
        "id": "_cPZd-Ild_9B",
        "outputId": "9cdaecf4-b0fd-4a8a-dd0b-50eb5ff23420"
      },
      "execution_count": null,
      "outputs": [
        {
          "output_type": "stream",
          "name": "stdout",
          "text": [
            "\n",
            "The continue instruction:\n",
            "Inside the loop. 1\n",
            "Inside the loop. 2\n",
            "Inside the loop. 4\n",
            "Inside the loop. 5\n",
            "Outside the loop.\n"
          ]
        }
      ]
    },
    {
      "cell_type": "code",
      "source": [
        "largest_number = -99999999\n",
        "counter = 0\n",
        "\n",
        "while True:\n",
        "    number = int(input(\"Enter a number or type -1 to end program: \"))\n",
        "    if number == -1:\n",
        "        break\n",
        "    counter += 1\n",
        "    if number > largest_number:\n",
        "        largest_number = number\n",
        "\n",
        "if counter != 0:\n",
        "    print(\"The largest number is\", largest_number)\n",
        "else:\n",
        "    print(\"You haven't entered any number.\")\n",
        "\n"
      ],
      "metadata": {
        "colab": {
          "base_uri": "https://localhost:8080/"
        },
        "id": "Z_lFVEzTeTMI",
        "outputId": "d6c7496d-b3b3-4a40-b2d9-d3a9bb86804c"
      },
      "execution_count": null,
      "outputs": [
        {
          "output_type": "stream",
          "name": "stdout",
          "text": [
            "Enter a number or type -1 to end program: 1\n",
            "Enter a number or type -1 to end program: 2\n",
            "Enter a number or type -1 to end program: -1\n",
            "The largest number is 2\n"
          ]
        }
      ]
    },
    {
      "cell_type": "code",
      "source": [
        "largest_number = -99999999\n",
        "counter = 0\n",
        "\n",
        "number = int(input(\"Enter a number or type -1 to end program: \"))\n",
        "\n",
        "while number != -1:\n",
        "    if number == -1:\n",
        "        continue\n",
        "    counter += 1\n",
        "\n",
        "    if number > largest_number:\n",
        "        largest_number = number\n",
        "    number = int(input(\"Enter a number or type -1 to end program: \"))\n",
        "\n",
        "if counter:\n",
        "    print(\"The largest number is\", largest_number)\n",
        "else:\n",
        "    print(\"You haven't entered any number.\")\n",
        "\n"
      ],
      "metadata": {
        "colab": {
          "base_uri": "https://localhost:8080/"
        },
        "id": "wyjmUbVVe85k",
        "outputId": "715d749f-c1ca-4503-f0af-7704a03c40ff"
      },
      "execution_count": null,
      "outputs": [
        {
          "output_type": "stream",
          "name": "stdout",
          "text": [
            "Enter a number or type -1 to end program: 10\n",
            "Enter a number or type -1 to end program: 12\n",
            "Enter a number or type -1 to end program: -1\n",
            "The largest number is 12\n"
          ]
        }
      ]
    },
    {
      "cell_type": "code",
      "source": [
        "p_passe = input(\"Escolha o animal: \")\n",
        "\n",
        "while p_passe != \"chupacabra\":\n",
        "  if p_passe == \"chupacabra\":\n",
        "    break\n",
        "  else:\n",
        "    print(\"Animal errado, escolha novamente: \")\n",
        "    p_passe = input(\"Escolha o animal: \")\n",
        "\n",
        "else:\n",
        "  print(\"Zélelele\")"
      ],
      "metadata": {
        "colab": {
          "base_uri": "https://localhost:8080/"
        },
        "id": "GSRoEXKvhZdI",
        "outputId": "f9745288-6137-4b2f-e359-4847df246b02"
      },
      "execution_count": null,
      "outputs": [
        {
          "output_type": "stream",
          "name": "stdout",
          "text": [
            "Escolha o animal: Marex\n",
            "Animal errado, escolha novamente: \n",
            "Escolha o animal: Bovo\n",
            "Animal errado, escolha novamente: \n",
            "Escolha o animal: bolovo\n",
            "Animal errado, escolha novamente: \n",
            "Escolha o animal: dacueba\n",
            "Animal errado, escolha novamente: \n",
            "Escolha o animal: chupacabra\n",
            "Zélelele\n"
          ]
        }
      ]
    },
    {
      "cell_type": "code",
      "source": [
        "# Prompt the user to enter a word\n",
        "# and assign it to the user_word variable.\n",
        "user_Word = input(\"Enter a word: \")\n",
        "user_Word = user_Word.upper()\n",
        "\n",
        "for letter in user_Word:\n",
        "    # Complete the body of the for loop\n",
        "    if letter in \"AEIOU\":\n",
        "      continue\n",
        "    print(letter)"
      ],
      "metadata": {
        "colab": {
          "base_uri": "https://localhost:8080/"
        },
        "id": "Ru5YPbynhZZr",
        "outputId": "1ae89ee1-1c69-4b0c-c4dc-23bb03b2ca31"
      },
      "execution_count": null,
      "outputs": [
        {
          "output_type": "stream",
          "name": "stdout",
          "text": [
            "Enter a word: Gregory\n",
            "G\n",
            "R\n",
            "G\n",
            "R\n",
            "Y\n"
          ]
        }
      ]
    },
    {
      "cell_type": "code",
      "source": [
        "word_without_vowels = \"\"\n",
        "user_word = input(\"Enter a word: \")\n",
        "user_word = user_word.upper()\n",
        "# Prompt the user to enter a word\n",
        "# and assign it to the user_word variable.\n",
        "\n",
        "\n",
        "for letter in user_word:\n",
        "  if letter in \"AEIOU\":\n",
        "    continue\n",
        "  word_without_vowels += letter\n",
        "    # Complete the body of the loop.\n",
        "\n",
        "# Print the word assigned to word_without_vowels.\n",
        "print(word_without_vowels)"
      ],
      "metadata": {
        "colab": {
          "base_uri": "https://localhost:8080/"
        },
        "id": "nifpzLVhU4mP",
        "outputId": "30ff7ad0-4abc-433f-bfb9-b590c74a767b"
      },
      "execution_count": null,
      "outputs": [
        {
          "output_type": "stream",
          "name": "stdout",
          "text": [
            "Enter a word: Gregory\n",
            "GRGRY\n"
          ]
        }
      ]
    },
    {
      "cell_type": "code",
      "source": [
        "i = 1\n",
        "while i < 5:\n",
        "  print(i)\n",
        "  i += 1\n",
        "else:\n",
        "  print(\"else:\", i)"
      ],
      "metadata": {
        "colab": {
          "base_uri": "https://localhost:8080/"
        },
        "id": "DpuS8orFZMk4",
        "outputId": "e9de96c1-69a7-495f-df5d-a27e10a2bc69"
      },
      "execution_count": null,
      "outputs": [
        {
          "output_type": "stream",
          "name": "stdout",
          "text": [
            "1\n",
            "2\n",
            "3\n",
            "4\n",
            "else: 5\n"
          ]
        }
      ]
    },
    {
      "cell_type": "code",
      "source": [
        "for i in range(6):\n",
        "    print(i)\n",
        "else:\n",
        "    print(\"else:\", i)\n"
      ],
      "metadata": {
        "colab": {
          "base_uri": "https://localhost:8080/"
        },
        "id": "TvXighCDIXDG",
        "outputId": "af543558-514b-4643-8892-4646d2fdc6ad"
      },
      "execution_count": null,
      "outputs": [
        {
          "output_type": "stream",
          "name": "stdout",
          "text": [
            "0\n",
            "1\n",
            "2\n",
            "3\n",
            "4\n",
            "5\n",
            "else: 5\n"
          ]
        }
      ]
    },
    {
      "cell_type": "code",
      "source": [
        "blocks = int(input(\"Enter the number of blocks: \"))\n",
        "\n",
        "height = 0\n",
        "blocks_used = 0\n",
        "step = 1\n",
        "while blocks_used < blocks:\n",
        "  blocks_used += step\n",
        "  if blocks_used > blocks:\n",
        "    break\n",
        "  else:\n",
        "    height += 1\n",
        "    step += 1\n",
        "\n",
        "\n",
        "print(\"The height of the pyramid:\", height)"
      ],
      "metadata": {
        "colab": {
          "base_uri": "https://localhost:8080/"
        },
        "id": "sdtKFv9CI4RS",
        "outputId": "fed10747-692e-429c-ed72-754e9003ebeb"
      },
      "execution_count": null,
      "outputs": [
        {
          "output_type": "stream",
          "name": "stdout",
          "text": [
            "Enter the number of blocks: 1000\n",
            "The height of the pyramid: 44\n"
          ]
        }
      ]
    },
    {
      "cell_type": "code",
      "source": [
        "c0 = int(input(\"Enter a number: \"))\n",
        "if c0 < 1:\n",
        "  print(\"Use a non-negative, non-zero number\")\n",
        "  exit\n",
        "\n",
        "steps = 0\n",
        "\n",
        "while c0 != 1:\n",
        "  if c0  % 2 == 0:\n",
        "    c0 = int(c0 / 2)\n",
        "  else:\n",
        "    c0 = 3 * c0 + 1\n",
        "  print(c0)\n",
        "  steps += 1\n",
        "\n",
        "print(\"Total number of steps: \", steps)"
      ],
      "metadata": {
        "id": "5wBVt9uVNIen"
      },
      "execution_count": null,
      "outputs": []
    },
    {
      "cell_type": "code",
      "source": [
        "# Example 1\n",
        "while True:\n",
        "    print(\"Stuck in an infinite loop.\")\n",
        "\n",
        "# Example 2\n",
        "counter = 5\n",
        "while counter > 2:\n",
        "    print(counter)\n",
        "    counter -= 1\n",
        "\n"
      ],
      "metadata": {
        "id": "7tUuuK5VRCAq"
      },
      "execution_count": null,
      "outputs": []
    },
    {
      "cell_type": "code",
      "source": [
        "# Example 1\n",
        "word = \"Python\"\n",
        "for letter in word:\n",
        "    print(letter, end=\"*\")\n",
        "\n",
        "# Example 2\n",
        "for i in range(1, 10):\n",
        "    if i % 2 == 0:\n",
        "        print(i)\n",
        "\n"
      ],
      "metadata": {
        "id": "3xOI1_UxRRGT"
      },
      "execution_count": null,
      "outputs": []
    },
    {
      "cell_type": "code",
      "source": [
        "text = \"OpenEDG Python Institute\"\n",
        "for letter in text:\n",
        "    if letter == \"i\":\n",
        "        break\n",
        "    print(letter, end=\"\")\n",
        "\n"
      ],
      "metadata": {
        "colab": {
          "base_uri": "https://localhost:8080/"
        },
        "id": "9Y-ccnxBTeEL",
        "outputId": "f34ccd7c-8a88-4f56-a7c7-2511c83cd7c0"
      },
      "execution_count": null,
      "outputs": [
        {
          "output_type": "stream",
          "name": "stdout",
          "text": [
            "OpenEDG Python Inst"
          ]
        }
      ]
    },
    {
      "cell_type": "code",
      "source": [
        "text = \"pyxpyxpyx\"\n",
        "for letter in text:\n",
        "    if letter == \"x\":\n",
        "        continue\n",
        "    print(letter, end=\"\")\n",
        "\n"
      ],
      "metadata": {
        "colab": {
          "base_uri": "https://localhost:8080/"
        },
        "id": "Y07BInnGVNwZ",
        "outputId": "aff8a225-7ca4-4a40-bfd2-491ba0e31ce7"
      },
      "execution_count": null,
      "outputs": [
        {
          "output_type": "stream",
          "name": "stdout",
          "text": [
            "pypypy"
          ]
        }
      ]
    },
    {
      "cell_type": "code",
      "source": [
        "n = int(input(\"Numero: \"))\n",
        "\n",
        "while n != 3:\n",
        "    print(n)\n",
        "    n += 1\n",
        "else:\n",
        "    print(n, \"else\")\n",
        "\n",
        "print()\n",
        "\n",
        "for i in range(0, 5):\n",
        "    print(i)\n",
        "else:\n",
        "    print(i, \"else\")\n",
        "\n"
      ],
      "metadata": {
        "id": "4VtyojcCVqT8"
      },
      "execution_count": null,
      "outputs": []
    },
    {
      "cell_type": "code",
      "source": [
        "for i in range(3):\n",
        "    print(i, end=\" \")  # Outputs: 0 1 2\n",
        "\n",
        "for i in range(6, 1, -2):\n",
        "    print(i, end=\" \")  # Outputs: 6, 4, 2"
      ],
      "metadata": {
        "colab": {
          "base_uri": "https://localhost:8080/"
        },
        "id": "XX_DQ-JXXI09",
        "outputId": "6def99de-b140-4f08-819e-bf50157826c9"
      },
      "execution_count": null,
      "outputs": [
        {
          "output_type": "stream",
          "name": "stdout",
          "text": [
            "0 1 2 6 4 2 "
          ]
        }
      ]
    },
    {
      "cell_type": "code",
      "source": [
        "for i in range(11):\n",
        "  if i % 2 != 0:\n",
        "    print(i)"
      ],
      "metadata": {
        "id": "_qa_MXXzYjAa"
      },
      "execution_count": null,
      "outputs": []
    },
    {
      "cell_type": "code",
      "source": [
        "x = 1\n",
        "while x < 11:\n",
        "  if x % 2 != 0:\n",
        "    print(x)\n",
        "  x += 1\n",
        "\n"
      ],
      "metadata": {
        "id": "eyR06LodZN8r"
      },
      "execution_count": null,
      "outputs": []
    },
    {
      "cell_type": "code",
      "source": [
        "for ch in \"john.smith@pythoninstitute.org\":\n",
        "    if ch == \"@\":\n",
        "        break\n",
        "    print(ch, end=\"\")"
      ],
      "metadata": {
        "colab": {
          "base_uri": "https://localhost:8080/"
        },
        "id": "zVGZhVrranEa",
        "outputId": "3246d6d7-8bea-451d-a2da-64fdd71f3326"
      },
      "execution_count": null,
      "outputs": [
        {
          "output_type": "stream",
          "name": "stdout",
          "text": [
            "john.smith"
          ]
        }
      ]
    },
    {
      "cell_type": "code",
      "source": [
        "for digit in \"0165031806510\":\n",
        "  if digit == \"0\":\n",
        "    print(\"x\", end=\"\")\n",
        "    continue\n",
        "  print(digit, end=\"\")"
      ],
      "metadata": {
        "colab": {
          "base_uri": "https://localhost:8080/"
        },
        "id": "jat-60BNbHP9",
        "outputId": "50c72091-1783-4773-a48a-0211c5274bfd"
      },
      "execution_count": null,
      "outputs": [
        {
          "output_type": "stream",
          "name": "stdout",
          "text": [
            "x165x318x651x"
          ]
        }
      ]
    },
    {
      "cell_type": "code",
      "source": [
        "n = 3\n",
        "\n",
        "while n > 0:\n",
        "  print(n + 1)\n",
        "  n -= 1\n",
        "else:\n",
        "  print(n)"
      ],
      "metadata": {
        "colab": {
          "base_uri": "https://localhost:8080/"
        },
        "id": "OCwDl18ob07K",
        "outputId": "1ee88b56-8131-4f01-fc25-dc1ec34fae6a"
      },
      "execution_count": null,
      "outputs": [
        {
          "output_type": "stream",
          "name": "stdout",
          "text": [
            "4\n",
            "3\n",
            "2\n",
            "0\n"
          ]
        }
      ]
    },
    {
      "cell_type": "code",
      "source": [
        "n = range(4)\n",
        "\n",
        "for num in n:\n",
        "  print(num - 1)\n",
        "else:\n",
        "  print(num)"
      ],
      "metadata": {
        "colab": {
          "base_uri": "https://localhost:8080/"
        },
        "id": "WBdZCzmNcQYw",
        "outputId": "abcdd61a-b2b3-4692-bf3e-697eddfcac12"
      },
      "execution_count": null,
      "outputs": [
        {
          "output_type": "stream",
          "name": "stdout",
          "text": [
            "-1\n",
            "0\n",
            "1\n",
            "2\n",
            "3\n"
          ]
        }
      ]
    },
    {
      "cell_type": "code",
      "source": [
        "for i in range(0, 6, 3):\n",
        "  print(i)"
      ],
      "metadata": {
        "colab": {
          "base_uri": "https://localhost:8080/"
        },
        "id": "tZOLlTiPcpPE",
        "outputId": "3f949e97-c40c-4db5-fd65-364b5fb1043e"
      },
      "execution_count": null,
      "outputs": [
        {
          "output_type": "stream",
          "name": "stdout",
          "text": [
            "0\n",
            "3\n"
          ]
        }
      ]
    },
    {
      "cell_type": "code",
      "source": [
        "counter > 0 and value == 100"
      ],
      "metadata": {
        "id": "oxwRRRXvMWYS"
      },
      "execution_count": null,
      "outputs": []
    },
    {
      "cell_type": "code",
      "source": [
        "# Example 1:\n",
        "print(var > 0)\n",
        "print(not (var <= 0))\n",
        "\n",
        "\n",
        "# Example 2:\n",
        "print(var != 0)\n",
        "print(not (var == 0))"
      ],
      "metadata": {
        "id": "MkRq9lQOM7a6"
      },
      "execution_count": null,
      "outputs": []
    },
    {
      "cell_type": "code",
      "source": [
        "i = 1\n",
        "j = not not i"
      ],
      "metadata": {
        "id": "LAOX_XDDNWDL"
      },
      "execution_count": null,
      "outputs": []
    },
    {
      "cell_type": "code",
      "source": [
        "var = 17\n",
        "var_right = var >> 1\n",
        "var_left = var << 2\n",
        "print(var, var_left, var_right)"
      ],
      "metadata": {
        "colab": {
          "base_uri": "https://localhost:8080/"
        },
        "id": "9GJL8luCOrL7",
        "outputId": "d5120861-5544-43d3-d8e8-4b219000dc11"
      },
      "execution_count": null,
      "outputs": [
        {
          "output_type": "stream",
          "name": "stdout",
          "text": [
            "17 68 8\n"
          ]
        }
      ]
    },
    {
      "cell_type": "code",
      "source": [
        "x = 1\n",
        "y = 0\n",
        "\n",
        "z = ((x == y) and (x == y)) or not(x == y)\n",
        "print(not(z))\n"
      ],
      "metadata": {
        "colab": {
          "base_uri": "https://localhost:8080/"
        },
        "id": "lKkXVMnKg-vZ",
        "outputId": "f34d2083-01f4-4e52-bb4d-1f0fefc388d8"
      },
      "execution_count": null,
      "outputs": [
        {
          "output_type": "stream",
          "name": "stdout",
          "text": [
            "False\n"
          ]
        }
      ]
    },
    {
      "cell_type": "code",
      "source": [
        "x = 4\n",
        "y = 1\n",
        "\n",
        "a = x & y\n",
        "b = x | y\n",
        "c = ~x  # tricky!\n",
        "d = x ^ 5\n",
        "e = x >> 2\n",
        "f = x << 2\n",
        "\n",
        "print(a, b, c, d, e, f)"
      ],
      "metadata": {
        "colab": {
          "base_uri": "https://localhost:8080/"
        },
        "id": "nRcE6oDShOLz",
        "outputId": "24286b18-bbed-4bbf-9b3b-00cf0c9d9cd9"
      },
      "execution_count": null,
      "outputs": [
        {
          "output_type": "stream",
          "name": "stdout",
          "text": [
            "0 5 -5 1 1 16\n"
          ]
        }
      ]
    },
    {
      "cell_type": "code",
      "source": [
        "numbers = [10, 5, 7, 2, 1]\n",
        "print(\"Original list content:\", numbers)  # Printing original list content.\n",
        "\n",
        "numbers[0] = 111\n",
        "print(\"New list content: \", numbers)  # Current list content."
      ],
      "metadata": {
        "colab": {
          "base_uri": "https://localhost:8080/"
        },
        "id": "c3MecL_sVfjk",
        "outputId": "bc7113ec-8843-4582-8c75-150ecf5694d6"
      },
      "execution_count": null,
      "outputs": [
        {
          "output_type": "stream",
          "name": "stdout",
          "text": [
            "Original list content: [10, 5, 7, 2, 1]\n",
            "New list content:  [111, 5, 7, 2, 1]\n"
          ]
        }
      ]
    },
    {
      "cell_type": "code",
      "source": [
        "numbers = [10, 5, 7, 2, 1]\n",
        "print(\"Original list content:\", numbers)  # Printing original list content.\n",
        "\n",
        "numbers[0] = 111\n",
        "print(\"\\nPrevious list content:\", numbers)  # Printing previous list content.\n",
        "\n",
        "numbers[1] = numbers[4]  # Copying value of the fifth element to the second.\n",
        "print(\"New list content:\", numbers)  # Printing current list content."
      ],
      "metadata": {
        "colab": {
          "base_uri": "https://localhost:8080/"
        },
        "id": "e6PcWhBkWYKT",
        "outputId": "3be65b3b-a4ec-4b61-cbf6-9636f1985511"
      },
      "execution_count": null,
      "outputs": [
        {
          "output_type": "stream",
          "name": "stdout",
          "text": [
            "Original list content: [10, 5, 7, 2, 1]\n",
            "\n",
            "Previous list content: [111, 5, 7, 2, 1]\n",
            "New list content: [111, 1, 7, 2, 1]\n"
          ]
        }
      ]
    },
    {
      "cell_type": "code",
      "source": [
        "numbers = [10, 5, 7, 2, 1]\n",
        "print(\"Original list content:\", numbers)  # Printing original list content.\n",
        "\n",
        "numbers[0] = 111\n",
        "print(\"\\nPrevious list content:\", numbers)  # Printing previous list content.\n",
        "\n",
        "numbers[1] = numbers[4]  # Copying value of the fifth element to the second.\n",
        "print(\"Previous list content:\", numbers)  # Printing previous list content.\n",
        "\n",
        "print(\"\\nList length:\", len(numbers))  # Printing the list's length.\n"
      ],
      "metadata": {
        "colab": {
          "base_uri": "https://localhost:8080/"
        },
        "id": "Zl7VLNQgXX-x",
        "outputId": "b8798014-5838-40dc-c2a6-a275740a3a07"
      },
      "execution_count": null,
      "outputs": [
        {
          "output_type": "stream",
          "name": "stdout",
          "text": [
            "Original list content: [10, 5, 7, 2, 1]\n",
            "\n",
            "Previous list content: [111, 5, 7, 2, 1]\n",
            "Previous list content: [111, 1, 7, 2, 1]\n",
            "\n",
            "List length: 5\n"
          ]
        }
      ]
    },
    {
      "cell_type": "code",
      "source": [
        "numbers = [10, 5, 7, 2, 1]\n",
        "print(\"Original list content:\", numbers)  # Printing original list content.\n",
        "\n",
        "numbers[0] = 111\n",
        "print(\"\\nPrevious list content:\", numbers)  # Printing previous list content.\n",
        "\n",
        "numbers[1] = numbers[4]  # Copying value of the fifth element to the second.\n",
        "print(\"Previous list content:\", numbers)  # Printing previous list content.\n",
        "\n",
        "print(\"\\nList's length:\", len(numbers))  # Printing previous list length.\n",
        "\n",
        "###\n",
        "\n",
        "del numbers[1]  # Removing the second element from the list.\n",
        "print(\"New list's length:\", len(numbers))  # Printing new list length.\n",
        "print(\"\\nNew list content:\", numbers)  # Printing current list content.\n",
        "\n"
      ],
      "metadata": {
        "id": "T0ISmbs2ZoNd"
      },
      "execution_count": null,
      "outputs": []
    },
    {
      "cell_type": "code",
      "source": [
        "numbers = [111, 7, 2, 1]\n",
        "print(numbers[-1])\n",
        "print(numbers[-2])\n",
        "print(numbers[-4])"
      ],
      "metadata": {
        "colab": {
          "base_uri": "https://localhost:8080/"
        },
        "id": "NKTS5V0Za8zQ",
        "outputId": "0ce2fe49-9e83-44b7-811d-4f33317229b8"
      },
      "execution_count": null,
      "outputs": [
        {
          "output_type": "stream",
          "name": "stdout",
          "text": [
            "1\n",
            "2\n",
            "111\n"
          ]
        }
      ]
    },
    {
      "cell_type": "code",
      "source": [
        "hat_list = [1, 2, 3, 4, 5]  # This is an existing list of numbers hidden in the hat.\n",
        "\n",
        "print(hat_list)\n",
        "\n",
        "hat_list[3] = int(input(\"Escreva o numero novo: \"))\n",
        "print(hat_list)\n",
        "# Step 2: write a line of code that removes the last element from the list.\n",
        "\n",
        "del hat_list[4]\n",
        "\n",
        "# Step 3: write a line of code that prints the length of the existing list.\n",
        "\n",
        "print(hat_list)\n",
        "print(len(hat_list))\n"
      ],
      "metadata": {
        "colab": {
          "base_uri": "https://localhost:8080/"
        },
        "id": "eaFL29pEbdvc",
        "outputId": "16d0474e-bcb6-4de6-d4e9-ff6783e41e45"
      },
      "execution_count": null,
      "outputs": [
        {
          "output_type": "stream",
          "name": "stdout",
          "text": [
            "[1, 2, 3, 4, 5]\n",
            "Escreva o numero novo: 123\n",
            "[1, 2, 3, 123, 5]\n",
            "[1, 2, 3, 123]\n",
            "4\n"
          ]
        }
      ]
    },
    {
      "cell_type": "code",
      "source": [
        "numbers = [111, 7, 2, 1]\n",
        "print(len(numbers))\n",
        "print(numbers)\n",
        "\n",
        "list.insert(1, 333)\n",
        "\n",
        "numbers.append(4)\n",
        "\n",
        "print(len(numbers))\n",
        "print(numbers)\n",
        "\n",
        "###\n",
        "\n",
        "numbers.insert(0, 222)\n",
        "print(len(numbers))\n",
        "print(numbers)\n",
        "\n",
        "#"
      ],
      "metadata": {
        "id": "c1MxiwPFf6gY"
      },
      "execution_count": null,
      "outputs": []
    },
    {
      "cell_type": "code",
      "source": [
        "my_list = []  # Creating an empty list.\n",
        "\n",
        "for i in range(5):\n",
        "    my_list.insert(0, i + 1)\n",
        "\n",
        "print(my_list)\n",
        "\n"
      ],
      "metadata": {
        "colab": {
          "base_uri": "https://localhost:8080/"
        },
        "id": "SWgGaQY5jr1o",
        "outputId": "ed601f86-380f-4f59-a7a1-47cb0276c3be"
      },
      "execution_count": 3,
      "outputs": [
        {
          "output_type": "stream",
          "name": "stdout",
          "text": [
            "[5, 4, 3, 2, 1]\n"
          ]
        }
      ]
    },
    {
      "cell_type": "code",
      "source": [
        "my_list = [] #Creating an empty list\n",
        "\n",
        "for i in range(5):\n",
        "  my_list.append(i + 1)\n",
        "\n",
        "print(my_list)"
      ],
      "metadata": {
        "colab": {
          "base_uri": "https://localhost:8080/"
        },
        "id": "aKnFs65TBbOn",
        "outputId": "e533b558-790e-4410-96d0-bd9b37a137f2"
      },
      "execution_count": 4,
      "outputs": [
        {
          "output_type": "stream",
          "name": "stdout",
          "text": [
            "[1, 2, 3, 4, 5]\n"
          ]
        }
      ]
    },
    {
      "cell_type": "code",
      "source": [
        "my_list1 = [10, 1, 8, 3, 5]\n",
        "total = 0\n",
        "\n",
        "for i in range(len(my_list1)):\n",
        "  total += my_list1[i]\n",
        "\n",
        "print(total)\n"
      ],
      "metadata": {
        "id": "_vbVeupSC59F"
      },
      "execution_count": null,
      "outputs": []
    },
    {
      "cell_type": "code",
      "source": [
        "var1 = 1\n",
        "var2 = 2\n",
        "\n",
        "aux = var1\n",
        "var1 = var2\n",
        "var2 = aux\n",
        "\n",
        "print(var1,\" \", var2)"
      ],
      "metadata": {
        "colab": {
          "base_uri": "https://localhost:8080/"
        },
        "id": "gu6suKSTEdzT",
        "outputId": "a46670a5-d32c-4af3-dbdf-5386c4042ecd"
      },
      "execution_count": 6,
      "outputs": [
        {
          "output_type": "stream",
          "name": "stdout",
          "text": [
            "2   1\n"
          ]
        }
      ]
    },
    {
      "cell_type": "code",
      "source": [
        "var_1 = 1\n",
        "var_2 = 2\n",
        "\n",
        "print(var_1, var_2)\n",
        "\n",
        "var_1, var_2 = var_2, var_1\n",
        "\n",
        "print(var_1, var_2)"
      ],
      "metadata": {
        "colab": {
          "base_uri": "https://localhost:8080/"
        },
        "id": "yNBNFQWjFJZE",
        "outputId": "ead55df3-b5f8-4b91-e3c2-11d176dd01bf"
      },
      "execution_count": 7,
      "outputs": [
        {
          "output_type": "stream",
          "name": "stdout",
          "text": [
            "1 2\n",
            "2 1\n"
          ]
        }
      ]
    },
    {
      "cell_type": "code",
      "source": [
        "my_list = [10, 1, 8, 3, 5]\n",
        "\n",
        "my_list[0], my_list[4] = my_list[4], my_list[0]\n",
        "my_list[1], my_list[3] = my_list[3], my_list[1]\n",
        "\n",
        "print(my_list)"
      ],
      "metadata": {
        "colab": {
          "base_uri": "https://localhost:8080/"
        },
        "id": "netB4PonF26P",
        "outputId": "09c242ae-a7f5-4ef6-c97a-e1818eedb4b4"
      },
      "execution_count": 9,
      "outputs": [
        {
          "output_type": "stream",
          "name": "stdout",
          "text": [
            "[5, 3, 8, 1, 10]\n"
          ]
        }
      ]
    },
    {
      "cell_type": "code",
      "source": [
        "my_list = [10, 1, 8, 3, 5]\n",
        "length = len(my_list)\n",
        "\n",
        "for i in range (length // 2):\n",
        "  my_list[i], my_list[length - i - 1] = my_list[length - i - 1], my_list[i]\n",
        "\n",
        "print(my_list)"
      ],
      "metadata": {
        "colab": {
          "base_uri": "https://localhost:8080/"
        },
        "id": "CqoVvsPvGiXg",
        "outputId": "59dd20b5-cd8b-4b84-b4ad-4342a10f66e9"
      },
      "execution_count": 10,
      "outputs": [
        {
          "output_type": "stream",
          "name": "stdout",
          "text": [
            "[5, 3, 8, 1, 10]\n"
          ]
        }
      ]
    },
    {
      "cell_type": "code",
      "source": [
        "beatles = [] #empty list\n",
        "\n",
        "print(\"Step 1:\", beatles)\n",
        "\n",
        "# step 2\n",
        "beatles.append(\"John Lennon\")\n",
        "beatles.append(\"Paul McCartey\")\n",
        "beatles.append(\"George Harrison\")\n",
        "print(\"Step 2:\", beatles)\n",
        "\n",
        "# step 3\n",
        "for menber in range(2):\n",
        "  beatlesName = input(\"New beatle name? \")\n",
        "  beatles.append(beatlesName)\n",
        "print(\"Step 3:\", beatles)\n",
        "\n",
        "# step 4\n",
        "del beatles[3:5]\n",
        "print(\"Step 4:\", beatles)\n",
        "\n",
        "# step 5\n",
        "beatles.insert(0, \"Ringo Star\")\n",
        "print(\"Step 5:\", beatles)\n",
        "\n",
        "\n",
        "# testing list legth\n",
        "print(\"The Fab\", len(beatles))\n"
      ],
      "metadata": {
        "id": "nJBAA4lGJiSP"
      },
      "execution_count": null,
      "outputs": []
    },
    {
      "cell_type": "code",
      "source": [
        "my_list = [1, None, True, \"I am a string\", 256, 0]\n",
        "print(my_list[3]) #outputs: I am a string\n",
        "print(my_list[-1]) #outputs: 0\n",
        "\n",
        "my_list[1] = '?'\n",
        "\n",
        "print(my_list) # outputs: [1, '?', True, 'I am a string', 256, 0]\n",
        "\n",
        "my_list.insert(0, \"first\")\n",
        "my_list.append(\"last\")\n",
        "print(my_list) # outputs: ['first', 1, '?', True, 'i am string', 256, 0, 'last']\n"
      ],
      "metadata": {
        "colab": {
          "base_uri": "https://localhost:8080/"
        },
        "id": "OmVjRhZbPHjA",
        "outputId": "fbe76295-2c52-4076-dd03-daf32e236121"
      },
      "execution_count": 19,
      "outputs": [
        {
          "output_type": "stream",
          "name": "stdout",
          "text": [
            "I am a string\n",
            "0\n",
            "[1, '?', True, 'I am a string', 256, 0]\n",
            "['first', 1, '?', True, 'I am a string', 256, 0, 'last']\n"
          ]
        }
      ]
    },
    {
      "cell_type": "code",
      "source": [
        "my_list = [1, 2, 3, 4]\n",
        "del my_list[2]\n",
        "print(my_list)\n",
        "\n",
        "del my_list"
      ],
      "metadata": {
        "colab": {
          "base_uri": "https://localhost:8080/"
        },
        "id": "ElbU9M5DVaZC",
        "outputId": "59629baa-3785-4007-e5dd-28f560870b77"
      },
      "execution_count": 21,
      "outputs": [
        {
          "output_type": "stream",
          "name": "stdout",
          "text": [
            "[1, 2, 4]\n"
          ]
        }
      ]
    },
    {
      "cell_type": "code",
      "source": [
        "my_list = [\"white\", \"purple\", \"blue\", \"yellow\", \"green\"]\n",
        "\n",
        "for color in my_list:\n",
        "  print(color)"
      ],
      "metadata": {
        "colab": {
          "base_uri": "https://localhost:8080/"
        },
        "id": "0xjB9aI6Yf8i",
        "outputId": "2a4fd26b-e526-47ea-c369-7064b5023987"
      },
      "execution_count": 22,
      "outputs": [
        {
          "output_type": "stream",
          "name": "stdout",
          "text": [
            "white\n",
            "purple\n",
            "blue\n",
            "yellow\n",
            "green\n"
          ]
        }
      ]
    },
    {
      "cell_type": "code",
      "source": [
        "my_list = [\"white\", \"purple\", \"blue\", \"yellow\", \"green\"]\n",
        "\n",
        "print(len(my_list))\n",
        "\n",
        "del my_list[2]\n",
        "\n",
        "print(len(my_list))"
      ],
      "metadata": {
        "colab": {
          "base_uri": "https://localhost:8080/"
        },
        "id": "veAnBi4IZFY1",
        "outputId": "468f934a-30ac-42fe-deae-99be295b1941"
      },
      "execution_count": 25,
      "outputs": [
        {
          "output_type": "stream",
          "name": "stdout",
          "text": [
            "5\n",
            "4\n"
          ]
        }
      ]
    },
    {
      "cell_type": "code",
      "source": [
        "lst = [1, 2, 3, 4, 5]\n",
        "lst.insert(1, 6)\n",
        "del lst[0]\n",
        "lst.append(1)\n",
        "\n",
        "print(lst)"
      ],
      "metadata": {
        "colab": {
          "base_uri": "https://localhost:8080/"
        },
        "id": "Zn82F-nhZsCv",
        "outputId": "f24bc032-3ae8-4679-9d4a-95a696314010"
      },
      "execution_count": 26,
      "outputs": [
        {
          "output_type": "stream",
          "name": "stdout",
          "text": [
            "[6, 2, 3, 4, 5, 1]\n"
          ]
        }
      ]
    },
    {
      "cell_type": "code",
      "source": [
        "lst = [1, 2, 3, 4, 5]\n",
        "lst_2 = []\n",
        "add = 0\n",
        "\n",
        "for number in lst:\n",
        "  add += number\n",
        "  lst_2.append(add)\n",
        "\n",
        "print(lst_2)"
      ],
      "metadata": {
        "colab": {
          "base_uri": "https://localhost:8080/"
        },
        "id": "N_FoZJlwaXDB",
        "outputId": "431940c3-dc78-4b52-8e90-82ce6aa6560f"
      },
      "execution_count": 27,
      "outputs": [
        {
          "output_type": "stream",
          "name": "stdout",
          "text": [
            "[1, 3, 6, 10, 15]\n"
          ]
        }
      ]
    },
    {
      "cell_type": "code",
      "source": [
        "lst = []\n",
        "del lst\n",
        "print(lst)"
      ],
      "metadata": {
        "id": "KPg-t24ybdoW"
      },
      "execution_count": null,
      "outputs": []
    },
    {
      "cell_type": "code",
      "source": [
        "lst = [1, [2, 3], 4]\n",
        "print(lst[1])\n",
        "print(len(lst))"
      ],
      "metadata": {
        "colab": {
          "base_uri": "https://localhost:8080/"
        },
        "id": "M4IyPKf8boSG",
        "outputId": "70cfa454-e92d-45f3-c96c-0e1fe13290a0"
      },
      "execution_count": 29,
      "outputs": [
        {
          "output_type": "stream",
          "name": "stdout",
          "text": [
            "[2, 3]\n",
            "3\n"
          ]
        }
      ]
    },
    {
      "cell_type": "code",
      "source": [
        "my_list = [8, 10, 6, 2, 4] # list to sort\n",
        "\n",
        "for i in range(len(my_list) - 1): # we need (5 - 1) comparisons\n",
        "  if my_list[i] > my_list[i + 1]: # compare adjacent elements\n",
        "    my_list[i], my_list[i +1] = my_list[i + 1], my_list[i] #If we end up here"
      ],
      "metadata": {
        "id": "rh4_jHXMMy76"
      },
      "execution_count": 1,
      "outputs": []
    },
    {
      "cell_type": "code",
      "source": [
        "my_list = [8, 10, 6, 2, 4] # list sort\n",
        "swapped = True # It's a little fake, we need it to enter the while loop\n",
        "\n",
        "while swapped:\n",
        "  swapped = False # no swaps so far\n",
        "  for i in range(len(my_list) - 1):\n",
        "    if my_list[i] > my_list[i + 1]:\n",
        "      swapped = True # a swap ocurred!\n",
        "      my_list[i], my_list[i + 1] = my_list[i + 1], my_list[i]\n",
        "\n",
        "print(my_list)"
      ],
      "metadata": {
        "colab": {
          "base_uri": "https://localhost:8080/"
        },
        "id": "Bd4FDKFwN9Ak",
        "outputId": "78d81ec6-ea18-4084-8266-428a05259142"
      },
      "execution_count": 2,
      "outputs": [
        {
          "output_type": "stream",
          "name": "stdout",
          "text": [
            "[2, 4, 6, 8, 10]\n"
          ]
        }
      ]
    }
  ]
}