{
  "nbformat": 4,
  "nbformat_minor": 0,
  "metadata": {
    "colab": {
      "provenance": [],
      "authorship_tag": "ABX9TyM6OZeEEN/OQ7UC++mUq7tD",
      "include_colab_link": true
    },
    "kernelspec": {
      "name": "python3",
      "display_name": "Python 3"
    },
    "language_info": {
      "name": "python"
    }
  },
  "cells": [
    {
      "cell_type": "markdown",
      "metadata": {
        "id": "view-in-github",
        "colab_type": "text"
      },
      "source": [
        "<a href=\"https://colab.research.google.com/github/vitorwmoutinho/projeto1aprender/blob/main/exerc%C3%ADcios.ipynb\" target=\"_parent\"><img src=\"https://colab.research.google.com/assets/colab-badge.svg\" alt=\"Open In Colab\"/></a>"
      ]
    },
    {
      "cell_type": "code",
      "source": [
        "# A program that reads a sequence of numbers\n",
        "# and counts how many numbers are even and many are odd\n",
        "# The program terminates when zero is entered\n",
        "\n",
        "odd_numbers = 0\n",
        "even_numbers = 0\n",
        "\n",
        "# Read the first number.\n",
        "number = int(input(\"Enter a number or type 0 to stop: \"))\n",
        "\n",
        "# 0 terminate execution.\n",
        "while number != 0:\n",
        "  # Check if the number is odd\n",
        "   if number % 2 == 1:\n",
        "   # read the next number.\n",
        "      odd_numbers += 1\n",
        "   else:\n",
        "    # Increase the even_numbers counter\n",
        "    even_numbers += 1\n",
        "    # Read the next number\n",
        "   number = int(input(\"Enter a number or type 0 to stop: \"))\n",
        "\n",
        "# Print results\n",
        "print(\"Odd numbers count:\", odd_numbers)\n",
        "print(\"Even numbers count:\", even_numbers)"
      ],
      "metadata": {
        "colab": {
          "base_uri": "https://localhost:8080/"
        },
        "id": "5QkWzdESZ6ny",
        "outputId": "adfdee13-828d-4a57-a8c7-fca2a915c975"
      },
      "execution_count": null,
      "outputs": [
        {
          "output_type": "stream",
          "name": "stdout",
          "text": [
            "Enter a number or type 0 to stop: 1\n",
            "Enter a number or type 0 to stop: 2\n",
            "Enter a number or type 0 to stop: 3\n",
            "Enter a number or type 0 to stop: 4\n",
            "Enter a number or type 0 to stop: 5\n",
            "Enter a number or type 0 to stop: 0\n",
            "Odd numbers count: 3\n",
            "Even numbers count: 2\n"
          ]
        }
      ]
    },
    {
      "cell_type": "code",
      "source": [
        "for i in range(1, 6):\n",
        "    print(\"The value of i is currently\", i)"
      ],
      "metadata": {
        "colab": {
          "base_uri": "https://localhost:8080/"
        },
        "id": "Zn3toTLclZi7",
        "outputId": "b1dd70c1-f1ea-4842-b79a-d8fd79798dcd"
      },
      "execution_count": null,
      "outputs": [
        {
          "output_type": "stream",
          "name": "stdout",
          "text": [
            "The value of i is currently 1\n",
            "The value of i is currently 2\n",
            "The value of i is currently 3\n",
            "The value of i is currently 4\n",
            "The value of i is currently 5\n"
          ]
        }
      ]
    },
    {
      "cell_type": "code",
      "source": [
        "import time\n",
        "    # Write a for loop that counts to five.\n",
        "for i in range(1, 6):\n",
        "    # Body of the loop - use: time.sleep(1)\n",
        "    time.sleep(1)\n",
        "    print(i, \"Mississippi\")\n",
        "# Write a print function with the final message.\n",
        "print(\"Ready or not, here I come\")"
      ],
      "metadata": {
        "colab": {
          "base_uri": "https://localhost:8080/"
        },
        "id": "MckEU67umfO-",
        "outputId": "9b61b700-8707-4dc9-9900-35752bc6ddee"
      },
      "execution_count": null,
      "outputs": [
        {
          "output_type": "stream",
          "name": "stdout",
          "text": [
            "1 Mississippi\n",
            "2 Mississippi\n",
            "3 Mississippi\n",
            "4 Mississippi\n",
            "5 Mississippi\n",
            "Ready or not, here I come\n"
          ]
        }
      ]
    },
    {
      "cell_type": "code",
      "source": [
        "# break - example\n",
        "\n",
        "print(\"The break instruction:\")\n",
        "for i in range(1, 6):\n",
        "    if i == 3:\n",
        "        break\n",
        "    print(\"Inside the loop.\", i)\n",
        "print(\"Outside the loop.\")\n"
      ],
      "metadata": {
        "colab": {
          "base_uri": "https://localhost:8080/"
        },
        "id": "37YeIOVSdTxo",
        "outputId": "7aa26fcc-edba-4260-dd2a-bca4ce9a081c"
      },
      "execution_count": null,
      "outputs": [
        {
          "output_type": "stream",
          "name": "stdout",
          "text": [
            "The break instruction:\n",
            "Inside the loop. 1\n",
            "Inside the loop. 2\n",
            "Outside the loop.\n"
          ]
        }
      ]
    },
    {
      "cell_type": "code",
      "source": [
        "\n",
        "# continue - example\n",
        "\n",
        "print(\"\\nThe continue instruction:\")\n",
        "for i in range(1, 6):\n",
        "    if i == 3:\n",
        "        continue\n",
        "    print(\"Inside the loop.\", i)\n",
        "print(\"Outside the loop.\")"
      ],
      "metadata": {
        "colab": {
          "base_uri": "https://localhost:8080/"
        },
        "id": "_cPZd-Ild_9B",
        "outputId": "9cdaecf4-b0fd-4a8a-dd0b-50eb5ff23420"
      },
      "execution_count": null,
      "outputs": [
        {
          "output_type": "stream",
          "name": "stdout",
          "text": [
            "\n",
            "The continue instruction:\n",
            "Inside the loop. 1\n",
            "Inside the loop. 2\n",
            "Inside the loop. 4\n",
            "Inside the loop. 5\n",
            "Outside the loop.\n"
          ]
        }
      ]
    },
    {
      "cell_type": "code",
      "source": [
        "largest_number = -99999999\n",
        "counter = 0\n",
        "\n",
        "while True:\n",
        "    number = int(input(\"Enter a number or type -1 to end program: \"))\n",
        "    if number == -1:\n",
        "        break\n",
        "    counter += 1\n",
        "    if number > largest_number:\n",
        "        largest_number = number\n",
        "\n",
        "if counter != 0:\n",
        "    print(\"The largest number is\", largest_number)\n",
        "else:\n",
        "    print(\"You haven't entered any number.\")\n",
        "\n"
      ],
      "metadata": {
        "colab": {
          "base_uri": "https://localhost:8080/"
        },
        "id": "Z_lFVEzTeTMI",
        "outputId": "d6c7496d-b3b3-4a40-b2d9-d3a9bb86804c"
      },
      "execution_count": null,
      "outputs": [
        {
          "output_type": "stream",
          "name": "stdout",
          "text": [
            "Enter a number or type -1 to end program: 1\n",
            "Enter a number or type -1 to end program: 2\n",
            "Enter a number or type -1 to end program: -1\n",
            "The largest number is 2\n"
          ]
        }
      ]
    },
    {
      "cell_type": "code",
      "source": [
        "largest_number = -99999999\n",
        "counter = 0\n",
        "\n",
        "number = int(input(\"Enter a number or type -1 to end program: \"))\n",
        "\n",
        "while number != -1:\n",
        "    if number == -1:\n",
        "        continue\n",
        "    counter += 1\n",
        "\n",
        "    if number > largest_number:\n",
        "        largest_number = number\n",
        "    number = int(input(\"Enter a number or type -1 to end program: \"))\n",
        "\n",
        "if counter:\n",
        "    print(\"The largest number is\", largest_number)\n",
        "else:\n",
        "    print(\"You haven't entered any number.\")\n",
        "\n"
      ],
      "metadata": {
        "colab": {
          "base_uri": "https://localhost:8080/"
        },
        "id": "wyjmUbVVe85k",
        "outputId": "715d749f-c1ca-4503-f0af-7704a03c40ff"
      },
      "execution_count": null,
      "outputs": [
        {
          "output_type": "stream",
          "name": "stdout",
          "text": [
            "Enter a number or type -1 to end program: 10\n",
            "Enter a number or type -1 to end program: 12\n",
            "Enter a number or type -1 to end program: -1\n",
            "The largest number is 12\n"
          ]
        }
      ]
    },
    {
      "cell_type": "code",
      "source": [
        "p_passe = input(\"Escolha o animal: \")\n",
        "\n",
        "while p_passe != \"chupacabra\":\n",
        "  if p_passe == \"chupacabra\":\n",
        "    break\n",
        "  else:\n",
        "    print(\"Animal errado, escolha novamente: \")\n",
        "    p_passe = input(\"Escolha o animal: \")\n",
        "\n",
        "else:\n",
        "  print(\"Zélelele\")"
      ],
      "metadata": {
        "colab": {
          "base_uri": "https://localhost:8080/"
        },
        "id": "GSRoEXKvhZdI",
        "outputId": "f9745288-6137-4b2f-e359-4847df246b02"
      },
      "execution_count": null,
      "outputs": [
        {
          "output_type": "stream",
          "name": "stdout",
          "text": [
            "Escolha o animal: Marex\n",
            "Animal errado, escolha novamente: \n",
            "Escolha o animal: Bovo\n",
            "Animal errado, escolha novamente: \n",
            "Escolha o animal: bolovo\n",
            "Animal errado, escolha novamente: \n",
            "Escolha o animal: dacueba\n",
            "Animal errado, escolha novamente: \n",
            "Escolha o animal: chupacabra\n",
            "Zélelele\n"
          ]
        }
      ]
    },
    {
      "cell_type": "code",
      "source": [
        "# Prompt the user to enter a word\n",
        "# and assign it to the user_word variable.\n",
        "user_Word = input(\"Enter a word: \")\n",
        "user_Word = user_Word.upper()\n",
        "\n",
        "for letter in user_Word:\n",
        "    # Complete the body of the for loop\n",
        "    if letter in \"AEIOU\":\n",
        "      continue\n",
        "    print(letter)"
      ],
      "metadata": {
        "colab": {
          "base_uri": "https://localhost:8080/"
        },
        "id": "Ru5YPbynhZZr",
        "outputId": "1ae89ee1-1c69-4b0c-c4dc-23bb03b2ca31"
      },
      "execution_count": null,
      "outputs": [
        {
          "output_type": "stream",
          "name": "stdout",
          "text": [
            "Enter a word: Gregory\n",
            "G\n",
            "R\n",
            "G\n",
            "R\n",
            "Y\n"
          ]
        }
      ]
    },
    {
      "cell_type": "code",
      "source": [
        "word_without_vowels = \"\"\n",
        "user_word = input(\"Enter a word: \")\n",
        "user_word = user_word.upper()\n",
        "# Prompt the user to enter a word\n",
        "# and assign it to the user_word variable.\n",
        "\n",
        "\n",
        "for letter in user_word:\n",
        "  if letter in \"AEIOU\":\n",
        "    continue\n",
        "  word_without_vowels += letter\n",
        "    # Complete the body of the loop.\n",
        "\n",
        "# Print the word assigned to word_without_vowels.\n",
        "print(word_without_vowels)"
      ],
      "metadata": {
        "colab": {
          "base_uri": "https://localhost:8080/"
        },
        "id": "nifpzLVhU4mP",
        "outputId": "30ff7ad0-4abc-433f-bfb9-b590c74a767b"
      },
      "execution_count": null,
      "outputs": [
        {
          "output_type": "stream",
          "name": "stdout",
          "text": [
            "Enter a word: Gregory\n",
            "GRGRY\n"
          ]
        }
      ]
    },
    {
      "cell_type": "code",
      "source": [
        "i = 1\n",
        "while i < 5:\n",
        "  print(i)\n",
        "  i += 1\n",
        "else:\n",
        "  print(\"else:\", i)"
      ],
      "metadata": {
        "colab": {
          "base_uri": "https://localhost:8080/"
        },
        "id": "DpuS8orFZMk4",
        "outputId": "e9de96c1-69a7-495f-df5d-a27e10a2bc69"
      },
      "execution_count": null,
      "outputs": [
        {
          "output_type": "stream",
          "name": "stdout",
          "text": [
            "1\n",
            "2\n",
            "3\n",
            "4\n",
            "else: 5\n"
          ]
        }
      ]
    },
    {
      "cell_type": "code",
      "source": [
        "for i in range(6):\n",
        "    print(i)\n",
        "else:\n",
        "    print(\"else:\", i)\n"
      ],
      "metadata": {
        "colab": {
          "base_uri": "https://localhost:8080/"
        },
        "id": "TvXighCDIXDG",
        "outputId": "af543558-514b-4643-8892-4646d2fdc6ad"
      },
      "execution_count": null,
      "outputs": [
        {
          "output_type": "stream",
          "name": "stdout",
          "text": [
            "0\n",
            "1\n",
            "2\n",
            "3\n",
            "4\n",
            "5\n",
            "else: 5\n"
          ]
        }
      ]
    },
    {
      "cell_type": "code",
      "source": [
        "blocks = int(input(\"Enter the number of blocks: \"))\n",
        "\n",
        "height = 0\n",
        "blocks_used = 0\n",
        "step = 1\n",
        "while blocks_used < blocks:\n",
        "  blocks_used += step\n",
        "  if blocks_used > blocks:\n",
        "    break\n",
        "  else:\n",
        "    height += 1\n",
        "    step += 1\n",
        "\n",
        "\n",
        "print(\"The height of the pyramid:\", height)"
      ],
      "metadata": {
        "colab": {
          "base_uri": "https://localhost:8080/"
        },
        "id": "sdtKFv9CI4RS",
        "outputId": "fed10747-692e-429c-ed72-754e9003ebeb"
      },
      "execution_count": null,
      "outputs": [
        {
          "output_type": "stream",
          "name": "stdout",
          "text": [
            "Enter the number of blocks: 1000\n",
            "The height of the pyramid: 44\n"
          ]
        }
      ]
    },
    {
      "cell_type": "code",
      "source": [
        "c0 = int(input(\"Enter a number: \"))\n",
        "if c0 < 1:\n",
        "  print(\"Use a non-negative, non-zero number\")\n",
        "  exit\n",
        "\n",
        "steps = 0\n",
        "\n",
        "while c0 != 1:\n",
        "  if c0  % 2 == 0:\n",
        "    c0 = int(c0 / 2)\n",
        "  else:\n",
        "    c0 = 3 * c0 + 1\n",
        "  print(c0)\n",
        "  steps += 1\n",
        "\n",
        "print(\"Total number of steps: \", steps)"
      ],
      "metadata": {
        "id": "5wBVt9uVNIen"
      },
      "execution_count": null,
      "outputs": []
    },
    {
      "cell_type": "code",
      "source": [
        "# Example 1\n",
        "while True:\n",
        "    print(\"Stuck in an infinite loop.\")\n",
        "\n",
        "# Example 2\n",
        "counter = 5\n",
        "while counter > 2:\n",
        "    print(counter)\n",
        "    counter -= 1\n",
        "\n"
      ],
      "metadata": {
        "id": "7tUuuK5VRCAq"
      },
      "execution_count": null,
      "outputs": []
    },
    {
      "cell_type": "code",
      "source": [
        "# Example 1\n",
        "word = \"Python\"\n",
        "for letter in word:\n",
        "    print(letter, end=\"*\")\n",
        "\n",
        "# Example 2\n",
        "for i in range(1, 10):\n",
        "    if i % 2 == 0:\n",
        "        print(i)\n",
        "\n"
      ],
      "metadata": {
        "id": "3xOI1_UxRRGT"
      },
      "execution_count": null,
      "outputs": []
    },
    {
      "cell_type": "code",
      "source": [
        "text = \"OpenEDG Python Institute\"\n",
        "for letter in text:\n",
        "    if letter == \"i\":\n",
        "        break\n",
        "    print(letter, end=\"\")\n",
        "\n"
      ],
      "metadata": {
        "colab": {
          "base_uri": "https://localhost:8080/"
        },
        "id": "9Y-ccnxBTeEL",
        "outputId": "f34ccd7c-8a88-4f56-a7c7-2511c83cd7c0"
      },
      "execution_count": null,
      "outputs": [
        {
          "output_type": "stream",
          "name": "stdout",
          "text": [
            "OpenEDG Python Inst"
          ]
        }
      ]
    },
    {
      "cell_type": "code",
      "source": [
        "text = \"pyxpyxpyx\"\n",
        "for letter in text:\n",
        "    if letter == \"x\":\n",
        "        continue\n",
        "    print(letter, end=\"\")\n",
        "\n"
      ],
      "metadata": {
        "colab": {
          "base_uri": "https://localhost:8080/"
        },
        "id": "Y07BInnGVNwZ",
        "outputId": "aff8a225-7ca4-4a40-bfd2-491ba0e31ce7"
      },
      "execution_count": null,
      "outputs": [
        {
          "output_type": "stream",
          "name": "stdout",
          "text": [
            "pypypy"
          ]
        }
      ]
    },
    {
      "cell_type": "code",
      "source": [
        "n = int(input(\"Numero: \"))\n",
        "\n",
        "while n != 3:\n",
        "    print(n)\n",
        "    n += 1\n",
        "else:\n",
        "    print(n, \"else\")\n",
        "\n",
        "print()\n",
        "\n",
        "for i in range(0, 5):\n",
        "    print(i)\n",
        "else:\n",
        "    print(i, \"else\")\n",
        "\n"
      ],
      "metadata": {
        "id": "4VtyojcCVqT8"
      },
      "execution_count": null,
      "outputs": []
    },
    {
      "cell_type": "code",
      "source": [
        "for i in range(3):\n",
        "    print(i, end=\" \")  # Outputs: 0 1 2\n",
        "\n",
        "for i in range(6, 1, -2):\n",
        "    print(i, end=\" \")  # Outputs: 6, 4, 2"
      ],
      "metadata": {
        "colab": {
          "base_uri": "https://localhost:8080/"
        },
        "id": "XX_DQ-JXXI09",
        "outputId": "6def99de-b140-4f08-819e-bf50157826c9"
      },
      "execution_count": null,
      "outputs": [
        {
          "output_type": "stream",
          "name": "stdout",
          "text": [
            "0 1 2 6 4 2 "
          ]
        }
      ]
    },
    {
      "cell_type": "code",
      "source": [
        "for i in range(11):\n",
        "  if i % 2 != 0:\n",
        "    print(i)"
      ],
      "metadata": {
        "id": "_qa_MXXzYjAa"
      },
      "execution_count": null,
      "outputs": []
    },
    {
      "cell_type": "code",
      "source": [
        "x = 1\n",
        "while x < 11:\n",
        "  if x % 2 != 0:\n",
        "    print(x)\n",
        "  x += 1\n",
        "\n"
      ],
      "metadata": {
        "id": "eyR06LodZN8r"
      },
      "execution_count": null,
      "outputs": []
    },
    {
      "cell_type": "code",
      "source": [
        "for ch in \"john.smith@pythoninstitute.org\":\n",
        "    if ch == \"@\":\n",
        "        break\n",
        "    print(ch, end=\"\")"
      ],
      "metadata": {
        "colab": {
          "base_uri": "https://localhost:8080/"
        },
        "id": "zVGZhVrranEa",
        "outputId": "3246d6d7-8bea-451d-a2da-64fdd71f3326"
      },
      "execution_count": null,
      "outputs": [
        {
          "output_type": "stream",
          "name": "stdout",
          "text": [
            "john.smith"
          ]
        }
      ]
    },
    {
      "cell_type": "code",
      "source": [
        "for digit in \"0165031806510\":\n",
        "  if digit == \"0\":\n",
        "    print(\"x\", end=\"\")\n",
        "    continue\n",
        "  print(digit, end=\"\")"
      ],
      "metadata": {
        "colab": {
          "base_uri": "https://localhost:8080/"
        },
        "id": "jat-60BNbHP9",
        "outputId": "50c72091-1783-4773-a48a-0211c5274bfd"
      },
      "execution_count": null,
      "outputs": [
        {
          "output_type": "stream",
          "name": "stdout",
          "text": [
            "x165x318x651x"
          ]
        }
      ]
    },
    {
      "cell_type": "code",
      "source": [
        "n = 3\n",
        "\n",
        "while n > 0:\n",
        "  print(n + 1)\n",
        "  n -= 1\n",
        "else:\n",
        "  print(n)"
      ],
      "metadata": {
        "colab": {
          "base_uri": "https://localhost:8080/"
        },
        "id": "OCwDl18ob07K",
        "outputId": "1ee88b56-8131-4f01-fc25-dc1ec34fae6a"
      },
      "execution_count": null,
      "outputs": [
        {
          "output_type": "stream",
          "name": "stdout",
          "text": [
            "4\n",
            "3\n",
            "2\n",
            "0\n"
          ]
        }
      ]
    },
    {
      "cell_type": "code",
      "source": [
        "n = range(4)\n",
        "\n",
        "for num in n:\n",
        "  print(num - 1)\n",
        "else:\n",
        "  print(num)"
      ],
      "metadata": {
        "colab": {
          "base_uri": "https://localhost:8080/"
        },
        "id": "WBdZCzmNcQYw",
        "outputId": "abcdd61a-b2b3-4692-bf3e-697eddfcac12"
      },
      "execution_count": null,
      "outputs": [
        {
          "output_type": "stream",
          "name": "stdout",
          "text": [
            "-1\n",
            "0\n",
            "1\n",
            "2\n",
            "3\n"
          ]
        }
      ]
    },
    {
      "cell_type": "code",
      "source": [
        "for i in range(0, 6, 3):\n",
        "  print(i)"
      ],
      "metadata": {
        "colab": {
          "base_uri": "https://localhost:8080/"
        },
        "id": "tZOLlTiPcpPE",
        "outputId": "3f949e97-c40c-4db5-fd65-364b5fb1043e"
      },
      "execution_count": null,
      "outputs": [
        {
          "output_type": "stream",
          "name": "stdout",
          "text": [
            "0\n",
            "3\n"
          ]
        }
      ]
    },
    {
      "cell_type": "code",
      "source": [
        "counter > 0 and value == 100"
      ],
      "metadata": {
        "id": "oxwRRRXvMWYS"
      },
      "execution_count": null,
      "outputs": []
    },
    {
      "cell_type": "code",
      "source": [
        "# Example 1:\n",
        "print(var > 0)\n",
        "print(not (var <= 0))\n",
        "\n",
        "\n",
        "# Example 2:\n",
        "print(var != 0)\n",
        "print(not (var == 0))"
      ],
      "metadata": {
        "id": "MkRq9lQOM7a6"
      },
      "execution_count": null,
      "outputs": []
    },
    {
      "cell_type": "code",
      "source": [
        "i = 1\n",
        "j = not not i"
      ],
      "metadata": {
        "id": "LAOX_XDDNWDL"
      },
      "execution_count": null,
      "outputs": []
    },
    {
      "cell_type": "code",
      "source": [
        "var = 17\n",
        "var_right = var >> 1\n",
        "var_left = var << 2\n",
        "print(var, var_left, var_right)"
      ],
      "metadata": {
        "colab": {
          "base_uri": "https://localhost:8080/"
        },
        "id": "9GJL8luCOrL7",
        "outputId": "d5120861-5544-43d3-d8e8-4b219000dc11"
      },
      "execution_count": null,
      "outputs": [
        {
          "output_type": "stream",
          "name": "stdout",
          "text": [
            "17 68 8\n"
          ]
        }
      ]
    },
    {
      "cell_type": "code",
      "source": [
        "x = 1\n",
        "y = 0\n",
        "\n",
        "z = ((x == y) and (x == y)) or not(x == y)\n",
        "print(not(z))\n"
      ],
      "metadata": {
        "colab": {
          "base_uri": "https://localhost:8080/"
        },
        "id": "lKkXVMnKg-vZ",
        "outputId": "f34d2083-01f4-4e52-bb4d-1f0fefc388d8"
      },
      "execution_count": null,
      "outputs": [
        {
          "output_type": "stream",
          "name": "stdout",
          "text": [
            "False\n"
          ]
        }
      ]
    },
    {
      "cell_type": "code",
      "source": [
        "x = 4\n",
        "y = 1\n",
        "\n",
        "a = x & y\n",
        "b = x | y\n",
        "c = ~x  # tricky!\n",
        "d = x ^ 5\n",
        "e = x >> 2\n",
        "f = x << 2\n",
        "\n",
        "print(a, b, c, d, e, f)"
      ],
      "metadata": {
        "colab": {
          "base_uri": "https://localhost:8080/"
        },
        "id": "nRcE6oDShOLz",
        "outputId": "24286b18-bbed-4bbf-9b3b-00cf0c9d9cd9"
      },
      "execution_count": null,
      "outputs": [
        {
          "output_type": "stream",
          "name": "stdout",
          "text": [
            "0 5 -5 1 1 16\n"
          ]
        }
      ]
    },
    {
      "cell_type": "code",
      "source": [
        "numbers = [10, 5, 7, 2, 1]\n",
        "print(\"Original list content:\", numbers)  # Printing original list content.\n",
        "\n",
        "numbers[0] = 111\n",
        "print(\"New list content: \", numbers)  # Current list content."
      ],
      "metadata": {
        "colab": {
          "base_uri": "https://localhost:8080/"
        },
        "id": "c3MecL_sVfjk",
        "outputId": "bc7113ec-8843-4582-8c75-150ecf5694d6"
      },
      "execution_count": null,
      "outputs": [
        {
          "output_type": "stream",
          "name": "stdout",
          "text": [
            "Original list content: [10, 5, 7, 2, 1]\n",
            "New list content:  [111, 5, 7, 2, 1]\n"
          ]
        }
      ]
    },
    {
      "cell_type": "code",
      "source": [
        "numbers = [10, 5, 7, 2, 1]\n",
        "print(\"Original list content:\", numbers)  # Printing original list content.\n",
        "\n",
        "numbers[0] = 111\n",
        "print(\"\\nPrevious list content:\", numbers)  # Printing previous list content.\n",
        "\n",
        "numbers[1] = numbers[4]  # Copying value of the fifth element to the second.\n",
        "print(\"New list content:\", numbers)  # Printing current list content."
      ],
      "metadata": {
        "colab": {
          "base_uri": "https://localhost:8080/"
        },
        "id": "e6PcWhBkWYKT",
        "outputId": "3be65b3b-a4ec-4b61-cbf6-9636f1985511"
      },
      "execution_count": null,
      "outputs": [
        {
          "output_type": "stream",
          "name": "stdout",
          "text": [
            "Original list content: [10, 5, 7, 2, 1]\n",
            "\n",
            "Previous list content: [111, 5, 7, 2, 1]\n",
            "New list content: [111, 1, 7, 2, 1]\n"
          ]
        }
      ]
    },
    {
      "cell_type": "code",
      "source": [
        "numbers = [10, 5, 7, 2, 1]\n",
        "print(\"Original list content:\", numbers)  # Printing original list content.\n",
        "\n",
        "numbers[0] = 111\n",
        "print(\"\\nPrevious list content:\", numbers)  # Printing previous list content.\n",
        "\n",
        "numbers[1] = numbers[4]  # Copying value of the fifth element to the second.\n",
        "print(\"Previous list content:\", numbers)  # Printing previous list content.\n",
        "\n",
        "print(\"\\nList length:\", len(numbers))  # Printing the list's length.\n"
      ],
      "metadata": {
        "colab": {
          "base_uri": "https://localhost:8080/"
        },
        "id": "Zl7VLNQgXX-x",
        "outputId": "b8798014-5838-40dc-c2a6-a275740a3a07"
      },
      "execution_count": null,
      "outputs": [
        {
          "output_type": "stream",
          "name": "stdout",
          "text": [
            "Original list content: [10, 5, 7, 2, 1]\n",
            "\n",
            "Previous list content: [111, 5, 7, 2, 1]\n",
            "Previous list content: [111, 1, 7, 2, 1]\n",
            "\n",
            "List length: 5\n"
          ]
        }
      ]
    },
    {
      "cell_type": "code",
      "source": [
        "numbers = [10, 5, 7, 2, 1]\n",
        "print(\"Original list content:\", numbers)  # Printing original list content.\n",
        "\n",
        "numbers[0] = 111\n",
        "print(\"\\nPrevious list content:\", numbers)  # Printing previous list content.\n",
        "\n",
        "numbers[1] = numbers[4]  # Copying value of the fifth element to the second.\n",
        "print(\"Previous list content:\", numbers)  # Printing previous list content.\n",
        "\n",
        "print(\"\\nList's length:\", len(numbers))  # Printing previous list length.\n",
        "\n",
        "###\n",
        "\n",
        "del numbers[1]  # Removing the second element from the list.\n",
        "print(\"New list's length:\", len(numbers))  # Printing new list length.\n",
        "print(\"\\nNew list content:\", numbers)  # Printing current list content.\n",
        "\n"
      ],
      "metadata": {
        "id": "T0ISmbs2ZoNd"
      },
      "execution_count": null,
      "outputs": []
    },
    {
      "cell_type": "code",
      "source": [
        "numbers = [111, 7, 2, 1]\n",
        "print(numbers[-1])\n",
        "print(numbers[-2])\n",
        "print(numbers[-4])"
      ],
      "metadata": {
        "colab": {
          "base_uri": "https://localhost:8080/"
        },
        "id": "NKTS5V0Za8zQ",
        "outputId": "0ce2fe49-9e83-44b7-811d-4f33317229b8"
      },
      "execution_count": null,
      "outputs": [
        {
          "output_type": "stream",
          "name": "stdout",
          "text": [
            "1\n",
            "2\n",
            "111\n"
          ]
        }
      ]
    },
    {
      "cell_type": "code",
      "source": [
        "hat_list = [1, 2, 3, 4, 5]  # This is an existing list of numbers hidden in the hat.\n",
        "\n",
        "print(hat_list)\n",
        "\n",
        "hat_list[3] = int(input(\"Escreva o numero novo: \"))\n",
        "print(hat_list)\n",
        "# Step 2: write a line of code that removes the last element from the list.\n",
        "\n",
        "del hat_list[4]\n",
        "\n",
        "# Step 3: write a line of code that prints the length of the existing list.\n",
        "\n",
        "print(hat_list)\n",
        "print(len(hat_list))\n"
      ],
      "metadata": {
        "colab": {
          "base_uri": "https://localhost:8080/"
        },
        "id": "eaFL29pEbdvc",
        "outputId": "16d0474e-bcb6-4de6-d4e9-ff6783e41e45"
      },
      "execution_count": null,
      "outputs": [
        {
          "output_type": "stream",
          "name": "stdout",
          "text": [
            "[1, 2, 3, 4, 5]\n",
            "Escreva o numero novo: 123\n",
            "[1, 2, 3, 123, 5]\n",
            "[1, 2, 3, 123]\n",
            "4\n"
          ]
        }
      ]
    },
    {
      "cell_type": "code",
      "source": [
        "numbers = [111, 7, 2, 1]\n",
        "print(len(numbers))\n",
        "print(numbers)\n",
        "\n",
        "list.insert(1, 333)\n",
        "\n",
        "numbers.append(4)\n",
        "\n",
        "print(len(numbers))\n",
        "print(numbers)\n",
        "\n",
        "###\n",
        "\n",
        "numbers.insert(0, 222)\n",
        "print(len(numbers))\n",
        "print(numbers)\n",
        "\n",
        "#"
      ],
      "metadata": {
        "id": "c1MxiwPFf6gY"
      },
      "execution_count": null,
      "outputs": []
    },
    {
      "cell_type": "code",
      "source": [
        "my_list = []  # Creating an empty list.\n",
        "\n",
        "for i in range(5):\n",
        "    my_list.insert(0, i + 1)\n",
        "\n",
        "print(my_list)\n",
        "\n"
      ],
      "metadata": {
        "colab": {
          "base_uri": "https://localhost:8080/"
        },
        "id": "SWgGaQY5jr1o",
        "outputId": "ed601f86-380f-4f59-a7a1-47cb0276c3be"
      },
      "execution_count": null,
      "outputs": [
        {
          "output_type": "stream",
          "name": "stdout",
          "text": [
            "[5, 4, 3, 2, 1]\n"
          ]
        }
      ]
    },
    {
      "cell_type": "code",
      "source": [
        "my_list = [] #Creating an empty list\n",
        "\n",
        "for i in range(5):\n",
        "  my_list.append(i + 1)\n",
        "\n",
        "print(my_list)"
      ],
      "metadata": {
        "colab": {
          "base_uri": "https://localhost:8080/"
        },
        "id": "aKnFs65TBbOn",
        "outputId": "e533b558-790e-4410-96d0-bd9b37a137f2"
      },
      "execution_count": null,
      "outputs": [
        {
          "output_type": "stream",
          "name": "stdout",
          "text": [
            "[1, 2, 3, 4, 5]\n"
          ]
        }
      ]
    },
    {
      "cell_type": "code",
      "source": [
        "my_list1 = [10, 1, 8, 3, 5]\n",
        "total = 0\n",
        "\n",
        "for i in range(len(my_list1)):\n",
        "  total += my_list1[i]\n",
        "\n",
        "print(total)\n"
      ],
      "metadata": {
        "id": "_vbVeupSC59F"
      },
      "execution_count": null,
      "outputs": []
    },
    {
      "cell_type": "code",
      "source": [
        "var1 = 1\n",
        "var2 = 2\n",
        "\n",
        "aux = var1\n",
        "var1 = var2\n",
        "var2 = aux\n",
        "\n",
        "print(var1,\" \", var2)"
      ],
      "metadata": {
        "colab": {
          "base_uri": "https://localhost:8080/"
        },
        "id": "gu6suKSTEdzT",
        "outputId": "a46670a5-d32c-4af3-dbdf-5386c4042ecd"
      },
      "execution_count": null,
      "outputs": [
        {
          "output_type": "stream",
          "name": "stdout",
          "text": [
            "2   1\n"
          ]
        }
      ]
    },
    {
      "cell_type": "code",
      "source": [
        "var_1 = 1\n",
        "var_2 = 2\n",
        "\n",
        "print(var_1, var_2)\n",
        "\n",
        "var_1, var_2 = var_2, var_1\n",
        "\n",
        "print(var_1, var_2)"
      ],
      "metadata": {
        "colab": {
          "base_uri": "https://localhost:8080/"
        },
        "id": "yNBNFQWjFJZE",
        "outputId": "ead55df3-b5f8-4b91-e3c2-11d176dd01bf"
      },
      "execution_count": null,
      "outputs": [
        {
          "output_type": "stream",
          "name": "stdout",
          "text": [
            "1 2\n",
            "2 1\n"
          ]
        }
      ]
    },
    {
      "cell_type": "code",
      "source": [
        "my_list = [10, 1, 8, 3, 5]\n",
        "\n",
        "my_list[0], my_list[4] = my_list[4], my_list[0]\n",
        "my_list[1], my_list[3] = my_list[3], my_list[1]\n",
        "\n",
        "print(my_list)"
      ],
      "metadata": {
        "colab": {
          "base_uri": "https://localhost:8080/"
        },
        "id": "netB4PonF26P",
        "outputId": "09c242ae-a7f5-4ef6-c97a-e1818eedb4b4"
      },
      "execution_count": null,
      "outputs": [
        {
          "output_type": "stream",
          "name": "stdout",
          "text": [
            "[5, 3, 8, 1, 10]\n"
          ]
        }
      ]
    },
    {
      "cell_type": "code",
      "source": [
        "my_list = [10, 1, 8, 3, 5]\n",
        "length = len(my_list)\n",
        "\n",
        "for i in range (length // 2):\n",
        "  my_list[i], my_list[length - i - 1] = my_list[length - i - 1], my_list[i]\n",
        "\n",
        "print(my_list)"
      ],
      "metadata": {
        "colab": {
          "base_uri": "https://localhost:8080/"
        },
        "id": "CqoVvsPvGiXg",
        "outputId": "59dd20b5-cd8b-4b84-b4ad-4342a10f66e9"
      },
      "execution_count": null,
      "outputs": [
        {
          "output_type": "stream",
          "name": "stdout",
          "text": [
            "[5, 3, 8, 1, 10]\n"
          ]
        }
      ]
    },
    {
      "cell_type": "code",
      "source": [
        "beatles = [] #empty list\n",
        "\n",
        "print(\"Step 1:\", beatles)\n",
        "\n",
        "# step 2\n",
        "beatles.append(\"John Lennon\")\n",
        "beatles.append(\"Paul McCartey\")\n",
        "beatles.append(\"George Harrison\")\n",
        "print(\"Step 2:\", beatles)\n",
        "\n",
        "# step 3\n",
        "for menber in range(2):\n",
        "  beatlesName = input(\"New beatle name? \")\n",
        "  beatles.append(beatlesName)\n",
        "print(\"Step 3:\", beatles)\n",
        "\n",
        "# step 4\n",
        "del beatles[3:5]\n",
        "print(\"Step 4:\", beatles)\n",
        "\n",
        "# step 5\n",
        "beatles.insert(0, \"Ringo Star\")\n",
        "print(\"Step 5:\", beatles)\n",
        "\n",
        "\n",
        "# testing list legth\n",
        "print(\"The Fab\", len(beatles))\n"
      ],
      "metadata": {
        "id": "nJBAA4lGJiSP"
      },
      "execution_count": null,
      "outputs": []
    },
    {
      "cell_type": "code",
      "source": [
        "my_list = [1, None, True, \"I am a string\", 256, 0]\n",
        "print(my_list[3]) #outputs: I am a string\n",
        "print(my_list[-1]) #outputs: 0\n",
        "\n",
        "my_list[1] = '?'\n",
        "\n",
        "print(my_list) # outputs: [1, '?', True, 'I am a string', 256, 0]\n",
        "\n",
        "my_list.insert(0, \"first\")\n",
        "my_list.append(\"last\")\n",
        "print(my_list) # outputs: ['first', 1, '?', True, 'i am string', 256, 0, 'last']\n"
      ],
      "metadata": {
        "colab": {
          "base_uri": "https://localhost:8080/"
        },
        "id": "OmVjRhZbPHjA",
        "outputId": "fbe76295-2c52-4076-dd03-daf32e236121"
      },
      "execution_count": null,
      "outputs": [
        {
          "output_type": "stream",
          "name": "stdout",
          "text": [
            "I am a string\n",
            "0\n",
            "[1, '?', True, 'I am a string', 256, 0]\n",
            "['first', 1, '?', True, 'I am a string', 256, 0, 'last']\n"
          ]
        }
      ]
    },
    {
      "cell_type": "code",
      "source": [
        "my_list = [1, 2, 3, 4]\n",
        "del my_list[2]\n",
        "print(my_list)\n",
        "\n",
        "del my_list"
      ],
      "metadata": {
        "colab": {
          "base_uri": "https://localhost:8080/"
        },
        "id": "ElbU9M5DVaZC",
        "outputId": "59629baa-3785-4007-e5dd-28f560870b77"
      },
      "execution_count": null,
      "outputs": [
        {
          "output_type": "stream",
          "name": "stdout",
          "text": [
            "[1, 2, 4]\n"
          ]
        }
      ]
    },
    {
      "cell_type": "code",
      "source": [
        "my_list = [\"white\", \"purple\", \"blue\", \"yellow\", \"green\"]\n",
        "\n",
        "for color in my_list:\n",
        "  print(color)"
      ],
      "metadata": {
        "colab": {
          "base_uri": "https://localhost:8080/"
        },
        "id": "0xjB9aI6Yf8i",
        "outputId": "2a4fd26b-e526-47ea-c369-7064b5023987"
      },
      "execution_count": null,
      "outputs": [
        {
          "output_type": "stream",
          "name": "stdout",
          "text": [
            "white\n",
            "purple\n",
            "blue\n",
            "yellow\n",
            "green\n"
          ]
        }
      ]
    },
    {
      "cell_type": "code",
      "source": [
        "my_list = [\"white\", \"purple\", \"blue\", \"yellow\", \"green\"]\n",
        "\n",
        "print(len(my_list))\n",
        "\n",
        "del my_list[2]\n",
        "\n",
        "print(len(my_list))"
      ],
      "metadata": {
        "colab": {
          "base_uri": "https://localhost:8080/"
        },
        "id": "veAnBi4IZFY1",
        "outputId": "468f934a-30ac-42fe-deae-99be295b1941"
      },
      "execution_count": null,
      "outputs": [
        {
          "output_type": "stream",
          "name": "stdout",
          "text": [
            "5\n",
            "4\n"
          ]
        }
      ]
    },
    {
      "cell_type": "code",
      "source": [
        "lst = [1, 2, 3, 4, 5]\n",
        "lst.insert(1, 6)\n",
        "del lst[0]\n",
        "lst.append(1)\n",
        "\n",
        "print(lst)"
      ],
      "metadata": {
        "colab": {
          "base_uri": "https://localhost:8080/"
        },
        "id": "Zn82F-nhZsCv",
        "outputId": "f24bc032-3ae8-4679-9d4a-95a696314010"
      },
      "execution_count": null,
      "outputs": [
        {
          "output_type": "stream",
          "name": "stdout",
          "text": [
            "[6, 2, 3, 4, 5, 1]\n"
          ]
        }
      ]
    },
    {
      "cell_type": "code",
      "source": [
        "lst = [1, 2, 3, 4, 5]\n",
        "lst_2 = []\n",
        "add = 0\n",
        "\n",
        "for number in lst:\n",
        "  add += number\n",
        "  lst_2.append(add)\n",
        "\n",
        "print(lst_2)"
      ],
      "metadata": {
        "colab": {
          "base_uri": "https://localhost:8080/"
        },
        "id": "N_FoZJlwaXDB",
        "outputId": "431940c3-dc78-4b52-8e90-82ce6aa6560f"
      },
      "execution_count": null,
      "outputs": [
        {
          "output_type": "stream",
          "name": "stdout",
          "text": [
            "[1, 3, 6, 10, 15]\n"
          ]
        }
      ]
    },
    {
      "cell_type": "code",
      "source": [
        "lst = []\n",
        "del lst\n",
        "print(lst)"
      ],
      "metadata": {
        "id": "KPg-t24ybdoW"
      },
      "execution_count": null,
      "outputs": []
    },
    {
      "cell_type": "code",
      "source": [
        "lst = [1, [2, 3], 4]\n",
        "print(lst[1])\n",
        "print(len(lst))"
      ],
      "metadata": {
        "colab": {
          "base_uri": "https://localhost:8080/"
        },
        "id": "M4IyPKf8boSG",
        "outputId": "70cfa454-e92d-45f3-c96c-0e1fe13290a0"
      },
      "execution_count": null,
      "outputs": [
        {
          "output_type": "stream",
          "name": "stdout",
          "text": [
            "[2, 3]\n",
            "3\n"
          ]
        }
      ]
    },
    {
      "cell_type": "code",
      "source": [
        "my_list = [8, 10, 6, 2, 4] # list to sort\n",
        "\n",
        "for i in range(len(my_list) - 1): # we need (5 - 1) comparisons\n",
        "  if my_list[i] > my_list[i + 1]: # compare adjacent elements\n",
        "    my_list[i], my_list[i +1] = my_list[i + 1], my_list[i] #If we end up here"
      ],
      "metadata": {
        "id": "rh4_jHXMMy76"
      },
      "execution_count": null,
      "outputs": []
    },
    {
      "cell_type": "code",
      "source": [
        "my_list = [8, 10, 6, 2, 4] # list sort\n",
        "swapped = True # It's a little fake, we need it to enter the while loop\n",
        "\n",
        "while swapped:\n",
        "  swapped = False # no swaps so far\n",
        "  for i in range(len(my_list) - 1):\n",
        "    if my_list[i] > my_list[i + 1]:\n",
        "      swapped = True # a swap ocurred!\n",
        "      my_list[i], my_list[i + 1] = my_list[i + 1], my_list[i]\n",
        "\n",
        "print(my_list)"
      ],
      "metadata": {
        "colab": {
          "base_uri": "https://localhost:8080/"
        },
        "id": "Bd4FDKFwN9Ak",
        "outputId": "78d81ec6-ea18-4084-8266-428a05259142"
      },
      "execution_count": null,
      "outputs": [
        {
          "output_type": "stream",
          "name": "stdout",
          "text": [
            "[2, 4, 6, 8, 10]\n"
          ]
        }
      ]
    },
    {
      "cell_type": "code",
      "source": [
        "my_list= [8, 10, 6, 2, 4]\n",
        "my_list.sort()\n",
        "print(my_list)"
      ],
      "metadata": {
        "colab": {
          "base_uri": "https://localhost:8080/"
        },
        "id": "0A2UQMMR21GQ",
        "outputId": "33e6700b-963c-4c0e-f314-fe584c9c212a"
      },
      "execution_count": null,
      "outputs": [
        {
          "output_type": "stream",
          "name": "stdout",
          "text": [
            "[2, 4, 6, 8, 10]\n"
          ]
        }
      ]
    },
    {
      "cell_type": "code",
      "source": [
        "my_list = []\n",
        "swapped = True\n",
        "num = int(input(\"How many elements do you want to sort: \"))\n",
        "\n",
        "for i in range(num):\n",
        "    val = float(input(\"Enter a list element: \"))\n",
        "    my_list.append(val)\n",
        "\n",
        "while swapped:\n",
        "    swapped = False\n",
        "    for i in range(len(my_list) - 1):\n",
        "        if my_list[i] > my_list[i + 1]:\n",
        "          swapped = True\n",
        "          my_list[i], my_list[i + 1] = my_list[i + 1], my_list[i]\n",
        "\n",
        "print(\"\\nSorted:\")\n",
        "print(my_list)"
      ],
      "metadata": {
        "id": "YdvOXqsNwszH"
      },
      "execution_count": null,
      "outputs": []
    },
    {
      "cell_type": "code",
      "source": [
        "lst = [5, 3, 1, 2, 4]\n",
        "print(lst)\n",
        "\n",
        "lst.sort()\n",
        "print(lst) # outputs [1, 2, 3, 4, 5]"
      ],
      "metadata": {
        "colab": {
          "base_uri": "https://localhost:8080/"
        },
        "id": "X-Gu-FR13gGx",
        "outputId": "d8647b4b-33b8-41e4-f43e-08ea6fd75042"
      },
      "execution_count": null,
      "outputs": [
        {
          "output_type": "stream",
          "name": "stdout",
          "text": [
            "[5, 3, 1, 2, 4]\n",
            "[1, 2, 3, 4, 5]\n"
          ]
        }
      ]
    },
    {
      "cell_type": "code",
      "source": [
        "lst = [5, 3, 1, 2, 4]\n",
        "print(lst)\n",
        "\n",
        "lst.reverse()\n",
        "print(lst)  #outputs [4, 2, 1, 3, 5]"
      ],
      "metadata": {
        "colab": {
          "base_uri": "https://localhost:8080/"
        },
        "id": "fyKvH6w235aK",
        "outputId": "16a1a814-a53a-43bf-f452-5beaf36ee719"
      },
      "execution_count": null,
      "outputs": [
        {
          "output_type": "stream",
          "name": "stdout",
          "text": [
            "[5, 3, 1, 2, 4]\n",
            "[4, 2, 1, 3, 5]\n"
          ]
        }
      ]
    },
    {
      "cell_type": "code",
      "source": [
        "lst = [\"D\", \"F\", \"A\", \"Z\"]\n",
        "lst.sort()\n",
        "\n",
        "print(lst)"
      ],
      "metadata": {
        "colab": {
          "base_uri": "https://localhost:8080/"
        },
        "id": "SBWE6EHy4SO1",
        "outputId": "c1c96f03-31e8-4689-e851-d98472a91b99"
      },
      "execution_count": null,
      "outputs": [
        {
          "output_type": "stream",
          "name": "stdout",
          "text": [
            "['A', 'D', 'F', 'Z']\n"
          ]
        }
      ]
    },
    {
      "cell_type": "code",
      "source": [
        "a = 3\n",
        "b = 1\n",
        "c = 2\n",
        "\n",
        "lst = [a, c, b]\n",
        "lst.sort()\n",
        "\n",
        "print(lst)"
      ],
      "metadata": {
        "colab": {
          "base_uri": "https://localhost:8080/"
        },
        "id": "bA1_SutY4zq8",
        "outputId": "70eddbf7-9aa5-47b7-902c-fd1a741a7ab1"
      },
      "execution_count": null,
      "outputs": [
        {
          "output_type": "stream",
          "name": "stdout",
          "text": [
            "[1, 2, 3]\n"
          ]
        }
      ]
    },
    {
      "cell_type": "code",
      "source": [
        "a = \"A\"\n",
        "b = \"B\"\n",
        "c = \"C\"\n",
        "d =\" \"\n",
        "lst = [a, b, c, d]\n",
        "lst.reverse()\n",
        "\n",
        "print(lst)\n"
      ],
      "metadata": {
        "colab": {
          "base_uri": "https://localhost:8080/"
        },
        "id": "N43cs3AU4nEK",
        "outputId": "a8c0b52b-04a9-4ae9-f952-3d4821fdba5a"
      },
      "execution_count": null,
      "outputs": [
        {
          "output_type": "stream",
          "name": "stdout",
          "text": [
            "[' ', 'C', 'B', 'A']\n"
          ]
        }
      ]
    },
    {
      "cell_type": "code",
      "source": [
        "list_1 = [1]\n",
        "list_2 = list_1\n",
        "list_1[0] = 2\n",
        "print(list_2)"
      ],
      "metadata": {
        "colab": {
          "base_uri": "https://localhost:8080/"
        },
        "id": "_QOx371N5bPy",
        "outputId": "1d7fad21-6b30-4bdd-cc34-0e9f5c92d9c7"
      },
      "execution_count": null,
      "outputs": [
        {
          "output_type": "stream",
          "name": "stdout",
          "text": [
            "[2]\n"
          ]
        }
      ]
    },
    {
      "cell_type": "code",
      "source": [
        "list_1 = [1]\n",
        "list_2 = list_1[:]\n",
        "list_1[0] = 2\n",
        "print(list_2)"
      ],
      "metadata": {
        "id": "-kfPXHix6K2T"
      },
      "execution_count": null,
      "outputs": []
    },
    {
      "cell_type": "code",
      "source": [
        "my_list[start:end]"
      ],
      "metadata": {
        "id": "LfT9A6Ne7DpI"
      },
      "execution_count": null,
      "outputs": []
    },
    {
      "cell_type": "code",
      "source": [
        "my_list = [10, 8, 6, 4, 2]\n",
        "new_list = my_list[1:3]\n",
        "print(new_list)"
      ],
      "metadata": {
        "colab": {
          "base_uri": "https://localhost:8080/"
        },
        "id": "Bvdw_2_u7X6a",
        "outputId": "84cac180-a706-4f33-8711-5fdd60482066"
      },
      "execution_count": null,
      "outputs": [
        {
          "output_type": "stream",
          "name": "stdout",
          "text": [
            "[8, 6]\n"
          ]
        }
      ]
    },
    {
      "cell_type": "code",
      "source": [
        "# Copying the entire list\n",
        "list_1 = [1]\n",
        "list_2 = list_1[:]\n",
        "list_1[0] = 2\n",
        "print(list_2)\n",
        "\n",
        "# Copying some part of the list.\n",
        "my_list = [10, 8, 6, 4, 2]\n",
        "new_list = my_list[1:3]\n",
        "print(new_list)"
      ],
      "metadata": {
        "colab": {
          "base_uri": "https://localhost:8080/"
        },
        "id": "UukvCMw272pC",
        "outputId": "67f7ad5b-dd89-46e9-913d-0099ee50efaa"
      },
      "execution_count": null,
      "outputs": [
        {
          "output_type": "stream",
          "name": "stdout",
          "text": [
            "[1]\n",
            "[8, 6]\n"
          ]
        }
      ]
    },
    {
      "cell_type": "code",
      "source": [
        "my_list[start:end]"
      ],
      "metadata": {
        "id": "TMurBgZp85xD"
      },
      "execution_count": null,
      "outputs": []
    },
    {
      "cell_type": "code",
      "source": [
        "my_list = [10, 8, 6, 4, 2]\n",
        "new_list = my_list[1:-1]\n",
        "print(new_list)"
      ],
      "metadata": {
        "colab": {
          "base_uri": "https://localhost:8080/"
        },
        "id": "1JsIuHKg9C1e",
        "outputId": "9521b42d-5a49-4ee4-c60f-9d6b601aa7fb"
      },
      "execution_count": null,
      "outputs": [
        {
          "output_type": "stream",
          "name": "stdout",
          "text": [
            "[8, 6, 4]\n"
          ]
        }
      ]
    },
    {
      "cell_type": "code",
      "source": [
        "my_list = [10, 8, 6, 4, 2]\n",
        "new_list = my_list[-1:1]\n",
        "print(new_list)"
      ],
      "metadata": {
        "colab": {
          "base_uri": "https://localhost:8080/"
        },
        "id": "mU4Ui8-l9ZFU",
        "outputId": "1e22a1be-5c8d-4976-bd3c-77bd48a18aae"
      },
      "execution_count": null,
      "outputs": [
        {
          "output_type": "stream",
          "name": "stdout",
          "text": [
            "[]\n"
          ]
        }
      ]
    },
    {
      "cell_type": "code",
      "source": [
        "my_list[:end] = my_list[0:end]"
      ],
      "metadata": {
        "id": "4xhg3SVL-CVz"
      },
      "execution_count": null,
      "outputs": []
    },
    {
      "cell_type": "code",
      "source": [
        "my_list = [10, 8, 6, 4, 2]\n",
        "new_list = my_list[:3]\n",
        "print(new_list)"
      ],
      "metadata": {
        "colab": {
          "base_uri": "https://localhost:8080/"
        },
        "id": "3jay8gSM-INS",
        "outputId": "6534b17f-e77c-4e1a-d3cb-85ea0d4e6359"
      },
      "execution_count": null,
      "outputs": [
        {
          "output_type": "stream",
          "name": "stdout",
          "text": [
            "[10, 8, 6]\n"
          ]
        }
      ]
    },
    {
      "cell_type": "code",
      "source": [
        "my_list[start:] = my_list[start:len(my_list)]"
      ],
      "metadata": {
        "id": "x4PUGfm9-iIF"
      },
      "execution_count": null,
      "outputs": []
    },
    {
      "cell_type": "code",
      "source": [
        "my_list = [10, 8, 6, 4, 2]\n",
        "new_list = my_list[3:]\n",
        "print(new_list)"
      ],
      "metadata": {
        "colab": {
          "base_uri": "https://localhost:8080/"
        },
        "id": "CR5KMIJ--xH5",
        "outputId": "131f3605-bb07-45e5-ee7a-14d3cb2dd780"
      },
      "execution_count": null,
      "outputs": [
        {
          "output_type": "stream",
          "name": "stdout",
          "text": [
            "[4, 2]\n"
          ]
        }
      ]
    },
    {
      "cell_type": "code",
      "source": [
        "my_list = [10, 8, 6, 4, 2]\n",
        "new_list = my_list[:]"
      ],
      "metadata": {
        "id": "DPHPUyKY_ELg"
      },
      "execution_count": null,
      "outputs": []
    },
    {
      "cell_type": "code",
      "source": [
        "my_list = [10, 8, 6, 4, 2]\n",
        "new_list = my_list[:]\n",
        "print(new_list)"
      ],
      "metadata": {
        "colab": {
          "base_uri": "https://localhost:8080/"
        },
        "id": "TDy8Q7fymzrR",
        "outputId": "44da2b91-d2a5-43ce-9493-728f34339a6b"
      },
      "execution_count": null,
      "outputs": [
        {
          "output_type": "stream",
          "name": "stdout",
          "text": [
            "[10, 8, 6, 4, 2]\n"
          ]
        }
      ]
    },
    {
      "cell_type": "code",
      "source": [
        "my_list = [10, 8, 6, 4, 2]\n",
        "del my_list[1:3]\n",
        "print(my_list)"
      ],
      "metadata": {
        "colab": {
          "base_uri": "https://localhost:8080/"
        },
        "id": "QAxpFhS3nF4P",
        "outputId": "b7ab132e-054f-4a63-b952-e57c7d562c8a"
      },
      "execution_count": null,
      "outputs": [
        {
          "output_type": "stream",
          "name": "stdout",
          "text": [
            "[10, 4, 2]\n"
          ]
        }
      ]
    },
    {
      "cell_type": "code",
      "source": [
        "my_list = [10, 8, 6, 4, 2]\n",
        "del my_list[:]\n",
        "print(my_list)"
      ],
      "metadata": {
        "colab": {
          "base_uri": "https://localhost:8080/"
        },
        "id": "uso0xABhnWci",
        "outputId": "ea0e145d-575a-428c-a275-5964b2dc4456"
      },
      "execution_count": null,
      "outputs": [
        {
          "output_type": "stream",
          "name": "stdout",
          "text": [
            "[]\n"
          ]
        }
      ]
    },
    {
      "cell_type": "code",
      "source": [
        "my_list = [10, 8, 6, 4, 2]\n",
        "del my_list\n",
        "print(my_list)"
      ],
      "metadata": {
        "id": "t0d1cAJcntQx"
      },
      "execution_count": null,
      "outputs": []
    },
    {
      "cell_type": "code",
      "source": [
        "my_list = [0, 3, 12, 8, 2]\n",
        "print(5 in my_list)\n",
        "print(5 not in my_list)\n",
        "print(12 in my_list)"
      ],
      "metadata": {
        "colab": {
          "base_uri": "https://localhost:8080/"
        },
        "id": "YYnNbDMuoFO_",
        "outputId": "ccfc1bea-f555-44c0-cd64-cc3f16f7b76d"
      },
      "execution_count": null,
      "outputs": [
        {
          "output_type": "stream",
          "name": "stdout",
          "text": [
            "False\n",
            "True\n",
            "True\n"
          ]
        }
      ]
    },
    {
      "cell_type": "code",
      "source": [
        "my_list = [17, 3, 11, 5, 1, 9, 7, 15, 13]\n",
        "largest = my_list[0]\n",
        "\n",
        "for i in range(1, len(my_list)):\n",
        "  if my_list[i] > largest:\n",
        "    largest = my_list[i]\n",
        "\n",
        "print(largest)"
      ],
      "metadata": {
        "colab": {
          "base_uri": "https://localhost:8080/"
        },
        "id": "SKpnsA7towLp",
        "outputId": "6073c1ce-89ce-40be-cdbe-73a1546b8028"
      },
      "execution_count": null,
      "outputs": [
        {
          "output_type": "stream",
          "name": "stdout",
          "text": [
            "17\n"
          ]
        }
      ]
    },
    {
      "cell_type": "code",
      "source": [
        "my_list = [17, 3, 11, 5, 1, 9, 7, 15, 13]\n",
        "largest = my_list[0]\n",
        "\n",
        "for i in my_list:\n",
        "  if i > largest:\n",
        "    largest = i\n",
        "\n",
        "print(largest)\n"
      ],
      "metadata": {
        "colab": {
          "base_uri": "https://localhost:8080/"
        },
        "id": "PhXSBFVNpUl4",
        "outputId": "234feabb-d19e-41b7-a996-7e7c398856bc"
      },
      "execution_count": null,
      "outputs": [
        {
          "output_type": "stream",
          "name": "stdout",
          "text": [
            "17\n"
          ]
        }
      ]
    },
    {
      "cell_type": "code",
      "source": [
        "my_list = [17, 3, 11, 5, 1, 9, 7, 15, 13]\n",
        "largest = my_list[0]\n",
        "\n",
        "for i in my_list[1:]:\n",
        "  if i > largest:\n",
        "    largest = i\n",
        "\n",
        "print(largest)"
      ],
      "metadata": {
        "colab": {
          "base_uri": "https://localhost:8080/"
        },
        "id": "bsyXLBZApy05",
        "outputId": "519264b9-403b-4c40-8a74-abc406ed7ea4"
      },
      "execution_count": null,
      "outputs": [
        {
          "output_type": "stream",
          "name": "stdout",
          "text": [
            "17\n"
          ]
        }
      ]
    },
    {
      "cell_type": "code",
      "source": [
        "my_list = [1, 2, 3, 4, 5, 6, 7, 8, 9, 10]\n",
        "to_find = 6\n",
        "found = False\n",
        "\n",
        "for i in range(len(my_list)):\n",
        "  found = my_list[i] == to_find\n",
        "  if found:\n",
        "    break\n",
        "\n",
        "if found:\n",
        "  print(\"Elemente found at index\", i)\n",
        "\n",
        "else:\n",
        "  print(\"absent\")"
      ],
      "metadata": {
        "colab": {
          "base_uri": "https://localhost:8080/"
        },
        "id": "R99RYwiPqUZ0",
        "outputId": "94895135-fb8c-40ad-fe7f-06245847e1ff"
      },
      "execution_count": null,
      "outputs": [
        {
          "output_type": "stream",
          "name": "stdout",
          "text": [
            "Elemente found at index 5\n"
          ]
        }
      ]
    },
    {
      "cell_type": "code",
      "source": [
        "draw = [5, 11, 9, 42, 3, 49]\n",
        "bets = [3, 7, 11, 42, 34, 49]\n",
        "hits = 0\n",
        "\n",
        "for number in bets:\n",
        "  if number in draw:\n",
        "    hits += 1\n",
        "\n",
        "print(hits)"
      ],
      "metadata": {
        "colab": {
          "base_uri": "https://localhost:8080/"
        },
        "id": "-s6_Ga3OA3zJ",
        "outputId": "0c7f8f81-d744-4ead-ae16-7e6b599e81c2"
      },
      "execution_count": null,
      "outputs": [
        {
          "output_type": "stream",
          "name": "stdout",
          "text": [
            "4\n"
          ]
        }
      ]
    },
    {
      "cell_type": "code",
      "source": [
        "my_list = [1, 2, 4, 4, 1, 4, 2, 6, 2, 9]\n",
        "new_list = my_list[2:9]\n",
        "\n",
        "for i in my_list:\n",
        "  if i in new_list:\n",
        "    del my_list[i]\n",
        "\n",
        "print(\"The list with unique elements only:\")\n",
        "print(my_list)"
      ],
      "metadata": {
        "colab": {
          "base_uri": "https://localhost:8080/"
        },
        "id": "1WVsCX5abPqQ",
        "outputId": "837b6257-b656-45a5-d961-b8e6722b2d5d"
      },
      "execution_count": null,
      "outputs": [
        {
          "output_type": "stream",
          "name": "stdout",
          "text": [
            "The list with unique elements only\n",
            "[1, 4, 6, 2, 9]\n"
          ]
        }
      ]
    },
    {
      "cell_type": "code",
      "source": [
        "vehicles_one = [\"car\", \"bicycle\", \"motor\"]\n",
        "print(vehicles_one) # outputs ['car', 'bicycle', 'motor']\n",
        "\n",
        "vehicles_two = vehicles_one\n",
        "del vehicles_one[0] # delete 'car'\n",
        "print(vehicles_two) # outputs: ['bicycle', 'motor']"
      ],
      "metadata": {
        "colab": {
          "base_uri": "https://localhost:8080/"
        },
        "id": "vMPC6OxffoeR",
        "outputId": "50120dcd-556e-4737-fdd6-b566b9507e6c"
      },
      "execution_count": null,
      "outputs": [
        {
          "output_type": "stream",
          "name": "stdout",
          "text": [
            "['car', 'bicycle', 'motor']\n",
            "['bicycle', 'motor']\n"
          ]
        }
      ]
    },
    {
      "cell_type": "code",
      "source": [
        "color = ['red', 'green', 'orange']\n",
        "\n",
        "print(color)\n",
        "\n",
        "copy_whole_colors = color[:] # copy the entire list\n",
        "copy_part_colors = color[0:2] # copy part of the list\n",
        "\n",
        "print(copy_whole_colors)\n",
        "print(copy_part_colors)"
      ],
      "metadata": {
        "colab": {
          "base_uri": "https://localhost:8080/"
        },
        "id": "0W5AdLiAhOb_",
        "outputId": "cc60149b-ddbf-490d-ae66-9f1cb27ee8fd"
      },
      "execution_count": null,
      "outputs": [
        {
          "output_type": "stream",
          "name": "stdout",
          "text": [
            "['red', 'green', 'orange']\n",
            "['red', 'green', 'orange']\n",
            "['red', 'green']\n"
          ]
        }
      ]
    },
    {
      "cell_type": "code",
      "source": [
        "sample_list = [\"A\", \"B\", \"C\", \"D\", \"E\"]\n",
        "new_list = sample_list[2:-1]\n",
        "print(new_list) # outputs: ['C', 'D']"
      ],
      "metadata": {
        "colab": {
          "base_uri": "https://localhost:8080/"
        },
        "id": "EUE6UTJ7iiqi",
        "outputId": "fce1b162-929a-4412-c7cb-15edbdf9d32c"
      },
      "execution_count": null,
      "outputs": [
        {
          "output_type": "stream",
          "name": "stdout",
          "text": [
            "['C', 'D']\n"
          ]
        }
      ]
    },
    {
      "cell_type": "code",
      "source": [
        "my_list = [1, 2, 3, 4, 5]\n",
        "slice_one = my_list[2:]\n",
        "slice_two = my_list[:2]\n",
        "slice_three = my_list[-2:]\n",
        "\n",
        "print(slice_one)\n",
        "print(slice_two)\n",
        "print(slice_three)"
      ],
      "metadata": {
        "id": "ROciltYOi5gD"
      },
      "execution_count": null,
      "outputs": []
    },
    {
      "cell_type": "code",
      "source": [
        "my_list = [1, 2, 3, 4, 5]\n",
        "del my_list[0:2]\n",
        "print(my_list)\n",
        "\n",
        "del my_list[:]\n",
        "print(my_list)"
      ],
      "metadata": {
        "colab": {
          "base_uri": "https://localhost:8080/"
        },
        "id": "1Bte1CiejpGx",
        "outputId": "5fbd140f-b911-4f91-b340-e5d70fd0c916"
      },
      "execution_count": null,
      "outputs": [
        {
          "output_type": "stream",
          "name": "stdout",
          "text": [
            "[3, 4, 5]\n",
            "[]\n"
          ]
        }
      ]
    },
    {
      "cell_type": "code",
      "source": [
        "my_list = [\"A\", \"B\", 1, 2]\n",
        "print(\"A\" in my_list)\n",
        "print(\"C\" not in my_list)\n",
        "print(2 not in my_list)"
      ],
      "metadata": {
        "id": "Z8OsNK-zkQig"
      },
      "execution_count": null,
      "outputs": []
    },
    {
      "cell_type": "code",
      "source": [
        "list_1 = [\"A\", \"B\", \"C\"]\n",
        "list_2 = list_1\n",
        "list_3 = list_2\n",
        "\n",
        "del list_1[0]\n",
        "del list_2[0]\n",
        "\n",
        "print(list_3)"
      ],
      "metadata": {
        "colab": {
          "base_uri": "https://localhost:8080/"
        },
        "id": "z2sBENOBkwoc",
        "outputId": "ca101400-c676-4f1e-d10a-7df90518d7c8"
      },
      "execution_count": null,
      "outputs": [
        {
          "output_type": "stream",
          "name": "stdout",
          "text": [
            "['C']\n"
          ]
        }
      ]
    },
    {
      "cell_type": "code",
      "source": [
        "list_1 = [\"A\", \"B\", \"C\"]\n",
        "list_2 = list_1\n",
        "list_3 = list_2\n",
        "\n",
        "del list_1[0]\n",
        "del list_2\n",
        "\n",
        "print(list_3)"
      ],
      "metadata": {
        "colab": {
          "base_uri": "https://localhost:8080/"
        },
        "id": "X1jyJPbHlV-p",
        "outputId": "1a3bacda-a7dd-440c-9ad9-e95541db21df"
      },
      "execution_count": null,
      "outputs": [
        {
          "output_type": "stream",
          "name": "stdout",
          "text": [
            "['B', 'C']\n"
          ]
        }
      ]
    },
    {
      "cell_type": "code",
      "source": [
        "list_1 = [\"A\", \"B\", \"C\"]\n",
        "list_2 = list_1\n",
        "list_3 = list_2\n",
        "\n",
        "del list_1[0]\n",
        "del list_2[:]\n",
        "\n",
        "print(list_3)"
      ],
      "metadata": {
        "colab": {
          "base_uri": "https://localhost:8080/"
        },
        "id": "9v69XLc-l0qm",
        "outputId": "3950817d-9049-40c6-aaa6-709ae7a1e5e1"
      },
      "execution_count": null,
      "outputs": [
        {
          "output_type": "stream",
          "name": "stdout",
          "text": [
            "[]\n"
          ]
        }
      ]
    },
    {
      "cell_type": "code",
      "source": [
        "list_1 = [\"A\", \"B\", \"C\"]\n",
        "list_2 =list_1[:]\n",
        "list_3 = list_2[:]\n",
        "\n",
        "del list_1[0]\n",
        "del list_2[0]\n",
        "\n",
        "print(list_3)"
      ],
      "metadata": {
        "colab": {
          "base_uri": "https://localhost:8080/"
        },
        "id": "L5jsIDtimPNC",
        "outputId": "d626c45f-165e-46db-9fa3-b081918da312"
      },
      "execution_count": null,
      "outputs": [
        {
          "output_type": "stream",
          "name": "stdout",
          "text": [
            "['A', 'B', 'C']\n"
          ]
        }
      ]
    },
    {
      "cell_type": "code",
      "source": [
        "my_list = [1, 2, \"in\", True, \"ABC\"]\n",
        "\n",
        "print(1 in my_list)  # outputs True\n",
        "print(\"A\" not in my_list)  # outputs True\n",
        "print(3 not in my_list)  # outputs True\n",
        "print(False in my_list)  # outputs False"
      ],
      "metadata": {
        "colab": {
          "base_uri": "https://localhost:8080/"
        },
        "id": "zJVxmgkPnTXR",
        "outputId": "21d2cf8c-c3d6-40de-f237-4ac73b273509"
      },
      "execution_count": null,
      "outputs": [
        {
          "output_type": "stream",
          "name": "stdout",
          "text": [
            "True\n",
            "True\n",
            "True\n",
            "False\n"
          ]
        }
      ]
    },
    {
      "cell_type": "code",
      "source": [
        "row = []\n",
        "\n",
        "for i in range (8):\n",
        "  row.append(WHITE_PAWN)"
      ],
      "metadata": {
        "id": "WOwnARCWBX8x"
      },
      "execution_count": null,
      "outputs": []
    },
    {
      "cell_type": "code",
      "source": [
        "x = int(input(\"Square: \"))\n",
        "squares = [x ** 2 for x in range(10)]\n",
        "\n",
        "print(squares)\n"
      ],
      "metadata": {
        "colab": {
          "base_uri": "https://localhost:8080/"
        },
        "id": "GLhifxG6CGrv",
        "outputId": "9c1e643d-1302-4e57-dbbc-d322d4bebbb5"
      },
      "execution_count": null,
      "outputs": [
        {
          "output_type": "stream",
          "name": "stdout",
          "text": [
            "Square: 2\n",
            "[0, 1, 4, 9, 16, 25, 36, 49, 64, 81]\n"
          ]
        }
      ]
    },
    {
      "cell_type": "code",
      "source": [
        "x = int(input(\"Indique um numero: \"))\n",
        "twos = [2 ** i for i in range (8)]\n",
        "\n",
        "print(twos)"
      ],
      "metadata": {
        "colab": {
          "base_uri": "https://localhost:8080/"
        },
        "id": "rR7VNRd-C0il",
        "outputId": "35acdee5-e545-4235-c5a9-a3bc4cbc69a3"
      },
      "execution_count": null,
      "outputs": [
        {
          "output_type": "stream",
          "name": "stdout",
          "text": [
            "Indique um numero: 32\n",
            "[1, 2, 4, 8, 16, 32, 64, 128]\n"
          ]
        }
      ]
    },
    {
      "cell_type": "code",
      "source": [
        "x = int(input(\"Indique um numero: \"))\n",
        "odds = [x for x in squares if x % 2 !=0]\n",
        "\n",
        "print(odds)\n"
      ],
      "metadata": {
        "colab": {
          "base_uri": "https://localhost:8080/"
        },
        "id": "x-d0DOUSXfwW",
        "outputId": "8fae1267-8dbd-4ad1-f4fb-5f2b101a7da8"
      },
      "execution_count": null,
      "outputs": [
        {
          "output_type": "stream",
          "name": "stdout",
          "text": [
            "Indique um numero: 29\n",
            "[1, 9, 25, 49, 81]\n"
          ]
        }
      ]
    },
    {
      "cell_type": "code",
      "source": [
        "board = []\n",
        "\n",
        "for i in range(8):\n",
        "  row = [EMPTY for i in range(8)]\n",
        "  board.append(row)"
      ],
      "metadata": {
        "id": "i1S2q70_pLF6"
      },
      "execution_count": null,
      "outputs": []
    },
    {
      "cell_type": "code",
      "source": [
        "board = [[EMPTY for i in range(8)] for j in range(8)]"
      ],
      "metadata": {
        "id": "bYT0YKmGqoGF"
      },
      "execution_count": null,
      "outputs": []
    },
    {
      "cell_type": "code",
      "source": [
        "EMPTY = \"-\"\n",
        "ROOK = \"ROOK\"\n",
        "KNIGHT = \"KNIGHT\"\n",
        "PAWN = \"PAWN\"\n",
        "board = []\n",
        "\n",
        "for i in range(8):\n",
        "  row = [EMPTY for i in range (8)]\n",
        "  board.append(row)\n",
        "\n",
        "board[0][0] = ROOK\n",
        "board[0][7] = ROOK\n",
        "board[7][0] = ROOK\n",
        "board[7][7] = ROOK\n",
        "board[4][2] = KNIGHT\n",
        "board[3][4] = PAWN\n",
        "\n",
        "print(board)"
      ],
      "metadata": {
        "id": "JEjNmMwWILb4"
      },
      "execution_count": null,
      "outputs": []
    },
    {
      "cell_type": "code",
      "source": [
        "temps = [[25.5 for h in range(24)] for d in range(31)]\n",
        "\n",
        "# Preenchendo a matriz com valores hipotéticos (por exemplo, temperaturas em Celsius)\n",
        "for day in temps:\n",
        "    for hour in range(24):\n",
        "        # Suponha que estamos atribuindo valores fixos para fins ilustrativos\n",
        "        day[hour] = 25.5  # Temperatura constante de 25.5 graus Celsius\n",
        "\n",
        "total = 0.0\n",
        "\n",
        "for day in temps:\n",
        "    total += day[11]  # Somando as temperaturas ao meio-dia (índice 11)\n",
        "\n",
        "average = total / 31\n",
        "\n",
        "print(\"Average temperature at noon:\", average)\n"
      ],
      "metadata": {
        "colab": {
          "base_uri": "https://localhost:8080/"
        },
        "id": "Gbt3n1lNLmEf",
        "outputId": "180a7854-0606-4ffd-d59d-004c53178e75"
      },
      "execution_count": null,
      "outputs": [
        {
          "output_type": "stream",
          "name": "stdout",
          "text": [
            "Average temperature at noon: 25.5\n"
          ]
        }
      ]
    },
    {
      "cell_type": "code",
      "source": [
        "import random\n",
        "temps = [[25.5 for h in range(24)] for d in range(31)]\n",
        "\n",
        "# Atualize a matriz com valores hipotéticos (por exemplo, temperaturas em Celsius)\n",
        "for day in temps:\n",
        "    for hour in range(24):\n",
        "        # Suponha que estamos atribuindo valores fixos para fins ilustrativos\n",
        "        day[hour] = random.uniform(10.0, 30.0)  # Intervalo de 10 a 30 graus Celsius\n",
        "\n",
        "highest = max(max(day) for day in temps)\n",
        "\n",
        "print(\"The highest temperature was:\", highest)\n"
      ],
      "metadata": {
        "colab": {
          "base_uri": "https://localhost:8080/"
        },
        "id": "rdWNKB-9MjXV",
        "outputId": "e8747613-c6dd-448d-da54-fe6ac1f48568"
      },
      "execution_count": null,
      "outputs": [
        {
          "output_type": "stream",
          "name": "stdout",
          "text": [
            "The highest temperature was: 29.98734870175227\n"
          ]
        }
      ]
    },
    {
      "cell_type": "code",
      "source": [
        "rooms = [[[False for r in range(20)] for f in range(15)] for t in range(3)]\n",
        "\n",
        "rooms[1][9][13] = True\n",
        "\n",
        "print(rooms)"
      ],
      "metadata": {
        "colab": {
          "base_uri": "https://localhost:8080/"
        },
        "id": "6EfwFHBHYbba",
        "outputId": "a9ac8d9a-9706-4d07-f7c1-449c55ea3ed6"
      },
      "execution_count": null,
      "outputs": [
        {
          "output_type": "stream",
          "name": "stdout",
          "text": [
            "[[[False, False, False, False, False, False, False, False, False, False, False, False, False, False, False, False, False, False, False, False], [False, False, False, False, False, False, False, False, False, False, False, False, False, False, False, False, False, False, False, False], [False, False, False, False, False, False, False, False, False, False, False, False, False, False, False, False, False, False, False, False], [False, False, False, False, False, False, False, False, False, False, False, False, False, False, False, False, False, False, False, False], [False, False, False, False, False, False, False, False, False, False, False, False, False, False, False, False, False, False, False, False], [False, False, False, False, False, False, False, False, False, False, False, False, False, False, False, False, False, False, False, False], [False, False, False, False, False, False, False, False, False, False, False, False, False, False, False, False, False, False, False, False], [False, False, False, False, False, False, False, False, False, False, False, False, False, False, False, False, False, False, False, False], [False, False, False, False, False, False, False, False, False, False, False, False, False, False, False, False, False, False, False, False], [False, False, False, False, False, False, False, False, False, False, False, False, False, False, False, False, False, False, False, False], [False, False, False, False, False, False, False, False, False, False, False, False, False, False, False, False, False, False, False, False], [False, False, False, False, False, False, False, False, False, False, False, False, False, False, False, False, False, False, False, False], [False, False, False, False, False, False, False, False, False, False, False, False, False, False, False, False, False, False, False, False], [False, False, False, False, False, False, False, False, False, False, False, False, False, False, False, False, False, False, False, False], [False, False, False, False, False, False, False, False, False, False, False, False, False, False, False, False, False, False, False, False]], [[False, False, False, False, False, False, False, False, False, False, False, False, False, False, False, False, False, False, False, False], [False, False, False, False, False, False, False, False, False, False, False, False, False, False, False, False, False, False, False, False], [False, False, False, False, False, False, False, False, False, False, False, False, False, False, False, False, False, False, False, False], [False, False, False, False, False, False, False, False, False, False, False, False, False, False, False, False, False, False, False, False], [False, False, False, False, False, False, False, False, False, False, False, False, False, False, False, False, False, False, False, False], [False, False, False, False, False, False, False, False, False, False, False, False, False, False, False, False, False, False, False, False], [False, False, False, False, False, False, False, False, False, False, False, False, False, False, False, False, False, False, False, False], [False, False, False, False, False, False, False, False, False, False, False, False, False, False, False, False, False, False, False, False], [False, False, False, False, False, False, False, False, False, False, False, False, False, False, False, False, False, False, False, False], [False, False, False, False, False, False, False, False, False, False, False, False, False, True, False, False, False, False, False, False], [False, False, False, False, False, False, False, False, False, False, False, False, False, False, False, False, False, False, False, False], [False, False, False, False, False, False, False, False, False, False, False, False, False, False, False, False, False, False, False, False], [False, False, False, False, False, False, False, False, False, False, False, False, False, False, False, False, False, False, False, False], [False, False, False, False, False, False, False, False, False, False, False, False, False, False, False, False, False, False, False, False], [False, False, False, False, False, False, False, False, False, False, False, False, False, False, False, False, False, False, False, False]], [[False, False, False, False, False, False, False, False, False, False, False, False, False, False, False, False, False, False, False, False], [False, False, False, False, False, False, False, False, False, False, False, False, False, False, False, False, False, False, False, False], [False, False, False, False, False, False, False, False, False, False, False, False, False, False, False, False, False, False, False, False], [False, False, False, False, False, False, False, False, False, False, False, False, False, False, False, False, False, False, False, False], [False, False, False, False, False, False, False, False, False, False, False, False, False, False, False, False, False, False, False, False], [False, False, False, False, False, False, False, False, False, False, False, False, False, False, False, False, False, False, False, False], [False, False, False, False, False, False, False, False, False, False, False, False, False, False, False, False, False, False, False, False], [False, False, False, False, False, False, False, False, False, False, False, False, False, False, False, False, False, False, False, False], [False, False, False, False, False, False, False, False, False, False, False, False, False, False, False, False, False, False, False, False], [False, False, False, False, False, False, False, False, False, False, False, False, False, False, False, False, False, False, False, False], [False, False, False, False, False, False, False, False, False, False, False, False, False, False, False, False, False, False, False, False], [False, False, False, False, False, False, False, False, False, False, False, False, False, False, False, False, False, False, False, False], [False, False, False, False, False, False, False, False, False, False, False, False, False, False, False, False, False, False, False, False], [False, False, False, False, False, False, False, False, False, False, False, False, False, False, False, False, False, False, False, False], [False, False, False, False, False, False, False, False, False, False, False, False, False, False, False, False, False, False, False, False]]]\n"
          ]
        }
      ]
    },
    {
      "cell_type": "code",
      "source": [
        "cubed = [num ** 3 for num in range(5)]\n",
        "print(cubed) # outputs : [0, 1, 8, 27, 64]"
      ],
      "metadata": {
        "colab": {
          "base_uri": "https://localhost:8080/"
        },
        "id": "2VKduG5nhf-F",
        "outputId": "b98f933b-6210-481b-bf80-a1665cb52eec"
      },
      "execution_count": null,
      "outputs": [
        {
          "output_type": "stream",
          "name": "stdout",
          "text": [
            "[0, 1, 8, 27, 64]\n"
          ]
        }
      ]
    },
    {
      "cell_type": "code",
      "source": [
        "table = [[\":(\", \":)\", \":(\", \":)\"],\n",
        "         [\":)\", \":(\", \":)\", \":)\"],\n",
        "         [\":(\", \":)\", \":)\", \":(\"],\n",
        "         [\":)\", \":)\", \":)\", \":(\"]]\n",
        "\n",
        "#print(table)\n",
        "print(table[0][0])\n",
        "print(table[0][3])"
      ],
      "metadata": {
        "colab": {
          "base_uri": "https://localhost:8080/"
        },
        "id": "WGAUcrl1h7Rz",
        "outputId": "a92d236b-a29f-4db0-8287-228473144327"
      },
      "execution_count": null,
      "outputs": [
        {
          "output_type": "stream",
          "name": "stdout",
          "text": [
            ":(\n",
            ":)\n"
          ]
        }
      ]
    },
    {
      "cell_type": "code",
      "source": [
        "# Cube - a three-dimensional array (3x3x3)\n",
        "\n",
        "cube = [[[':(', 'x', 'x'],\n",
        "         [':)', 'x', 'x'],\n",
        "         [':(', 'x', 'x']],\n",
        "\n",
        "        [[':)', 'x', 'x'],\n",
        "         [':(', 'x', 'x'],\n",
        "         [':)', 'x', 'x']],\n",
        "\n",
        "        [[':(', 'x', 'x'],\n",
        "         [':)', 'x', 'x'],\n",
        "         [':)', 'x', 'x']]]\n",
        "\n",
        "#print(cube)\n",
        "print(cube[0][0][0])"
      ],
      "metadata": {
        "colab": {
          "base_uri": "https://localhost:8080/"
        },
        "id": "PxRj-KyOisUM",
        "outputId": "f47afb6e-5bfa-4843-92fd-b087fea076a9"
      },
      "execution_count": null,
      "outputs": [
        {
          "output_type": "stream",
          "name": "stdout",
          "text": [
            "[[[':(', 'x', 'x'], [':)', 'x', 'x'], [':(', 'x', 'x']], [[':)', 'x', 'x'], [':(', 'x', 'x'], [':)', 'x', 'x']], [[':(', 'x', 'x'], [':)', 'x', 'x'], [':)', 'x', 'x']]]\n"
          ]
        }
      ]
    },
    {
      "cell_type": "code",
      "source": [
        "print(\"Enter a value: \")\n",
        "a = int(input())\n",
        "\n",
        "print(\"Enter a value:\")\n",
        "b = int(input())\n",
        "\n",
        "print(\"Enter a value:\")\n",
        "c = int(input())\n"
      ],
      "metadata": {
        "colab": {
          "base_uri": "https://localhost:8080/"
        },
        "id": "i-fMrT3VHn98",
        "outputId": "4f00b56b-c93b-4131-edaf-acac21321763"
      },
      "execution_count": 2,
      "outputs": [
        {
          "name": "stdout",
          "output_type": "stream",
          "text": [
            "Enter a value: \n",
            "1\n",
            "Enter a value:\n",
            "2\n",
            "Enter a value:\n",
            "3\n"
          ]
        }
      ]
    }
  ]
}