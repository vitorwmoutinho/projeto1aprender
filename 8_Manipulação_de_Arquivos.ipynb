{
  "nbformat": 4,
  "nbformat_minor": 0,
  "metadata": {
    "colab": {
      "provenance": [],
      "authorship_tag": "ABX9TyOgVeWgay68UQCH7qxCm9ag",
      "include_colab_link": true
    },
    "kernelspec": {
      "name": "python3",
      "display_name": "Python 3"
    },
    "language_info": {
      "name": "python"
    }
  },
  "cells": [
    {
      "cell_type": "markdown",
      "metadata": {
        "id": "view-in-github",
        "colab_type": "text"
      },
      "source": [
        "<a href=\"https://colab.research.google.com/github/vitorwmoutinho/projeto1aprender/blob/main/8_Manipula%C3%A7%C3%A3o_de_Arquivos.ipynb\" target=\"_parent\"><img src=\"https://colab.research.google.com/assets/colab-badge.svg\" alt=\"Open In Colab\"/></a>"
      ]
    },
    {
      "cell_type": "code",
      "execution_count": null,
      "metadata": {
        "id": "Oe3_QebJtCTC"
      },
      "outputs": [],
      "source": []
    },
    {
      "cell_type": "markdown",
      "source": [
        "SP; São Paulo; 11895893\n",
        "RJ; Rio de Janeiro; 6453682\n",
        "BA; Salvador; 2902927\n",
        "DF; Brasília; 2852372\n",
        "CE; Fortaleza; 2571896\n",
        "MG; Belo Horizonte; 2491109\n",
        "AM; Manaus; 2020301\n",
        "PR; Curitiba; 1864416\n",
        "PE; Recife; 1608488\n",
        "RS; Porto Alegre; 1472482\n",
        "PA; Belém; 1432844\n",
        "GO; Goiânia; 1412364\n",
        "SP; Guarulhos; 1312197\n",
        "SP; Campinas; 1154617\n",
        "MA; São Luís; 1064197"
      ],
      "metadata": {
        "id": "XOiSysuJ2c7B"
      }
    },
    {
      "cell_type": "code",
      "source": [
        "; 1154617 MA; São Luís; 1064197\n",
        "\n"
      ],
      "metadata": {
        "id": "v38qUMz-Bqfa"
      },
      "execution_count": null,
      "outputs": []
    },
    {
      "cell_type": "code",
      "source": [
        "arquivo = open('arquivo_somente_leitura.txt', 'r')\n",
        "# fecha o arquivo\n",
        "arquivo.close()"
      ],
      "metadata": {
        "id": "ozHN_f_IiKKi"
      },
      "execution_count": 1,
      "outputs": []
    },
    {
      "cell_type": "code",
      "source": [
        "arquivo1 = open('valores.txt', 'w')\n",
        "# fecha o arquivo\n",
        "arquivo.close()"
      ],
      "metadata": {
        "id": "FR56oLXZjD-p"
      },
      "execution_count": 2,
      "outputs": []
    },
    {
      "cell_type": "code",
      "source": [
        "#vamos adicionar conteudo"
      ],
      "metadata": {
        "id": "TxMz1bBJjeyH"
      },
      "execution_count": null,
      "outputs": []
    },
    {
      "cell_type": "code",
      "source": [
        "arquivo2 = open('valores_2.txt', 'x')\n",
        "#fechar o arquivo\n",
        "arquivo2.close()"
      ],
      "metadata": {
        "id": "fxjI1NJtjkRZ"
      },
      "execution_count": 4,
      "outputs": []
    },
    {
      "cell_type": "code",
      "source": [
        "arquivo3 = open('valores_3', 'at')\n",
        "#fecha arquivo\n",
        "arquivo3.close()"
      ],
      "metadata": {
        "id": "gxW1FaRCkDAX"
      },
      "execution_count": 5,
      "outputs": []
    },
    {
      "cell_type": "markdown",
      "source": [
        "8.2 - LEITURA DE ARQUIVOS"
      ],
      "metadata": {
        "id": "XRFB1i4VkoHM"
      }
    },
    {
      "cell_type": "code",
      "source": [
        "arquivo5 = open('cidades.txt', 'r')\n",
        "linhas = arquivo5.readlines()\n",
        "arquivo.close\n",
        "print(linhas)"
      ],
      "metadata": {
        "colab": {
          "base_uri": "https://localhost:8080/"
        },
        "id": "TtZjgjREkm5H",
        "outputId": "62c3e7b3-c7a5-4a54-bf96-96a93ad1327d"
      },
      "execution_count": 11,
      "outputs": [
        {
          "output_type": "stream",
          "name": "stdout",
          "text": [
            "['SP; São Paulo; 11895893 RJ; Rio de Janeiro; 6453682 BA; Salvador; 2902927 DF; Brasília; 2852372 CE; Fortaleza; 2571896 MG; Belo Horizonte; 2491109 AM; Manaus; 2020301 PR; Curitiba; 1864416 PE; Recife; 1608488 RS; Porto Alegre; 1472482 PA; Belém; 1432844 GO; Goiânia; 1412364 SP; Guarulhos; 1312197 SP; Campinas; 1154617 MA; São Luís; 1064197']\n"
          ]
        }
      ]
    },
    {
      "cell_type": "code",
      "source": [
        "type(linhas)"
      ],
      "metadata": {
        "colab": {
          "base_uri": "https://localhost:8080/"
        },
        "id": "LxOYVojilWEx",
        "outputId": "c98eef59-6ba0-4be7-ad95-6c508705f273"
      },
      "execution_count": 12,
      "outputs": [
        {
          "output_type": "execute_result",
          "data": {
            "text/plain": [
              "list"
            ]
          },
          "metadata": {},
          "execution_count": 12
        }
      ]
    },
    {
      "cell_type": "code",
      "source": [
        "len(linhas)"
      ],
      "metadata": {
        "colab": {
          "base_uri": "https://localhost:8080/"
        },
        "id": "AHJVBBUYlaJm",
        "outputId": "fe661bfb-2c39-442b-baf6-9ba6ab1367bb"
      },
      "execution_count": 13,
      "outputs": [
        {
          "output_type": "execute_result",
          "data": {
            "text/plain": [
              "1"
            ]
          },
          "metadata": {},
          "execution_count": 13
        }
      ]
    },
    {
      "cell_type": "code",
      "source": [
        "novas_linhas = []\n",
        "for linha in linhas:\n",
        "  novas_linhas.append(linha.rstrip())\n",
        "print(linhas)"
      ],
      "metadata": {
        "colab": {
          "base_uri": "https://localhost:8080/"
        },
        "id": "bjZplnIel1vn",
        "outputId": "e4a16790-a8de-4a85-d316-c421a22c960e"
      },
      "execution_count": 35,
      "outputs": [
        {
          "output_type": "stream",
          "name": "stdout",
          "text": [
            "['SP; São Paulo; 11895893 RJ; Rio de Janeiro; 6453682 BA; Salvador; 2902927 DF; Brasília; 2852372 CE; Fortaleza; 2571896 MG; Belo Horizonte; 2491109 AM; Manaus; 2020301 PR; Curitiba; 1864416 PE; Recife; 1608488 RS; Porto Alegre; 1472482 PA; Belém; 1432844 GO; Goiânia; 1412364 SP; Guarulhos; 1312197 SP; Campinas; 1154617 MA; São Luís; 1064197']\n"
          ]
        }
      ]
    },
    {
      "cell_type": "code",
      "source": [
        "arquivo5 = open('cidades.txt', 'r')\n",
        "soma = 0\n",
        "for linha in arquivo5:\n",
        "  cidade = linha.split(' ')\n",
        "  populacao = int(cidade[1])\n",
        "  print(populacao)"
      ],
      "metadata": {
        "id": "R8DOB51QmXjX"
      },
      "execution_count": null,
      "outputs": []
    },
    {
      "cell_type": "markdown",
      "source": [
        "8.3 - ESCRITA DE ARQUIVOS"
      ],
      "metadata": {
        "id": "HuH09oA7sB8Z"
      }
    },
    {
      "cell_type": "code",
      "source": [
        "arquivo6 = open('cidades.txt', 'a')\n",
        "arquivo6.write('RJ; São Gonçalo; 1031903\\n')\n",
        "arquivo.close()"
      ],
      "metadata": {
        "id": "F6-xvRjvnX7n"
      },
      "execution_count": 54,
      "outputs": []
    },
    {
      "cell_type": "code",
      "source": [],
      "metadata": {
        "id": "H-5NL8o7rjHW"
      },
      "execution_count": null,
      "outputs": []
    }
  ]
}