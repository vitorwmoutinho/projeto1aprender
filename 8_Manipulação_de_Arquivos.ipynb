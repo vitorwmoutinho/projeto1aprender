{
  "nbformat": 4,
  "nbformat_minor": 0,
  "metadata": {
    "colab": {
      "provenance": [],
      "authorship_tag": "ABX9TyNCnr3Lmh4d/Y7D5PWYuKey",
      "include_colab_link": true
    },
    "kernelspec": {
      "name": "python3",
      "display_name": "Python 3"
    },
    "language_info": {
      "name": "python"
    }
  },
  "cells": [
    {
      "cell_type": "markdown",
      "metadata": {
        "id": "view-in-github",
        "colab_type": "text"
      },
      "source": [
        "<a href=\"https://colab.research.google.com/github/vitorwmoutinho/projeto1aprender/blob/main/8_Manipula%C3%A7%C3%A3o_de_Arquivos.ipynb\" target=\"_parent\"><img src=\"https://colab.research.google.com/assets/colab-badge.svg\" alt=\"Open In Colab\"/></a>"
      ]
    },
    {
      "cell_type": "code",
      "execution_count": null,
      "metadata": {
        "id": "Oe3_QebJtCTC"
      },
      "outputs": [],
      "source": []
    },
    {
      "cell_type": "markdown",
      "source": [
        "SP; São Paulo; 11895893\n",
        "RJ; Rio de Janeiro; 6453682\n",
        "BA; Salvador; 2902927\n",
        "DF; Brasília; 2852372\n",
        "CE; Fortaleza; 2571896\n",
        "MG; Belo Horizonte; 2491109\n",
        "AM; Manaus; 2020301\n",
        "PR; Curitiba; 1864416\n",
        "PE; Recife; 1608488\n",
        "RS; Porto Alegre; 1472482\n",
        "PA; Belém; 1432844\n",
        "GO; Goiânia; 1412364\n",
        "SP; Guarulhos; 1312197\n",
        "SP; Campinas; 1154617\n",
        "MA; São Luís; 1064197"
      ],
      "metadata": {
        "id": "XOiSysuJ2c7B"
      }
    },
    {
      "cell_type": "code",
      "source": [],
      "metadata": {
        "id": "v38qUMz-Bqfa"
      },
      "execution_count": null,
      "outputs": []
    },
    {
      "cell_type": "code",
      "source": [
        "arquivo = open('arquivo_somente_leitura.txt', 'r')\n",
        "# fecha o arquivo\n",
        "arquivo.close()"
      ],
      "metadata": {
        "id": "ozHN_f_IiKKi"
      },
      "execution_count": 1,
      "outputs": []
    },
    {
      "cell_type": "code",
      "source": [
        "arquivo1 = open('valores.txt', 'w')\n",
        "# fecha o arquivo\n",
        "arquivo.close()"
      ],
      "metadata": {
        "id": "FR56oLXZjD-p"
      },
      "execution_count": 2,
      "outputs": []
    },
    {
      "cell_type": "code",
      "source": [
        "#vamos adicionar conteudo"
      ],
      "metadata": {
        "id": "TxMz1bBJjeyH"
      },
      "execution_count": null,
      "outputs": []
    },
    {
      "cell_type": "code",
      "source": [
        "arquivo2 = open('valores_2.txt', 'x')\n",
        "#fechar o arquivo\n",
        "arquivo2.close()"
      ],
      "metadata": {
        "id": "fxjI1NJtjkRZ"
      },
      "execution_count": 4,
      "outputs": []
    },
    {
      "cell_type": "code",
      "source": [
        "arquivo3 = open('valores_3', 'at')\n",
        "#fecha arquivo\n",
        "arquivo3.close()"
      ],
      "metadata": {
        "id": "gxW1FaRCkDAX"
      },
      "execution_count": 5,
      "outputs": []
    }
  ]
}