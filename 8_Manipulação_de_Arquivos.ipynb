{
  "nbformat": 4,
  "nbformat_minor": 0,
  "metadata": {
    "colab": {
      "provenance": [],
      "authorship_tag": "ABX9TyO+SBuzsJpmCpc0POhfWEXW",
      "include_colab_link": true
    },
    "kernelspec": {
      "name": "python3",
      "display_name": "Python 3"
    },
    "language_info": {
      "name": "python"
    }
  },
  "cells": [
    {
      "cell_type": "markdown",
      "metadata": {
        "id": "view-in-github",
        "colab_type": "text"
      },
      "source": [
        "<a href=\"https://colab.research.google.com/github/vitorwmoutinho/projeto1aprender/blob/main/8_Manipula%C3%A7%C3%A3o_de_Arquivos.ipynb\" target=\"_parent\"><img src=\"https://colab.research.google.com/assets/colab-badge.svg\" alt=\"Open In Colab\"/></a>"
      ]
    },
    {
      "cell_type": "code",
      "execution_count": null,
      "metadata": {
        "id": "Oe3_QebJtCTC"
      },
      "outputs": [],
      "source": []
    },
    {
      "cell_type": "markdown",
      "source": [
        "SP; São Paulo; 11895893\n",
        "RJ; Rio de Janeiro; 6453682\n",
        "BA; Salvador; 2902927\n",
        "DF; Brasília; 2852372\n",
        "CE; Fortaleza; 2571896\n",
        "MG; Belo Horizonte; 2491109\n",
        "AM; Manaus; 2020301\n",
        "PR; Curitiba; 1864416\n",
        "PE; Recife; 1608488\n",
        "RS; Porto Alegre; 1472482\n",
        "PA; Belém; 1432844\n",
        "GO; Goiânia; 1412364\n",
        "SP; Guarulhos; 1312197\n",
        "SP; Campinas; 1154617\n",
        "MA; São Luís; 1064197"
      ],
      "metadata": {
        "id": "XOiSysuJ2c7B"
      }
    },
    {
      "cell_type": "code",
      "source": [],
      "metadata": {
        "id": "v38qUMz-Bqfa"
      },
      "execution_count": null,
      "outputs": []
    }
  ]
}