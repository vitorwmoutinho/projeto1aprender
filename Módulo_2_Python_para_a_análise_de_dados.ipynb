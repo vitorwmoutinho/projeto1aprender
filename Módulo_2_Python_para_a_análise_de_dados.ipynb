{
  "nbformat": 4,
  "nbformat_minor": 0,
  "metadata": {
    "colab": {
      "provenance": [],
      "authorship_tag": "ABX9TyN+6K0bmP2wzudlQBRmZo+D",
      "include_colab_link": true
    },
    "kernelspec": {
      "name": "python3",
      "display_name": "Python 3"
    },
    "language_info": {
      "name": "python"
    }
  },
  "cells": [
    {
      "cell_type": "markdown",
      "metadata": {
        "id": "view-in-github",
        "colab_type": "text"
      },
      "source": [
        "<a href=\"https://colab.research.google.com/github/vitorwmoutinho/projeto1aprender/blob/main/M%C3%B3dulo_2_Python_para_a_an%C3%A1lise_de_dados.ipynb\" target=\"_parent\"><img src=\"https://colab.research.google.com/assets/colab-badge.svg\" alt=\"Open In Colab\"/></a>"
      ]
    },
    {
      "cell_type": "markdown",
      "source": [
        "Introdução e criação de arrays"
      ],
      "metadata": {
        "id": "ZppnYI8NyVzX"
      }
    },
    {
      "cell_type": "markdown",
      "source": [
        "Numpy Import"
      ],
      "metadata": {
        "id": "6bHL7MJNymF5"
      }
    },
    {
      "cell_type": "code",
      "source": [
        "#Importar a biblioteca\n",
        "import numpy as np"
      ],
      "metadata": {
        "id": "YICFPwPyyrvw"
      },
      "execution_count": 1,
      "outputs": []
    },
    {
      "cell_type": "code",
      "source": [
        "np.array?"
      ],
      "metadata": {
        "id": "eIYxh0H3y2M2"
      },
      "execution_count": 2,
      "outputs": []
    },
    {
      "cell_type": "code",
      "source": [
        "#Criação de array 1D\n",
        "l = [1, 2, 3]\n",
        "x = np.array(l)\n",
        "print(\"x:\", x)\n",
        "print(\"Shape\", x.shape)"
      ],
      "metadata": {
        "colab": {
          "base_uri": "https://localhost:8080/"
        },
        "id": "RDOFteGuy-e5",
        "outputId": "0cd9a4c2-4e8c-44c1-ea59-6d32cff5f7df"
      },
      "execution_count": 3,
      "outputs": [
        {
          "output_type": "stream",
          "name": "stdout",
          "text": [
            "x: [1 2 3]\n",
            "Shape (3,)\n"
          ]
        }
      ]
    },
    {
      "cell_type": "code",
      "source": [
        "type(x)"
      ],
      "metadata": {
        "colab": {
          "base_uri": "https://localhost:8080/"
        },
        "id": "fNW_giAO4sbR",
        "outputId": "c9229fac-2e10-4340-cebc-b37b9701fd0b"
      },
      "execution_count": 23,
      "outputs": [
        {
          "output_type": "execute_result",
          "data": {
            "text/plain": [
              "numpy.ndarray"
            ]
          },
          "metadata": {},
          "execution_count": 23
        }
      ]
    },
    {
      "cell_type": "code",
      "source": [
        "# criação de um array 2D: listas aninhadas\n",
        "l = [[1, 2], [3, 4]]\n",
        "x = np.array(l)\n",
        "print(\"X:\\n\", x)\n",
        "print(\"shape\", x.shape)"
      ],
      "metadata": {
        "colab": {
          "base_uri": "https://localhost:8080/"
        },
        "id": "jmDqX-_nzYwN",
        "outputId": "ddf0ff1c-9d18-41fb-9c66-312a9dec583b"
      },
      "execution_count": 26,
      "outputs": [
        {
          "output_type": "stream",
          "name": "stdout",
          "text": [
            "X:\n",
            " [[1 2]\n",
            " [3 4]]\n",
            "shape (2, 2)\n"
          ]
        }
      ]
    },
    {
      "cell_type": "code",
      "source": [
        "type(x)"
      ],
      "metadata": {
        "colab": {
          "base_uri": "https://localhost:8080/"
        },
        "id": "W12ha31Sz8dm",
        "outputId": "f9ca93bc-1abf-4414-ad87-07d1d2a5925f"
      },
      "execution_count": 5,
      "outputs": [
        {
          "output_type": "execute_result",
          "data": {
            "text/plain": [
              "numpy.ndarray"
            ]
          },
          "metadata": {},
          "execution_count": 5
        }
      ]
    },
    {
      "cell_type": "code",
      "source": [
        "# Array contendo 0's\n",
        "dim = (2, 2) # (linha, Colunas)\n",
        "x = np.zeros(dim)\n",
        "print(\"x:\\n\", x)\n",
        "print(\"Shape:\", x.shape)"
      ],
      "metadata": {
        "colab": {
          "base_uri": "https://localhost:8080/"
        },
        "id": "1x-cS-9Dz_FL",
        "outputId": "1a7bd15d-c2f7-436c-bead-54b9a3bbe2d1"
      },
      "execution_count": 8,
      "outputs": [
        {
          "output_type": "stream",
          "name": "stdout",
          "text": [
            "x:\n",
            " [[0. 0.]\n",
            " [0. 0.]]\n",
            "Shape: (2, 2)\n"
          ]
        }
      ]
    },
    {
      "cell_type": "code",
      "source": [
        "# Array contendo 1's\n",
        "size = (2, 2)\n",
        "x = np.ones(size)\n",
        "print(\"X:\\n\", x)\n",
        "print(\"Shape:\", x.shape)"
      ],
      "metadata": {
        "colab": {
          "base_uri": "https://localhost:8080/"
        },
        "id": "lNxinijF0w0D",
        "outputId": "468aaa86-860f-4fab-867f-d551f3facb3b"
      },
      "execution_count": 11,
      "outputs": [
        {
          "output_type": "stream",
          "name": "stdout",
          "text": [
            "X:\n",
            " [[1. 1.]\n",
            " [1. 1.]]\n",
            "Shape: (2, 2)\n"
          ]
        }
      ]
    },
    {
      "cell_type": "code",
      "source": [
        "np.linspace?"
      ],
      "metadata": {
        "id": "dZdNE36w1RWQ"
      },
      "execution_count": 12,
      "outputs": []
    },
    {
      "cell_type": "code",
      "source": [
        "# Criação de valores dentro do intervalo\n",
        "# Valores uniformes entre 5 e 15\n",
        "x_min, x_max = 5, 15\n",
        "x = np.linspace(start= x_min, stop = x_max, num=6)\n",
        "print(\"X:\", x)\n",
        "print(\"Shape\", x.shape)"
      ],
      "metadata": {
        "colab": {
          "base_uri": "https://localhost:8080/"
        },
        "id": "ZBokIeyt1YOY",
        "outputId": "cdf3c3a9-e2bc-4913-fd95-aa78f637cbd4"
      },
      "execution_count": 16,
      "outputs": [
        {
          "output_type": "stream",
          "name": "stdout",
          "text": [
            "X: [ 5.  7.  9. 11. 13. 15.]\n",
            "Shape (6,)\n"
          ]
        }
      ]
    },
    {
      "cell_type": "code",
      "source": [
        "# Criação da matriz indentidade\n",
        "# Matriz quadrada\n",
        "n = 7\n",
        "x = np.eye(n)\n",
        "print(\"x:\\n\", x)\n",
        "print(\"Shape:\", x.shape)"
      ],
      "metadata": {
        "colab": {
          "base_uri": "https://localhost:8080/"
        },
        "id": "dUyJiLX42XSe",
        "outputId": "f890193b-f52c-4db3-d88e-82a752abcc83"
      },
      "execution_count": 20,
      "outputs": [
        {
          "output_type": "stream",
          "name": "stdout",
          "text": [
            "x:\n",
            " [[1. 0. 0. 0. 0. 0. 0.]\n",
            " [0. 1. 0. 0. 0. 0. 0.]\n",
            " [0. 0. 1. 0. 0. 0. 0.]\n",
            " [0. 0. 0. 1. 0. 0. 0.]\n",
            " [0. 0. 0. 0. 1. 0. 0.]\n",
            " [0. 0. 0. 0. 0. 1. 0.]\n",
            " [0. 0. 0. 0. 0. 0. 1.]]\n",
            "Shape: (7, 7)\n"
          ]
        }
      ]
    },
    {
      "cell_type": "code",
      "source": [
        "# Criação de valores aleatórios\n",
        "# np.ramdom.seed(10)\n",
        "x = np.random.random(size=(2, 3))\n",
        "print(\"X:\\n\", x)\n",
        "print(\"Shape:\", x.shape)"
      ],
      "metadata": {
        "colab": {
          "base_uri": "https://localhost:8080/"
        },
        "id": "7qNCGWUj3GOx",
        "outputId": "09577583-8d46-40b9-f029-c3bb63646dbe"
      },
      "execution_count": 22,
      "outputs": [
        {
          "output_type": "stream",
          "name": "stdout",
          "text": [
            "X:\n",
            " [[0.4993356  0.37281002 0.70981245]\n",
            " [0.29202681 0.08167815 0.2885805 ]]\n",
            "Shape: (2, 3)\n"
          ]
        }
      ]
    }
  ]
}