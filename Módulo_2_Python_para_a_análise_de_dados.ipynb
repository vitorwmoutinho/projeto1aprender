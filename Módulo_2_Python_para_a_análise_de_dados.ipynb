{
  "nbformat": 4,
  "nbformat_minor": 0,
  "metadata": {
    "colab": {
      "provenance": [],
      "authorship_tag": "ABX9TyOmCkoip+5O/mYC1Qhr2aSN",
      "include_colab_link": true
    },
    "kernelspec": {
      "name": "python3",
      "display_name": "Python 3"
    },
    "language_info": {
      "name": "python"
    }
  },
  "cells": [
    {
      "cell_type": "markdown",
      "metadata": {
        "id": "view-in-github",
        "colab_type": "text"
      },
      "source": [
        "<a href=\"https://colab.research.google.com/github/vitorwmoutinho/projeto1aprender/blob/main/M%C3%B3dulo_2_Python_para_a_an%C3%A1lise_de_dados.ipynb\" target=\"_parent\"><img src=\"https://colab.research.google.com/assets/colab-badge.svg\" alt=\"Open In Colab\"/></a>"
      ]
    },
    {
      "cell_type": "markdown",
      "source": [
        "Introdução e criação de arrays"
      ],
      "metadata": {
        "id": "ZppnYI8NyVzX"
      }
    },
    {
      "cell_type": "markdown",
      "source": [
        "Numpy Import"
      ],
      "metadata": {
        "id": "6bHL7MJNymF5"
      }
    },
    {
      "cell_type": "code",
      "source": [
        "#Importar a biblioteca\n",
        "import numpy as np"
      ],
      "metadata": {
        "id": "YICFPwPyyrvw"
      },
      "execution_count": null,
      "outputs": []
    },
    {
      "cell_type": "code",
      "source": [
        "np.array?"
      ],
      "metadata": {
        "id": "eIYxh0H3y2M2"
      },
      "execution_count": null,
      "outputs": []
    },
    {
      "cell_type": "code",
      "source": [
        "#Criação de array 1D\n",
        "l = [1, 2, 3]\n",
        "x = np.array(l)\n",
        "print(\"x:\", x)\n",
        "print(\"Shape\", x.shape)"
      ],
      "metadata": {
        "colab": {
          "base_uri": "https://localhost:8080/"
        },
        "id": "RDOFteGuy-e5",
        "outputId": "8b106401-9b4f-4896-8833-29ed52a36579"
      },
      "execution_count": null,
      "outputs": [
        {
          "output_type": "stream",
          "name": "stdout",
          "text": [
            "x: [1 2 3]\n",
            "Shape (3,)\n"
          ]
        }
      ]
    },
    {
      "cell_type": "code",
      "source": [
        "type(x)"
      ],
      "metadata": {
        "colab": {
          "base_uri": "https://localhost:8080/"
        },
        "id": "fNW_giAO4sbR",
        "outputId": "c9229fac-2e10-4340-cebc-b37b9701fd0b"
      },
      "execution_count": null,
      "outputs": [
        {
          "output_type": "execute_result",
          "data": {
            "text/plain": [
              "numpy.ndarray"
            ]
          },
          "metadata": {},
          "execution_count": 23
        }
      ]
    },
    {
      "cell_type": "code",
      "source": [
        "# criação de um array 2D: listas aninhadas\n",
        "l = [[1, 2], [3, 4]]\n",
        "x = np.array(l)\n",
        "print(\"X:\\n\", x)\n",
        "print(\"shape\", x.shape)"
      ],
      "metadata": {
        "colab": {
          "base_uri": "https://localhost:8080/"
        },
        "id": "jmDqX-_nzYwN",
        "outputId": "31ce8478-8ac3-44e1-f458-9b3abf6e276c"
      },
      "execution_count": null,
      "outputs": [
        {
          "output_type": "stream",
          "name": "stdout",
          "text": [
            "X:\n",
            " [[1 2]\n",
            " [3 4]]\n",
            "shape (2, 2)\n"
          ]
        }
      ]
    },
    {
      "cell_type": "code",
      "source": [
        "type(x)"
      ],
      "metadata": {
        "colab": {
          "base_uri": "https://localhost:8080/"
        },
        "id": "W12ha31Sz8dm",
        "outputId": "f9ca93bc-1abf-4414-ad87-07d1d2a5925f"
      },
      "execution_count": null,
      "outputs": [
        {
          "output_type": "execute_result",
          "data": {
            "text/plain": [
              "numpy.ndarray"
            ]
          },
          "metadata": {},
          "execution_count": 5
        }
      ]
    },
    {
      "cell_type": "code",
      "source": [
        "# Array contendo 0's\n",
        "dim = (2, 2) # (linha, Colunas)\n",
        "x = np.zeros(dim)\n",
        "print(\"x:\\n\", x)\n",
        "print(\"Shape:\", x.shape)"
      ],
      "metadata": {
        "colab": {
          "base_uri": "https://localhost:8080/"
        },
        "id": "1x-cS-9Dz_FL",
        "outputId": "1a7bd15d-c2f7-436c-bead-54b9a3bbe2d1"
      },
      "execution_count": null,
      "outputs": [
        {
          "output_type": "stream",
          "name": "stdout",
          "text": [
            "x:\n",
            " [[0. 0.]\n",
            " [0. 0.]]\n",
            "Shape: (2, 2)\n"
          ]
        }
      ]
    },
    {
      "cell_type": "code",
      "source": [
        "# Array contendo 1's\n",
        "size = (2, 2)\n",
        "x = np.ones(size)\n",
        "print(\"X:\\n\", x)\n",
        "print(\"Shape:\", x.shape)"
      ],
      "metadata": {
        "colab": {
          "base_uri": "https://localhost:8080/"
        },
        "id": "lNxinijF0w0D",
        "outputId": "468aaa86-860f-4fab-867f-d551f3facb3b"
      },
      "execution_count": null,
      "outputs": [
        {
          "output_type": "stream",
          "name": "stdout",
          "text": [
            "X:\n",
            " [[1. 1.]\n",
            " [1. 1.]]\n",
            "Shape: (2, 2)\n"
          ]
        }
      ]
    },
    {
      "cell_type": "code",
      "source": [
        "np.linspace?"
      ],
      "metadata": {
        "id": "dZdNE36w1RWQ"
      },
      "execution_count": null,
      "outputs": []
    },
    {
      "cell_type": "code",
      "source": [
        "# Criação de valores dentro do intervalo\n",
        "# Valores uniformes entre 5 e 15\n",
        "x_min, x_max = 5, 15\n",
        "x = np.linspace(start= x_min, stop = x_max, num=17, dtype=float)\n",
        "print(\"X:\", x)\n",
        "print(\"Shape\", x.shape)"
      ],
      "metadata": {
        "colab": {
          "base_uri": "https://localhost:8080/"
        },
        "id": "ZBokIeyt1YOY",
        "outputId": "f65c99ec-bc6f-4d15-9274-9dc526fae94c"
      },
      "execution_count": null,
      "outputs": [
        {
          "output_type": "stream",
          "name": "stdout",
          "text": [
            "X: [ 5.     5.625  6.25   6.875  7.5    8.125  8.75   9.375 10.    10.625\n",
            " 11.25  11.875 12.5   13.125 13.75  14.375 15.   ]\n",
            "Shape (17,)\n"
          ]
        }
      ]
    },
    {
      "cell_type": "code",
      "source": [
        "# Criação da matriz indentidade\n",
        "# Matriz quadrada\n",
        "n = 4\n",
        "x = np.eye(n)\n",
        "print(\"x:\\n\", x)\n",
        "print(\"Shape:\", x.shape)"
      ],
      "metadata": {
        "colab": {
          "base_uri": "https://localhost:8080/"
        },
        "id": "dUyJiLX42XSe",
        "outputId": "c82d6211-dbea-4020-995b-bb6eae05a081"
      },
      "execution_count": null,
      "outputs": [
        {
          "output_type": "stream",
          "name": "stdout",
          "text": [
            "x:\n",
            " [[1. 0. 0. 0.]\n",
            " [0. 1. 0. 0.]\n",
            " [0. 0. 1. 0.]\n",
            " [0. 0. 0. 1.]]\n",
            "Shape: (4, 4)\n"
          ]
        }
      ]
    },
    {
      "cell_type": "code",
      "source": [
        "# Criação de valores aleatórios\n",
        "# np.ramdom.seed(10)\n",
        "x = np.random.random(size=(2, 3))\n",
        "print(\"X:\\n\", x)\n",
        "print(\"Shape:\", x.shape)"
      ],
      "metadata": {
        "colab": {
          "base_uri": "https://localhost:8080/"
        },
        "id": "7qNCGWUj3GOx",
        "outputId": "d1dcc6fb-d71b-4a9d-f946-c6c2fd79343a"
      },
      "execution_count": null,
      "outputs": [
        {
          "output_type": "stream",
          "name": "stdout",
          "text": [
            "X:\n",
            " [[0.28577965 0.57546843 0.05812473]\n",
            " [0.03899871 0.31990569 0.46205203]]\n",
            "Shape: (2, 3)\n"
          ]
        }
      ]
    },
    {
      "cell_type": "markdown",
      "source": [
        "Indexação"
      ],
      "metadata": {
        "id": "Fx1p_F4gh0-5"
      }
    },
    {
      "cell_type": "code",
      "source": [
        "# os Indices no python vão de 0 a n -1\n",
        "#onde n é o tamnho da dimensão\n",
        "x = np.linspace(start= 10, stop=100, num=10)\n",
        "print(\"x:\", x)\n",
        "print(\"shape:\", x.shape)"
      ],
      "metadata": {
        "colab": {
          "base_uri": "https://localhost:8080/"
        },
        "id": "PjLwUE_3J3fG",
        "outputId": "a5176b5e-fbc6-414e-ea9a-b49aedbc6337"
      },
      "execution_count": null,
      "outputs": [
        {
          "output_type": "stream",
          "name": "stdout",
          "text": [
            "x: [ 10.  20.  30.  40.  50.  60.  70.  80.  90. 100.]\n",
            "shape: (10,)\n"
          ]
        }
      ]
    },
    {
      "cell_type": "code",
      "source": [
        "#extração de elementos\n",
        "print(\"x:\", x)\n",
        "print(\"Primeiro\", x[0])\n",
        "print(\"ultimo\", x[-1])"
      ],
      "metadata": {
        "colab": {
          "base_uri": "https://localhost:8080/"
        },
        "id": "8DCpulQTLd2T",
        "outputId": "ead78ab9-7489-455b-d6e6-0363eb321a74"
      },
      "execution_count": null,
      "outputs": [
        {
          "output_type": "stream",
          "name": "stdout",
          "text": [
            "x: [ 10.  20.  30.  40.  50.  60.  70.  80.  90. 100.]\n",
            "Primeiro 10.0\n",
            "ultimo 100.0\n"
          ]
        }
      ]
    },
    {
      "cell_type": "code",
      "source": [
        "x[-]"
      ],
      "metadata": {
        "colab": {
          "base_uri": "https://localhost:8080/"
        },
        "id": "2dBV9FroLyfI",
        "outputId": "66d255a4-166d-4433-d34c-d75262de643b"
      },
      "execution_count": null,
      "outputs": [
        {
          "output_type": "execute_result",
          "data": {
            "text/plain": [
              "80.0"
            ]
          },
          "metadata": {},
          "execution_count": 10
        }
      ]
    },
    {
      "cell_type": "code",
      "source": [
        "#slicing extração de subarrays\n",
        "print(\"x:\", x)\n",
        "print(\"Extraindo o primeiro\", x[0:2]) # 2 é exclusivo\n",
        "# omitindo o 0\n",
        "print(\"Extraindo o zero\", x[:3])\n",
        "print(\"dois ultimos\", x[-2:])"
      ],
      "metadata": {
        "colab": {
          "base_uri": "https://localhost:8080/"
        },
        "id": "MC_oZWGDMC8C",
        "outputId": "600ef5bf-e0ec-4065-bc55-69c60d6a28ab"
      },
      "execution_count": null,
      "outputs": [
        {
          "output_type": "stream",
          "name": "stdout",
          "text": [
            "x: [ 10.  20.  30.  40.  50.  60.  70.  80.  90. 100.]\n",
            "Extraindo o primeiro [10. 20.]\n",
            "Extraindo o zero [10. 20. 30.]\n",
            "dois ultimos [ 90. 100.]\n"
          ]
        }
      ]
    },
    {
      "cell_type": "code",
      "source": [
        "#slicing em 2D (matrizes)\n",
        "x = x.reshape(2, 5) # 2 linhas 5 colunas\n",
        "print(\"x:\\n\", x)"
      ],
      "metadata": {
        "colab": {
          "base_uri": "https://localhost:8080/"
        },
        "id": "kSyd9xPsMreI",
        "outputId": "7a8d11ca-ecc1-42ec-9c86-86b3a2645a5f"
      },
      "execution_count": null,
      "outputs": [
        {
          "output_type": "stream",
          "name": "stdout",
          "text": [
            "x:\n",
            " [[ 10.  20.  30.  40.  50.]\n",
            " [ 60.  70.  80.  90. 100.]]\n"
          ]
        }
      ]
    },
    {
      "cell_type": "code",
      "source": [
        "#extração ode elementos\n",
        "print(\"primeira linha, segunda linha\", x[0, 1])\n"
      ],
      "metadata": {
        "colab": {
          "base_uri": "https://localhost:8080/"
        },
        "id": "GzCitbbUNE9s",
        "outputId": "73b02f27-71f2-4e14-b9b9-5e7badde3b93"
      },
      "execution_count": null,
      "outputs": [
        {
          "output_type": "stream",
          "name": "stdout",
          "text": [
            "primeira linha, segunda linha 20.0\n"
          ]
        }
      ]
    },
    {
      "cell_type": "code",
      "source": [
        "print(x)"
      ],
      "metadata": {
        "colab": {
          "base_uri": "https://localhost:8080/"
        },
        "id": "lkcv4LveNwWg",
        "outputId": "5e3ac303-8372-46ba-a096-7ae3710995ea"
      },
      "execution_count": null,
      "outputs": [
        {
          "output_type": "stream",
          "name": "stdout",
          "text": [
            "[[ 10.  20.  30.  40.  50.]\n",
            " [ 60.  70.  80.  90. 100.]]\n"
          ]
        }
      ]
    },
    {
      "cell_type": "code",
      "source": [
        "#slicing: extração de subarrays\n",
        "print(\"x:\\n\", x)\n",
        "print(\"primera linha inteira\", x[0, :])\n",
        "print(\"ultima linha inteira:\\n\", x[:, [-1]])"
      ],
      "metadata": {
        "colab": {
          "base_uri": "https://localhost:8080/"
        },
        "id": "phoFS_s5NX5y",
        "outputId": "21e09d5f-b9a6-4af3-b6f6-abe8efe4cb66"
      },
      "execution_count": null,
      "outputs": [
        {
          "output_type": "stream",
          "name": "stdout",
          "text": [
            "x:\n",
            " [[ 10.  20.  30.  40.  50.]\n",
            " [ 60.  70.  80.  90. 100.]]\n",
            "primera linha inteira [10. 20. 30. 40. 50.]\n",
            "ultima linha inteira:\n",
            " [[ 50.]\n",
            " [100.]]\n"
          ]
        }
      ]
    },
    {
      "cell_type": "code",
      "source": [
        "# Atenção ao compartilhamento de memoria de subarrays\n",
        "x = np.array([1, 2, 3])\n",
        "print(\"x antes\", x)\n",
        "y = x[:2]\n",
        "y[0] = 100 # altera ao valor de x\n",
        "print(\"depois:\", x)"
      ],
      "metadata": {
        "colab": {
          "base_uri": "https://localhost:8080/"
        },
        "id": "ekyQeryGOk_g",
        "outputId": "3cac99e5-4e9d-4216-d2ca-0a9cd021a72d"
      },
      "execution_count": null,
      "outputs": [
        {
          "output_type": "stream",
          "name": "stdout",
          "text": [
            "x antes [1 2 3]\n",
            "depois: [100   2   3]\n"
          ]
        }
      ]
    },
    {
      "cell_type": "code",
      "source": [
        "# Atenção ao compartilhamento de memoria de subarrays\n",
        "x = np.array([1, 2, 3])\n",
        "print(\"x antes\", x)\n",
        "y = x[:2].copy() #metodo .copy não altera o valor de y\n",
        "y[0] = 100 # não altera ao valor de x\n",
        "print(\"depois:\", x)"
      ],
      "metadata": {
        "colab": {
          "base_uri": "https://localhost:8080/"
        },
        "id": "wY_Z4zNBPJ2f",
        "outputId": "ec2ef896-43fe-481c-9fba-b3dc1bc2653c"
      },
      "execution_count": null,
      "outputs": [
        {
          "output_type": "stream",
          "name": "stdout",
          "text": [
            "x antes [1 2 3]\n",
            "depois: [1 2 3]\n"
          ]
        }
      ]
    }
  ]
}