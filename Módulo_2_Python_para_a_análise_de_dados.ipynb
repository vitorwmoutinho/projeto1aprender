{
  "nbformat": 4,
  "nbformat_minor": 0,
  "metadata": {
    "colab": {
      "provenance": [],
      "authorship_tag": "ABX9TyM8qZPaRvmimtQatCamRdws",
      "include_colab_link": true
    },
    "kernelspec": {
      "name": "python3",
      "display_name": "Python 3"
    },
    "language_info": {
      "name": "python"
    }
  },
  "cells": [
    {
      "cell_type": "markdown",
      "metadata": {
        "id": "view-in-github",
        "colab_type": "text"
      },
      "source": [
        "<a href=\"https://colab.research.google.com/github/vitorwmoutinho/projeto1aprender/blob/main/M%C3%B3dulo_2_Python_para_a_an%C3%A1lise_de_dados.ipynb\" target=\"_parent\"><img src=\"https://colab.research.google.com/assets/colab-badge.svg\" alt=\"Open In Colab\"/></a>"
      ]
    },
    {
      "cell_type": "markdown",
      "source": [
        "Introdução e criação de arrays"
      ],
      "metadata": {
        "id": "ZppnYI8NyVzX"
      }
    },
    {
      "cell_type": "markdown",
      "source": [
        "Numpy Import"
      ],
      "metadata": {
        "id": "6bHL7MJNymF5"
      }
    },
    {
      "cell_type": "code",
      "source": [
        "#Importar a biblioteca\n",
        "import numpy as np"
      ],
      "metadata": {
        "id": "YICFPwPyyrvw"
      },
      "execution_count": 1,
      "outputs": []
    },
    {
      "cell_type": "code",
      "source": [
        "np.array?"
      ],
      "metadata": {
        "id": "eIYxh0H3y2M2"
      },
      "execution_count": null,
      "outputs": []
    },
    {
      "cell_type": "code",
      "source": [
        "#Criação de array 1D\n",
        "l = [1, 2, 3]\n",
        "x = np.array(l)\n",
        "print(\"x:\", x)\n",
        "print(\"Shape\", x.shape)"
      ],
      "metadata": {
        "colab": {
          "base_uri": "https://localhost:8080/"
        },
        "id": "RDOFteGuy-e5",
        "outputId": "605b935a-09de-458f-fd09-f598c635d7a8"
      },
      "execution_count": null,
      "outputs": [
        {
          "output_type": "stream",
          "name": "stdout",
          "text": [
            "x: [1 2 3]\n",
            "Shape (3,)\n"
          ]
        }
      ]
    },
    {
      "cell_type": "code",
      "source": [
        "type(x)"
      ],
      "metadata": {
        "colab": {
          "base_uri": "https://localhost:8080/"
        },
        "id": "fNW_giAO4sbR",
        "outputId": "c9229fac-2e10-4340-cebc-b37b9701fd0b"
      },
      "execution_count": null,
      "outputs": [
        {
          "output_type": "execute_result",
          "data": {
            "text/plain": [
              "numpy.ndarray"
            ]
          },
          "metadata": {},
          "execution_count": 23
        }
      ]
    },
    {
      "cell_type": "code",
      "source": [
        "# criação de um array 2D: listas aninhadas\n",
        "l = [[1, 2], [3, 4]]\n",
        "x = np.array(l)\n",
        "print(\"X:\\n\", x)\n",
        "print(\"shape\", x.shape)"
      ],
      "metadata": {
        "colab": {
          "base_uri": "https://localhost:8080/"
        },
        "id": "jmDqX-_nzYwN",
        "outputId": "31ce8478-8ac3-44e1-f458-9b3abf6e276c"
      },
      "execution_count": null,
      "outputs": [
        {
          "output_type": "stream",
          "name": "stdout",
          "text": [
            "X:\n",
            " [[1 2]\n",
            " [3 4]]\n",
            "shape (2, 2)\n"
          ]
        }
      ]
    },
    {
      "cell_type": "code",
      "source": [
        "type(x)"
      ],
      "metadata": {
        "colab": {
          "base_uri": "https://localhost:8080/"
        },
        "id": "W12ha31Sz8dm",
        "outputId": "f9ca93bc-1abf-4414-ad87-07d1d2a5925f"
      },
      "execution_count": null,
      "outputs": [
        {
          "output_type": "execute_result",
          "data": {
            "text/plain": [
              "numpy.ndarray"
            ]
          },
          "metadata": {},
          "execution_count": 5
        }
      ]
    },
    {
      "cell_type": "code",
      "source": [
        "# Array contendo 0's\n",
        "dim = (2, 2) # (linha, Colunas)\n",
        "x = np.zeros(dim)\n",
        "print(\"x:\\n\", x)\n",
        "print(\"Shape:\", x.shape)"
      ],
      "metadata": {
        "colab": {
          "base_uri": "https://localhost:8080/"
        },
        "id": "1x-cS-9Dz_FL",
        "outputId": "1a7bd15d-c2f7-436c-bead-54b9a3bbe2d1"
      },
      "execution_count": null,
      "outputs": [
        {
          "output_type": "stream",
          "name": "stdout",
          "text": [
            "x:\n",
            " [[0. 0.]\n",
            " [0. 0.]]\n",
            "Shape: (2, 2)\n"
          ]
        }
      ]
    },
    {
      "cell_type": "code",
      "source": [
        "# Array contendo 1's\n",
        "size = (2, 2)\n",
        "x = np.ones(size)\n",
        "print(\"X:\\n\", x)\n",
        "print(\"Shape:\", x.shape)"
      ],
      "metadata": {
        "colab": {
          "base_uri": "https://localhost:8080/"
        },
        "id": "lNxinijF0w0D",
        "outputId": "468aaa86-860f-4fab-867f-d551f3facb3b"
      },
      "execution_count": null,
      "outputs": [
        {
          "output_type": "stream",
          "name": "stdout",
          "text": [
            "X:\n",
            " [[1. 1.]\n",
            " [1. 1.]]\n",
            "Shape: (2, 2)\n"
          ]
        }
      ]
    },
    {
      "cell_type": "code",
      "source": [
        "np.linspace?"
      ],
      "metadata": {
        "id": "dZdNE36w1RWQ"
      },
      "execution_count": null,
      "outputs": []
    },
    {
      "cell_type": "code",
      "source": [
        "# Criação de valores dentro do intervalo\n",
        "# Valores uniformes entre 5 e 15\n",
        "x_min, x_max = 5, 15\n",
        "x = np.linspace(start= x_min, stop = x_max, num=17, dtype=float)\n",
        "print(\"X:\", x)\n",
        "print(\"Shape\", x.shape)"
      ],
      "metadata": {
        "colab": {
          "base_uri": "https://localhost:8080/"
        },
        "id": "ZBokIeyt1YOY",
        "outputId": "f65c99ec-bc6f-4d15-9274-9dc526fae94c"
      },
      "execution_count": null,
      "outputs": [
        {
          "output_type": "stream",
          "name": "stdout",
          "text": [
            "X: [ 5.     5.625  6.25   6.875  7.5    8.125  8.75   9.375 10.    10.625\n",
            " 11.25  11.875 12.5   13.125 13.75  14.375 15.   ]\n",
            "Shape (17,)\n"
          ]
        }
      ]
    },
    {
      "cell_type": "code",
      "source": [
        "# Criação da matriz indentidade\n",
        "# Matriz quadrada\n",
        "n = 4\n",
        "x = np.eye(n)\n",
        "print(\"x:\\n\", x)\n",
        "print(\"Shape:\", x.shape)"
      ],
      "metadata": {
        "colab": {
          "base_uri": "https://localhost:8080/"
        },
        "id": "dUyJiLX42XSe",
        "outputId": "c82d6211-dbea-4020-995b-bb6eae05a081"
      },
      "execution_count": null,
      "outputs": [
        {
          "output_type": "stream",
          "name": "stdout",
          "text": [
            "x:\n",
            " [[1. 0. 0. 0.]\n",
            " [0. 1. 0. 0.]\n",
            " [0. 0. 1. 0.]\n",
            " [0. 0. 0. 1.]]\n",
            "Shape: (4, 4)\n"
          ]
        }
      ]
    },
    {
      "cell_type": "code",
      "source": [
        "# Criação de valores aleatórios\n",
        "# np.ramdom.seed(10)\n",
        "x = np.random.random(size=(2, 3))\n",
        "print(\"X:\\n\", x)\n",
        "print(\"Shape:\", x.shape)"
      ],
      "metadata": {
        "colab": {
          "base_uri": "https://localhost:8080/"
        },
        "id": "7qNCGWUj3GOx",
        "outputId": "d1dcc6fb-d71b-4a9d-f946-c6c2fd79343a"
      },
      "execution_count": null,
      "outputs": [
        {
          "output_type": "stream",
          "name": "stdout",
          "text": [
            "X:\n",
            " [[0.28577965 0.57546843 0.05812473]\n",
            " [0.03899871 0.31990569 0.46205203]]\n",
            "Shape: (2, 3)\n"
          ]
        }
      ]
    },
    {
      "cell_type": "markdown",
      "source": [
        "Indexação"
      ],
      "metadata": {
        "id": "Fx1p_F4gh0-5"
      }
    },
    {
      "cell_type": "code",
      "source": [
        "# os Indices no python vão de 0 a n -1\n",
        "#onde n é o tamnho da dimensão\n",
        "x = np.linspace(start= 10, stop=100, num=10)\n",
        "print(\"x:\", x)\n",
        "print(\"shape:\", x.shape)"
      ],
      "metadata": {
        "colab": {
          "base_uri": "https://localhost:8080/"
        },
        "id": "PjLwUE_3J3fG",
        "outputId": "cae7f98d-d1e0-492e-ff7e-ee606d41540c"
      },
      "execution_count": null,
      "outputs": [
        {
          "output_type": "stream",
          "name": "stdout",
          "text": [
            "x: [ 10.  20.  30.  40.  50.  60.  70.  80.  90. 100.]\n",
            "shape: (10,)\n"
          ]
        }
      ]
    },
    {
      "cell_type": "code",
      "source": [
        "#extração de elementos\n",
        "print(\"x:\", x)\n",
        "print(\"Primeiro\", x[0])\n",
        "print(\"ultimo\", x[-1])"
      ],
      "metadata": {
        "colab": {
          "base_uri": "https://localhost:8080/"
        },
        "id": "8DCpulQTLd2T",
        "outputId": "6e0d9bc9-a54f-489d-aa4d-1e3bd3f4f658"
      },
      "execution_count": null,
      "outputs": [
        {
          "output_type": "stream",
          "name": "stdout",
          "text": [
            "x: [ 10.  20.  30.  40.  50.  60.  70.  80.  90. 100.]\n",
            "Primeiro 10.0\n",
            "ultimo 100.0\n"
          ]
        }
      ]
    },
    {
      "cell_type": "code",
      "source": [
        "x[-3]"
      ],
      "metadata": {
        "colab": {
          "base_uri": "https://localhost:8080/"
        },
        "id": "2dBV9FroLyfI",
        "outputId": "2bc8caf7-c30c-49dc-bc86-b5704ded8662"
      },
      "execution_count": null,
      "outputs": [
        {
          "output_type": "execute_result",
          "data": {
            "text/plain": [
              "80.0"
            ]
          },
          "metadata": {},
          "execution_count": 8
        }
      ]
    },
    {
      "cell_type": "code",
      "source": [
        "#slicing extração de subarrays\n",
        "print(\"x:\", x)\n",
        "print(\"Extraindo o primeiro\", x[0:2]) # 2 é o numero exclusivo\n",
        "# omitindo o primeiroo elemento\n",
        "print(\"Extraindo o zero\", x[:3])\n",
        "print(\"dois ultimos\", x[-2:])"
      ],
      "metadata": {
        "colab": {
          "base_uri": "https://localhost:8080/"
        },
        "id": "MC_oZWGDMC8C",
        "outputId": "600ef5bf-e0ec-4065-bc55-69c60d6a28ab"
      },
      "execution_count": null,
      "outputs": [
        {
          "output_type": "stream",
          "name": "stdout",
          "text": [
            "x: [ 10.  20.  30.  40.  50.  60.  70.  80.  90. 100.]\n",
            "Extraindo o primeiro [10. 20.]\n",
            "Extraindo o zero [10. 20. 30.]\n",
            "dois ultimos [ 90. 100.]\n"
          ]
        }
      ]
    },
    {
      "cell_type": "code",
      "source": [
        "#slicing em 2D (matrizes)\n",
        "#reshape muda a forma do array\n",
        "x = x.reshape(2, 5) # 2 linhas 5 colunas\n",
        "print(\"x:\\n\", x)"
      ],
      "metadata": {
        "colab": {
          "base_uri": "https://localhost:8080/"
        },
        "id": "kSyd9xPsMreI",
        "outputId": "2ad17982-c2f4-4b07-f3d3-6d4a53480530"
      },
      "execution_count": null,
      "outputs": [
        {
          "output_type": "stream",
          "name": "stdout",
          "text": [
            "x:\n",
            " [[ 10.  20.  30.  40.  50.]\n",
            " [ 60.  70.  80.  90. 100.]]\n"
          ]
        }
      ]
    },
    {
      "cell_type": "code",
      "source": [
        "#extração ode elementos\n",
        "print(\"primeira linha, segunda linha\", x[0, 1])\n",
        "print(\"Segunda linha, penultima coluna\", x[1:-2])"
      ],
      "metadata": {
        "colab": {
          "base_uri": "https://localhost:8080/"
        },
        "id": "GzCitbbUNE9s",
        "outputId": "014a07a6-e054-4ccf-adef-98d2ebfdbbdb"
      },
      "execution_count": null,
      "outputs": [
        {
          "output_type": "stream",
          "name": "stdout",
          "text": [
            "primeira linha, segunda linha 20.0\n",
            "Segunda linha, penultima coluna []\n"
          ]
        }
      ]
    },
    {
      "cell_type": "code",
      "source": [
        "print(x)"
      ],
      "metadata": {
        "colab": {
          "base_uri": "https://localhost:8080/"
        },
        "id": "lkcv4LveNwWg",
        "outputId": "5e3ac303-8372-46ba-a096-7ae3710995ea"
      },
      "execution_count": null,
      "outputs": [
        {
          "output_type": "stream",
          "name": "stdout",
          "text": [
            "[[ 10.  20.  30.  40.  50.]\n",
            " [ 60.  70.  80.  90. 100.]]\n"
          ]
        }
      ]
    },
    {
      "cell_type": "code",
      "source": [
        "#slicing: extração de subarrays\n",
        "print(\"x:\\n\", x)\n",
        "print(\"primera linha inteira\", x[0, :])\n",
        "print(\"ultima coluna inteira:\\n\", x[:, [-1]])"
      ],
      "metadata": {
        "colab": {
          "base_uri": "https://localhost:8080/"
        },
        "id": "phoFS_s5NX5y",
        "outputId": "0b0ef008-3ff0-40cd-8fa9-b7fd24e79745"
      },
      "execution_count": null,
      "outputs": [
        {
          "output_type": "stream",
          "name": "stdout",
          "text": [
            "x:\n",
            " [[ 10.  20.  30.  40.  50.]\n",
            " [ 60.  70.  80.  90. 100.]]\n",
            "primera linha inteira [10. 20. 30. 40. 50.]\n",
            "ultima coluna inteira:\n",
            " [[ 50.]\n",
            " [100.]]\n"
          ]
        }
      ]
    },
    {
      "cell_type": "code",
      "source": [
        "#Slicing compartilha mémoria com o array original"
      ],
      "metadata": {
        "id": "R9qaHuC7_wBK"
      },
      "execution_count": null,
      "outputs": []
    },
    {
      "cell_type": "code",
      "source": [
        "# Atenção ao compartilhamento de memoria de subarrays\n",
        "x = np.array([1, 2, 3])\n",
        "print(\"x antes\", x)\n",
        "y = x[:2]\n",
        "y[0] = -100 # altera ao valor de x\n",
        "print(\"depois:\", x)"
      ],
      "metadata": {
        "colab": {
          "base_uri": "https://localhost:8080/"
        },
        "id": "ekyQeryGOk_g",
        "outputId": "992982d8-e8bd-442e-a6fa-9c7d595e331c"
      },
      "execution_count": null,
      "outputs": [
        {
          "output_type": "stream",
          "name": "stdout",
          "text": [
            "x antes [1 2 3]\n",
            "depois: [-100    2    3]\n"
          ]
        }
      ]
    },
    {
      "cell_type": "code",
      "source": [
        "# Atenção ao compartilhamento de memoria de subarrays\n",
        "x = np.array([1, 2, 3])\n",
        "print(\"x antes:\", x)\n",
        "y = x[:2].copy() #metodo .copy faz uma cópia não altera o valor de y\n",
        "y[0] = 100 # não altera ao valor de x\n",
        "print(\"depois:\", x)"
      ],
      "metadata": {
        "colab": {
          "base_uri": "https://localhost:8080/"
        },
        "id": "wY_Z4zNBPJ2f",
        "outputId": "9a9e7b61-8d70-421e-ea1d-e834bd6cad12"
      },
      "execution_count": null,
      "outputs": [
        {
          "output_type": "stream",
          "name": "stdout",
          "text": [
            "x antes: [1 2 3]\n",
            "depois: [1 2 3]\n"
          ]
        }
      ]
    },
    {
      "cell_type": "markdown",
      "source": [
        "**Operações Aritimeticas**"
      ],
      "metadata": {
        "id": "n8eA6ANYEG-6"
      }
    },
    {
      "cell_type": "markdown",
      "source": [
        "\n",
        "\n",
        "*   operações elemento por elemento\n",
        "*   Broadcasting\n",
        "*   Operações Matriciais\n",
        "\n"
      ],
      "metadata": {
        "id": "IxW_23fvF0ME"
      }
    },
    {
      "cell_type": "code",
      "source": [
        "#Criação de dois arrays x e y\n",
        "x = np.ones((2, 2))\n",
        "y = np.eye(2)\n",
        "print(\"x: \\n\", x)\n",
        "print(\"y: \\n\", y)"
      ],
      "metadata": {
        "id": "VbFpazMPFzwv",
        "colab": {
          "base_uri": "https://localhost:8080/"
        },
        "outputId": "3b27cea1-5a8b-4167-f006-816077f1f37d"
      },
      "execution_count": 2,
      "outputs": [
        {
          "output_type": "stream",
          "name": "stdout",
          "text": [
            "x: \n",
            " [[1. 1.]\n",
            " [1. 1.]]\n",
            "y: \n",
            " [[1. 0.]\n",
            " [0. 1.]]\n"
          ]
        }
      ]
    },
    {
      "cell_type": "code",
      "source": [
        "# Soma\n",
        "print(\"Soma de dois arrays: \\n\", x + y)\n",
        "print(\"Soma de dois arrays com broadcasting: \\n\", x + 2.)"
      ],
      "metadata": {
        "colab": {
          "base_uri": "https://localhost:8080/"
        },
        "id": "cIRA3QdVHmny",
        "outputId": "7fae115e-6c7a-49c8-8054-9e8921d5264d"
      },
      "execution_count": null,
      "outputs": [
        {
          "output_type": "stream",
          "name": "stdout",
          "text": [
            "Soma de dois arrays: \n",
            " [[2. 1.]\n",
            " [1. 2.]]\n",
            "Soma de dois arrays com broadcasting: \n",
            " [[3. 3.]\n",
            " [3. 3.]]\n"
          ]
        }
      ]
    },
    {
      "cell_type": "code",
      "source": [
        "#subtração\n",
        "print(\"Subtração de dois arrays: \\n\", x - y)\n",
        "print(\"Subtração com float/int: \\n\", x - 2) # broadcasting"
      ],
      "metadata": {
        "colab": {
          "base_uri": "https://localhost:8080/"
        },
        "id": "p6l2Ww-qIyK5",
        "outputId": "6730eb0f-9cc0-4533-90bf-009999987eac"
      },
      "execution_count": null,
      "outputs": [
        {
          "output_type": "stream",
          "name": "stdout",
          "text": [
            "Subtração de dois arrays: \n",
            " [[0. 1.]\n",
            " [1. 0.]]\n",
            "Subtração com float/int: \n",
            " [[-1. -1.]\n",
            " [-1. -1.]]\n"
          ]
        }
      ]
    },
    {
      "cell_type": "code",
      "source": [
        "#divisão\n",
        "##print(\"Divisão de dois arrays: \\n\", x / y)\n",
        "print(\"Divisão com float/int: \\n\", x / 2) #broadcasting"
      ],
      "metadata": {
        "colab": {
          "base_uri": "https://localhost:8080/"
        },
        "id": "t5m2-GYcJNHn",
        "outputId": "38399a6e-561d-4e28-9964-99aecb708f1d"
      },
      "execution_count": null,
      "outputs": [
        {
          "output_type": "stream",
          "name": "stdout",
          "text": [
            "Divisão com float/int: \n",
            " [[0.5 0.5]\n",
            " [0.5 0.5]]\n"
          ]
        }
      ]
    },
    {
      "cell_type": "code",
      "source": [
        "#Quando o broadcasting não funciona\n",
        "##p.array([1, 2, 3]) + np.array([1, 2])"
      ],
      "metadata": {
        "id": "u-TBMDcLJuHt"
      },
      "execution_count": null,
      "outputs": []
    },
    {
      "cell_type": "code",
      "source": [
        "#Soma subtração e divisão\n",
        "print(\"Combinação de operações: \\n\", (x + y)/(x - 2))"
      ],
      "metadata": {
        "colab": {
          "base_uri": "https://localhost:8080/"
        },
        "id": "I-3XgsJqKv39",
        "outputId": "aa948b6c-7efa-4557-f185-bc1a7f54053c"
      },
      "execution_count": null,
      "outputs": [
        {
          "output_type": "stream",
          "name": "stdout",
          "text": [
            "Combinação de operações: \n",
            " [[-2. -1.]\n",
            " [-1. -2.]]\n"
          ]
        }
      ]
    },
    {
      "cell_type": "code",
      "source": [
        "# Multiplicação\n",
        "print(\"Multiplicação com arrays: \\n\", x * y)\n",
        "print(\"Multiplicação com float/int:\\n\", x * 2) #broadcasting"
      ],
      "metadata": {
        "colab": {
          "base_uri": "https://localhost:8080/"
        },
        "id": "U63WENYzhPph",
        "outputId": "64a3f28e-fda3-4608-fc3b-264e4c8589ff"
      },
      "execution_count": 7,
      "outputs": [
        {
          "output_type": "stream",
          "name": "stdout",
          "text": [
            "Multiplicação com arrays: \n",
            " [[1. 0.]\n",
            " [0. 1.]]\n",
            "Multiplicação matricial:\n",
            " [[2. 2.]\n",
            " [2. 2.]]\n"
          ]
        }
      ]
    },
    {
      "cell_type": "code",
      "source": [
        "#criando um array  10x10 com valor 10 DICA!!\n",
        "10 * np.ones((5, 5))"
      ],
      "metadata": {
        "id": "2dkXNykchzT2"
      },
      "execution_count": null,
      "outputs": []
    },
    {
      "cell_type": "code",
      "source": [
        "#Multiplicação matricial\n",
        "print(\"multiplicação matricial (np.dot): \\n\", np.dot(x, y))\n",
        "print(\"multiplicação matricial (@):\\n\", x @ y )\n",
        "print(\"Multiplicação matricial .dot:\\n\", x.dot(y) )\n"
      ],
      "metadata": {
        "colab": {
          "base_uri": "https://localhost:8080/"
        },
        "id": "hCsvXFWMiKGa",
        "outputId": "176c55ac-a192-4e80-b5fa-d50d228e9380"
      },
      "execution_count": 14,
      "outputs": [
        {
          "output_type": "stream",
          "name": "stdout",
          "text": [
            "multiplicação matricial (np.dot): \n",
            " [[1. 1.]\n",
            " [1. 1.]]\n",
            "multiplicação matricial (@):\n",
            " [[1. 1.]\n",
            " [1. 1.]]\n",
            "Multiplicação matricial .dot:\n",
            " [[1. 1.]\n",
            " [1. 1.]]\n"
          ]
        }
      ]
    },
    {
      "cell_type": "code",
      "source": [
        "\"\"\"\n",
        "Exemplo:\n",
        "Solução de um istemas de equações:\n",
        "  a + 2*b = 7\n",
        "  a - 2*b = -11\n",
        "  solução analitica: (a, b) = (-1, 4)\n",
        "Matricialmente este problema tem a seguinte forma:\n",
        "Ax = c, onde:\n",
        " - x = [a, b]\n",
        " - A = [[1, 2], [3, -2]]\n",
        " - c = [7, -11]\n",
        " Solução númerica = x = inv(A) @ c.\n",
        " \"\"\"\n",
        "\n",
        "#definição do problema\n",
        "A = np.array([[1, 2], [3, -2]])\n",
        "c = np.array([[7], [-11]])\n",
        "print(\"A: \\n\", A)\n",
        "print(\"c: \\n\", c)"
      ],
      "metadata": {
        "colab": {
          "base_uri": "https://localhost:8080/"
        },
        "id": "V6SMpzENjP4O",
        "outputId": "7e88b36a-e224-41e9-d1c1-45a8c8bddb8a"
      },
      "execution_count": 15,
      "outputs": [
        {
          "output_type": "stream",
          "name": "stdout",
          "text": [
            "A: \n",
            " [[ 1  2]\n",
            " [ 3 -2]]\n",
            "c: \n",
            " [[  7]\n",
            " [-11]]\n"
          ]
        }
      ]
    },
    {
      "cell_type": "code",
      "source": [
        "np.linalg"
      ],
      "metadata": {
        "colab": {
          "base_uri": "https://localhost:8080/"
        },
        "id": "0eA5KY1Tljcq",
        "outputId": "9b0c9311-81c3-480e-bc2a-7a8f9e8bc367"
      },
      "execution_count": 16,
      "outputs": [
        {
          "output_type": "execute_result",
          "data": {
            "text/plain": [
              "<module 'numpy.linalg' from '/usr/local/lib/python3.10/dist-packages/numpy/linalg/__init__.py'>"
            ]
          },
          "metadata": {},
          "execution_count": 16
        }
      ]
    },
    {
      "cell_type": "code",
      "source": [
        "#Solução\n",
        "x = np.dot(np.linalg.inv(A), c)\n",
        "print(\"a, b:\", x.ravel())"
      ],
      "metadata": {
        "colab": {
          "base_uri": "https://localhost:8080/"
        },
        "id": "Wg0Rj4fUlm6L",
        "outputId": "1985f9a0-c6b4-4901-f349-9148faec412f"
      },
      "execution_count": 17,
      "outputs": [
        {
          "output_type": "stream",
          "name": "stdout",
          "text": [
            "a, b: [-1.  4.]\n"
          ]
        }
      ]
    }
  ]
}