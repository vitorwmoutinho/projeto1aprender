{
  "nbformat": 4,
  "nbformat_minor": 0,
  "metadata": {
    "colab": {
      "provenance": [],
      "authorship_tag": "ABX9TyPUHq5MeICpGGiQaWpPbfUh",
      "include_colab_link": true
    },
    "kernelspec": {
      "name": "python3",
      "display_name": "Python 3"
    },
    "language_info": {
      "name": "python"
    }
  },
  "cells": [
    {
      "cell_type": "markdown",
      "metadata": {
        "id": "view-in-github",
        "colab_type": "text"
      },
      "source": [
        "<a href=\"https://colab.research.google.com/github/vitorwmoutinho/projeto1aprender/blob/main/6_Fun%C3%A7%C3%B5es.ipynb\" target=\"_parent\"><img src=\"https://colab.research.google.com/assets/colab-badge.svg\" alt=\"Open In Colab\"/></a>"
      ]
    },
    {
      "cell_type": "markdown",
      "source": [
        "01 - Declarando função"
      ],
      "metadata": {
        "id": "HVaAK_iFcvR0"
      }
    },
    {
      "cell_type": "code",
      "execution_count": null,
      "metadata": {
        "id": "9isjkBnXbWdo"
      },
      "outputs": [],
      "source": [
        "#  SINTAXE DE FUNÇÕES\n",
        " def nome_da_função(argumento1, argumento2...):\n",
        " <bloco de codigo a ser executado>\n",
        " return (RESULTADO)"
      ]
    },
    {
      "cell_type": "code",
      "source": [
        "# PRIMEIRO VAMOS RESOLVER O PROBLEMA\n",
        "# Define as listas com os números a serem somados\n",
        "\n",
        "l1 = (1, 2, 3, 4, 5)\n",
        "l2 = (3, 1, 5, 9, 0, 8, 2, 3, 4)\n",
        "l3 = (12, 43, 23, 12, 789)\n",
        "\n",
        "soma_l1 = 0\n",
        "for item in l1:\n",
        "  soma_l1 = soma_l1 + item\n",
        "\n",
        "soma_l2 = 0\n",
        "for item in l2:\n",
        "  soma_l2 = soma_l2 + item\n",
        "\n",
        "soma_l3 = 0\n",
        "for item in l3:\n",
        "  soma_l3 = soma_l3 + item\n",
        "\n",
        "# Exibe os resultados\n",
        "\n",
        "print(f'Resultado l1 = {soma_l1}, l2 = {soma_l2} e l3 = {soma_l3}')"
      ],
      "metadata": {
        "colab": {
          "base_uri": "https://localhost:8080/"
        },
        "id": "FSGUAeG0dd8q",
        "outputId": "6813951e-99fc-41aa-85fc-8fe3fe575f01"
      },
      "execution_count": 4,
      "outputs": [
        {
          "output_type": "stream",
          "name": "stdout",
          "text": [
            "Resultado l1 = 15, l2 = 35 e l3 = 879\n"
          ]
        }
      ]
    },
    {
      "cell_type": "code",
      "source": [
        "# Vamos criar uma função que realiza a soma dos itens de uma lista\n",
        "def soma_lista(lista):\n",
        "  soma = 0\n",
        "  for item in lista:\n",
        "      soma = soma + item\n",
        "  return soma"
      ],
      "metadata": {
        "id": "F-IagH5neVZb"
      },
      "execution_count": null,
      "outputs": []
    },
    {
      "cell_type": "code",
      "source": [
        "# chama a função para cada lista\n",
        "soma_l1 = soma_lista(l1)\n",
        "soma_l2 = soma_lista(l2)\n",
        "soma_l3 = soma_lista(l3)\n",
        "print(f'Resultado: l1={soma_l1}, l2={soma_l2}, l3={soma_l3}')"
      ],
      "metadata": {
        "colab": {
          "base_uri": "https://localhost:8080/"
        },
        "id": "SYlaurAHBMlu",
        "outputId": "65691237-3fd5-4506-dfb5-c05994c5e8b2"
      },
      "execution_count": 5,
      "outputs": [
        {
          "output_type": "stream",
          "name": "stdout",
          "text": [
            "Resultado: l1=15, l2=35, l3=879\n"
          ]
        }
      ]
    },
    {
      "cell_type": "code",
      "source": [
        "# função que realiza a multiplicação dos itens de uma lista\n",
        "def multiplica_lista(lista):\n",
        "  resultado = 1\n",
        "  for item in lista:\n",
        "      resultado = resultado * item\n",
        "  return resultado"
      ],
      "metadata": {
        "id": "QcVeVbyABXsS"
      },
      "execution_count": 10,
      "outputs": []
    },
    {
      "cell_type": "code",
      "source": [
        "# função de multiplicação de cada lista\n",
        "multiplica_l1 = multiplica_lista(l1)\n",
        "multiplica_l2 = multiplica_lista(l2)\n",
        "multiplica_l3 = multiplica_lista(l3)\n",
        "\n",
        "# Mostra os valores\n",
        "\n",
        "print(f'Resultado multiplicação: l1 = {multiplica_l1}, l2 = {multiplica_l2} e l3 = {multiplica_l3}')"
      ],
      "metadata": {
        "colab": {
          "base_uri": "https://localhost:8080/"
        },
        "id": "Ya-_BB5vB6c-",
        "outputId": "9b05f629-10e2-4de3-d549-f67022a8ed89"
      },
      "execution_count": 12,
      "outputs": [
        {
          "output_type": "stream",
          "name": "stdout",
          "text": [
            "Resultado multiplicação: l1 = 120, l2 = 0 e l3 = 112366224\n"
          ]
        }
      ]
    }
  ]
}