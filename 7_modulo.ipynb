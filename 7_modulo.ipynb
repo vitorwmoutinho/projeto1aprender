{
  "nbformat": 4,
  "nbformat_minor": 0,
  "metadata": {
    "colab": {
      "provenance": [],
      "authorship_tag": "ABX9TyNWzrNQ0ldRLE2bGMc9wL+k",
      "include_colab_link": true
    },
    "kernelspec": {
      "name": "python3",
      "display_name": "Python 3"
    },
    "language_info": {
      "name": "python"
    }
  },
  "cells": [
    {
      "cell_type": "markdown",
      "metadata": {
        "id": "view-in-github",
        "colab_type": "text"
      },
      "source": [
        "<a href=\"https://colab.research.google.com/github/vitorwmoutinho/projeto1aprender/blob/main/7_modulo.ipynb\" target=\"_parent\"><img src=\"https://colab.research.google.com/assets/colab-badge.svg\" alt=\"Open In Colab\"/></a>"
      ]
    },
    {
      "cell_type": "markdown",
      "source": [
        "7.1 Criação de módulos"
      ],
      "metadata": {
        "id": "VBVuXM_kBc0B"
      }
    },
    {
      "cell_type": "markdown",
      "source": [
        "Aula 01 - criação"
      ],
      "metadata": {
        "id": "cZO1MsuGCjwQ"
      }
    },
    {
      "cell_type": "code",
      "source": [
        "import area"
      ],
      "metadata": {
        "id": "kKvxrI9ACpZK"
      },
      "execution_count": 3,
      "outputs": []
    },
    {
      "cell_type": "code",
      "source": [
        "area.PI"
      ],
      "metadata": {
        "colab": {
          "base_uri": "https://localhost:8080/"
        },
        "id": "LQWFAGptDrKg",
        "outputId": "5fbb92b0-736e-4efb-fe48-0c3a1dad59f1"
      },
      "execution_count": 4,
      "outputs": [
        {
          "output_type": "execute_result",
          "data": {
            "text/plain": [
              "3.141592"
            ]
          },
          "metadata": {},
          "execution_count": 4
        }
      ]
    },
    {
      "cell_type": "code",
      "source": [
        "area.triangulo(5, 8)"
      ],
      "metadata": {
        "colab": {
          "base_uri": "https://localhost:8080/"
        },
        "id": "RcdIKEzNEzFO",
        "outputId": "c0849958-58ad-4c6c-d464-b8acefa62f65"
      },
      "execution_count": 5,
      "outputs": [
        {
          "output_type": "execute_result",
          "data": {
            "text/plain": [
              "20.0"
            ]
          },
          "metadata": {},
          "execution_count": 5
        }
      ]
    },
    {
      "cell_type": "code",
      "source": [
        "from area import triangulo\n"
      ],
      "metadata": {
        "id": "aGf4D_TxEgpD"
      },
      "execution_count": 6,
      "outputs": []
    },
    {
      "cell_type": "code",
      "source": [
        "triangulo(5, 8)"
      ],
      "metadata": {
        "colab": {
          "base_uri": "https://localhost:8080/"
        },
        "id": "bWpB8NHRE4kh",
        "outputId": "915c8f9f-f5e2-42e4-c59e-c357b42ef48a"
      },
      "execution_count": 8,
      "outputs": [
        {
          "output_type": "execute_result",
          "data": {
            "text/plain": [
              "20.0"
            ]
          },
          "metadata": {},
          "execution_count": 8
        }
      ]
    },
    {
      "cell_type": "code",
      "source": [
        "from area import *"
      ],
      "metadata": {
        "id": "E8qTXUKwFBaY"
      },
      "execution_count": 10,
      "outputs": []
    },
    {
      "cell_type": "code",
      "source": [
        "import area as ar"
      ],
      "metadata": {
        "id": "2MBXGPlbF9SF"
      },
      "execution_count": 13,
      "outputs": []
    },
    {
      "cell_type": "code",
      "source": [
        "ar.quadrado(6)"
      ],
      "metadata": {
        "colab": {
          "base_uri": "https://localhost:8080/"
        },
        "id": "LucrQ9chGPAd",
        "outputId": "1eb43709-cd0f-4c0a-f84d-72c47327412f"
      },
      "execution_count": 14,
      "outputs": [
        {
          "output_type": "execute_result",
          "data": {
            "text/plain": [
              "36"
            ]
          },
          "metadata": {},
          "execution_count": 14
        }
      ]
    },
    {
      "cell_type": "markdown",
      "source": [
        "7.2 - Módulos Embutidos do Python"
      ],
      "metadata": {
        "id": "IwPOv3NKHeNc"
      }
    },
    {
      "cell_type": "code",
      "source": [
        "import itertools\n",
        "# combinação de 3 em 3\n",
        "print(list(itertools.combinations([1, 2, 3, 4], 3)))"
      ],
      "metadata": {
        "colab": {
          "base_uri": "https://localhost:8080/"
        },
        "id": "fNluPUbpHXRT",
        "outputId": "2732d00c-ec7a-4be2-81ab-51283c48fd3e"
      },
      "execution_count": 22,
      "outputs": [
        {
          "output_type": "stream",
          "name": "stdout",
          "text": [
            "[(1, 2, 3), (1, 2, 4), (1, 3, 4), (2, 3, 4)]\n"
          ]
        }
      ]
    },
    {
      "cell_type": "code",
      "source": [
        "# permutação 2 em 2\n",
        "print(list(itertools.permutations(['a', 'b', 'c'], 2)))"
      ],
      "metadata": {
        "colab": {
          "base_uri": "https://localhost:8080/"
        },
        "id": "U18RWRGALGp0",
        "outputId": "e96b3d7d-a444-4cdd-a25f-d3c6b59f360f"
      },
      "execution_count": 23,
      "outputs": [
        {
          "output_type": "stream",
          "name": "stdout",
          "text": [
            "[('a', 'b'), ('a', 'c'), ('b', 'a'), ('b', 'c'), ('c', 'a'), ('c', 'b')]\n"
          ]
        }
      ]
    },
    {
      "cell_type": "markdown",
      "source": [
        "Módulo **datetime**: módulo para funcionamento que dependem do sistema operacional"
      ],
      "metadata": {
        "id": "TByi0HeSMzce"
      }
    },
    {
      "cell_type": "code",
      "source": [
        "from datetime import datetime, timedelta\n",
        "print('Datetime atual', datetime.now())"
      ],
      "metadata": {
        "colab": {
          "base_uri": "https://localhost:8080/"
        },
        "id": "oy8Z3LlKLyq5",
        "outputId": "1d867064-bb4b-4beb-b94f-69b1a854605c"
      },
      "execution_count": 24,
      "outputs": [
        {
          "output_type": "stream",
          "name": "stdout",
          "text": [
            "Datetime atual 2023-08-19 19:17:14.757035\n"
          ]
        }
      ]
    },
    {
      "cell_type": "markdown",
      "source": [
        "Modulo ***random***"
      ],
      "metadata": {
        "id": "4nbzQomkO4Vf"
      }
    },
    {
      "cell_type": "code",
      "source": [
        "import random\n",
        "print('Numero aleatório ntre 0 e 1', random.random())"
      ],
      "metadata": {
        "colab": {
          "base_uri": "https://localhost:8080/"
        },
        "id": "UTILQmVGO-fp",
        "outputId": "a304c966-963f-4f70-f2a8-feef4ca77f81"
      },
      "execution_count": 26,
      "outputs": [
        {
          "output_type": "stream",
          "name": "stdout",
          "text": [
            "Numero aleatório ntre 0 e 1 0.6170603818174227\n"
          ]
        }
      ]
    },
    {
      "cell_type": "code",
      "source": [
        "print('Inteiro aleatório entre 50 e 100', random.randint(50, 100))"
      ],
      "metadata": {
        "colab": {
          "base_uri": "https://localhost:8080/"
        },
        "id": "B7aao82WPdA-",
        "outputId": "a7eaf296-bd0b-4f72-dcd5-b525e06a1d54"
      },
      "execution_count": 29,
      "outputs": [
        {
          "output_type": "stream",
          "name": "stdout",
          "text": [
            "Inteiro aleatório entre 50 e 100 91\n"
          ]
        }
      ]
    },
    {
      "cell_type": "markdown",
      "source": [
        "Módulo ***os***: módulo para funcionalidades que dependem do sistema operacional"
      ],
      "metadata": {
        "id": "KeHSak4FP4uG"
      }
    },
    {
      "cell_type": "code",
      "source": [
        "import os"
      ],
      "metadata": {
        "id": "S_5m3AlJQJ0d"
      },
      "execution_count": 31,
      "outputs": []
    }
  ]
}