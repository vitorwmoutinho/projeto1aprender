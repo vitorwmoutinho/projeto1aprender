{
  "nbformat": 4,
  "nbformat_minor": 0,
  "metadata": {
    "colab": {
      "provenance": [],
      "name": "exercicios.ipynb",
      "authorship_tag": "ABX9TyMqcqVGUqt45gaRLdwbgWTa",
      "include_colab_link": true
    },
    "kernelspec": {
      "name": "python3",
      "display_name": "Python 3"
    },
    "language_info": {
      "name": "python"
    }
  },
  "cells": [
    {
      "cell_type": "markdown",
      "metadata": {
        "id": "view-in-github",
        "colab_type": "text"
      },
      "source": [
        "<a href=\"https://colab.research.google.com/github/vitorwmoutinho/projeto1aprender/blob/main/exercicios.ipynb\" target=\"_parent\"><img src=\"https://colab.research.google.com/assets/colab-badge.svg\" alt=\"Open In Colab\"/></a>"
      ]
    },
    {
      "cell_type": "code",
      "source": [
        "# A program that reads a sequence of numbers\n",
        "# and counts how many numbers are even and many are odd\n",
        "# The program terminates when zero is entered\n",
        "\n",
        "odd_numbers = 0\n",
        "even_numbers = 0\n",
        "\n",
        "# Read the first number.\n",
        "number = int(input(\"Enter a number or type 0 to stop: \"))\n",
        "\n",
        "# 0 terminate execution.\n",
        "while number != 0:\n",
        "  # Check if the number is odd\n",
        "   if number % 2 == 1:\n",
        "   # read the next number.\n",
        "      odd_numbers += 1\n",
        "   else:\n",
        "    # Increase the even_numbers counter\n",
        "    even_numbers += 1\n",
        "    # Read the next number\n",
        "   number = int(input(\"Enter a number or type 0 to stop: \"))\n",
        "\n",
        "# Print results\n",
        "print(\"Odd numbers count:\", odd_numbers)\n",
        "print(\"Even numbers count:\", even_numbers)"
      ],
      "metadata": {
        "colab": {
          "base_uri": "https://localhost:8080/"
        },
        "id": "5QkWzdESZ6ny",
        "outputId": "adfdee13-828d-4a57-a8c7-fca2a915c975"
      },
      "execution_count": null,
      "outputs": [
        {
          "output_type": "stream",
          "name": "stdout",
          "text": [
            "Enter a number or type 0 to stop: 1\n",
            "Enter a number or type 0 to stop: 2\n",
            "Enter a number or type 0 to stop: 3\n",
            "Enter a number or type 0 to stop: 4\n",
            "Enter a number or type 0 to stop: 5\n",
            "Enter a number or type 0 to stop: 0\n",
            "Odd numbers count: 3\n",
            "Even numbers count: 2\n"
          ]
        }
      ]
    },
    {
      "cell_type": "code",
      "source": [
        "for i in range(1, 6):\n",
        "    print(\"The value of i is currently\", i)"
      ],
      "metadata": {
        "colab": {
          "base_uri": "https://localhost:8080/"
        },
        "id": "Zn3toTLclZi7",
        "outputId": "b1dd70c1-f1ea-4842-b79a-d8fd79798dcd"
      },
      "execution_count": null,
      "outputs": [
        {
          "output_type": "stream",
          "name": "stdout",
          "text": [
            "The value of i is currently 1\n",
            "The value of i is currently 2\n",
            "The value of i is currently 3\n",
            "The value of i is currently 4\n",
            "The value of i is currently 5\n"
          ]
        }
      ]
    },
    {
      "cell_type": "code",
      "source": [
        "import time\n",
        "    # Write a for loop that counts to five.\n",
        "for i in range(1, 6):\n",
        "    # Body of the loop - use: time.sleep(1)\n",
        "    time.sleep(1)\n",
        "    print(i, \"Mississippi\")\n",
        "# Write a print function with the final message.\n",
        "print(\"Ready or not, here I come\")"
      ],
      "metadata": {
        "colab": {
          "base_uri": "https://localhost:8080/"
        },
        "id": "MckEU67umfO-",
        "outputId": "9b61b700-8707-4dc9-9900-35752bc6ddee"
      },
      "execution_count": null,
      "outputs": [
        {
          "output_type": "stream",
          "name": "stdout",
          "text": [
            "1 Mississippi\n",
            "2 Mississippi\n",
            "3 Mississippi\n",
            "4 Mississippi\n",
            "5 Mississippi\n",
            "Ready or not, here I come\n"
          ]
        }
      ]
    },
    {
      "cell_type": "code",
      "source": [
        "# break - example\n",
        "\n",
        "print(\"The break instruction:\")\n",
        "for i in range(1, 6):\n",
        "    if i == 3:\n",
        "        break\n",
        "    print(\"Inside the loop.\", i)\n",
        "print(\"Outside the loop.\")\n"
      ],
      "metadata": {
        "colab": {
          "base_uri": "https://localhost:8080/"
        },
        "id": "37YeIOVSdTxo",
        "outputId": "7aa26fcc-edba-4260-dd2a-bca4ce9a081c"
      },
      "execution_count": null,
      "outputs": [
        {
          "output_type": "stream",
          "name": "stdout",
          "text": [
            "The break instruction:\n",
            "Inside the loop. 1\n",
            "Inside the loop. 2\n",
            "Outside the loop.\n"
          ]
        }
      ]
    },
    {
      "cell_type": "code",
      "source": [
        "\n",
        "# continue - example\n",
        "\n",
        "print(\"\\nThe continue instruction:\")\n",
        "for i in range(1, 6):\n",
        "    if i == 3:\n",
        "        continue\n",
        "    print(\"Inside the loop.\", i)\n",
        "print(\"Outside the loop.\")"
      ],
      "metadata": {
        "colab": {
          "base_uri": "https://localhost:8080/"
        },
        "id": "_cPZd-Ild_9B",
        "outputId": "9cdaecf4-b0fd-4a8a-dd0b-50eb5ff23420"
      },
      "execution_count": null,
      "outputs": [
        {
          "output_type": "stream",
          "name": "stdout",
          "text": [
            "\n",
            "The continue instruction:\n",
            "Inside the loop. 1\n",
            "Inside the loop. 2\n",
            "Inside the loop. 4\n",
            "Inside the loop. 5\n",
            "Outside the loop.\n"
          ]
        }
      ]
    },
    {
      "cell_type": "code",
      "source": [
        "largest_number = -99999999\n",
        "counter = 0\n",
        "\n",
        "while True:\n",
        "    number = int(input(\"Enter a number or type -1 to end program: \"))\n",
        "    if number == -1:\n",
        "        break\n",
        "    counter += 1\n",
        "    if number > largest_number:\n",
        "        largest_number = number\n",
        "\n",
        "if counter != 0:\n",
        "    print(\"The largest number is\", largest_number)\n",
        "else:\n",
        "    print(\"You haven't entered any number.\")\n",
        "\n"
      ],
      "metadata": {
        "colab": {
          "base_uri": "https://localhost:8080/"
        },
        "id": "Z_lFVEzTeTMI",
        "outputId": "d6c7496d-b3b3-4a40-b2d9-d3a9bb86804c"
      },
      "execution_count": null,
      "outputs": [
        {
          "output_type": "stream",
          "name": "stdout",
          "text": [
            "Enter a number or type -1 to end program: 1\n",
            "Enter a number or type -1 to end program: 2\n",
            "Enter a number or type -1 to end program: -1\n",
            "The largest number is 2\n"
          ]
        }
      ]
    },
    {
      "cell_type": "code",
      "source": [
        "largest_number = -99999999\n",
        "counter = 0\n",
        "\n",
        "number = int(input(\"Enter a number or type -1 to end program: \"))\n",
        "\n",
        "while number != -1:\n",
        "    if number == -1:\n",
        "        continue\n",
        "    counter += 1\n",
        "\n",
        "    if number > largest_number:\n",
        "        largest_number = number\n",
        "    number = int(input(\"Enter a number or type -1 to end program: \"))\n",
        "\n",
        "if counter:\n",
        "    print(\"The largest number is\", largest_number)\n",
        "else:\n",
        "    print(\"You haven't entered any number.\")\n",
        "\n"
      ],
      "metadata": {
        "colab": {
          "base_uri": "https://localhost:8080/"
        },
        "id": "wyjmUbVVe85k",
        "outputId": "715d749f-c1ca-4503-f0af-7704a03c40ff"
      },
      "execution_count": null,
      "outputs": [
        {
          "output_type": "stream",
          "name": "stdout",
          "text": [
            "Enter a number or type -1 to end program: 10\n",
            "Enter a number or type -1 to end program: 12\n",
            "Enter a number or type -1 to end program: -1\n",
            "The largest number is 12\n"
          ]
        }
      ]
    },
    {
      "cell_type": "code",
      "source": [
        "p_passe = input(\"Escolha o animal: \")\n",
        "\n",
        "while p_passe != \"chupacabra\":\n",
        "  if p_passe == \"chupacabra\":\n",
        "    break\n",
        "  else:\n",
        "    print(\"Animal errado, escolha novamente: \")\n",
        "    p_passe = input(\"Escolha o animal: \")\n",
        "\n",
        "else:\n",
        "  print(\"Zélelele\")"
      ],
      "metadata": {
        "colab": {
          "base_uri": "https://localhost:8080/"
        },
        "id": "GSRoEXKvhZdI",
        "outputId": "f9745288-6137-4b2f-e359-4847df246b02"
      },
      "execution_count": null,
      "outputs": [
        {
          "output_type": "stream",
          "name": "stdout",
          "text": [
            "Escolha o animal: Marex\n",
            "Animal errado, escolha novamente: \n",
            "Escolha o animal: Bovo\n",
            "Animal errado, escolha novamente: \n",
            "Escolha o animal: bolovo\n",
            "Animal errado, escolha novamente: \n",
            "Escolha o animal: dacueba\n",
            "Animal errado, escolha novamente: \n",
            "Escolha o animal: chupacabra\n",
            "Zélelele\n"
          ]
        }
      ]
    },
    {
      "cell_type": "code",
      "source": [
        "# Prompt the user to enter a word\n",
        "# and assign it to the user_word variable.\n",
        "user_Word = input(\"Enter a word: \")\n",
        "user_Word = user_Word.upper()\n",
        "\n",
        "for letter in user_Word:\n",
        "    # Complete the body of the for loop\n",
        "    if letter in \"AEIOU\":\n",
        "      continue\n",
        "    print(letter)"
      ],
      "metadata": {
        "colab": {
          "base_uri": "https://localhost:8080/"
        },
        "id": "Ru5YPbynhZZr",
        "outputId": "1ae89ee1-1c69-4b0c-c4dc-23bb03b2ca31"
      },
      "execution_count": null,
      "outputs": [
        {
          "output_type": "stream",
          "name": "stdout",
          "text": [
            "Enter a word: Gregory\n",
            "G\n",
            "R\n",
            "G\n",
            "R\n",
            "Y\n"
          ]
        }
      ]
    },
    {
      "cell_type": "code",
      "source": [
        "word_without_vowels = \"\"\n",
        "user_word = input(\"Enter a word: \")\n",
        "user_word = user_word.upper()\n",
        "# Prompt the user to enter a word\n",
        "# and assign it to the user_word variable.\n",
        "\n",
        "\n",
        "for letter in user_word:\n",
        "  if letter in \"AEIOU\":\n",
        "    continue\n",
        "  word_without_vowels += letter\n",
        "    # Complete the body of the loop.\n",
        "\n",
        "# Print the word assigned to word_without_vowels.\n",
        "print(word_without_vowels)"
      ],
      "metadata": {
        "colab": {
          "base_uri": "https://localhost:8080/"
        },
        "id": "nifpzLVhU4mP",
        "outputId": "30ff7ad0-4abc-433f-bfb9-b590c74a767b"
      },
      "execution_count": null,
      "outputs": [
        {
          "output_type": "stream",
          "name": "stdout",
          "text": [
            "Enter a word: Gregory\n",
            "GRGRY\n"
          ]
        }
      ]
    },
    {
      "cell_type": "code",
      "source": [
        "i = 1\n",
        "while i < 5:\n",
        "  print(i)\n",
        "  i += 1\n",
        "else:\n",
        "  print(\"else:\", i)"
      ],
      "metadata": {
        "colab": {
          "base_uri": "https://localhost:8080/"
        },
        "id": "DpuS8orFZMk4",
        "outputId": "e9de96c1-69a7-495f-df5d-a27e10a2bc69"
      },
      "execution_count": null,
      "outputs": [
        {
          "output_type": "stream",
          "name": "stdout",
          "text": [
            "1\n",
            "2\n",
            "3\n",
            "4\n",
            "else: 5\n"
          ]
        }
      ]
    },
    {
      "cell_type": "code",
      "source": [
        "for i in range(6):\n",
        "    print(i)\n",
        "else:\n",
        "    print(\"else:\", i)\n"
      ],
      "metadata": {
        "colab": {
          "base_uri": "https://localhost:8080/"
        },
        "id": "TvXighCDIXDG",
        "outputId": "af543558-514b-4643-8892-4646d2fdc6ad"
      },
      "execution_count": null,
      "outputs": [
        {
          "output_type": "stream",
          "name": "stdout",
          "text": [
            "0\n",
            "1\n",
            "2\n",
            "3\n",
            "4\n",
            "5\n",
            "else: 5\n"
          ]
        }
      ]
    },
    {
      "cell_type": "code",
      "source": [
        "blocks = int(input(\"Enter the number of blocks: \"))\n",
        "\n",
        "height = 0\n",
        "blocks_used = 0\n",
        "step = 1\n",
        "while blocks_used < blocks:\n",
        "  blocks_used += step\n",
        "  if blocks_used > blocks:\n",
        "    break\n",
        "  else:\n",
        "    height += 1\n",
        "    step += 1\n",
        "\n",
        "\n",
        "print(\"The height of the pyramid:\", height)"
      ],
      "metadata": {
        "colab": {
          "base_uri": "https://localhost:8080/"
        },
        "id": "sdtKFv9CI4RS",
        "outputId": "fed10747-692e-429c-ed72-754e9003ebeb"
      },
      "execution_count": null,
      "outputs": [
        {
          "output_type": "stream",
          "name": "stdout",
          "text": [
            "Enter the number of blocks: 1000\n",
            "The height of the pyramid: 44\n"
          ]
        }
      ]
    },
    {
      "cell_type": "code",
      "source": [
        "c0 = int(input(\"Enter a number: \"))\n",
        "if c0 < 1:\n",
        "  print(\"Use a non-negative, non-zero number\")\n",
        "  exit\n",
        "\n",
        "steps = 0\n",
        "\n",
        "while c0 != 1:\n",
        "  if c0  % 2 == 0:\n",
        "    c0 = int(c0 / 2)\n",
        "  else:\n",
        "    c0 = 3 * c0 + 1\n",
        "  print(c0)\n",
        "  steps += 1\n",
        "\n",
        "print(\"Total number of steps: \", steps)"
      ],
      "metadata": {
        "id": "5wBVt9uVNIen"
      },
      "execution_count": null,
      "outputs": []
    },
    {
      "cell_type": "code",
      "source": [
        "# Example 1\n",
        "while True:\n",
        "    print(\"Stuck in an infinite loop.\")\n",
        "\n",
        "# Example 2\n",
        "counter = 5\n",
        "while counter > 2:\n",
        "    print(counter)\n",
        "    counter -= 1\n",
        "\n"
      ],
      "metadata": {
        "id": "7tUuuK5VRCAq"
      },
      "execution_count": null,
      "outputs": []
    },
    {
      "cell_type": "code",
      "source": [
        "# Example 1\n",
        "word = \"Python\"\n",
        "for letter in word:\n",
        "    print(letter, end=\"*\")\n",
        "\n",
        "# Example 2\n",
        "for i in range(1, 10):\n",
        "    if i % 2 == 0:\n",
        "        print(i)\n",
        "\n"
      ],
      "metadata": {
        "id": "3xOI1_UxRRGT"
      },
      "execution_count": null,
      "outputs": []
    },
    {
      "cell_type": "code",
      "source": [
        "text = \"OpenEDG Python Institute\"\n",
        "for letter in text:\n",
        "    if letter == \"i\":\n",
        "        break\n",
        "    print(letter, end=\"\")\n",
        "\n"
      ],
      "metadata": {
        "colab": {
          "base_uri": "https://localhost:8080/"
        },
        "id": "9Y-ccnxBTeEL",
        "outputId": "f34ccd7c-8a88-4f56-a7c7-2511c83cd7c0"
      },
      "execution_count": null,
      "outputs": [
        {
          "output_type": "stream",
          "name": "stdout",
          "text": [
            "OpenEDG Python Inst"
          ]
        }
      ]
    },
    {
      "cell_type": "code",
      "source": [
        "text = \"pyxpyxpyx\"\n",
        "for letter in text:\n",
        "    if letter == \"x\":\n",
        "        continue\n",
        "    print(letter, end=\"\")\n",
        "\n"
      ],
      "metadata": {
        "colab": {
          "base_uri": "https://localhost:8080/"
        },
        "id": "Y07BInnGVNwZ",
        "outputId": "aff8a225-7ca4-4a40-bfd2-491ba0e31ce7"
      },
      "execution_count": null,
      "outputs": [
        {
          "output_type": "stream",
          "name": "stdout",
          "text": [
            "pypypy"
          ]
        }
      ]
    },
    {
      "cell_type": "code",
      "source": [
        "n = int(input(\"Numero: \"))\n",
        "\n",
        "while n != 3:\n",
        "    print(n)\n",
        "    n += 1\n",
        "else:\n",
        "    print(n, \"else\")\n",
        "\n",
        "print()\n",
        "\n",
        "for i in range(0, 5):\n",
        "    print(i)\n",
        "else:\n",
        "    print(i, \"else\")\n",
        "\n"
      ],
      "metadata": {
        "id": "4VtyojcCVqT8"
      },
      "execution_count": null,
      "outputs": []
    },
    {
      "cell_type": "code",
      "source": [
        "for i in range(3):\n",
        "    print(i, end=\" \")  # Outputs: 0 1 2\n",
        "\n",
        "for i in range(6, 1, -2):\n",
        "    print(i, end=\" \")  # Outputs: 6, 4, 2"
      ],
      "metadata": {
        "colab": {
          "base_uri": "https://localhost:8080/"
        },
        "id": "XX_DQ-JXXI09",
        "outputId": "6def99de-b140-4f08-819e-bf50157826c9"
      },
      "execution_count": null,
      "outputs": [
        {
          "output_type": "stream",
          "name": "stdout",
          "text": [
            "0 1 2 6 4 2 "
          ]
        }
      ]
    },
    {
      "cell_type": "code",
      "source": [
        "for i in range(11):\n",
        "  if i % 2 != 0:\n",
        "    print(i)"
      ],
      "metadata": {
        "id": "_qa_MXXzYjAa"
      },
      "execution_count": null,
      "outputs": []
    },
    {
      "cell_type": "code",
      "source": [
        "x = 1\n",
        "while x < 11:\n",
        "  if x % 2 != 0:\n",
        "    print(x)\n",
        "  x += 1\n",
        "\n"
      ],
      "metadata": {
        "id": "eyR06LodZN8r"
      },
      "execution_count": null,
      "outputs": []
    },
    {
      "cell_type": "code",
      "source": [
        "for ch in \"john.smith@pythoninstitute.org\":\n",
        "    if ch == \"@\":\n",
        "        break\n",
        "    print(ch, end=\"\")"
      ],
      "metadata": {
        "colab": {
          "base_uri": "https://localhost:8080/"
        },
        "id": "zVGZhVrranEa",
        "outputId": "3246d6d7-8bea-451d-a2da-64fdd71f3326"
      },
      "execution_count": null,
      "outputs": [
        {
          "output_type": "stream",
          "name": "stdout",
          "text": [
            "john.smith"
          ]
        }
      ]
    },
    {
      "cell_type": "code",
      "source": [
        "for digit in \"0165031806510\":\n",
        "  if digit == \"0\":\n",
        "    print(\"x\", end=\"\")\n",
        "    continue\n",
        "  print(digit, end=\"\")"
      ],
      "metadata": {
        "colab": {
          "base_uri": "https://localhost:8080/"
        },
        "id": "jat-60BNbHP9",
        "outputId": "50c72091-1783-4773-a48a-0211c5274bfd"
      },
      "execution_count": null,
      "outputs": [
        {
          "output_type": "stream",
          "name": "stdout",
          "text": [
            "x165x318x651x"
          ]
        }
      ]
    },
    {
      "cell_type": "code",
      "source": [
        "n = 3\n",
        "\n",
        "while n > 0:\n",
        "  print(n + 1)\n",
        "  n -= 1\n",
        "else:\n",
        "  print(n)"
      ],
      "metadata": {
        "colab": {
          "base_uri": "https://localhost:8080/"
        },
        "id": "OCwDl18ob07K",
        "outputId": "1ee88b56-8131-4f01-fc25-dc1ec34fae6a"
      },
      "execution_count": null,
      "outputs": [
        {
          "output_type": "stream",
          "name": "stdout",
          "text": [
            "4\n",
            "3\n",
            "2\n",
            "0\n"
          ]
        }
      ]
    },
    {
      "cell_type": "code",
      "source": [
        "n = range(4)\n",
        "\n",
        "for num in n:\n",
        "  print(num - 1)\n",
        "else:\n",
        "  print(num)"
      ],
      "metadata": {
        "colab": {
          "base_uri": "https://localhost:8080/"
        },
        "id": "WBdZCzmNcQYw",
        "outputId": "abcdd61a-b2b3-4692-bf3e-697eddfcac12"
      },
      "execution_count": null,
      "outputs": [
        {
          "output_type": "stream",
          "name": "stdout",
          "text": [
            "-1\n",
            "0\n",
            "1\n",
            "2\n",
            "3\n"
          ]
        }
      ]
    },
    {
      "cell_type": "code",
      "source": [
        "def fun (in = 2, out = 3):\n",
        "  return in * out\n",
        "  print(fun(3))"
      ],
      "metadata": {
        "colab": {
          "base_uri": "https://localhost:8080/",
          "height": 140
        },
        "id": "JnK2kp_fGoeb",
        "outputId": "b641143e-16bd-40b8-8834-c9b154d641fe"
      },
      "execution_count": null,
      "outputs": [
        {
          "output_type": "error",
          "ename": "SyntaxError",
          "evalue": "invalid syntax (<ipython-input-1-f8f00895fbe0>, line 1)",
          "traceback": [
            "\u001b[0;36m  File \u001b[0;32m\"<ipython-input-1-f8f00895fbe0>\"\u001b[0;36m, line \u001b[0;32m1\u001b[0m\n\u001b[0;31m    def fun (in = 2, out = 3):\u001b[0m\n\u001b[0m             ^\u001b[0m\n\u001b[0;31mSyntaxError\u001b[0m\u001b[0;31m:\u001b[0m invalid syntax\n"
          ]
        }
      ]
    },
    {
      "cell_type": "code",
      "source": [
        "for i in range(0, 6, 3):\n",
        "  print(i)"
      ],
      "metadata": {
        "colab": {
          "base_uri": "https://localhost:8080/"
        },
        "id": "tZOLlTiPcpPE",
        "outputId": "3f949e97-c40c-4db5-fd65-364b5fb1043e"
      },
      "execution_count": null,
      "outputs": [
        {
          "output_type": "stream",
          "name": "stdout",
          "text": [
            "0\n",
            "3\n"
          ]
        }
      ]
    },
    {
      "cell_type": "code",
      "source": [
        "counter > 0 and value == 100"
      ],
      "metadata": {
        "id": "oxwRRRXvMWYS"
      },
      "execution_count": null,
      "outputs": []
    },
    {
      "cell_type": "code",
      "source": [
        "# Example 1:\n",
        "print(var > 0)\n",
        "print(not (var <= 0))\n",
        "\n",
        "\n",
        "# Example 2:\n",
        "print(var != 0)\n",
        "print(not (var == 0))"
      ],
      "metadata": {
        "id": "MkRq9lQOM7a6"
      },
      "execution_count": null,
      "outputs": []
    },
    {
      "cell_type": "code",
      "source": [
        "i = 1\n",
        "j = not not i"
      ],
      "metadata": {
        "id": "LAOX_XDDNWDL"
      },
      "execution_count": null,
      "outputs": []
    },
    {
      "cell_type": "code",
      "source": [
        "var = 17\n",
        "var_right = var >> 1\n",
        "var_left = var << 2\n",
        "print(var, var_left, var_right)"
      ],
      "metadata": {
        "colab": {
          "base_uri": "https://localhost:8080/"
        },
        "id": "9GJL8luCOrL7",
        "outputId": "d5120861-5544-43d3-d8e8-4b219000dc11"
      },
      "execution_count": null,
      "outputs": [
        {
          "output_type": "stream",
          "name": "stdout",
          "text": [
            "17 68 8\n"
          ]
        }
      ]
    },
    {
      "cell_type": "code",
      "source": [
        "x = 1\n",
        "y = 0\n",
        "\n",
        "z = ((x == y) and (x == y)) or not(x == y)\n",
        "print(not(z))\n"
      ],
      "metadata": {
        "colab": {
          "base_uri": "https://localhost:8080/"
        },
        "id": "lKkXVMnKg-vZ",
        "outputId": "f34d2083-01f4-4e52-bb4d-1f0fefc388d8"
      },
      "execution_count": null,
      "outputs": [
        {
          "output_type": "stream",
          "name": "stdout",
          "text": [
            "False\n"
          ]
        }
      ]
    },
    {
      "cell_type": "code",
      "source": [
        "x = 4\n",
        "y = 1\n",
        "\n",
        "a = x & y\n",
        "b = x | y\n",
        "c = ~x  # tricky!\n",
        "d = x ^ 5\n",
        "e = x >> 2\n",
        "f = x << 2\n",
        "\n",
        "print(a, b, c, d, e, f)"
      ],
      "metadata": {
        "colab": {
          "base_uri": "https://localhost:8080/"
        },
        "id": "nRcE6oDShOLz",
        "outputId": "24286b18-bbed-4bbf-9b3b-00cf0c9d9cd9"
      },
      "execution_count": null,
      "outputs": [
        {
          "output_type": "stream",
          "name": "stdout",
          "text": [
            "0 5 -5 1 1 16\n"
          ]
        }
      ]
    },
    {
      "cell_type": "code",
      "source": [
        "numbers = [10, 5, 7, 2, 1]\n",
        "print(\"Original list content:\", numbers)  # Printing original list content.\n",
        "\n",
        "numbers[0] = 111\n",
        "print(\"New list content: \", numbers)  # Current list content."
      ],
      "metadata": {
        "colab": {
          "base_uri": "https://localhost:8080/"
        },
        "id": "c3MecL_sVfjk",
        "outputId": "bc7113ec-8843-4582-8c75-150ecf5694d6"
      },
      "execution_count": null,
      "outputs": [
        {
          "output_type": "stream",
          "name": "stdout",
          "text": [
            "Original list content: [10, 5, 7, 2, 1]\n",
            "New list content:  [111, 5, 7, 2, 1]\n"
          ]
        }
      ]
    },
    {
      "cell_type": "code",
      "source": [
        "numbers = [10, 5, 7, 2, 1]\n",
        "print(\"Original list content:\", numbers)  # Printing original list content.\n",
        "\n",
        "numbers[0] = 111\n",
        "print(\"\\nPrevious list content:\", numbers)  # Printing previous list content.\n",
        "\n",
        "numbers[1] = numbers[4]  # Copying value of the fifth element to the second.\n",
        "print(\"New list content:\", numbers)  # Printing current list content."
      ],
      "metadata": {
        "colab": {
          "base_uri": "https://localhost:8080/"
        },
        "id": "e6PcWhBkWYKT",
        "outputId": "3be65b3b-a4ec-4b61-cbf6-9636f1985511"
      },
      "execution_count": null,
      "outputs": [
        {
          "output_type": "stream",
          "name": "stdout",
          "text": [
            "Original list content: [10, 5, 7, 2, 1]\n",
            "\n",
            "Previous list content: [111, 5, 7, 2, 1]\n",
            "New list content: [111, 1, 7, 2, 1]\n"
          ]
        }
      ]
    },
    {
      "cell_type": "code",
      "source": [
        "numbers = [10, 5, 7, 2, 1]\n",
        "print(\"Original list content:\", numbers)  # Printing original list content.\n",
        "\n",
        "numbers[0] = 111\n",
        "print(\"\\nPrevious list content:\", numbers)  # Printing previous list content.\n",
        "\n",
        "numbers[1] = numbers[4]  # Copying value of the fifth element to the second.\n",
        "print(\"Previous list content:\", numbers)  # Printing previous list content.\n",
        "\n",
        "print(\"\\nList length:\", len(numbers))  # Printing the list's length.\n"
      ],
      "metadata": {
        "colab": {
          "base_uri": "https://localhost:8080/"
        },
        "id": "Zl7VLNQgXX-x",
        "outputId": "b8798014-5838-40dc-c2a6-a275740a3a07"
      },
      "execution_count": null,
      "outputs": [
        {
          "output_type": "stream",
          "name": "stdout",
          "text": [
            "Original list content: [10, 5, 7, 2, 1]\n",
            "\n",
            "Previous list content: [111, 5, 7, 2, 1]\n",
            "Previous list content: [111, 1, 7, 2, 1]\n",
            "\n",
            "List length: 5\n"
          ]
        }
      ]
    },
    {
      "cell_type": "code",
      "source": [
        "numbers = [10, 5, 7, 2, 1]\n",
        "print(\"Original list content:\", numbers)  # Printing original list content.\n",
        "\n",
        "numbers[0] = 111\n",
        "print(\"\\nPrevious list content:\", numbers)  # Printing previous list content.\n",
        "\n",
        "numbers[1] = numbers[4]  # Copying value of the fifth element to the second.\n",
        "print(\"Previous list content:\", numbers)  # Printing previous list content.\n",
        "\n",
        "print(\"\\nList's length:\", len(numbers))  # Printing previous list length.\n",
        "\n",
        "###\n",
        "\n",
        "del numbers[1]  # Removing the second element from the list.\n",
        "print(\"New list's length:\", len(numbers))  # Printing new list length.\n",
        "print(\"\\nNew list content:\", numbers)  # Printing current list content.\n",
        "\n"
      ],
      "metadata": {
        "id": "T0ISmbs2ZoNd"
      },
      "execution_count": null,
      "outputs": []
    },
    {
      "cell_type": "code",
      "source": [
        "numbers = [111, 7, 2, 1]\n",
        "print(numbers[-1])\n",
        "print(numbers[-2])\n",
        "print(numbers[-4])"
      ],
      "metadata": {
        "colab": {
          "base_uri": "https://localhost:8080/"
        },
        "id": "NKTS5V0Za8zQ",
        "outputId": "0ce2fe49-9e83-44b7-811d-4f33317229b8"
      },
      "execution_count": null,
      "outputs": [
        {
          "output_type": "stream",
          "name": "stdout",
          "text": [
            "1\n",
            "2\n",
            "111\n"
          ]
        }
      ]
    },
    {
      "cell_type": "code",
      "source": [
        "hat_list = [1, 2, 3, 4, 5]  # This is an existing list of numbers hidden in the hat.\n",
        "\n",
        "print(hat_list)\n",
        "\n",
        "hat_list[3] = int(input(\"Escreva o numero novo: \"))\n",
        "print(hat_list)\n",
        "# Step 2: write a line of code that removes the last element from the list.\n",
        "\n",
        "del hat_list[4]\n",
        "\n",
        "# Step 3: write a line of code that prints the length of the existing list.\n",
        "\n",
        "print(hat_list)\n",
        "print(len(hat_list))\n"
      ],
      "metadata": {
        "colab": {
          "base_uri": "https://localhost:8080/"
        },
        "id": "eaFL29pEbdvc",
        "outputId": "16d0474e-bcb6-4de6-d4e9-ff6783e41e45"
      },
      "execution_count": null,
      "outputs": [
        {
          "output_type": "stream",
          "name": "stdout",
          "text": [
            "[1, 2, 3, 4, 5]\n",
            "Escreva o numero novo: 123\n",
            "[1, 2, 3, 123, 5]\n",
            "[1, 2, 3, 123]\n",
            "4\n"
          ]
        }
      ]
    },
    {
      "cell_type": "code",
      "source": [
        "numbers = [111, 7, 2, 1]\n",
        "print(len(numbers))\n",
        "print(numbers)\n",
        "\n",
        "list.insert(1, 333)\n",
        "\n",
        "numbers.append(4)\n",
        "\n",
        "print(len(numbers))\n",
        "print(numbers)\n",
        "\n",
        "###\n",
        "\n",
        "numbers.insert(0, 222)\n",
        "print(len(numbers))\n",
        "print(numbers)\n",
        "\n",
        "#"
      ],
      "metadata": {
        "id": "c1MxiwPFf6gY"
      },
      "execution_count": null,
      "outputs": []
    },
    {
      "cell_type": "code",
      "source": [
        "my_list = []  # Creating an empty list.\n",
        "\n",
        "for i in range(5):\n",
        "    my_list.insert(0, i + 1)\n",
        "\n",
        "print(my_list)\n",
        "\n"
      ],
      "metadata": {
        "colab": {
          "base_uri": "https://localhost:8080/"
        },
        "id": "SWgGaQY5jr1o",
        "outputId": "ed601f86-380f-4f59-a7a1-47cb0276c3be"
      },
      "execution_count": null,
      "outputs": [
        {
          "output_type": "stream",
          "name": "stdout",
          "text": [
            "[5, 4, 3, 2, 1]\n"
          ]
        }
      ]
    },
    {
      "cell_type": "code",
      "source": [
        "my_list = [] #Creating an empty list\n",
        "\n",
        "for i in range(5):\n",
        "  my_list.append(i + 1)\n",
        "\n",
        "print(my_list)"
      ],
      "metadata": {
        "colab": {
          "base_uri": "https://localhost:8080/"
        },
        "id": "aKnFs65TBbOn",
        "outputId": "e533b558-790e-4410-96d0-bd9b37a137f2"
      },
      "execution_count": null,
      "outputs": [
        {
          "output_type": "stream",
          "name": "stdout",
          "text": [
            "[1, 2, 3, 4, 5]\n"
          ]
        }
      ]
    },
    {
      "cell_type": "code",
      "source": [
        "my_list1 = [10, 1, 8, 3, 5]\n",
        "total = 0\n",
        "\n",
        "for i in range(len(my_list1)):\n",
        "  total += my_list1[i]\n",
        "\n",
        "print(total)\n"
      ],
      "metadata": {
        "id": "_vbVeupSC59F"
      },
      "execution_count": null,
      "outputs": []
    },
    {
      "cell_type": "code",
      "source": [
        "var1 = 1\n",
        "var2 = 2\n",
        "\n",
        "aux = var1\n",
        "var1 = var2\n",
        "var2 = aux\n",
        "\n",
        "print(var1,\" \", var2)"
      ],
      "metadata": {
        "colab": {
          "base_uri": "https://localhost:8080/"
        },
        "id": "gu6suKSTEdzT",
        "outputId": "a46670a5-d32c-4af3-dbdf-5386c4042ecd"
      },
      "execution_count": null,
      "outputs": [
        {
          "output_type": "stream",
          "name": "stdout",
          "text": [
            "2   1\n"
          ]
        }
      ]
    },
    {
      "cell_type": "code",
      "source": [
        "var_1 = 1\n",
        "var_2 = 2\n",
        "\n",
        "print(var_1, var_2)\n",
        "\n",
        "var_1, var_2 = var_2, var_1\n",
        "\n",
        "print(var_1, var_2)"
      ],
      "metadata": {
        "colab": {
          "base_uri": "https://localhost:8080/"
        },
        "id": "yNBNFQWjFJZE",
        "outputId": "ead55df3-b5f8-4b91-e3c2-11d176dd01bf"
      },
      "execution_count": null,
      "outputs": [
        {
          "output_type": "stream",
          "name": "stdout",
          "text": [
            "1 2\n",
            "2 1\n"
          ]
        }
      ]
    },
    {
      "cell_type": "code",
      "source": [
        "my_list = [10, 1, 8, 3, 5]\n",
        "\n",
        "my_list[0], my_list[4] = my_list[4], my_list[0]\n",
        "my_list[1], my_list[3] = my_list[3], my_list[1]\n",
        "\n",
        "print(my_list)"
      ],
      "metadata": {
        "colab": {
          "base_uri": "https://localhost:8080/"
        },
        "id": "netB4PonF26P",
        "outputId": "09c242ae-a7f5-4ef6-c97a-e1818eedb4b4"
      },
      "execution_count": null,
      "outputs": [
        {
          "output_type": "stream",
          "name": "stdout",
          "text": [
            "[5, 3, 8, 1, 10]\n"
          ]
        }
      ]
    },
    {
      "cell_type": "code",
      "source": [
        "my_list = [10, 1, 8, 3, 5]\n",
        "length = len(my_list)\n",
        "\n",
        "for i in range (length // 2):\n",
        "  my_list[i], my_list[length - i - 1] = my_list[length - i - 1], my_list[i]\n",
        "\n",
        "print(my_list)"
      ],
      "metadata": {
        "colab": {
          "base_uri": "https://localhost:8080/"
        },
        "id": "CqoVvsPvGiXg",
        "outputId": "59dd20b5-cd8b-4b84-b4ad-4342a10f66e9"
      },
      "execution_count": null,
      "outputs": [
        {
          "output_type": "stream",
          "name": "stdout",
          "text": [
            "[5, 3, 8, 1, 10]\n"
          ]
        }
      ]
    },
    {
      "cell_type": "code",
      "source": [
        "beatles = [] #empty list\n",
        "\n",
        "print(\"Step 1:\", beatles)\n",
        "\n",
        "# step 2\n",
        "beatles.append(\"John Lennon\")\n",
        "beatles.append(\"Paul McCartey\")\n",
        "beatles.append(\"George Harrison\")\n",
        "print(\"Step 2:\", beatles)\n",
        "\n",
        "# step 3\n",
        "for menber in range(2):\n",
        "  beatlesName = input(\"New beatle name? \")\n",
        "  beatles.append(beatlesName)\n",
        "print(\"Step 3:\", beatles)\n",
        "\n",
        "# step 4\n",
        "del beatles[3:5]\n",
        "print(\"Step 4:\", beatles)\n",
        "\n",
        "# step 5\n",
        "beatles.insert(0, \"Ringo Star\")\n",
        "print(\"Step 5:\", beatles)\n",
        "\n",
        "\n",
        "# testing list legth\n",
        "print(\"The Fab\", len(beatles))\n"
      ],
      "metadata": {
        "id": "nJBAA4lGJiSP"
      },
      "execution_count": null,
      "outputs": []
    },
    {
      "cell_type": "code",
      "source": [
        "my_list = [1, None, True, \"I am a string\", 256, 0]\n",
        "print(my_list[3]) #outputs: I am a string\n",
        "print(my_list[-1]) #outputs: 0\n",
        "\n",
        "my_list[1] = '?'\n",
        "\n",
        "print(my_list) # outputs: [1, '?', True, 'I am a string', 256, 0]\n",
        "\n",
        "my_list.insert(0, \"first\")\n",
        "my_list.append(\"last\")\n",
        "print(my_list) # outputs: ['first', 1, '?', True, 'i am string', 256, 0, 'last']\n"
      ],
      "metadata": {
        "colab": {
          "base_uri": "https://localhost:8080/"
        },
        "id": "OmVjRhZbPHjA",
        "outputId": "fbe76295-2c52-4076-dd03-daf32e236121"
      },
      "execution_count": null,
      "outputs": [
        {
          "output_type": "stream",
          "name": "stdout",
          "text": [
            "I am a string\n",
            "0\n",
            "[1, '?', True, 'I am a string', 256, 0]\n",
            "['first', 1, '?', True, 'I am a string', 256, 0, 'last']\n"
          ]
        }
      ]
    },
    {
      "cell_type": "code",
      "source": [
        "my_list = [1, 2, 3, 4]\n",
        "del my_list[2]\n",
        "print(my_list)\n",
        "\n",
        "del my_list"
      ],
      "metadata": {
        "colab": {
          "base_uri": "https://localhost:8080/"
        },
        "id": "ElbU9M5DVaZC",
        "outputId": "59629baa-3785-4007-e5dd-28f560870b77"
      },
      "execution_count": null,
      "outputs": [
        {
          "output_type": "stream",
          "name": "stdout",
          "text": [
            "[1, 2, 4]\n"
          ]
        }
      ]
    },
    {
      "cell_type": "code",
      "source": [
        "my_list = [\"white\", \"purple\", \"blue\", \"yellow\", \"green\"]\n",
        "\n",
        "for color in my_list:\n",
        "  print(color)"
      ],
      "metadata": {
        "colab": {
          "base_uri": "https://localhost:8080/"
        },
        "id": "0xjB9aI6Yf8i",
        "outputId": "2a4fd26b-e526-47ea-c369-7064b5023987"
      },
      "execution_count": null,
      "outputs": [
        {
          "output_type": "stream",
          "name": "stdout",
          "text": [
            "white\n",
            "purple\n",
            "blue\n",
            "yellow\n",
            "green\n"
          ]
        }
      ]
    },
    {
      "cell_type": "code",
      "source": [
        "my_list = [\"white\", \"purple\", \"blue\", \"yellow\", \"green\"]\n",
        "\n",
        "print(len(my_list))\n",
        "\n",
        "del my_list[2]\n",
        "\n",
        "print(len(my_list))"
      ],
      "metadata": {
        "colab": {
          "base_uri": "https://localhost:8080/"
        },
        "id": "veAnBi4IZFY1",
        "outputId": "468f934a-30ac-42fe-deae-99be295b1941"
      },
      "execution_count": null,
      "outputs": [
        {
          "output_type": "stream",
          "name": "stdout",
          "text": [
            "5\n",
            "4\n"
          ]
        }
      ]
    },
    {
      "cell_type": "code",
      "source": [
        "lst = [1, 2, 3, 4, 5]\n",
        "lst.insert(1, 6)\n",
        "del lst[0]\n",
        "lst.append(1)\n",
        "\n",
        "print(lst)"
      ],
      "metadata": {
        "colab": {
          "base_uri": "https://localhost:8080/"
        },
        "id": "Zn82F-nhZsCv",
        "outputId": "f24bc032-3ae8-4679-9d4a-95a696314010"
      },
      "execution_count": null,
      "outputs": [
        {
          "output_type": "stream",
          "name": "stdout",
          "text": [
            "[6, 2, 3, 4, 5, 1]\n"
          ]
        }
      ]
    },
    {
      "cell_type": "code",
      "source": [
        "lst = [1, 2, 3, 4, 5]\n",
        "lst_2 = []\n",
        "add = 0\n",
        "\n",
        "for number in lst:\n",
        "  add += number\n",
        "  lst_2.append(add)\n",
        "\n",
        "print(lst_2)"
      ],
      "metadata": {
        "colab": {
          "base_uri": "https://localhost:8080/"
        },
        "id": "N_FoZJlwaXDB",
        "outputId": "431940c3-dc78-4b52-8e90-82ce6aa6560f"
      },
      "execution_count": null,
      "outputs": [
        {
          "output_type": "stream",
          "name": "stdout",
          "text": [
            "[1, 3, 6, 10, 15]\n"
          ]
        }
      ]
    },
    {
      "cell_type": "code",
      "source": [
        "lst = []\n",
        "del lst\n",
        "print(lst)"
      ],
      "metadata": {
        "id": "KPg-t24ybdoW"
      },
      "execution_count": null,
      "outputs": []
    },
    {
      "cell_type": "code",
      "source": [
        "lst = [1, [2, 3], 4]\n",
        "print(lst[1])\n",
        "print(len(lst))"
      ],
      "metadata": {
        "colab": {
          "base_uri": "https://localhost:8080/"
        },
        "id": "M4IyPKf8boSG",
        "outputId": "70cfa454-e92d-45f3-c96c-0e1fe13290a0"
      },
      "execution_count": null,
      "outputs": [
        {
          "output_type": "stream",
          "name": "stdout",
          "text": [
            "[2, 3]\n",
            "3\n"
          ]
        }
      ]
    },
    {
      "cell_type": "code",
      "source": [
        "my_list = [8, 10, 6, 2, 4] # list to sort\n",
        "\n",
        "for i in range(len(my_list) - 1): # we need (5 - 1) comparisons\n",
        "  if my_list[i] > my_list[i + 1]: # compare adjacent elements\n",
        "    my_list[i], my_list[i +1] = my_list[i + 1], my_list[i] #If we end up here"
      ],
      "metadata": {
        "id": "rh4_jHXMMy76"
      },
      "execution_count": null,
      "outputs": []
    },
    {
      "cell_type": "code",
      "source": [
        "my_list = [8, 10, 6, 2, 4] # list sort\n",
        "swapped = True # It's a little fake, we need it to enter the while loop\n",
        "\n",
        "while swapped:\n",
        "  swapped = False # no swaps so far\n",
        "  for i in range(len(my_list) - 1):\n",
        "    if my_list[i] > my_list[i + 1]:\n",
        "      swapped = True # a swap ocurred!\n",
        "      my_list[i], my_list[i + 1] = my_list[i + 1], my_list[i]\n",
        "\n",
        "print(my_list)"
      ],
      "metadata": {
        "colab": {
          "base_uri": "https://localhost:8080/"
        },
        "id": "Bd4FDKFwN9Ak",
        "outputId": "78d81ec6-ea18-4084-8266-428a05259142"
      },
      "execution_count": null,
      "outputs": [
        {
          "output_type": "stream",
          "name": "stdout",
          "text": [
            "[2, 4, 6, 8, 10]\n"
          ]
        }
      ]
    },
    {
      "cell_type": "code",
      "source": [
        "my_list= [8, 10, 6, 2, 4]\n",
        "my_list.sort()\n",
        "print(my_list)"
      ],
      "metadata": {
        "colab": {
          "base_uri": "https://localhost:8080/"
        },
        "id": "0A2UQMMR21GQ",
        "outputId": "33e6700b-963c-4c0e-f314-fe584c9c212a"
      },
      "execution_count": null,
      "outputs": [
        {
          "output_type": "stream",
          "name": "stdout",
          "text": [
            "[2, 4, 6, 8, 10]\n"
          ]
        }
      ]
    },
    {
      "cell_type": "code",
      "source": [
        "my_list = []\n",
        "swapped = True\n",
        "num = int(input(\"How many elements do you want to sort: \"))\n",
        "\n",
        "for i in range(num):\n",
        "    val = float(input(\"Enter a list element: \"))\n",
        "    my_list.append(val)\n",
        "\n",
        "while swapped:\n",
        "    swapped = False\n",
        "    for i in range(len(my_list) - 1):\n",
        "        if my_list[i] > my_list[i + 1]:\n",
        "          swapped = True\n",
        "          my_list[i], my_list[i + 1] = my_list[i + 1], my_list[i]\n",
        "\n",
        "print(\"\\nSorted:\")\n",
        "print(my_list)"
      ],
      "metadata": {
        "id": "YdvOXqsNwszH"
      },
      "execution_count": null,
      "outputs": []
    },
    {
      "cell_type": "code",
      "source": [
        "lst = [5, 3, 1, 2, 4]\n",
        "print(lst)\n",
        "\n",
        "lst.sort()\n",
        "print(lst) # outputs [1, 2, 3, 4, 5]"
      ],
      "metadata": {
        "colab": {
          "base_uri": "https://localhost:8080/"
        },
        "id": "X-Gu-FR13gGx",
        "outputId": "d8647b4b-33b8-41e4-f43e-08ea6fd75042"
      },
      "execution_count": null,
      "outputs": [
        {
          "output_type": "stream",
          "name": "stdout",
          "text": [
            "[5, 3, 1, 2, 4]\n",
            "[1, 2, 3, 4, 5]\n"
          ]
        }
      ]
    },
    {
      "cell_type": "code",
      "source": [
        "lst = [5, 3, 1, 2, 4]\n",
        "print(lst)\n",
        "\n",
        "lst.reverse()\n",
        "print(lst)  #outputs [4, 2, 1, 3, 5]"
      ],
      "metadata": {
        "colab": {
          "base_uri": "https://localhost:8080/"
        },
        "id": "fyKvH6w235aK",
        "outputId": "16a1a814-a53a-43bf-f452-5beaf36ee719"
      },
      "execution_count": null,
      "outputs": [
        {
          "output_type": "stream",
          "name": "stdout",
          "text": [
            "[5, 3, 1, 2, 4]\n",
            "[4, 2, 1, 3, 5]\n"
          ]
        }
      ]
    },
    {
      "cell_type": "code",
      "source": [
        "lst = [\"D\", \"F\", \"A\", \"Z\"]\n",
        "lst.sort()\n",
        "\n",
        "print(lst)"
      ],
      "metadata": {
        "colab": {
          "base_uri": "https://localhost:8080/"
        },
        "id": "SBWE6EHy4SO1",
        "outputId": "c1c96f03-31e8-4689-e851-d98472a91b99"
      },
      "execution_count": null,
      "outputs": [
        {
          "output_type": "stream",
          "name": "stdout",
          "text": [
            "['A', 'D', 'F', 'Z']\n"
          ]
        }
      ]
    },
    {
      "cell_type": "code",
      "source": [
        "a = 3\n",
        "b = 1\n",
        "c = 2\n",
        "\n",
        "lst = [a, c, b]\n",
        "lst.sort()\n",
        "\n",
        "print(lst)"
      ],
      "metadata": {
        "colab": {
          "base_uri": "https://localhost:8080/"
        },
        "id": "bA1_SutY4zq8",
        "outputId": "70eddbf7-9aa5-47b7-902c-fd1a741a7ab1"
      },
      "execution_count": null,
      "outputs": [
        {
          "output_type": "stream",
          "name": "stdout",
          "text": [
            "[1, 2, 3]\n"
          ]
        }
      ]
    },
    {
      "cell_type": "code",
      "source": [
        "a = \"A\"\n",
        "b = \"B\"\n",
        "c = \"C\"\n",
        "d =\" \"\n",
        "lst = [a, b, c, d]\n",
        "lst.reverse()\n",
        "\n",
        "print(lst)\n"
      ],
      "metadata": {
        "colab": {
          "base_uri": "https://localhost:8080/"
        },
        "id": "N43cs3AU4nEK",
        "outputId": "a8c0b52b-04a9-4ae9-f952-3d4821fdba5a"
      },
      "execution_count": null,
      "outputs": [
        {
          "output_type": "stream",
          "name": "stdout",
          "text": [
            "[' ', 'C', 'B', 'A']\n"
          ]
        }
      ]
    },
    {
      "cell_type": "code",
      "source": [
        "list_1 = [1]\n",
        "list_2 = list_1\n",
        "list_1[0] = 2\n",
        "print(list_2)"
      ],
      "metadata": {
        "colab": {
          "base_uri": "https://localhost:8080/"
        },
        "id": "_QOx371N5bPy",
        "outputId": "1d7fad21-6b30-4bdd-cc34-0e9f5c92d9c7"
      },
      "execution_count": null,
      "outputs": [
        {
          "output_type": "stream",
          "name": "stdout",
          "text": [
            "[2]\n"
          ]
        }
      ]
    },
    {
      "cell_type": "code",
      "source": [
        "list_1 = [1]\n",
        "list_2 = list_1[:]\n",
        "list_1[0] = 2\n",
        "print(list_2)"
      ],
      "metadata": {
        "id": "-kfPXHix6K2T"
      },
      "execution_count": null,
      "outputs": []
    },
    {
      "cell_type": "code",
      "source": [
        "my_list[start:end]"
      ],
      "metadata": {
        "id": "LfT9A6Ne7DpI"
      },
      "execution_count": null,
      "outputs": []
    },
    {
      "cell_type": "code",
      "source": [
        "my_list = [10, 8, 6, 4, 2]\n",
        "new_list = my_list[1:3]\n",
        "print(new_list)"
      ],
      "metadata": {
        "colab": {
          "base_uri": "https://localhost:8080/"
        },
        "id": "Bvdw_2_u7X6a",
        "outputId": "84cac180-a706-4f33-8711-5fdd60482066"
      },
      "execution_count": null,
      "outputs": [
        {
          "output_type": "stream",
          "name": "stdout",
          "text": [
            "[8, 6]\n"
          ]
        }
      ]
    },
    {
      "cell_type": "code",
      "source": [
        "# Copying the entire list\n",
        "list_1 = [1]\n",
        "list_2 = list_1[:]\n",
        "list_1[0] = 2\n",
        "print(list_2)\n",
        "\n",
        "# Copying some part of the list.\n",
        "my_list = [10, 8, 6, 4, 2]\n",
        "new_list = my_list[1:3]\n",
        "print(new_list)"
      ],
      "metadata": {
        "colab": {
          "base_uri": "https://localhost:8080/"
        },
        "id": "UukvCMw272pC",
        "outputId": "67f7ad5b-dd89-46e9-913d-0099ee50efaa"
      },
      "execution_count": null,
      "outputs": [
        {
          "output_type": "stream",
          "name": "stdout",
          "text": [
            "[1]\n",
            "[8, 6]\n"
          ]
        }
      ]
    },
    {
      "cell_type": "code",
      "source": [
        "my_list[start:end]"
      ],
      "metadata": {
        "id": "TMurBgZp85xD"
      },
      "execution_count": null,
      "outputs": []
    },
    {
      "cell_type": "code",
      "source": [
        "my_list = [10, 8, 6, 4, 2]\n",
        "new_list = my_list[1:-1]\n",
        "print(new_list)"
      ],
      "metadata": {
        "colab": {
          "base_uri": "https://localhost:8080/"
        },
        "id": "1JsIuHKg9C1e",
        "outputId": "9521b42d-5a49-4ee4-c60f-9d6b601aa7fb"
      },
      "execution_count": null,
      "outputs": [
        {
          "output_type": "stream",
          "name": "stdout",
          "text": [
            "[8, 6, 4]\n"
          ]
        }
      ]
    },
    {
      "cell_type": "code",
      "source": [
        "my_list = [10, 8, 6, 4, 2]\n",
        "new_list = my_list[-1:1]\n",
        "print(new_list)"
      ],
      "metadata": {
        "colab": {
          "base_uri": "https://localhost:8080/"
        },
        "id": "mU4Ui8-l9ZFU",
        "outputId": "1e22a1be-5c8d-4976-bd3c-77bd48a18aae"
      },
      "execution_count": null,
      "outputs": [
        {
          "output_type": "stream",
          "name": "stdout",
          "text": [
            "[]\n"
          ]
        }
      ]
    },
    {
      "cell_type": "code",
      "source": [
        "my_list[:end] = my_list[0:end]"
      ],
      "metadata": {
        "id": "4xhg3SVL-CVz"
      },
      "execution_count": null,
      "outputs": []
    },
    {
      "cell_type": "code",
      "source": [
        "my_list = [10, 8, 6, 4, 2]\n",
        "new_list = my_list[:3]\n",
        "print(new_list)"
      ],
      "metadata": {
        "colab": {
          "base_uri": "https://localhost:8080/"
        },
        "id": "3jay8gSM-INS",
        "outputId": "6534b17f-e77c-4e1a-d3cb-85ea0d4e6359"
      },
      "execution_count": null,
      "outputs": [
        {
          "output_type": "stream",
          "name": "stdout",
          "text": [
            "[10, 8, 6]\n"
          ]
        }
      ]
    },
    {
      "cell_type": "code",
      "source": [
        "my_list[start:] = my_list[start:len(my_list)]"
      ],
      "metadata": {
        "id": "x4PUGfm9-iIF"
      },
      "execution_count": null,
      "outputs": []
    },
    {
      "cell_type": "code",
      "source": [
        "my_list = [10, 8, 6, 4, 2]\n",
        "new_list = my_list[3:]\n",
        "print(new_list)"
      ],
      "metadata": {
        "colab": {
          "base_uri": "https://localhost:8080/"
        },
        "id": "CR5KMIJ--xH5",
        "outputId": "131f3605-bb07-45e5-ee7a-14d3cb2dd780"
      },
      "execution_count": null,
      "outputs": [
        {
          "output_type": "stream",
          "name": "stdout",
          "text": [
            "[4, 2]\n"
          ]
        }
      ]
    },
    {
      "cell_type": "code",
      "source": [
        "my_list = [10, 8, 6, 4, 2]\n",
        "new_list = my_list[:]"
      ],
      "metadata": {
        "id": "DPHPUyKY_ELg"
      },
      "execution_count": null,
      "outputs": []
    },
    {
      "cell_type": "code",
      "source": [
        "my_list = [10, 8, 6, 4, 2]\n",
        "new_list = my_list[:]\n",
        "print(new_list)"
      ],
      "metadata": {
        "colab": {
          "base_uri": "https://localhost:8080/"
        },
        "id": "TDy8Q7fymzrR",
        "outputId": "44da2b91-d2a5-43ce-9493-728f34339a6b"
      },
      "execution_count": null,
      "outputs": [
        {
          "output_type": "stream",
          "name": "stdout",
          "text": [
            "[10, 8, 6, 4, 2]\n"
          ]
        }
      ]
    },
    {
      "cell_type": "code",
      "source": [
        "my_list = [10, 8, 6, 4, 2]\n",
        "del my_list[1:3]\n",
        "print(my_list)"
      ],
      "metadata": {
        "colab": {
          "base_uri": "https://localhost:8080/"
        },
        "id": "QAxpFhS3nF4P",
        "outputId": "b7ab132e-054f-4a63-b952-e57c7d562c8a"
      },
      "execution_count": null,
      "outputs": [
        {
          "output_type": "stream",
          "name": "stdout",
          "text": [
            "[10, 4, 2]\n"
          ]
        }
      ]
    },
    {
      "cell_type": "code",
      "source": [
        "my_list = [10, 8, 6, 4, 2]\n",
        "del my_list[:]\n",
        "print(my_list)"
      ],
      "metadata": {
        "colab": {
          "base_uri": "https://localhost:8080/"
        },
        "id": "uso0xABhnWci",
        "outputId": "ea0e145d-575a-428c-a275-5964b2dc4456"
      },
      "execution_count": null,
      "outputs": [
        {
          "output_type": "stream",
          "name": "stdout",
          "text": [
            "[]\n"
          ]
        }
      ]
    },
    {
      "cell_type": "code",
      "source": [
        "my_list = [10, 8, 6, 4, 2]\n",
        "del my_list\n",
        "print(my_list)"
      ],
      "metadata": {
        "id": "t0d1cAJcntQx"
      },
      "execution_count": null,
      "outputs": []
    },
    {
      "cell_type": "code",
      "source": [
        "my_list = [0, 3, 12, 8, 2]\n",
        "print(5 in my_list)\n",
        "print(5 not in my_list)\n",
        "print(12 in my_list)"
      ],
      "metadata": {
        "colab": {
          "base_uri": "https://localhost:8080/"
        },
        "id": "YYnNbDMuoFO_",
        "outputId": "ccfc1bea-f555-44c0-cd64-cc3f16f7b76d"
      },
      "execution_count": null,
      "outputs": [
        {
          "output_type": "stream",
          "name": "stdout",
          "text": [
            "False\n",
            "True\n",
            "True\n"
          ]
        }
      ]
    },
    {
      "cell_type": "code",
      "source": [
        "my_list = [17, 3, 11, 5, 1, 9, 7, 15, 13]\n",
        "largest = my_list[0]\n",
        "\n",
        "for i in range(1, len(my_list)):\n",
        "  if my_list[i] > largest:\n",
        "    largest = my_list[i]\n",
        "\n",
        "print(largest)"
      ],
      "metadata": {
        "colab": {
          "base_uri": "https://localhost:8080/"
        },
        "id": "SKpnsA7towLp",
        "outputId": "6073c1ce-89ce-40be-cdbe-73a1546b8028"
      },
      "execution_count": null,
      "outputs": [
        {
          "output_type": "stream",
          "name": "stdout",
          "text": [
            "17\n"
          ]
        }
      ]
    },
    {
      "cell_type": "code",
      "source": [
        "my_list = [17, 3, 11, 5, 1, 9, 7, 15, 13]\n",
        "largest = my_list[0]\n",
        "\n",
        "for i in my_list:\n",
        "  if i > largest:\n",
        "    largest = i\n",
        "\n",
        "print(largest)\n"
      ],
      "metadata": {
        "colab": {
          "base_uri": "https://localhost:8080/"
        },
        "id": "PhXSBFVNpUl4",
        "outputId": "234feabb-d19e-41b7-a996-7e7c398856bc"
      },
      "execution_count": null,
      "outputs": [
        {
          "output_type": "stream",
          "name": "stdout",
          "text": [
            "17\n"
          ]
        }
      ]
    },
    {
      "cell_type": "code",
      "source": [
        "my_list = [17, 3, 11, 5, 1, 9, 7, 15, 13]\n",
        "largest = my_list[0]\n",
        "\n",
        "for i in my_list[1:]:\n",
        "  if i > largest:\n",
        "    largest = i\n",
        "\n",
        "print(largest)"
      ],
      "metadata": {
        "colab": {
          "base_uri": "https://localhost:8080/"
        },
        "id": "bsyXLBZApy05",
        "outputId": "519264b9-403b-4c40-8a74-abc406ed7ea4"
      },
      "execution_count": null,
      "outputs": [
        {
          "output_type": "stream",
          "name": "stdout",
          "text": [
            "17\n"
          ]
        }
      ]
    },
    {
      "cell_type": "code",
      "source": [
        "my_list = [1, 2, 3, 4, 5, 6, 7, 8, 9, 10]\n",
        "to_find = 6\n",
        "found = False\n",
        "\n",
        "for i in range(len(my_list)):\n",
        "  found = my_list[i] == to_find\n",
        "  if found:\n",
        "    break\n",
        "\n",
        "if found:\n",
        "  print(\"Elemente found at index\", i)\n",
        "\n",
        "else:\n",
        "  print(\"absent\")"
      ],
      "metadata": {
        "colab": {
          "base_uri": "https://localhost:8080/"
        },
        "id": "R99RYwiPqUZ0",
        "outputId": "94895135-fb8c-40ad-fe7f-06245847e1ff"
      },
      "execution_count": null,
      "outputs": [
        {
          "output_type": "stream",
          "name": "stdout",
          "text": [
            "Elemente found at index 5\n"
          ]
        }
      ]
    },
    {
      "cell_type": "code",
      "source": [
        "draw = [5, 11, 9, 42, 3, 49]\n",
        "bets = [3, 7, 11, 42, 34, 49]\n",
        "hits = 0\n",
        "\n",
        "for number in bets:\n",
        "  if number in draw:\n",
        "    hits += 1\n",
        "\n",
        "print(hits)"
      ],
      "metadata": {
        "colab": {
          "base_uri": "https://localhost:8080/"
        },
        "id": "-s6_Ga3OA3zJ",
        "outputId": "0c7f8f81-d744-4ead-ae16-7e6b599e81c2"
      },
      "execution_count": null,
      "outputs": [
        {
          "output_type": "stream",
          "name": "stdout",
          "text": [
            "4\n"
          ]
        }
      ]
    },
    {
      "cell_type": "code",
      "source": [
        "my_list = [1, 2, 4, 4, 1, 4, 2, 6, 2, 9]\n",
        "new_list = my_list[2:9]\n",
        "\n",
        "for i in my_list:\n",
        "  if i in new_list:\n",
        "    del my_list[i]\n",
        "\n",
        "print(\"The list with unique elements only:\")\n",
        "print(my_list)"
      ],
      "metadata": {
        "colab": {
          "base_uri": "https://localhost:8080/"
        },
        "id": "1WVsCX5abPqQ",
        "outputId": "837b6257-b656-45a5-d961-b8e6722b2d5d"
      },
      "execution_count": null,
      "outputs": [
        {
          "output_type": "stream",
          "name": "stdout",
          "text": [
            "The list with unique elements only\n",
            "[1, 4, 6, 2, 9]\n"
          ]
        }
      ]
    },
    {
      "cell_type": "code",
      "source": [
        "vehicles_one = [\"car\", \"bicycle\", \"motor\"]\n",
        "print(vehicles_one) # outputs ['car', 'bicycle', 'motor']\n",
        "\n",
        "vehicles_two = vehicles_one\n",
        "del vehicles_one[0] # delete 'car'\n",
        "print(vehicles_two) # outputs: ['bicycle', 'motor']"
      ],
      "metadata": {
        "colab": {
          "base_uri": "https://localhost:8080/"
        },
        "id": "vMPC6OxffoeR",
        "outputId": "50120dcd-556e-4737-fdd6-b566b9507e6c"
      },
      "execution_count": null,
      "outputs": [
        {
          "output_type": "stream",
          "name": "stdout",
          "text": [
            "['car', 'bicycle', 'motor']\n",
            "['bicycle', 'motor']\n"
          ]
        }
      ]
    },
    {
      "cell_type": "code",
      "source": [
        "color = ['red', 'green', 'orange']\n",
        "\n",
        "print(color)\n",
        "\n",
        "copy_whole_colors = color[:] # copy the entire list\n",
        "copy_part_colors = color[0:2] # copy part of the list\n",
        "\n",
        "print(copy_whole_colors)\n",
        "print(copy_part_colors)"
      ],
      "metadata": {
        "colab": {
          "base_uri": "https://localhost:8080/"
        },
        "id": "0W5AdLiAhOb_",
        "outputId": "cc60149b-ddbf-490d-ae66-9f1cb27ee8fd"
      },
      "execution_count": null,
      "outputs": [
        {
          "output_type": "stream",
          "name": "stdout",
          "text": [
            "['red', 'green', 'orange']\n",
            "['red', 'green', 'orange']\n",
            "['red', 'green']\n"
          ]
        }
      ]
    },
    {
      "cell_type": "code",
      "source": [
        "sample_list = [\"A\", \"B\", \"C\", \"D\", \"E\"]\n",
        "new_list = sample_list[2:-1]\n",
        "print(new_list) # outputs: ['C', 'D']"
      ],
      "metadata": {
        "colab": {
          "base_uri": "https://localhost:8080/"
        },
        "id": "EUE6UTJ7iiqi",
        "outputId": "fce1b162-929a-4412-c7cb-15edbdf9d32c"
      },
      "execution_count": null,
      "outputs": [
        {
          "output_type": "stream",
          "name": "stdout",
          "text": [
            "['C', 'D']\n"
          ]
        }
      ]
    },
    {
      "cell_type": "code",
      "source": [
        "my_list = [1, 2, 3, 4, 5]\n",
        "slice_one = my_list[2:]\n",
        "slice_two = my_list[:2]\n",
        "slice_three = my_list[-2:]\n",
        "\n",
        "print(slice_one)\n",
        "print(slice_two)\n",
        "print(slice_three)"
      ],
      "metadata": {
        "id": "ROciltYOi5gD"
      },
      "execution_count": null,
      "outputs": []
    },
    {
      "cell_type": "code",
      "source": [
        "my_list = [1, 2, 3, 4, 5]\n",
        "del my_list[0:2]\n",
        "print(my_list)\n",
        "\n",
        "del my_list[:]\n",
        "print(my_list)"
      ],
      "metadata": {
        "colab": {
          "base_uri": "https://localhost:8080/"
        },
        "id": "1Bte1CiejpGx",
        "outputId": "5fbd140f-b911-4f91-b340-e5d70fd0c916"
      },
      "execution_count": null,
      "outputs": [
        {
          "output_type": "stream",
          "name": "stdout",
          "text": [
            "[3, 4, 5]\n",
            "[]\n"
          ]
        }
      ]
    },
    {
      "cell_type": "code",
      "source": [
        "my_list = [\"A\", \"B\", 1, 2]\n",
        "print(\"A\" in my_list)\n",
        "print(\"C\" not in my_list)\n",
        "print(2 not in my_list)"
      ],
      "metadata": {
        "id": "Z8OsNK-zkQig"
      },
      "execution_count": null,
      "outputs": []
    },
    {
      "cell_type": "code",
      "source": [
        "list_1 = [\"A\", \"B\", \"C\"]\n",
        "list_2 = list_1\n",
        "list_3 = list_2\n",
        "\n",
        "del list_1[0]\n",
        "del list_2[0]\n",
        "\n",
        "print(list_3)"
      ],
      "metadata": {
        "colab": {
          "base_uri": "https://localhost:8080/"
        },
        "id": "z2sBENOBkwoc",
        "outputId": "ca101400-c676-4f1e-d10a-7df90518d7c8"
      },
      "execution_count": null,
      "outputs": [
        {
          "output_type": "stream",
          "name": "stdout",
          "text": [
            "['C']\n"
          ]
        }
      ]
    },
    {
      "cell_type": "code",
      "source": [
        "list_1 = [\"A\", \"B\", \"C\"]\n",
        "list_2 = list_1\n",
        "list_3 = list_2\n",
        "\n",
        "del list_1[0]\n",
        "del list_2\n",
        "\n",
        "print(list_3)"
      ],
      "metadata": {
        "colab": {
          "base_uri": "https://localhost:8080/"
        },
        "id": "X1jyJPbHlV-p",
        "outputId": "1a3bacda-a7dd-440c-9ad9-e95541db21df"
      },
      "execution_count": null,
      "outputs": [
        {
          "output_type": "stream",
          "name": "stdout",
          "text": [
            "['B', 'C']\n"
          ]
        }
      ]
    },
    {
      "cell_type": "code",
      "source": [
        "list_1 = [\"A\", \"B\", \"C\"]\n",
        "list_2 = list_1\n",
        "list_3 = list_2\n",
        "\n",
        "del list_1[0]\n",
        "del list_2[:]\n",
        "\n",
        "print(list_3)"
      ],
      "metadata": {
        "colab": {
          "base_uri": "https://localhost:8080/"
        },
        "id": "9v69XLc-l0qm",
        "outputId": "3950817d-9049-40c6-aaa6-709ae7a1e5e1"
      },
      "execution_count": null,
      "outputs": [
        {
          "output_type": "stream",
          "name": "stdout",
          "text": [
            "[]\n"
          ]
        }
      ]
    },
    {
      "cell_type": "code",
      "source": [
        "list_1 = [\"A\", \"B\", \"C\"]\n",
        "list_2 =list_1[:]\n",
        "list_3 = list_2[:]\n",
        "\n",
        "del list_1[0]\n",
        "del list_2[0]\n",
        "\n",
        "print(list_3)"
      ],
      "metadata": {
        "colab": {
          "base_uri": "https://localhost:8080/"
        },
        "id": "L5jsIDtimPNC",
        "outputId": "d626c45f-165e-46db-9fa3-b081918da312"
      },
      "execution_count": null,
      "outputs": [
        {
          "output_type": "stream",
          "name": "stdout",
          "text": [
            "['A', 'B', 'C']\n"
          ]
        }
      ]
    },
    {
      "cell_type": "code",
      "source": [
        "my_list = [1, 2, \"in\", True, \"ABC\"]\n",
        "\n",
        "print(1 in my_list)  # outputs True\n",
        "print(\"A\" not in my_list)  # outputs True\n",
        "print(3 not in my_list)  # outputs True\n",
        "print(False in my_list)  # outputs False"
      ],
      "metadata": {
        "colab": {
          "base_uri": "https://localhost:8080/"
        },
        "id": "zJVxmgkPnTXR",
        "outputId": "21d2cf8c-c3d6-40de-f237-4ac73b273509"
      },
      "execution_count": null,
      "outputs": [
        {
          "output_type": "stream",
          "name": "stdout",
          "text": [
            "True\n",
            "True\n",
            "True\n",
            "False\n"
          ]
        }
      ]
    },
    {
      "cell_type": "code",
      "source": [
        "row = []\n",
        "\n",
        "for i in range (8):\n",
        "  row.append(WHITE_PAWN)"
      ],
      "metadata": {
        "id": "WOwnARCWBX8x"
      },
      "execution_count": null,
      "outputs": []
    },
    {
      "cell_type": "code",
      "source": [
        "x = int(input(\"Square: \"))\n",
        "squares = [x ** 2 for x in range(10)]\n",
        "\n",
        "print(squares)\n"
      ],
      "metadata": {
        "colab": {
          "base_uri": "https://localhost:8080/"
        },
        "id": "GLhifxG6CGrv",
        "outputId": "9c1e643d-1302-4e57-dbbc-d322d4bebbb5"
      },
      "execution_count": null,
      "outputs": [
        {
          "output_type": "stream",
          "name": "stdout",
          "text": [
            "Square: 2\n",
            "[0, 1, 4, 9, 16, 25, 36, 49, 64, 81]\n"
          ]
        }
      ]
    },
    {
      "cell_type": "code",
      "source": [
        "x = int(input(\"Indique um numero: \"))\n",
        "twos = [2 ** i for i in range (8)]\n",
        "\n",
        "print(twos)"
      ],
      "metadata": {
        "colab": {
          "base_uri": "https://localhost:8080/"
        },
        "id": "rR7VNRd-C0il",
        "outputId": "35acdee5-e545-4235-c5a9-a3bc4cbc69a3"
      },
      "execution_count": null,
      "outputs": [
        {
          "output_type": "stream",
          "name": "stdout",
          "text": [
            "Indique um numero: 32\n",
            "[1, 2, 4, 8, 16, 32, 64, 128]\n"
          ]
        }
      ]
    },
    {
      "cell_type": "code",
      "source": [
        "x = int(input(\"Indique um numero: \"))\n",
        "odds = [x for x in squares if x % 2 !=0]\n",
        "\n",
        "print(odds)\n"
      ],
      "metadata": {
        "colab": {
          "base_uri": "https://localhost:8080/"
        },
        "id": "x-d0DOUSXfwW",
        "outputId": "8fae1267-8dbd-4ad1-f4fb-5f2b101a7da8"
      },
      "execution_count": null,
      "outputs": [
        {
          "output_type": "stream",
          "name": "stdout",
          "text": [
            "Indique um numero: 29\n",
            "[1, 9, 25, 49, 81]\n"
          ]
        }
      ]
    },
    {
      "cell_type": "code",
      "source": [
        "board = []\n",
        "\n",
        "for i in range(8):\n",
        "  row = [EMPTY for i in range(8)]\n",
        "  board.append(row)"
      ],
      "metadata": {
        "id": "i1S2q70_pLF6"
      },
      "execution_count": null,
      "outputs": []
    },
    {
      "cell_type": "code",
      "source": [
        "board = [[EMPTY for i in range(8)] for j in range(8)]"
      ],
      "metadata": {
        "id": "bYT0YKmGqoGF"
      },
      "execution_count": null,
      "outputs": []
    },
    {
      "cell_type": "code",
      "source": [
        "EMPTY = \"-\"\n",
        "ROOK = \"ROOK\"\n",
        "KNIGHT = \"KNIGHT\"\n",
        "PAWN = \"PAWN\"\n",
        "board = []\n",
        "\n",
        "for i in range(8):\n",
        "  row = [EMPTY for i in range (8)]\n",
        "  board.append(row)\n",
        "\n",
        "board[0][0] = ROOK\n",
        "board[0][7] = ROOK\n",
        "board[7][0] = ROOK\n",
        "board[7][7] = ROOK\n",
        "board[4][2] = KNIGHT\n",
        "board[3][4] = PAWN\n",
        "\n",
        "print(board)"
      ],
      "metadata": {
        "id": "JEjNmMwWILb4"
      },
      "execution_count": null,
      "outputs": []
    },
    {
      "cell_type": "code",
      "source": [
        "temps = [[25.5 for h in range(24)] for d in range(31)]\n",
        "\n",
        "# Preenchendo a matriz com valores hipotéticos (por exemplo, temperaturas em Celsius)\n",
        "for day in temps:\n",
        "    for hour in range(24):\n",
        "        # Suponha que estamos atribuindo valores fixos para fins ilustrativos\n",
        "        day[hour] = 25.5  # Temperatura constante de 25.5 graus Celsius\n",
        "\n",
        "total = 0.0\n",
        "\n",
        "for day in temps:\n",
        "    total += day[11]  # Somando as temperaturas ao meio-dia (índice 11)\n",
        "\n",
        "average = total / 31\n",
        "\n",
        "print(\"Average temperature at noon:\", average)\n"
      ],
      "metadata": {
        "colab": {
          "base_uri": "https://localhost:8080/"
        },
        "id": "Gbt3n1lNLmEf",
        "outputId": "180a7854-0606-4ffd-d59d-004c53178e75"
      },
      "execution_count": null,
      "outputs": [
        {
          "output_type": "stream",
          "name": "stdout",
          "text": [
            "Average temperature at noon: 25.5\n"
          ]
        }
      ]
    },
    {
      "cell_type": "code",
      "source": [
        "import random\n",
        "temps = [[25.5 for h in range(24)] for d in range(31)]\n",
        "\n",
        "# Atualize a matriz com valores hipotéticos (por exemplo, temperaturas em Celsius)\n",
        "for day in temps:\n",
        "    for hour in range(24):\n",
        "        # Suponha que estamos atribuindo valores fixos para fins ilustrativos\n",
        "        day[hour] = random.uniform(10.0, 30.0)  # Intervalo de 10 a 30 graus Celsius\n",
        "\n",
        "highest = max(max(day) for day in temps)\n",
        "\n",
        "print(\"The highest temperature was:\", highest)\n"
      ],
      "metadata": {
        "colab": {
          "base_uri": "https://localhost:8080/"
        },
        "id": "rdWNKB-9MjXV",
        "outputId": "e8747613-c6dd-448d-da54-fe6ac1f48568"
      },
      "execution_count": null,
      "outputs": [
        {
          "output_type": "stream",
          "name": "stdout",
          "text": [
            "The highest temperature was: 29.98734870175227\n"
          ]
        }
      ]
    },
    {
      "cell_type": "code",
      "source": [
        "rooms = [[[False for r in range(20)] for f in range(15)] for t in range(3)]\n",
        "\n",
        "rooms[1][9][13] = True\n",
        "\n",
        "print(rooms)"
      ],
      "metadata": {
        "colab": {
          "base_uri": "https://localhost:8080/"
        },
        "id": "6EfwFHBHYbba",
        "outputId": "a9ac8d9a-9706-4d07-f7c1-449c55ea3ed6"
      },
      "execution_count": null,
      "outputs": [
        {
          "output_type": "stream",
          "name": "stdout",
          "text": [
            "[[[False, False, False, False, False, False, False, False, False, False, False, False, False, False, False, False, False, False, False, False], [False, False, False, False, False, False, False, False, False, False, False, False, False, False, False, False, False, False, False, False], [False, False, False, False, False, False, False, False, False, False, False, False, False, False, False, False, False, False, False, False], [False, False, False, False, False, False, False, False, False, False, False, False, False, False, False, False, False, False, False, False], [False, False, False, False, False, False, False, False, False, False, False, False, False, False, False, False, False, False, False, False], [False, False, False, False, False, False, False, False, False, False, False, False, False, False, False, False, False, False, False, False], [False, False, False, False, False, False, False, False, False, False, False, False, False, False, False, False, False, False, False, False], [False, False, False, False, False, False, False, False, False, False, False, False, False, False, False, False, False, False, False, False], [False, False, False, False, False, False, False, False, False, False, False, False, False, False, False, False, False, False, False, False], [False, False, False, False, False, False, False, False, False, False, False, False, False, False, False, False, False, False, False, False], [False, False, False, False, False, False, False, False, False, False, False, False, False, False, False, False, False, False, False, False], [False, False, False, False, False, False, False, False, False, False, False, False, False, False, False, False, False, False, False, False], [False, False, False, False, False, False, False, False, False, False, False, False, False, False, False, False, False, False, False, False], [False, False, False, False, False, False, False, False, False, False, False, False, False, False, False, False, False, False, False, False], [False, False, False, False, False, False, False, False, False, False, False, False, False, False, False, False, False, False, False, False]], [[False, False, False, False, False, False, False, False, False, False, False, False, False, False, False, False, False, False, False, False], [False, False, False, False, False, False, False, False, False, False, False, False, False, False, False, False, False, False, False, False], [False, False, False, False, False, False, False, False, False, False, False, False, False, False, False, False, False, False, False, False], [False, False, False, False, False, False, False, False, False, False, False, False, False, False, False, False, False, False, False, False], [False, False, False, False, False, False, False, False, False, False, False, False, False, False, False, False, False, False, False, False], [False, False, False, False, False, False, False, False, False, False, False, False, False, False, False, False, False, False, False, False], [False, False, False, False, False, False, False, False, False, False, False, False, False, False, False, False, False, False, False, False], [False, False, False, False, False, False, False, False, False, False, False, False, False, False, False, False, False, False, False, False], [False, False, False, False, False, False, False, False, False, False, False, False, False, False, False, False, False, False, False, False], [False, False, False, False, False, False, False, False, False, False, False, False, False, True, False, False, False, False, False, False], [False, False, False, False, False, False, False, False, False, False, False, False, False, False, False, False, False, False, False, False], [False, False, False, False, False, False, False, False, False, False, False, False, False, False, False, False, False, False, False, False], [False, False, False, False, False, False, False, False, False, False, False, False, False, False, False, False, False, False, False, False], [False, False, False, False, False, False, False, False, False, False, False, False, False, False, False, False, False, False, False, False], [False, False, False, False, False, False, False, False, False, False, False, False, False, False, False, False, False, False, False, False]], [[False, False, False, False, False, False, False, False, False, False, False, False, False, False, False, False, False, False, False, False], [False, False, False, False, False, False, False, False, False, False, False, False, False, False, False, False, False, False, False, False], [False, False, False, False, False, False, False, False, False, False, False, False, False, False, False, False, False, False, False, False], [False, False, False, False, False, False, False, False, False, False, False, False, False, False, False, False, False, False, False, False], [False, False, False, False, False, False, False, False, False, False, False, False, False, False, False, False, False, False, False, False], [False, False, False, False, False, False, False, False, False, False, False, False, False, False, False, False, False, False, False, False], [False, False, False, False, False, False, False, False, False, False, False, False, False, False, False, False, False, False, False, False], [False, False, False, False, False, False, False, False, False, False, False, False, False, False, False, False, False, False, False, False], [False, False, False, False, False, False, False, False, False, False, False, False, False, False, False, False, False, False, False, False], [False, False, False, False, False, False, False, False, False, False, False, False, False, False, False, False, False, False, False, False], [False, False, False, False, False, False, False, False, False, False, False, False, False, False, False, False, False, False, False, False], [False, False, False, False, False, False, False, False, False, False, False, False, False, False, False, False, False, False, False, False], [False, False, False, False, False, False, False, False, False, False, False, False, False, False, False, False, False, False, False, False], [False, False, False, False, False, False, False, False, False, False, False, False, False, False, False, False, False, False, False, False], [False, False, False, False, False, False, False, False, False, False, False, False, False, False, False, False, False, False, False, False]]]\n"
          ]
        }
      ]
    },
    {
      "cell_type": "code",
      "source": [
        "cubed = [num ** 3 for num in range(5)]\n",
        "print(cubed) # outputs : [0, 1, 8, 27, 64]"
      ],
      "metadata": {
        "colab": {
          "base_uri": "https://localhost:8080/"
        },
        "id": "2VKduG5nhf-F",
        "outputId": "b98f933b-6210-481b-bf80-a1665cb52eec"
      },
      "execution_count": null,
      "outputs": [
        {
          "output_type": "stream",
          "name": "stdout",
          "text": [
            "[0, 1, 8, 27, 64]\n"
          ]
        }
      ]
    },
    {
      "cell_type": "code",
      "source": [
        "table = [[\":(\", \":)\", \":(\", \":)\"],\n",
        "         [\":)\", \":(\", \":)\", \":)\"],\n",
        "         [\":(\", \":)\", \":)\", \":(\"],\n",
        "         [\":)\", \":)\", \":)\", \":(\"]]\n",
        "\n",
        "#print(table)\n",
        "print(table[0][0])\n",
        "print(table[0][3])"
      ],
      "metadata": {
        "colab": {
          "base_uri": "https://localhost:8080/"
        },
        "id": "WGAUcrl1h7Rz",
        "outputId": "a92d236b-a29f-4db0-8287-228473144327"
      },
      "execution_count": null,
      "outputs": [
        {
          "output_type": "stream",
          "name": "stdout",
          "text": [
            ":(\n",
            ":)\n"
          ]
        }
      ]
    },
    {
      "cell_type": "code",
      "source": [
        "# Cube - a three-dimensional array (3x3x3)\n",
        "\n",
        "cube = [[[':(', 'x', 'x'],\n",
        "         [':)', 'x', 'x'],\n",
        "         [':(', 'x', 'x']],\n",
        "\n",
        "        [[':)', 'x', 'x'],\n",
        "         [':(', 'x', 'x'],\n",
        "         [':)', 'x', 'x']],\n",
        "\n",
        "        [[':(', 'x', 'x'],\n",
        "         [':)', 'x', 'x'],\n",
        "         [':)', 'x', 'x']]]\n",
        "\n",
        "#print(cube)\n",
        "print(cube[0][0][0])"
      ],
      "metadata": {
        "colab": {
          "base_uri": "https://localhost:8080/"
        },
        "id": "PxRj-KyOisUM",
        "outputId": "f47afb6e-5bfa-4843-92fd-b087fea076a9"
      },
      "execution_count": null,
      "outputs": [
        {
          "output_type": "stream",
          "name": "stdout",
          "text": [
            "[[[':(', 'x', 'x'], [':)', 'x', 'x'], [':(', 'x', 'x']], [[':)', 'x', 'x'], [':(', 'x', 'x'], [':)', 'x', 'x']], [[':(', 'x', 'x'], [':)', 'x', 'x'], [':)', 'x', 'x']]]\n"
          ]
        }
      ]
    },
    {
      "cell_type": "code",
      "source": [
        "print(\"Enter a value: \")\n",
        "a = int(input())\n",
        "\n",
        "print(\"Enter a value:\")\n",
        "b = int(input())\n",
        "\n",
        "print(\"Enter a value:\")\n",
        "c = int(input())\n"
      ],
      "metadata": {
        "id": "i-fMrT3VHn98"
      },
      "execution_count": null,
      "outputs": []
    },
    {
      "cell_type": "code",
      "source": [
        "def my_function():\n",
        "  # Function body"
      ],
      "metadata": {
        "id": "1U12Ls1O6U4O"
      },
      "execution_count": null,
      "outputs": []
    },
    {
      "cell_type": "code",
      "source": [
        "def massage(): #Invocation\n",
        "  print(\"Enter next value:\") #retunr\n",
        "\n",
        "print(\"We start here:\")\n",
        "message() # Invocation\n",
        "print(\"the end is here:\")\n",
        "\n"
      ],
      "metadata": {
        "id": "OHEVQHVf6cZs"
      },
      "execution_count": null,
      "outputs": []
    },
    {
      "cell_type": "code",
      "source": [
        "print(\"We start here.\")\n",
        "message()\n",
        "print(\"We end here.\")\n",
        "\n",
        "\n",
        "def message():\n",
        "    print(\"Enter a value: \")"
      ],
      "metadata": {
        "colab": {
          "base_uri": "https://localhost:8080/",
          "height": 262
        },
        "id": "brCd6nUX7Wu0",
        "outputId": "7f6e04e6-5ceb-4eeb-b153-ace392aeb1f8"
      },
      "execution_count": null,
      "outputs": [
        {
          "output_type": "stream",
          "name": "stdout",
          "text": [
            "We start here.\n"
          ]
        },
        {
          "output_type": "error",
          "ename": "NameError",
          "evalue": "ignored",
          "traceback": [
            "\u001b[0;31m---------------------------------------------------------------------------\u001b[0m",
            "\u001b[0;31mNameError\u001b[0m                                 Traceback (most recent call last)",
            "\u001b[0;32m<ipython-input-3-c8f1d478d1cb>\u001b[0m in \u001b[0;36m<cell line: 2>\u001b[0;34m()\u001b[0m\n\u001b[1;32m      1\u001b[0m \u001b[0mprint\u001b[0m\u001b[0;34m(\u001b[0m\u001b[0;34m\"We start here.\"\u001b[0m\u001b[0;34m)\u001b[0m\u001b[0;34m\u001b[0m\u001b[0;34m\u001b[0m\u001b[0m\n\u001b[0;32m----> 2\u001b[0;31m \u001b[0mmessage\u001b[0m\u001b[0;34m(\u001b[0m\u001b[0;34m)\u001b[0m\u001b[0;34m\u001b[0m\u001b[0;34m\u001b[0m\u001b[0m\n\u001b[0m\u001b[1;32m      3\u001b[0m \u001b[0mprint\u001b[0m\u001b[0;34m(\u001b[0m\u001b[0;34m\"We end here.\"\u001b[0m\u001b[0;34m)\u001b[0m\u001b[0;34m\u001b[0m\u001b[0;34m\u001b[0m\u001b[0m\n\u001b[1;32m      4\u001b[0m \u001b[0;34m\u001b[0m\u001b[0m\n\u001b[1;32m      5\u001b[0m \u001b[0;34m\u001b[0m\u001b[0m\n",
            "\u001b[0;31mNameError\u001b[0m: name 'message' is not defined"
          ]
        }
      ]
    },
    {
      "cell_type": "code",
      "source": [
        "def message():\n",
        "    print(\"Enter a value: \")\n",
        "\n",
        "message = 1"
      ],
      "metadata": {
        "id": "TyOhCqIq7kWf"
      },
      "execution_count": null,
      "outputs": []
    },
    {
      "cell_type": "code",
      "source": [
        "print(\"We start here.\")\n",
        "\n",
        "\n",
        "def message():\n",
        "    print(\"Enter a value: \")\n",
        "\n",
        "message()\n",
        "\n",
        "print(\"We end here.\")"
      ],
      "metadata": {
        "colab": {
          "base_uri": "https://localhost:8080/"
        },
        "id": "_z1zWhvQ7wcM",
        "outputId": "52e3bc7e-c487-43b7-d464-5b72fd29d3c9"
      },
      "execution_count": null,
      "outputs": [
        {
          "output_type": "stream",
          "name": "stdout",
          "text": [
            "We start here.\n",
            "Enter a value: \n",
            "We end here.\n"
          ]
        }
      ]
    },
    {
      "cell_type": "code",
      "source": [
        "def message():\n",
        "    print(\"Enter a zelele: \")\n",
        "\n",
        "message()\n",
        "a = int(input())\n",
        "message()\n",
        "b = int(input())\n",
        "message()\n",
        "c = int(input())"
      ],
      "metadata": {
        "id": "yAkmbbO974_u"
      },
      "execution_count": null,
      "outputs": []
    },
    {
      "cell_type": "code",
      "source": [
        "def your_function():#optinional parameters\n",
        "  # The body of the function"
      ],
      "metadata": {
        "id": "plD-gpE38Yjb"
      },
      "execution_count": null,
      "outputs": []
    },
    {
      "cell_type": "code",
      "source": [
        "def message(): # defining a funtction\n",
        "  print(\"Hello\")\n",
        "\n",
        "message() # Calling the function"
      ],
      "metadata": {
        "id": "JzPxmKKJ9eJz"
      },
      "execution_count": null,
      "outputs": []
    },
    {
      "cell_type": "code",
      "source": [
        "def hello(name): # defining a function\n",
        "  print(\"Hello\", name) # Body of the function\n",
        "\n",
        "name = input(\"Enter your name:\")\n",
        "\n",
        "hello(name) #  Calling the function"
      ],
      "metadata": {
        "colab": {
          "base_uri": "https://localhost:8080/"
        },
        "id": "HAxlg6ts8v-_",
        "outputId": "237bfab8-173a-496a-9a0c-3ecf2607f7b4"
      },
      "execution_count": null,
      "outputs": [
        {
          "output_type": "stream",
          "name": "stdout",
          "text": [
            "Enter your name:Vitor\n",
            "Hello Vitor\n"
          ]
        }
      ]
    },
    {
      "cell_type": "code",
      "source": [
        "def hi():\n",
        "    print(\"hi\")\n",
        "\n",
        "hi(5)\n"
      ],
      "metadata": {
        "id": "r6MViGkt-W3t"
      },
      "execution_count": null,
      "outputs": []
    },
    {
      "cell_type": "code",
      "source": [
        "def message(number):\n",
        "  print(\"Enter a number:\", number)\n",
        "\n",
        "message()"
      ],
      "metadata": {
        "colab": {
          "base_uri": "https://localhost:8080/",
          "height": 210
        },
        "id": "-BtB-QXLPXrF",
        "outputId": "d9e951e3-b886-4245-c583-743960ff566b"
      },
      "execution_count": null,
      "outputs": [
        {
          "output_type": "error",
          "ename": "TypeError",
          "evalue": "ignored",
          "traceback": [
            "\u001b[0;31m---------------------------------------------------------------------------\u001b[0m",
            "\u001b[0;31mTypeError\u001b[0m                                 Traceback (most recent call last)",
            "\u001b[0;32m<ipython-input-3-cafae84da5a7>\u001b[0m in \u001b[0;36m<cell line: 4>\u001b[0;34m()\u001b[0m\n\u001b[1;32m      2\u001b[0m   \u001b[0mprint\u001b[0m\u001b[0;34m(\u001b[0m\u001b[0;34m\"Enter a number:\"\u001b[0m\u001b[0;34m,\u001b[0m \u001b[0mnumber\u001b[0m\u001b[0;34m)\u001b[0m\u001b[0;34m\u001b[0m\u001b[0;34m\u001b[0m\u001b[0m\n\u001b[1;32m      3\u001b[0m \u001b[0;34m\u001b[0m\u001b[0m\n\u001b[0;32m----> 4\u001b[0;31m \u001b[0mmessage\u001b[0m\u001b[0;34m(\u001b[0m\u001b[0;34m)\u001b[0m\u001b[0;34m\u001b[0m\u001b[0;34m\u001b[0m\u001b[0m\n\u001b[0m",
            "\u001b[0;31mTypeError\u001b[0m: message() missing 1 required positional argument: 'number'"
          ]
        }
      ]
    },
    {
      "cell_type": "code",
      "source": [
        "def message(number):\n",
        "  print(\"Enter a number:\", number)\n",
        "\n",
        "message(1)"
      ],
      "metadata": {
        "colab": {
          "base_uri": "https://localhost:8080/"
        },
        "id": "RNUxmb3PPqhG",
        "outputId": "e250f81e-e6a0-407a-94a9-bf7b21d0ce24"
      },
      "execution_count": null,
      "outputs": [
        {
          "output_type": "stream",
          "name": "stdout",
          "text": [
            "Enter a number: 1\n"
          ]
        }
      ]
    },
    {
      "cell_type": "code",
      "source": [
        "def message(number):\n",
        "  print(\"Enter a number:\", number)\n",
        "\n",
        "number = 1234\n",
        "message(1)\n",
        "print(number)"
      ],
      "metadata": {
        "colab": {
          "base_uri": "https://localhost:8080/"
        },
        "id": "jX3ucPJmQnYQ",
        "outputId": "5f1b4a53-b295-45ee-e81b-0941b1bf42c7"
      },
      "execution_count": null,
      "outputs": [
        {
          "output_type": "stream",
          "name": "stdout",
          "text": [
            "Enter a number: 1\n",
            "1234\n"
          ]
        }
      ]
    },
    {
      "cell_type": "code",
      "source": [
        "def message(what, number):\n",
        "  print(\"Enter\", what, \"number\", number)\n",
        "\n",
        "# Invoke the function\n",
        "message(\"Telephone\", 11)\n",
        "message(\"price\", 5)\n",
        "message(\"number\", \"number\")\n",
        "message(\"zebedeu\", 61616161)\n",
        "message(\"dariusdre\", \"zelele\")"
      ],
      "metadata": {
        "colab": {
          "base_uri": "https://localhost:8080/"
        },
        "id": "eZDtGJdMROrC",
        "outputId": "932ef766-e3c9-4ba2-e8e7-5893b308a69a"
      },
      "execution_count": null,
      "outputs": [
        {
          "output_type": "stream",
          "name": "stdout",
          "text": [
            "Enter Telephone number 11\n",
            "Enter price number 5\n",
            "Enter number number number\n",
            "Enter zebedeu number 61616161\n",
            "Enter dariusdre number zelele\n"
          ]
        }
      ]
    },
    {
      "cell_type": "code",
      "source": [
        "def my_function(a, b, c):\n",
        "  print(a, b, c)\n",
        "\n",
        "my_function(1, 2, 3)"
      ],
      "metadata": {
        "colab": {
          "base_uri": "https://localhost:8080/"
        },
        "id": "MGl3i4LFSWUy",
        "outputId": "5adee225-6d15-420a-e59b-5f96ea9038ee"
      },
      "execution_count": null,
      "outputs": [
        {
          "output_type": "stream",
          "name": "stdout",
          "text": [
            "1 2 3\n"
          ]
        }
      ]
    },
    {
      "cell_type": "code",
      "source": [
        "def introduction(first_name, last_name):\n",
        "  print(\"Hello, my name is\", first_name, last_name)\n",
        "\n",
        "introduction(\"Ze\", \"lele\")\n",
        "introduction(\"Dr\",\"Drew\")\n",
        "introduction(\"Dur\",\"Val\")"
      ],
      "metadata": {
        "colab": {
          "base_uri": "https://localhost:8080/"
        },
        "id": "m5dGVL25Sy4a",
        "outputId": "5c609aa2-3fc5-4a0a-c2cc-a51bf6663172"
      },
      "execution_count": null,
      "outputs": [
        {
          "output_type": "stream",
          "name": "stdout",
          "text": [
            "Hello, my name is Ze lele\n",
            "Hello, my name is Dr Drew\n",
            "Hello, my name is Dur Val\n"
          ]
        }
      ]
    },
    {
      "cell_type": "code",
      "source": [
        "def introduction(first_name, last_name):\n",
        "  print(\"Hello my name is:\", first_name, last_name)\n",
        "\n",
        "introduction(\"al\",\"mossar\")\n",
        "introduction(\"Ben\", \"ge\")\n",
        "introduction(\"asteion\", \"Sama\")"
      ],
      "metadata": {
        "colab": {
          "base_uri": "https://localhost:8080/"
        },
        "id": "G1aa-ks5TtNo",
        "outputId": "6d2ff6e1-ba29-45c5-827b-b2d6e95e7766"
      },
      "execution_count": null,
      "outputs": [
        {
          "output_type": "stream",
          "name": "stdout",
          "text": [
            "Hello my name is: al mossar\n",
            "Hello my name is: Ben ge\n",
            "Hello my name is: asteion Sama\n"
          ]
        }
      ]
    },
    {
      "cell_type": "code",
      "source": [
        "def introduction(first_name, last_name):\n",
        "  print(\"hello, my name is:\", first_name, last_name)\n",
        "\n",
        "introduction(first_name = \"Jaja\", last_name = \"Toba\")\n",
        "introduction(last_name = \"Maria\", first_name = \"Jose\")"
      ],
      "metadata": {
        "colab": {
          "base_uri": "https://localhost:8080/"
        },
        "id": "Ppyp0-7yUkpO",
        "outputId": "f6e944bf-bbae-4a5f-bc2b-ee611a5e0968"
      },
      "execution_count": null,
      "outputs": [
        {
          "output_type": "stream",
          "name": "stdout",
          "text": [
            "hello, my name is: Jaja Toba\n",
            "hello, my name is: Jose Maria\n"
          ]
        }
      ]
    },
    {
      "cell_type": "code",
      "source": [
        "def introduction(first_name, last_name):\n",
        "  print(\"Hello, my name is\", first_name, last_name)\n",
        "# wrong form\n",
        "introduction(surname = \"pinga\", first_name = \"Ni mim\")"
      ],
      "metadata": {
        "id": "eRmcWMgWVdV8"
      },
      "execution_count": null,
      "outputs": []
    },
    {
      "cell_type": "code",
      "source": [
        "def adding(a, b, c):\n",
        "  print(a, \"+\", b, \"+\", c, \"=\", a + b + c)\n",
        "# Call the adding function here\n",
        "adding(1, 2, 3)\n",
        "adding(c = 2, a = 3, b = 1)\n",
        "adding(3, c = 2, b =1)"
      ],
      "metadata": {
        "colab": {
          "base_uri": "https://localhost:8080/"
        },
        "id": "R43FsaS3XEWl",
        "outputId": "6a788805-473e-49dc-e8ab-5ba55c8f3ddd"
      },
      "execution_count": null,
      "outputs": [
        {
          "output_type": "stream",
          "name": "stdout",
          "text": [
            "1 + 2 + 3 = 6\n",
            "3 + 1 + 2 = 6\n",
            "3 + 1 + 2 = 6\n"
          ]
        }
      ]
    },
    {
      "cell_type": "code",
      "source": [
        "def introduction(first_name = \"Zé\", last_name = \"Bedeu\"):\n",
        "  print(\"Hello, my name is:\", first_name, last_name)\n",
        "\n",
        "introduction(last_name = \"chico\")"
      ],
      "metadata": {
        "colab": {
          "base_uri": "https://localhost:8080/"
        },
        "id": "J6jeQa_bYS_y",
        "outputId": "554af72e-c81f-4b9a-f5ed-87add85dd292"
      },
      "execution_count": null,
      "outputs": [
        {
          "output_type": "stream",
          "name": "stdout",
          "text": [
            "Hello, my name is: Zé chico\n"
          ]
        }
      ]
    },
    {
      "cell_type": "code",
      "source": [
        "def hi(name):\n",
        "  print(\"Hi\", name)\n",
        "\n",
        "hi(\"Rato\")"
      ],
      "metadata": {
        "colab": {
          "base_uri": "https://localhost:8080/"
        },
        "id": "V4SAoHfAaAm-",
        "outputId": "83fed7fe-e016-4d48-eaa1-abe8bca6c42e"
      },
      "execution_count": null,
      "outputs": [
        {
          "output_type": "stream",
          "name": "stdout",
          "text": [
            "Hi Rato\n"
          ]
        }
      ]
    },
    {
      "cell_type": "code",
      "source": [
        "def hi_all(name_1, name_2):\n",
        "  print(\"hi\", name_2)\n",
        "  print(\"hi\", name_1)\n",
        "\n",
        "hi_all(\"Lindomar\", \"Alejo\")"
      ],
      "metadata": {
        "colab": {
          "base_uri": "https://localhost:8080/"
        },
        "id": "ovEvn1EpaM34",
        "outputId": "bf2994eb-8f1f-41da-c9a4-ed22fff9f0bc"
      },
      "execution_count": null,
      "outputs": [
        {
          "output_type": "stream",
          "name": "stdout",
          "text": [
            "hi Alejo\n",
            "hi Lindomar\n"
          ]
        }
      ]
    },
    {
      "cell_type": "code",
      "source": [
        "def address(street, city, postal_code):\n",
        "  print(\"Your address is:\", street, \"St.,\", city, postal_code)\n",
        "\n",
        "s = input(\"Street: \")\n",
        "p_c = input(\"Postal Code: \")\n",
        "c = input(\"City: \")\n",
        "\n",
        "address(s, c, p_c)\n"
      ],
      "metadata": {
        "colab": {
          "base_uri": "https://localhost:8080/"
        },
        "id": "kVfSGGBCaqiV",
        "outputId": "23cc88e6-25c6-45fd-8616-a6be61f44296"
      },
      "execution_count": null,
      "outputs": [
        {
          "output_type": "stream",
          "name": "stdout",
          "text": [
            "Street: Snt John\n",
            "Postal Code: 717171\n",
            "City: Massarucetes\n",
            "Your address is: Snt John St., Massarucetes 717171\n"
          ]
        }
      ]
    },
    {
      "cell_type": "code",
      "source": [
        "def subtra(a, b):\n",
        "  print(a - b)\n",
        "\n",
        "subtra(5, 2) #outputs: 3\n",
        "subtra(2, 5) #outputs:-3\n"
      ],
      "metadata": {
        "colab": {
          "base_uri": "https://localhost:8080/"
        },
        "id": "3wuRYU43eXCg",
        "outputId": "7c55b4a5-c788-4a58-b64b-da2a38b48879"
      },
      "execution_count": null,
      "outputs": [
        {
          "output_type": "stream",
          "name": "stdout",
          "text": [
            "3\n",
            "-3\n"
          ]
        }
      ]
    },
    {
      "cell_type": "code",
      "source": [
        "def subtra(a, b):\n",
        "  print(a - b)\n",
        "\n",
        "subtra(a = 5, b = 2) #outputs: 3\n",
        "subtra(b = 2, a = 5) #outputs: 3"
      ],
      "metadata": {
        "colab": {
          "base_uri": "https://localhost:8080/"
        },
        "id": "NJG-2-yfkBC9",
        "outputId": "0f8251de-2598-4dfe-8979-acc21bb009ea"
      },
      "execution_count": null,
      "outputs": [
        {
          "output_type": "stream",
          "name": "stdout",
          "text": [
            "3\n",
            "3\n"
          ]
        }
      ]
    },
    {
      "cell_type": "code",
      "source": [
        "def subtra(a, b):\n",
        "  print(a - b)\n",
        "\n",
        "subtra(5, b = 2)\n",
        "subtra(5, 2)"
      ],
      "metadata": {
        "colab": {
          "base_uri": "https://localhost:8080/"
        },
        "id": "yqJ25UiMkZK7",
        "outputId": "b0424468-cd52-493b-8178-6aeb8f670baa"
      },
      "execution_count": null,
      "outputs": [
        {
          "output_type": "stream",
          "name": "stdout",
          "text": [
            "3\n",
            "3\n"
          ]
        }
      ]
    },
    {
      "cell_type": "code",
      "source": [
        "# ERROR Syntax\n",
        "\n",
        "def subtra(a, b):\n",
        "  print(a - b)\n",
        "\n",
        "subtra(5, b = 2)\n",
        "subtra(a=5, 2)"
      ],
      "metadata": {
        "colab": {
          "base_uri": "https://localhost:8080/",
          "height": 140
        },
        "id": "CWTffEdYkun0",
        "outputId": "c1465b9a-9d62-40a2-c742-65269d8efeea"
      },
      "execution_count": null,
      "outputs": [
        {
          "output_type": "error",
          "ename": "SyntaxError",
          "evalue": "ignored",
          "traceback": [
            "\u001b[0;36m  File \u001b[0;32m\"<ipython-input-40-dfcf90cdefc2>\"\u001b[0;36m, line \u001b[0;32m7\u001b[0m\n\u001b[0;31m    subtra(a=5, 2)\u001b[0m\n\u001b[0m                 ^\u001b[0m\n\u001b[0;31mSyntaxError\u001b[0m\u001b[0;31m:\u001b[0m positional argument follows keyword argument\n"
          ]
        }
      ]
    },
    {
      "cell_type": "code",
      "source": [
        "def name(first_name, last_name = \"lele\"):\n",
        "  print(first_name, last_name)\n",
        "\n",
        "name(\"Zé\")\n",
        "name(\"Armando\", \"Pinto\")"
      ],
      "metadata": {
        "colab": {
          "base_uri": "https://localhost:8080/"
        },
        "id": "3Ea4sHndlL2g",
        "outputId": "4216ffc0-4b18-438f-e856-2f20d67041e8"
      },
      "execution_count": null,
      "outputs": [
        {
          "output_type": "stream",
          "name": "stdout",
          "text": [
            "Zé lele\n",
            "Armando Pinto\n"
          ]
        }
      ]
    },
    {
      "cell_type": "code",
      "source": [
        "def intro(a = \"Zé da Manga\", b = \"da Manga\"):\n",
        "  print(\"My name is \", b + \".\", a + \".\")\n",
        "\n",
        "intro()"
      ],
      "metadata": {
        "colab": {
          "base_uri": "https://localhost:8080/"
        },
        "id": "ygBgD1PLl2Fb",
        "outputId": "6d11f5c9-a258-4941-e877-584c0e94d0f8"
      },
      "execution_count": null,
      "outputs": [
        {
          "output_type": "stream",
          "name": "stdout",
          "text": [
            "My name is  da Manga. Zé da Manga.\n"
          ]
        }
      ]
    },
    {
      "cell_type": "code",
      "source": [
        "def intro(a = \"Zé lele\", b = \"lele\"):\n",
        "  print(\"My name is\", b + \".\", a + \".\")\n",
        "\n",
        "intro(b = \"Xeien-ien\")"
      ],
      "metadata": {
        "colab": {
          "base_uri": "https://localhost:8080/"
        },
        "id": "HjQWb7PUmVFe",
        "outputId": "8179fcb8-2852-400d-9f0d-942b54cdd2f4"
      },
      "execution_count": null,
      "outputs": [
        {
          "output_type": "stream",
          "name": "stdout",
          "text": [
            "My name is Xeien-ien. Zé lele.\n"
          ]
        }
      ]
    },
    {
      "cell_type": "code",
      "source": [
        "def intro(a, b = \"Cueca\"):\n",
        "  print(\"My name is\", b + \".\", a + \".\")\n",
        "\n",
        "intro(\"Zé\")"
      ],
      "metadata": {
        "colab": {
          "base_uri": "https://localhost:8080/"
        },
        "id": "snjX8hSQm0SD",
        "outputId": "21a6dea7-3907-4ec5-fe53-6f838aa0bb4b"
      },
      "execution_count": null,
      "outputs": [
        {
          "output_type": "stream",
          "name": "stdout",
          "text": [
            "My name is Cueca. Zé.\n"
          ]
        }
      ]
    },
    {
      "cell_type": "code",
      "source": [
        "#SyntaxError\n",
        "def add_numbers(a, b=2, c):\n",
        "    print(a + b + c)\n",
        "\n",
        "add_numbers(a=1, c=3)"
      ],
      "metadata": {
        "colab": {
          "base_uri": "https://localhost:8080/",
          "height": 140
        },
        "id": "yhdLuwWRnMIl",
        "outputId": "3a12a1ca-14d3-400c-e3fb-ab1f7905b472"
      },
      "execution_count": null,
      "outputs": [
        {
          "output_type": "error",
          "ename": "SyntaxError",
          "evalue": "ignored",
          "traceback": [
            "\u001b[0;36m  File \u001b[0;32m\"<ipython-input-54-3882e0013490>\"\u001b[0;36m, line \u001b[0;32m1\u001b[0m\n\u001b[0;31m    def add_numbers(a, b=2, r):\u001b[0m\n\u001b[0m                            ^\u001b[0m\n\u001b[0;31mSyntaxError\u001b[0m\u001b[0;31m:\u001b[0m non-default argument follows default argument\n"
          ]
        }
      ]
    },
    {
      "cell_type": "code",
      "source": [
        "def happy_new_year(whishes = True):\n",
        "  print(\"Three...\")\n",
        "  print(\"Two...\")\n",
        "  print(\"One...\")\n",
        "  if not whishes:\n",
        "    return\n",
        "\n",
        "  print(\"Happy New Year!\")\n",
        "\n",
        "happy_new_year(False)"
      ],
      "metadata": {
        "colab": {
          "base_uri": "https://localhost:8080/"
        },
        "id": "r2OmUiStqheD",
        "outputId": "0626d488-ec63-46aa-e26f-cddc38b9caee"
      },
      "execution_count": null,
      "outputs": [
        {
          "output_type": "stream",
          "name": "stdout",
          "text": [
            "Three...\n",
            "Two...\n",
            "One...\n"
          ]
        }
      ]
    },
    {
      "cell_type": "code",
      "source": [
        "def boring_function(): # Invocation\n",
        "  return 123 # Return\n",
        "\n",
        "x = boring_function() # invocation\n",
        "\n",
        "print(\"The boring_function has return its result. It's:\", x)"
      ],
      "metadata": {
        "colab": {
          "base_uri": "https://localhost:8080/"
        },
        "id": "raTZ19aFsKuP",
        "outputId": "22fc6d53-a988-4326-e11f-1d18170cd305"
      },
      "execution_count": null,
      "outputs": [
        {
          "output_type": "stream",
          "name": "stdout",
          "text": [
            "The boring_function has return its result. It's: 123\n"
          ]
        }
      ]
    },
    {
      "cell_type": "code",
      "source": [
        "def boring_function():\n",
        "  print(\"'Boredom Mode' ON.\")\n",
        "  return 123\n",
        "\n",
        "print(\"This lesson is interesting!\")\n",
        "boring_function()\n",
        "print(\"This lesson is boring...\")"
      ],
      "metadata": {
        "colab": {
          "base_uri": "https://localhost:8080/"
        },
        "id": "6uEpjS4FtTi2",
        "outputId": "d3e7db48-a22c-4836-9f8c-cbdd6c631c0c"
      },
      "execution_count": null,
      "outputs": [
        {
          "output_type": "stream",
          "name": "stdout",
          "text": [
            "This lesson is interesting!\n",
            "'Boredom Mode' ON.\n",
            "This lesson is boring...\n"
          ]
        }
      ]
    },
    {
      "cell_type": "code",
      "source": [
        "#TypeError\n",
        "print(None + 2)"
      ],
      "metadata": {
        "id": "zQqe6t8XumlZ"
      },
      "execution_count": null,
      "outputs": []
    },
    {
      "cell_type": "code",
      "source": [
        "value = None\n",
        "if value is None:\n",
        "  print(\"Sorry, you don't carry any value\")"
      ],
      "metadata": {
        "colab": {
          "base_uri": "https://localhost:8080/"
        },
        "id": "hVgOacCfu6iu",
        "outputId": "c5752edd-16f2-4266-a25c-10aea6c51846"
      },
      "execution_count": null,
      "outputs": [
        {
          "output_type": "stream",
          "name": "stdout",
          "text": [
            "Sorry, you don't carry any value\n"
          ]
        }
      ]
    },
    {
      "cell_type": "code",
      "source": [
        "def strange_function(n):\n",
        "  if(n % 2 == 0):\n",
        "        return True\n",
        "print(strange_function(2))\n",
        "print(strange_function(1))"
      ],
      "metadata": {
        "colab": {
          "base_uri": "https://localhost:8080/"
        },
        "id": "PwGLnAkwxzLq",
        "outputId": "a10750c3-0fe2-44a3-bfc2-d7708f64fbc2"
      },
      "execution_count": null,
      "outputs": [
        {
          "output_type": "stream",
          "name": "stdout",
          "text": [
            "True\n",
            "None\n"
          ]
        }
      ]
    },
    {
      "cell_type": "code",
      "source": [
        "def list_sum(lst):\n",
        "  s = 0\n",
        "\n",
        "  for elem in lst:\n",
        "    s += elem\n",
        "\n",
        "  return s\n",
        "\n",
        "print(list_sum([5, 4, 3]))\n",
        "#print(list_sum(5))"
      ],
      "metadata": {
        "colab": {
          "base_uri": "https://localhost:8080/"
        },
        "id": "infFLF5BrbXL",
        "outputId": "40046882-8253-4b40-8876-e99c22d7aaa9"
      },
      "execution_count": null,
      "outputs": [
        {
          "output_type": "stream",
          "name": "stdout",
          "text": [
            "12\n"
          ]
        }
      ]
    },
    {
      "cell_type": "code",
      "source": [
        "def strange_list_fun(n):\n",
        "  strange_list = []\n",
        "\n",
        "  for i in range(0, n):\n",
        "    strange_list.insert(0, i)\n",
        "\n",
        "  return strange_list\n",
        "\n",
        "print(strange_list_fun(5))"
      ],
      "metadata": {
        "colab": {
          "base_uri": "https://localhost:8080/"
        },
        "id": "T8LQQwB_tUXs",
        "outputId": "8332a91c-71bb-4a44-86b3-2890c5a721cd"
      },
      "execution_count": null,
      "outputs": [
        {
          "output_type": "stream",
          "name": "stdout",
          "text": [
            "[4, 3, 2, 1, 0]\n"
          ]
        }
      ]
    },
    {
      "cell_type": "code",
      "source": [
        "def is_year_leap(year):\n",
        "  if year < 1582:\n",
        "    return False\n",
        "  elif year % 4 != 0:\n",
        "    return False\n",
        "  elif year % 100 != 0:\n",
        "    return True\n",
        "  elif year % 400 != 0:\n",
        "    return True\n",
        "  else:\n",
        "    return True\n",
        "\n",
        "test_data = [1900, 2000, 2016, 1987]\n",
        "test_results = [False, True, True, False]\n",
        "for i in range (len(test_data)):\n",
        "  yr = test_data[i]\n",
        "  print(yr,\"->\",end=\"\")\n",
        "  result = is_year_leap(yr)\n",
        "  if result == test_results[i]:\n",
        "    print(\"OK\")\n",
        "  else:\n",
        "    print(\"Failed\")"
      ],
      "metadata": {
        "colab": {
          "base_uri": "https://localhost:8080/"
        },
        "id": "AS0Kj63GBgI_",
        "outputId": "5601efa3-f07d-4fa4-dcaa-dd239e298422"
      },
      "execution_count": null,
      "outputs": [
        {
          "output_type": "stream",
          "name": "stdout",
          "text": [
            "1900 ->Failed\n",
            "2000 ->OK\n",
            "2016 ->OK\n",
            "1987 ->OK\n"
          ]
        }
      ]
    },
    {
      "cell_type": "code",
      "source": [
        "def is_year_leap(year):\n",
        "  if year < 1582:\n",
        "    return False\n",
        "  elif year % 4 != 0:\n",
        "    return False\n",
        "  elif year % 100 != 0:\n",
        "    return True\n",
        "  elif year % 400 != 0:\n",
        "    return True\n",
        "  else:\n",
        "    return True\n",
        "def days_in_month(year, month):\n",
        "  month_days = [ 31, 28, 31, 30, 31, 30, 31, 31, 30, 31, 30, 31]\n",
        "  if is_year_leap(year) and month == 2:\n",
        "    if month == 2:\n",
        "      return 29\n",
        "  return month_days[month - 1]\n",
        "\n",
        "test_years = [1900, 2000, 2016, 1987]\n",
        "test_months = [2, 2, 1, 11]\n",
        "test_results = [28, 29, 30, 31]\n",
        "for i in range (len(test_years)):\n",
        "  yr = test_years[i]\n",
        "  mo = test_months[i]\n",
        "  print(yr, mo, \"->\", end = \"\")\n",
        "  result = days_in_month(yr, mo)\n",
        "  if result == test_results[i]:\n",
        "    print(\"OK\")\n",
        "  else:\n",
        "    print(\"Failed\")"
      ],
      "metadata": {
        "colab": {
          "base_uri": "https://localhost:8080/"
        },
        "id": "T-MH62C4WxNc",
        "outputId": "e3b84e6d-06ad-41f6-95b5-ab35532598ad"
      },
      "execution_count": null,
      "outputs": [
        {
          "output_type": "stream",
          "name": "stdout",
          "text": [
            "1900 2 ->Failed\n",
            "2000 2 ->OK\n",
            "2016 1 ->Failed\n",
            "1987 11 ->Failed\n"
          ]
        }
      ]
    },
    {
      "cell_type": "code",
      "source": [
        "def is_year_leap(year):\n",
        "    if year < 1582:\n",
        "      return False\n",
        "    elif year % 4 != 0:\n",
        "      return False\n",
        "    elif year % 100 != 0:\n",
        "      return True\n",
        "    elif year % 400 != 0:\n",
        "      return True\n",
        "    else:\n",
        "      return True\n",
        "\n",
        "def days_in_month(year, month):\n",
        "  month_days = [ 31, 28, 31, 30, 31, 30, 31, 31, 30, 31, 30, 31]\n",
        "  if is_year_leap(year) and month == 2:\n",
        "    if month == 2:\n",
        "      return 29\n",
        "  return month_days[month - 1]\n",
        "\n",
        "\n",
        "def day_of_year(year, month, day):\n",
        "  if year < 1582:\n",
        "    return None\n",
        "  if month > 12 or month < 1:\n",
        "    return None\n",
        "  if day > 31 or day < 1:\n",
        "    return None\n",
        "  total_days = day\n",
        "  month = month - 1\n",
        "  while month > 0:\n",
        "    total_days += days_in_month(year, month)\n",
        "    month -= 1\n",
        "\n",
        "  return total_days\n",
        "\n",
        "\n",
        "print(day_of_year(1500, 12, 31))"
      ],
      "metadata": {
        "colab": {
          "base_uri": "https://localhost:8080/"
        },
        "id": "a0H5DJ1ldDOg",
        "outputId": "3936f506-bfbb-4cd5-a3b9-8028278670c0"
      },
      "execution_count": null,
      "outputs": [
        {
          "output_type": "stream",
          "name": "stdout",
          "text": [
            "None\n"
          ]
        }
      ]
    },
    {
      "cell_type": "code",
      "source": [
        "def is_prime(num):\n",
        "  divisao = 2\n",
        "  while divisao < num:\n",
        "    if num % divisao == 0:\n",
        "      return False\n",
        "    divisao += 1\n",
        "  return True\n",
        "\n",
        "for i in range(1, 20):\n",
        "\tif is_prime(i + 1):\n",
        "\t\t\tprint(i + 1, end=\" \")\n",
        "print()"
      ],
      "metadata": {
        "colab": {
          "base_uri": "https://localhost:8080/"
        },
        "id": "ssF6gWEk-142",
        "outputId": "5670e91b-e09a-46ca-e9d7-df23098a5f35"
      },
      "execution_count": null,
      "outputs": [
        {
          "output_type": "stream",
          "name": "stdout",
          "text": [
            "2 3 5 7 11 13 17 19 \n"
          ]
        }
      ]
    },
    {
      "cell_type": "code",
      "source": [
        "def liters_100km_to_miles_gallon(liters):\n",
        "  miles = 100 * 1000 / 1609.344\n",
        "  gallons = liters / 3.785411784\n",
        "  return miles / gallons\n",
        "\n",
        "\n",
        "def miles_gallon_to_liters_100km(miles):\n",
        "  liters = 3.785411784\n",
        "  kilometers = miles * 1609.344 / 1000\n",
        "  km100 = kilometers / 100\n",
        "  return liters / km100\n",
        "\n",
        "print(liters_100km_to_miles_gallon(3.9))\n",
        "print(liters_100km_to_miles_gallon(7.5))\n",
        "print(liters_100km_to_miles_gallon(10.))\n",
        "print(miles_gallon_to_liters_100km(60.3))\n",
        "print(miles_gallon_to_liters_100km(31.4))\n",
        "print(miles_gallon_to_liters_100km(23.5))"
      ],
      "metadata": {
        "colab": {
          "base_uri": "https://localhost:8080/"
        },
        "id": "kAkQiscvCFPd",
        "outputId": "0b95420a-40bc-42b6-c37d-9a3ba5b40841"
      },
      "execution_count": null,
      "outputs": [
        {
          "output_type": "stream",
          "name": "stdout",
          "text": [
            "60.31143162393162\n",
            "31.36194444444444\n",
            "23.52145833333333\n",
            "3.9007393587617467\n",
            "7.490910297239916\n",
            "10.009131205673757\n"
          ]
        }
      ]
    },
    {
      "cell_type": "code",
      "source": [
        "def multiply(a, b):\n",
        "  return a * b\n",
        "\n",
        "print(multiply(3, 4)) # outputs 12\n",
        "\n",
        "def multiply(a, b):\n",
        "  return\n",
        "\n",
        "print(multiply(3, 4)) # outputs None"
      ],
      "metadata": {
        "colab": {
          "base_uri": "https://localhost:8080/"
        },
        "id": "66STmsY6b0Rw",
        "outputId": "695e945a-3bcd-42e4-f6aa-660bd62a955b"
      },
      "execution_count": null,
      "outputs": [
        {
          "output_type": "stream",
          "name": "stdout",
          "text": [
            "12\n",
            "None\n"
          ]
        }
      ]
    },
    {
      "cell_type": "code",
      "source": [
        "def wishes ():\n",
        "  return \"Happy Birthday!\"\n",
        "\n",
        "w = wishes()\n",
        "\n",
        "print(w) #outputs Happy Birthday"
      ],
      "metadata": {
        "colab": {
          "base_uri": "https://localhost:8080/"
        },
        "id": "XVmp5r-wceO8",
        "outputId": "78cdbee8-dfd1-44c3-bb72-05e1eff7d835"
      },
      "execution_count": null,
      "outputs": [
        {
          "output_type": "stream",
          "name": "stdout",
          "text": [
            "Happy Birthday!\n"
          ]
        }
      ]
    },
    {
      "cell_type": "code",
      "source": [
        "#1\n",
        "\n",
        "def wishes():\n",
        "  print(\"My Wishes\")\n",
        "  return \"Happy Birthday\"\n",
        "\n",
        "wishes()\n",
        "\n",
        "#2\n",
        "def wishes():\n",
        "  print(\"My whishes\")\n",
        "  return \" Happy Birthday!\"\n",
        "\n",
        "print(wishes())\n",
        "\n",
        "\n"
      ],
      "metadata": {
        "colab": {
          "base_uri": "https://localhost:8080/"
        },
        "id": "yAIV_6NqdKaG",
        "outputId": "b355ea78-8768-409e-a961-2172be8353ee"
      },
      "execution_count": null,
      "outputs": [
        {
          "output_type": "stream",
          "name": "stdout",
          "text": [
            "My Wishes\n",
            "My whishes\n",
            " Happy Birthday!\n"
          ]
        }
      ]
    },
    {
      "cell_type": "code",
      "source": [
        "def hi_everybody(my_list):\n",
        "  for name in my_list:\n",
        "    print(\"Hi\", name)\n",
        "\n",
        "hi_everybody([\"Zelele\", \"JohnJonson\", \"Lucyete\"])"
      ],
      "metadata": {
        "colab": {
          "base_uri": "https://localhost:8080/"
        },
        "id": "4SS2UQdeeEyx",
        "outputId": "8d7c6281-4626-4200-b197-c4b02c6d6920"
      },
      "execution_count": null,
      "outputs": [
        {
          "output_type": "stream",
          "name": "stdout",
          "text": [
            "Hi Zelele\n",
            "Hi JohnJonson\n",
            "Hi Lucyete\n"
          ]
        }
      ]
    },
    {
      "cell_type": "code",
      "source": [
        "def create_list(n):\n",
        "  my_list = []\n",
        "  for i in range(n):\n",
        "    my_list.append(i)\n",
        "  return my_list\n",
        "\n",
        "print(create_list(5))"
      ],
      "metadata": {
        "colab": {
          "base_uri": "https://localhost:8080/"
        },
        "id": "-XBQVo5Rex1L",
        "outputId": "51819cac-2283-467d-fbdf-47dca9b27506"
      },
      "execution_count": null,
      "outputs": [
        {
          "output_type": "stream",
          "name": "stdout",
          "text": [
            "[0, 1, 2, 3, 4]\n"
          ]
        }
      ]
    },
    {
      "cell_type": "code",
      "source": [
        "def hi():\n",
        "  return\n",
        "  print(\"Hi\")\n",
        "\n",
        "hi()"
      ],
      "metadata": {
        "id": "6NWdqkqCfUy1"
      },
      "execution_count": null,
      "outputs": []
    },
    {
      "cell_type": "code",
      "source": [
        "def is_int(data):\n",
        "  if type(data) == int:\n",
        "    return True\n",
        "  elif type(data) == float:\n",
        "    return False\n",
        "\n",
        "print(is_int(5))\n",
        "print(is_int(5.0))\n",
        "print(is_int(\"5\"))"
      ],
      "metadata": {
        "colab": {
          "base_uri": "https://localhost:8080/"
        },
        "id": "8j661gXpfn0B",
        "outputId": "2a71f4d3-2fe0-42d2-9695-b8916fd7d66c"
      },
      "execution_count": null,
      "outputs": [
        {
          "output_type": "stream",
          "name": "stdout",
          "text": [
            "True\n",
            "False\n",
            "None\n"
          ]
        }
      ]
    },
    {
      "cell_type": "code",
      "source": [
        "def even_num_lst(ran):\n",
        "  lst = []\n",
        "  for num in range(ran):\n",
        "    if num % 2 == 0:\n",
        "      lst.append(num)\n",
        "  return lst\n",
        "\n",
        "print(even_num_lst(11))"
      ],
      "metadata": {
        "colab": {
          "base_uri": "https://localhost:8080/"
        },
        "id": "csFR_YkxiQP7",
        "outputId": "f3a03852-8dce-4cdc-f03b-bbec2102ad1e"
      },
      "execution_count": null,
      "outputs": [
        {
          "output_type": "stream",
          "name": "stdout",
          "text": [
            "[0, 2, 4, 6, 8, 10]\n"
          ]
        }
      ]
    },
    {
      "cell_type": "code",
      "source": [
        "def list_updater(lst):\n",
        "  upd_list = []\n",
        "  for elem in lst:\n",
        "    elem **= 2\n",
        "    upd_list.append(elem)\n",
        "  return upd_list\n",
        "\n",
        "foo = [1, 2, 3, 4, 5]\n",
        "\n",
        "print(list_updater(foo))"
      ],
      "metadata": {
        "colab": {
          "base_uri": "https://localhost:8080/"
        },
        "id": "onZDhurYi5k9",
        "outputId": "ca6cd572-c5e3-448e-aad5-955cbdd1b2d2"
      },
      "execution_count": null,
      "outputs": [
        {
          "output_type": "stream",
          "name": "stdout",
          "text": [
            "[1, 4, 9, 16, 25]\n"
          ]
        }
      ]
    },
    {
      "cell_type": "code",
      "source": [
        "def scope_test():\n",
        "  x = 123\n",
        "\n",
        "scope_test()\n",
        "print(x)"
      ],
      "metadata": {
        "id": "KFvDgKcYj55h"
      },
      "execution_count": null,
      "outputs": []
    },
    {
      "cell_type": "code",
      "source": [],
      "metadata": {
        "id": "BIvUOhJPqqxM"
      },
      "execution_count": null,
      "outputs": []
    },
    {
      "cell_type": "code",
      "source": [
        "def my_function():\n",
        "  var = 2\n",
        "  print(\"Do I know that variable\", var)\n",
        "\n",
        "var = 1\n",
        "my_function()\n",
        "print(var)"
      ],
      "metadata": {
        "id": "XIVc9FlOqjof"
      },
      "execution_count": null,
      "outputs": []
    },
    {
      "cell_type": "code",
      "source": [
        "def my_function():\n",
        "  global var\n",
        "  var = 2\n",
        "  print(\"Do I know that variable?\", var)\n",
        "\n",
        "var = 1\n",
        "my_function()\n",
        "print(var)"
      ],
      "metadata": {
        "colab": {
          "base_uri": "https://localhost:8080/"
        },
        "id": "_ytH0CAirYyR",
        "outputId": "6bdf2837-e1f5-4cd4-bf69-0defb92d40d5"
      },
      "execution_count": null,
      "outputs": [
        {
          "output_type": "stream",
          "name": "stdout",
          "text": [
            "Do I know that variable? 2\n",
            "2\n"
          ]
        }
      ]
    },
    {
      "cell_type": "code",
      "source": [
        "def my_function(n):\n",
        "  print(\"I got\", n)\n",
        "  n += 1\n",
        "  print(\"I have\", n)\n",
        "\n",
        "var = 1\n",
        "my_function(var)\n",
        "print(var)"
      ],
      "metadata": {
        "colab": {
          "base_uri": "https://localhost:8080/"
        },
        "id": "WJUPAD2BtSsX",
        "outputId": "435a841e-cfe4-4819-d08b-3f3c74f05259"
      },
      "execution_count": null,
      "outputs": [
        {
          "output_type": "stream",
          "name": "stdout",
          "text": [
            "I got 1\n",
            "I have 2\n",
            "1\n"
          ]
        }
      ]
    },
    {
      "cell_type": "code",
      "source": [
        "def my_function(my_list_1):\n",
        "  print(\"Print #1\", my_list_1)\n",
        "  print(\"Print #2\", my_list_2)\n",
        "  my_list_1 = [0, 1]\n",
        "  print(\"Print #3\", my_list_1)\n",
        "  print(\"print #4\", my_list_2)\n",
        "\n",
        "my_list_2 = [2, 3]\n",
        "my_function(my_list_2)\n",
        "print(\"Print #5\", my_list_2)"
      ],
      "metadata": {
        "colab": {
          "base_uri": "https://localhost:8080/"
        },
        "id": "-0n8o4V1CMTH",
        "outputId": "72e0c74c-d134-41e8-d2fb-08b242a6d700"
      },
      "execution_count": null,
      "outputs": [
        {
          "output_type": "stream",
          "name": "stdout",
          "text": [
            "Print #1 [2, 3]\n",
            "Print #2 [2, 3]\n",
            "Print #3 [0, 1]\n",
            "print #4 [2, 3]\n",
            "Print #5 [2, 3]\n"
          ]
        }
      ]
    },
    {
      "cell_type": "code",
      "source": [
        "def my_function(my_list_1):\n",
        "  print(\"Print #1\", my_list_1)\n",
        "  print(\"Print #2\", my_list_2)\n",
        "  del my_list_1[0] # Pay attention to this line\n",
        "  print(\"Print #3\", my_list_1)\n",
        "  print(\"Print #4\", my_list_2)\n",
        "\n",
        "my_list_2 = [2, 3]\n",
        "my_function(my_list_2)\n",
        "print(\"Print #5\", my_list_2)"
      ],
      "metadata": {
        "colab": {
          "base_uri": "https://localhost:8080/"
        },
        "id": "aJD0TQikF2n5",
        "outputId": "5868d638-4c5d-42a5-81d2-f12c51501315"
      },
      "execution_count": null,
      "outputs": [
        {
          "output_type": "stream",
          "name": "stdout",
          "text": [
            "Print #1 [2, 3]\n",
            "Print #2 [2, 3]\n",
            "Print #3 [3]\n",
            "Print #4 [3]\n",
            "Print #5 [3]\n"
          ]
        }
      ]
    },
    {
      "cell_type": "code",
      "source": [
        "var = 2\n",
        "\n",
        "def mult_by_var(x):\n",
        "  return x * var\n",
        "\n",
        "\n",
        "print(mult_by_var(7)) # outputs 14"
      ],
      "metadata": {
        "colab": {
          "base_uri": "https://localhost:8080/"
        },
        "id": "5nM_xTjdQY4D",
        "outputId": "a65d65da-03e8-41eb-cc6f-0df01e660199"
      },
      "execution_count": null,
      "outputs": [
        {
          "output_type": "stream",
          "name": "stdout",
          "text": [
            "14\n"
          ]
        }
      ]
    },
    {
      "cell_type": "code",
      "source": [
        "def mult(x):\n",
        "  var = 5\n",
        "  return x * var\n",
        "\n",
        "\n",
        "print(mult(7)) # outputs 35"
      ],
      "metadata": {
        "colab": {
          "base_uri": "https://localhost:8080/"
        },
        "id": "8fHFRfNBQ-ke",
        "outputId": "f871f54d-88af-4c16-8c65-35845761ead5"
      },
      "execution_count": null,
      "outputs": [
        {
          "output_type": "stream",
          "name": "stdout",
          "text": [
            "35\n"
          ]
        }
      ]
    },
    {
      "cell_type": "code",
      "source": [
        "def mult(x):\n",
        "  var = 7\n",
        "  return x * var\n",
        "\n",
        "\n",
        "var = 3\n",
        "print(mult(7))  # outputs: 49"
      ],
      "metadata": {
        "id": "ywC_9hpbR0hv"
      },
      "execution_count": null,
      "outputs": []
    },
    {
      "cell_type": "code",
      "source": [
        "def adding(x):\n",
        "  var = 7\n",
        "  return x + var\n",
        "\n",
        "print(adding(4))\n",
        "print(var)"
      ],
      "metadata": {
        "id": "N1WQti60JR0H"
      },
      "execution_count": null,
      "outputs": []
    },
    {
      "cell_type": "code",
      "source": [
        "var = 2\n",
        "print(var)\n",
        "\n",
        "def return_var():\n",
        "  global var\n",
        "  var = 5\n",
        "  return var\n",
        "\n",
        "print(return_var())\n",
        "print(var)"
      ],
      "metadata": {
        "colab": {
          "base_uri": "https://localhost:8080/"
        },
        "id": "_jC0BXwrJ0Nx",
        "outputId": "65f3f3a0-d05e-4934-aa38-b4810bdc5c95"
      },
      "execution_count": null,
      "outputs": [
        {
          "output_type": "stream",
          "name": "stdout",
          "text": [
            "2\n",
            "5\n",
            "5\n"
          ]
        }
      ]
    },
    {
      "cell_type": "code",
      "source": [
        "def message():\n",
        "  alt = 1\n",
        "  print(\"Hello, World!\")\n",
        "\n",
        "print(alt)"
      ],
      "metadata": {
        "id": "_93s_fVBKj95"
      },
      "execution_count": null,
      "outputs": []
    },
    {
      "cell_type": "code",
      "source": [
        "a = 1\n",
        "\n",
        "def fun():\n",
        "  a = 2\n",
        "  print(a)\n",
        "\n",
        "fun()\n",
        "print(a)"
      ],
      "metadata": {
        "colab": {
          "base_uri": "https://localhost:8080/"
        },
        "id": "d38CEjfEK9Ea",
        "outputId": "40e264e5-e1a4-429b-efc4-ccf3ede00ffe"
      },
      "execution_count": null,
      "outputs": [
        {
          "output_type": "stream",
          "name": "stdout",
          "text": [
            "2\n",
            "1\n"
          ]
        }
      ]
    },
    {
      "cell_type": "code",
      "source": [
        "a = 1\n",
        "\n",
        "def fun():\n",
        "  global a\n",
        "  a = 2\n",
        "  print(a)\n",
        "\n",
        "fun()\n",
        "a = 3\n",
        "print(a)"
      ],
      "metadata": {
        "colab": {
          "base_uri": "https://localhost:8080/"
        },
        "id": "fKeNZvgrLNkp",
        "outputId": "1b47a6f6-7f74-4545-dedd-9c7c56b1b515"
      },
      "execution_count": null,
      "outputs": [
        {
          "output_type": "stream",
          "name": "stdout",
          "text": [
            "2\n",
            "3\n"
          ]
        }
      ]
    },
    {
      "cell_type": "code",
      "source": [
        "a = 1\n",
        "\n",
        "def fun():\n",
        "  global a\n",
        "  a = 2\n",
        "  print(a)\n",
        "\n",
        "a = 2\n",
        "fun()\n",
        "print(a)"
      ],
      "metadata": {
        "colab": {
          "base_uri": "https://localhost:8080/"
        },
        "id": "ZfzRc9pnLfef",
        "outputId": "b85aea65-8581-4e9c-c695-243a00ab068c"
      },
      "execution_count": null,
      "outputs": [
        {
          "output_type": "stream",
          "name": "stdout",
          "text": [
            "2\n",
            "2\n"
          ]
        }
      ]
    },
    {
      "cell_type": "code",
      "source": [
        "tup = (1, ) + (1, )\n",
        "tup = tup + tup\n",
        "print(len(tup))"
      ],
      "metadata": {
        "colab": {
          "base_uri": "https://localhost:8080/"
        },
        "id": "T9tyfXGDG1kX",
        "outputId": "bb687acc-59ed-4aab-c4c6-8aad98ed7531"
      },
      "execution_count": null,
      "outputs": [
        {
          "output_type": "stream",
          "name": "stdout",
          "text": [
            "4\n"
          ]
        }
      ]
    },
    {
      "cell_type": "code",
      "source": [
        "def bmi(weight, height):\n",
        "    if weight == 0 or height == 0:\n",
        "        return None\n",
        "    else:\n",
        "        return weight / height ** 2\n",
        "\n",
        "print(bmi(0.0, 0.0))"
      ],
      "metadata": {
        "colab": {
          "base_uri": "https://localhost:8080/"
        },
        "id": "XHpHDMlqnMQF",
        "outputId": "0c006000-ca9c-4be1-cb26-53ec76afa86f"
      },
      "execution_count": null,
      "outputs": [
        {
          "output_type": "stream",
          "name": "stdout",
          "text": [
            "None\n"
          ]
        }
      ]
    },
    {
      "cell_type": "code",
      "source": [
        "def bmi(weight, height):\n",
        "    if height < 1.0 or height > 2.5 or \\\n",
        "    weight < 20 or weight > 200:\n",
        "      return None\n",
        "\n",
        "\n",
        "    return weight / height ** 2\n",
        "\n",
        "print(bmi(352.5, 1.65))\n",
        "\n"
      ],
      "metadata": {
        "colab": {
          "base_uri": "https://localhost:8080/"
        },
        "id": "89ZwLSaootCX",
        "outputId": "5c6a483b-a5a0-4bbc-97d0-4a182f23e850"
      },
      "execution_count": null,
      "outputs": [
        {
          "output_type": "stream",
          "name": "stdout",
          "text": [
            "None\n"
          ]
        }
      ]
    },
    {
      "cell_type": "code",
      "source": [
        "def lb_to_kg(lb):\n",
        "  return lb * 0.45359237\n",
        "\n",
        "print(lb_to_kg(220))"
      ],
      "metadata": {
        "colab": {
          "base_uri": "https://localhost:8080/"
        },
        "id": "oSIWudYPvz82",
        "outputId": "62b35066-771b-4c0d-fb2b-5e73a5fe2433"
      },
      "execution_count": null,
      "outputs": [
        {
          "output_type": "stream",
          "name": "stdout",
          "text": [
            "99.79032140000001\n"
          ]
        }
      ]
    },
    {
      "cell_type": "code",
      "source": [
        "def ft_and_inch_to_m(ft, inch):\n",
        "  return ft * 0.3048 + inch * 0.0254\n",
        "\n",
        "print(ft_and_inch_to_m(6,0))"
      ],
      "metadata": {
        "colab": {
          "base_uri": "https://localhost:8080/"
        },
        "id": "tnGgvcr6w3ju",
        "outputId": "db6c9d47-e718-4481-9447-d4a4fb362cc3"
      },
      "execution_count": null,
      "outputs": [
        {
          "output_type": "stream",
          "name": "stdout",
          "text": [
            "1.8288000000000002\n"
          ]
        }
      ]
    },
    {
      "cell_type": "code",
      "source": [
        "def ft_and_inch_to_m(ft, inch = 0.0):\n",
        "    return ft * 0.3048 + inch * 0.0254\n",
        "\n",
        "\n",
        "print(ft_and_inch_to_m(6))"
      ],
      "metadata": {
        "colab": {
          "base_uri": "https://localhost:8080/"
        },
        "id": "AFpOWl4qxkaU",
        "outputId": "58de78ac-a9a2-44c6-96c0-437ea1ffdb3b"
      },
      "execution_count": null,
      "outputs": [
        {
          "output_type": "stream",
          "name": "stdout",
          "text": [
            "1.8288000000000002\n"
          ]
        }
      ]
    },
    {
      "cell_type": "code",
      "source": [
        "def ft_and_inch_to_m(ft, inch = 0.0):\n",
        "  return ft * 0.3048 + inch * 0.0254\n",
        "\n",
        "def lb_t0_kg(lb):\n",
        "  return lb * 0.45359237\n",
        "\n",
        "def bmi(weight, height):\n",
        "  if height < 1.0 or height > 2.5 or weight < 20 or weight > 200:\n",
        "    return None\n",
        "  return weight / height ** 2\n",
        "\n",
        "print(bmi(weight = lb_to_kg(176), height = ft_and_inch_to_m(5, 7)))"
      ],
      "metadata": {
        "colab": {
          "base_uri": "https://localhost:8080/"
        },
        "id": "jT-14tC_xuEv",
        "outputId": "6c0b35a6-0311-4cc4-c8ea-f4f6c2c325c9"
      },
      "execution_count": null,
      "outputs": [
        {
          "output_type": "stream",
          "name": "stdout",
          "text": [
            "27.565214082533313\n"
          ]
        }
      ]
    },
    {
      "cell_type": "code",
      "source": [
        "def is_a_triangle(a, b, c):\n",
        "  if a + b <= c:\n",
        "    return False\n",
        "  if b + c <= a:\n",
        "    return False\n",
        "  if c + a <= b:\n",
        "    return False\n",
        "  return True\n",
        "\n",
        "print(is_a_triangle(1, 1, 1))\n",
        "print(is_a_triangle(1, 1, 3))"
      ],
      "metadata": {
        "colab": {
          "base_uri": "https://localhost:8080/"
        },
        "id": "YA05c5tGKIwz",
        "outputId": "e76d06c9-adef-4f0f-ea09-446cf4689b31"
      },
      "execution_count": null,
      "outputs": [
        {
          "output_type": "stream",
          "name": "stdout",
          "text": [
            "True\n",
            "False\n"
          ]
        }
      ]
    },
    {
      "cell_type": "code",
      "source": [
        "def is_a_triangle(a, b, c):\n",
        "  if a + b <= c or b + c <= a or c + a <= b:\n",
        "    return False\n",
        "  return True\n",
        "\n",
        "print(is_a_triangle(1, 1, 1))\n",
        "print(is_a_triangle(1, 1, 3))\n"
      ],
      "metadata": {
        "colab": {
          "base_uri": "https://localhost:8080/"
        },
        "id": "kZrmEOTCLSR1",
        "outputId": "3aaa67d3-4e79-4387-c34c-9518d13b97c7"
      },
      "execution_count": null,
      "outputs": [
        {
          "output_type": "stream",
          "name": "stdout",
          "text": [
            "True\n",
            "False\n"
          ]
        }
      ]
    },
    {
      "cell_type": "code",
      "source": [
        "def is_a_triangle(a, b, c):\n",
        "  return a + b > c and b + c > a and c + a > b\n",
        "\n",
        "a = float(input('Enter the first side\\'s length: '))\n",
        "b = float(input('Enter the second side\\'s length: '))\n",
        "c = float(input(\"Enter the second side's length: \"))\n",
        "\n",
        "if is_a_triangle(a, b, c):\n",
        "  print(\"Yes, it can be a triangle.\")\n",
        "else:\n",
        "  print(\"No, it can't be a triangle.\")"
      ],
      "metadata": {
        "id": "rUmsDcZmMDKX"
      },
      "execution_count": null,
      "outputs": []
    },
    {
      "cell_type": "code",
      "source": [
        "def is_a_triangle(a, b, c):\n",
        "  return a + b > c and b + c > a and c + a > b\n",
        "\n",
        "def is_a_right_triangle(a, b, c):\n",
        "  if not is_a_triangle(a, b, c):\n",
        "    return False\n",
        "  if c > a and c > b:\n",
        "    return c ** 2 == a ** 2 + b ** 2\n",
        "  if a > b and a > c:\n",
        "    return a ** 2 == b ** 2 + c ** 2\n",
        "\n",
        "print(is_a_right_triangle(5, 3, 4))\n",
        "print(is_a_right_triangle(1, 3, 4))"
      ],
      "metadata": {
        "colab": {
          "base_uri": "https://localhost:8080/"
        },
        "id": "vJu2FgCqxUJa",
        "outputId": "f274f235-199b-409b-de2f-96abdcf7406c"
      },
      "execution_count": null,
      "outputs": [
        {
          "output_type": "stream",
          "name": "stdout",
          "text": [
            "True\n",
            "False\n"
          ]
        }
      ]
    },
    {
      "cell_type": "code",
      "source": [
        "def is_a_triangle(a, b, c):\n",
        "  return a + b > c and b + c > a and c + a > b\n",
        "\n",
        "a = float(input(\"Enter the first side's length: \"))\n",
        "b = float(input(\"Enter the second side's length: \"))\n",
        "c = float(input(\"Enter the third side's lenght: \"))\n",
        "\n",
        "if is_a_triangle(a, b, c):\n",
        "  print(\"Yes, it can be a triangle.\")\n",
        "else:\n",
        "  print(\"No, it can't be a triangle.\")"
      ],
      "metadata": {
        "id": "xLKeShdt07f1"
      },
      "execution_count": null,
      "outputs": []
    },
    {
      "cell_type": "code",
      "source": [
        "def is_a_triangle(a, b, c):\n",
        "  return a + b > c and b + c > a and c + a > b\n",
        "\n",
        "def heron(a, b, c):\n",
        "  p = (a + b + c) / 2\n",
        "  return (p * (p - a) * (p - b) * (p - c)) ** 0.5\n",
        "\n",
        "def area_of_triangle(a, b, c):\n",
        "  if not is_a_triangle(a, b, c):\n",
        "    return None\n",
        "  return heron(a, b, c)\n",
        "\n",
        "print(area_of_triangle(1., 1., 2. ** .5))"
      ],
      "metadata": {
        "id": "_Z83Oria2xaV"
      },
      "execution_count": null,
      "outputs": []
    },
    {
      "cell_type": "code",
      "source": [
        "def factorial_function(n):\n",
        "  if n < 0:\n",
        "    return None\n",
        "  if n < 2:\n",
        "    return 1\n",
        "\n",
        "  product = 1\n",
        "  for i in range (2, n + 1):\n",
        "    product *= i\n",
        "  return product\n",
        "\n",
        "for n in range(1, 7):  # testing\n",
        "    print(n, factorial_function(n))\n"
      ],
      "metadata": {
        "id": "PNpG8GPE5F7F"
      },
      "execution_count": null,
      "outputs": []
    },
    {
      "cell_type": "code",
      "source": [
        "def fib(n):\n",
        "    if n < 1:\n",
        "        return None\n",
        "    if n < 3:\n",
        "        return 1\n",
        "\n",
        "    elem_1 = elem_2 = 1\n",
        "    the_sum = 0\n",
        "    for i in range(3, n + 1):\n",
        "        the_sum = elem_1 + elem_2\n",
        "        elem_1, elem_2 = elem_2, the_sum\n",
        "    return the_sum\n",
        "\n",
        "\n",
        "for n in range(1, 10):  # testing\n",
        "    print(n, \"->\", fib(n))"
      ],
      "metadata": {
        "id": "eH7aj4NXDCBi"
      },
      "execution_count": null,
      "outputs": []
    },
    {
      "cell_type": "code",
      "source": [
        "# Recursividade\n",
        "def factorial(n):\n",
        "  if n == 1: # The base case (condição)\n",
        "    return 1\n",
        "  else:\n",
        "    return n * factorial (n - 1)\n",
        "print(factorial(4)) # 4 * 3 * 2 * 1 = 24"
      ],
      "metadata": {
        "id": "pcWXzWN4GjtK"
      },
      "execution_count": null,
      "outputs": []
    },
    {
      "cell_type": "code",
      "source": [
        "def factorial(n):\n",
        "    return n * factorial(n - 1)\n",
        "   # não tem condição de terminação\n",
        "\n",
        "print(factorial(4))"
      ],
      "metadata": {
        "id": "-dgyrRLDWn-k"
      },
      "execution_count": null,
      "outputs": []
    },
    {
      "cell_type": "code",
      "source": [
        "def fun(a):\n",
        "  if a > 30:\n",
        "    return 3\n",
        "  else:\n",
        "    return a + fun( a + 3)\n",
        "\n",
        "print(fun(25))"
      ],
      "metadata": {
        "id": "tT2uKPJsaKOe"
      },
      "execution_count": null,
      "outputs": []
    },
    {
      "cell_type": "code",
      "source": [
        "tuple_1 = (1, 2, 3, 8)\n",
        "tuple_2 = 1., .5, .25, .125\n",
        "\n",
        "print(tuple_1)\n",
        "print(tuple_2)"
      ],
      "metadata": {
        "colab": {
          "base_uri": "https://localhost:8080/"
        },
        "id": "fH5oR3P1dsth",
        "outputId": "028fc22c-a1fe-4cec-e935-745752f7b82a"
      },
      "execution_count": null,
      "outputs": [
        {
          "output_type": "stream",
          "name": "stdout",
          "text": [
            "(1, 2, 3, 8)\n",
            "(1.0, 0.5, 0.25, 0.125)\n"
          ]
        }
      ]
    },
    {
      "cell_type": "code",
      "source": [
        "my_tuple = (1, 10, 100, 1000)\n",
        "\n",
        "print(my_tuple[0])\n",
        "print(my_tuple[-1])\n",
        "print(my_tuple[1:])\n",
        "print(my_tuple[:-2])\n",
        "\n",
        "\n",
        "for elem in my_tuple:\n",
        "  print(elem)"
      ],
      "metadata": {
        "id": "Qi7WFgtCd_Gn"
      },
      "execution_count": null,
      "outputs": []
    },
    {
      "cell_type": "code",
      "source": [
        "my_tuple = (1, 10, 100)\n",
        "t1 = my_tuple + (1000, 10000)\n",
        "t2 = my_tuple * 3\n",
        "\n",
        "print(len(t2))\n",
        "print(t1)\n",
        "print(t2)\n",
        "print(10 in my_tuple)\n",
        "print(-10 not in my_tuple)"
      ],
      "metadata": {
        "id": "uWSJPKHSbcTQ"
      },
      "execution_count": null,
      "outputs": []
    },
    {
      "cell_type": "code",
      "source": [
        "var = 123\n",
        "\n",
        "t1 = (1, )\n",
        "t2 = (2, )\n",
        "t3 = (3, var)\n",
        "\n",
        "t1, t2, t3 = t2, t3, t1\n",
        "\n",
        "print(t1, t2, t3)"
      ],
      "metadata": {
        "id": "rNhCMUKqcNMC"
      },
      "execution_count": null,
      "outputs": []
    },
    {
      "cell_type": "code",
      "source": [
        "dictionary = {\"cat\": \"chat\", \"dog\": \"chien\", \"horse\": \"cheval\"}\n",
        "phone_numbers = {\"boss\": 5551234567, \"suzie\": 555765432}\n",
        "empty_dictionary = {}\n",
        "\n",
        "print(dictionary)\n",
        "print(phone_numbers)\n",
        "print(empty_dictionary)"
      ],
      "metadata": {
        "id": "6tFlHuyFdBhv"
      },
      "execution_count": null,
      "outputs": []
    },
    {
      "cell_type": "code",
      "source": [
        "dictionary = {\"cat\": \"chat\", \"dog\": \"chien\", \"horse\": \"cheval\"}\n",
        "phone_number = {'boss': 5551234567, 'Suzy': 22657854310}\n",
        "empty_dictionary = {}\n",
        "\n",
        "print(dictionary['cat'])\n",
        "print(phone_number['Suzy'])"
      ],
      "metadata": {
        "id": "bJ5s399KeHdY"
      },
      "execution_count": null,
      "outputs": []
    },
    {
      "cell_type": "code",
      "source": [
        "dictionary = {\"cat\": \"chat\", \"dog\": \"chien\", \"horse\": \"chavel\"}\n",
        "words = ['cat', 'cow', 'horse']\n",
        "\n",
        "for word in words:\n",
        "  if word in dictionary:\n",
        "    print(word, \"->\", dictionary[word])\n",
        "  else:\n",
        "    print(word, \"is not in dictionary\")"
      ],
      "metadata": {
        "id": "yfBVODi_fMoV"
      },
      "execution_count": null,
      "outputs": []
    },
    {
      "cell_type": "code",
      "source": [
        "dictionary = {\"cat\": \"chat\", \"dog\": \"chien\", \"horse\": \"chavel\"}\n",
        "\n",
        "for key in dictionary.keys():\n",
        "  print(key, \"->\", dictionary[key])"
      ],
      "metadata": {
        "id": "zUDZJ2Vjg1_e"
      },
      "execution_count": null,
      "outputs": []
    },
    {
      "cell_type": "code",
      "source": [
        "def fun(x, y, z):\n",
        "    return x + 2 * y + 3 * z\n",
        "\n",
        "\n",
        "print(fun(0, z=1, y=3))\n"
      ],
      "metadata": {
        "colab": {
          "base_uri": "https://localhost:8080/"
        },
        "id": "K-J9dIdeG4Z6",
        "outputId": "efb3a543-49e4-4400-9a5d-4c15daca9241"
      },
      "execution_count": null,
      "outputs": [
        {
          "output_type": "stream",
          "name": "stdout",
          "text": [
            "9\n"
          ]
        }
      ]
    },
    {
      "cell_type": "code",
      "source": [
        "dictionary = {\"cat\": \"chat\", \"dog\": \"chien\", \"horse\": \"chavel\"}\n",
        "\n",
        "for english, french in dictionary.items():\n",
        "  print(english, \"->\", french)"
      ],
      "metadata": {
        "id": "ntrdF31hz2J8",
        "colab": {
          "base_uri": "https://localhost:8080/"
        },
        "outputId": "8b19270f-308d-4185-d96c-ffad5ca8079d"
      },
      "execution_count": null,
      "outputs": [
        {
          "output_type": "stream",
          "name": "stdout",
          "text": [
            "cat -> chat\n",
            "dog -> chien\n",
            "horse -> chavel\n"
          ]
        }
      ]
    },
    {
      "cell_type": "code",
      "source": [
        "dictionary = {\"cat\": \"chat\", \"dog\": \"chien\", \"horse\": \"cheval\"}\n",
        "\n",
        "dictionary['cat'] = 'minou'\n",
        "print(dictionary)\n"
      ],
      "metadata": {
        "colab": {
          "base_uri": "https://localhost:8080/"
        },
        "id": "eTNzmbuc6Epk",
        "outputId": "227c9b55-bf70-4645-9c72-93c06a85f8ff"
      },
      "execution_count": null,
      "outputs": [
        {
          "output_type": "stream",
          "name": "stdout",
          "text": [
            "{'cat': 'minou', 'dog': 'chien', 'horse': 'cheval'}\n"
          ]
        }
      ]
    },
    {
      "cell_type": "code",
      "source": [
        "dictionary = {\"cat\": \"chat\", \"dog\": \"chien\", \"horse\": \"cheval\"}\n",
        "\n",
        "dictionary['swan'] = 'cygne'\n",
        "print(dictionary)"
      ],
      "metadata": {
        "colab": {
          "base_uri": "https://localhost:8080/"
        },
        "id": "_Yi8CSDx6Q24",
        "outputId": "923d9749-9779-4081-bc16-a63eb0dc8fcd"
      },
      "execution_count": null,
      "outputs": [
        {
          "output_type": "stream",
          "name": "stdout",
          "text": [
            "{'cat': 'chat', 'dog': 'chien', 'horse': 'cheval', 'swan': 'cygne'}\n"
          ]
        }
      ]
    },
    {
      "cell_type": "code",
      "source": [
        "dictionary = {\"cat\": \"chat\", \"dog\": \"chien\", \"horse\": \"cheval\"}\n",
        "\n",
        "dictionary.update({\"duck\": \"canard\"})\n",
        "print(dictionary)"
      ],
      "metadata": {
        "colab": {
          "base_uri": "https://localhost:8080/"
        },
        "id": "gIcr9vpn6ZxV",
        "outputId": "0e11947b-4952-44fc-9799-58ed2aed4082"
      },
      "execution_count": null,
      "outputs": [
        {
          "output_type": "stream",
          "name": "stdout",
          "text": [
            "{'cat': 'chat', 'dog': 'chien', 'horse': 'cheval', 'duck': 'canard'}\n"
          ]
        }
      ]
    },
    {
      "cell_type": "code",
      "source": [
        "school_class = {}\n",
        "\n",
        "while True:\n",
        "  name = input(\"Enter the student's name: \")\n",
        "  if name == '':\n",
        "    break\n",
        "\n",
        "  score = int(input(\"Enter the student's score (0-10): \"))\n",
        "  if score not in range(0, 11):\n",
        "    break\n",
        "\n",
        "  if name in school_class:\n",
        "    school_class[name] += (score,)\n",
        "  else:\n",
        "    school_class[name] = (score,)\n",
        "\n",
        "for name in sorted(school_class.keys()):\n",
        "  adding = 0\n",
        "  counter = 0\n",
        "  for score in school_class[name]:\n",
        "    adding += score\n",
        "    counter += 1\n",
        "  print(name, \":\", adding / counter)"
      ],
      "metadata": {
        "id": "dK0S_vY77VNV"
      },
      "execution_count": null,
      "outputs": []
    },
    {
      "cell_type": "code",
      "source": [
        "my_tuple = (1, 2, True, \"a string\", (3, 4), [5, 6], None)\n",
        "\n",
        "print(my_tuple)\n",
        "\n",
        "my_list = [1, 2, True, \"a string\", (3, 4), [5, 6], None]\n",
        "\n",
        "print(my_list)"
      ],
      "metadata": {
        "id": "GSYDIgzkBDD8"
      },
      "execution_count": null,
      "outputs": []
    },
    {
      "cell_type": "code",
      "source": [
        "empty_tuple = ()\n",
        "\n",
        "print(type(empty_tuple))"
      ],
      "metadata": {
        "colab": {
          "base_uri": "https://localhost:8080/"
        },
        "id": "Z6hTvDxACBxE",
        "outputId": "07ffc761-c8de-49fd-9de1-0c7335a3e429"
      },
      "execution_count": null,
      "outputs": [
        {
          "output_type": "stream",
          "name": "stdout",
          "text": [
            "<class 'tuple'>\n"
          ]
        }
      ]
    },
    {
      "cell_type": "code",
      "source": [
        "one_elem_tuple = (\"one\",)\n",
        "one_elem_tuple = \"one\",\n",
        "\n",
        "print(one_elem_tuple)"
      ],
      "metadata": {
        "colab": {
          "base_uri": "https://localhost:8080/"
        },
        "id": "83KUvUdiXywa",
        "outputId": "98101131-a613-4f86-a711-822c816ecefe"
      },
      "execution_count": null,
      "outputs": [
        {
          "output_type": "stream",
          "name": "stdout",
          "text": [
            "('one',)\n"
          ]
        }
      ]
    },
    {
      "cell_type": "code",
      "source": [
        "my_tuple_1 = 1,\n",
        "print(type(my_tuple_1))\n",
        "\n",
        "my_tuple_2 = 1\n",
        "print(type(my_tuple_2))"
      ],
      "metadata": {
        "colab": {
          "base_uri": "https://localhost:8080/"
        },
        "id": "rjB6StOJYN3S",
        "outputId": "b9b76224-5d8a-4004-c6db-b8bd5d9bf089"
      },
      "execution_count": null,
      "outputs": [
        {
          "output_type": "stream",
          "name": "stdout",
          "text": [
            "<class 'tuple'>\n",
            "<class 'int'>\n"
          ]
        }
      ]
    },
    {
      "cell_type": "code",
      "source": [
        "my_tuple = (1, 2.0, \"string\", [3, 4], (5, ), True)\n",
        "\n",
        "print(my_tuple[3])"
      ],
      "metadata": {
        "colab": {
          "base_uri": "https://localhost:8080/"
        },
        "id": "vvLEtAZzZLPJ",
        "outputId": "811d9aed-4013-424f-916f-31fa0d612c73"
      },
      "execution_count": null,
      "outputs": [
        {
          "output_type": "stream",
          "name": "stdout",
          "text": [
            "[3, 4]\n"
          ]
        }
      ]
    },
    {
      "cell_type": "code",
      "source": [
        "# The TypeError exception will be raised.\n",
        "my_tuple (1, 2.0, [3, 4], (5, 0), True)\n",
        "my_tuple[2] = \"guitar\""
      ],
      "metadata": {
        "id": "7GIa18WlZloz"
      },
      "execution_count": null,
      "outputs": []
    },
    {
      "cell_type": "code",
      "source": [
        "# NameError: name 'my_tuple' is not defined\n",
        "my_tuple = (1, 2, 3)\n",
        "\n",
        "del my_tuple\n",
        "\n",
        "print(my_tuple)"
      ],
      "metadata": {
        "id": "BAf71hX8aWuD"
      },
      "execution_count": null,
      "outputs": []
    },
    {
      "cell_type": "code",
      "source": [
        "# example 1\n",
        "tuple_1 = (1, 2, 3)\n",
        "for elem in tuple_1:\n",
        "  print(elem)"
      ],
      "metadata": {
        "colab": {
          "base_uri": "https://localhost:8080/"
        },
        "id": "PFHdTnoka1ES",
        "outputId": "050eef09-82ac-44a4-f8fc-1027b5a3fb13"
      },
      "execution_count": null,
      "outputs": [
        {
          "output_type": "stream",
          "name": "stdout",
          "text": [
            "1\n",
            "2\n",
            "3\n"
          ]
        }
      ]
    },
    {
      "cell_type": "code",
      "source": [
        "# example 2\n",
        "tuple_2 = (1, 2, 3, 4)\n",
        "\n",
        "print(5 in tuple_2)\n",
        "print(5 not in tuple_2)"
      ],
      "metadata": {
        "colab": {
          "base_uri": "https://localhost:8080/"
        },
        "id": "QlKOhL9UbL3d",
        "outputId": "7a67e71f-0d25-4132-e545-fc2f372b7ba4"
      },
      "execution_count": null,
      "outputs": [
        {
          "output_type": "stream",
          "name": "stdout",
          "text": [
            "False\n",
            "True\n"
          ]
        }
      ]
    },
    {
      "cell_type": "code",
      "source": [
        "# example 3\n",
        "tuple_3 = (1, 2, 3, 5)\n",
        "print(len(tuple_3))"
      ],
      "metadata": {
        "colab": {
          "base_uri": "https://localhost:8080/"
        },
        "id": "hqfEY7iSb9Te",
        "outputId": "3c3b0bab-dc2a-441e-c82b-0827ebb824e4"
      },
      "execution_count": null,
      "outputs": [
        {
          "output_type": "stream",
          "name": "stdout",
          "text": [
            "4\n"
          ]
        }
      ]
    },
    {
      "cell_type": "code",
      "source": [
        "# example 4\n",
        "tuple_1 = (1, 2, 3, 7)\n",
        "tuple_2 = (3, 5, 9)\n",
        "tuple_3 = (1, 3, 5, 8)\n",
        "tuple_4 = tuple_1 + tuple_2\n",
        "tuple_5 = tuple_3 * 2\n",
        "print(tuple_4)\n",
        "print(tuple_5)"
      ],
      "metadata": {
        "colab": {
          "base_uri": "https://localhost:8080/"
        },
        "id": "Y1o4wesl1tM-",
        "outputId": "5f3fcae7-f536-4bdf-bf5f-424710667a0c"
      },
      "execution_count": null,
      "outputs": [
        {
          "output_type": "stream",
          "name": "stdout",
          "text": [
            "(1, 2, 3, 7, 3, 5, 9)\n",
            "(1, 3, 5, 8, 1, 3, 5, 8)\n"
          ]
        }
      ]
    },
    {
      "cell_type": "code",
      "source": [
        "my_tuple = tuple((1, 2, \"string\"))\n",
        "\n",
        "print(my_tuple)\n",
        "\n",
        "my_list = [2, 4, 6]\n",
        "print(my_list)\n",
        "print(type(my_list))\n",
        "tup = tuple(my_list)\n",
        "print(tup)\n",
        "print(type(tup))"
      ],
      "metadata": {
        "id": "hFMgp7_v2uwJ"
      },
      "execution_count": null,
      "outputs": []
    },
    {
      "cell_type": "code",
      "source": [
        "tup = 1, 2, 3\n",
        "my_list = list(tup)\n",
        "print(type(my_list))"
      ],
      "metadata": {
        "colab": {
          "base_uri": "https://localhost:8080/"
        },
        "id": "suiAjD565HeF",
        "outputId": "669843df-8114-4e92-bff5-2c8fd67a2a82"
      },
      "execution_count": null,
      "outputs": [
        {
          "output_type": "stream",
          "name": "stdout",
          "text": [
            "<class 'list'>\n"
          ]
        }
      ]
    },
    {
      "cell_type": "code",
      "source": [
        "my_dictionary = {\n",
        "    key1: value1,\n",
        "    key2: value2,\n",
        "    key3: value3,\n",
        "}"
      ],
      "metadata": {
        "id": "Pts8Gf1E5q_P"
      },
      "execution_count": null,
      "outputs": []
    },
    {
      "cell_type": "code",
      "source": [
        "pol_eng_dictionary = {\n",
        "    \"kwiat\": \"flower\",\n",
        "    \"woda\": \"water\",\n",
        "    \"gleba\": \"sofi\",\n",
        "}\n",
        "\n",
        "item_1 = pol_eng_dictionary[\"gleba\"]\n",
        "print(item_1)\n",
        "\n",
        "item_2 = pol_eng_dictionary.get(\"woda\")\n",
        "print(item_2)"
      ],
      "metadata": {
        "colab": {
          "base_uri": "https://localhost:8080/"
        },
        "id": "Na8kLBrr57mx",
        "outputId": "d78fc0fd-ed36-4d00-bc01-d894f0641dc7"
      },
      "execution_count": null,
      "outputs": [
        {
          "output_type": "stream",
          "name": "stdout",
          "text": [
            "sofi\n",
            "water\n"
          ]
        }
      ]
    },
    {
      "cell_type": "code",
      "source": [
        "pol_eng_dictionary = {\n",
        "    \"zamek\": \"castle\",\n",
        "    \"woda\": \"water\",\n",
        "    \"gleba\": \"soil\",\n",
        "}\n",
        "\n",
        "pol_eng_dictionary[\"zamek\"] = \"lock\"\n",
        "item = pol_eng_dictionary[\"zamek\"]\n",
        "print(item)"
      ],
      "metadata": {
        "id": "NND4YUni7b-Y"
      },
      "execution_count": null,
      "outputs": []
    },
    {
      "cell_type": "code",
      "source": [
        "phonebook = {}\n",
        "\n",
        "phonebook[\"Adam\"] = 3456783958\n",
        "print(phonebook)\n",
        "\n",
        "del phonebook[\"Adam\"]\n",
        "print(phonebook)"
      ],
      "metadata": {
        "colab": {
          "base_uri": "https://localhost:8080/"
        },
        "id": "OnqqgrkO8d-i",
        "outputId": "14c224b6-1fa9-426d-bcbe-25a88d0b281d"
      },
      "execution_count": null,
      "outputs": [
        {
          "output_type": "stream",
          "name": "stdout",
          "text": [
            "{'Adam': 3456783958}\n",
            "{}\n"
          ]
        }
      ]
    },
    {
      "cell_type": "code",
      "source": [
        "my_dictionary = {\n",
        "    key1: value1,\n",
        "    key2: value2,\n",
        "    key3: value3,\n",
        "}"
      ],
      "metadata": {
        "id": "ob4QtK1k9T2Z"
      },
      "execution_count": null,
      "outputs": []
    },
    {
      "cell_type": "code",
      "source": [
        "pol_eng_dictionary = {\n",
        "    \"kwiat\": \"flower\",\n",
        "    \"woda\": \"water\",\n",
        "    \"gleba\": \"soil\",\n",
        "\n",
        "}\n",
        "\n",
        "item_1 = pol_eng_dictionary[\"gleba\"]\n",
        "print(item_1)\n",
        "\n",
        "item_2 = pol_eng_dictionary.get(\"woda\")\n",
        "print(item_2)"
      ],
      "metadata": {
        "colab": {
          "base_uri": "https://localhost:8080/"
        },
        "id": "MKapqkL6scQK",
        "outputId": "916bee94-5a50-4190-9e7a-0aa56b6ae611"
      },
      "execution_count": null,
      "outputs": [
        {
          "output_type": "stream",
          "name": "stdout",
          "text": [
            "soil\n",
            "water\n"
          ]
        }
      ]
    },
    {
      "cell_type": "code",
      "source": [
        "pol_eng_dictionary = {\n",
        "    \"zamek\": \"castle\",\n",
        "    \"woda\": \"water\",\n",
        "    \"gleba\": \"soil\",\n",
        "}\n",
        "\n",
        "pol_eng_dictionary[\"zamek\"] = \"lock\"\n",
        "item = pol_eng_dictionary[\"zamek\"]\n",
        "\n",
        "print(item)"
      ],
      "metadata": {
        "colab": {
          "base_uri": "https://localhost:8080/"
        },
        "id": "A4Pdaw-Tsb7f",
        "outputId": "5dea6411-144b-4b22-c054-c84e07102567"
      },
      "execution_count": null,
      "outputs": [
        {
          "output_type": "stream",
          "name": "stdout",
          "text": [
            "lock\n"
          ]
        }
      ]
    },
    {
      "cell_type": "code",
      "source": [
        "phonebook = {}\n",
        "phonebook[\"Adam\"] = 4567839538\n",
        "\n",
        "print(phonebook)\n",
        "\n",
        "del phonebook[\"Adam\"]\n",
        "print(phonebook)"
      ],
      "metadata": {
        "colab": {
          "base_uri": "https://localhost:8080/"
        },
        "id": "8_8ScLyluBaE",
        "outputId": "8a5ec6e0-25f3-4eeb-fdf2-35354b8fff7e"
      },
      "execution_count": null,
      "outputs": [
        {
          "output_type": "stream",
          "name": "stdout",
          "text": [
            "{'Adam': 4567839538}\n",
            "{}\n"
          ]
        }
      ]
    },
    {
      "cell_type": "code",
      "source": [
        "pol_eng_dictionary = {\"kwiat\": \"flower\"}\n",
        "\n",
        "pol_eng_dictionary.update({\"gleba\": \"soil\"})\n",
        "print(pol_eng_dictionary)\n",
        "\n",
        "pol_eng_dictionary.popitem()\n",
        "print(pol_eng_dictionary)"
      ],
      "metadata": {
        "colab": {
          "base_uri": "https://localhost:8080/"
        },
        "id": "5XIgHdtEvjG_",
        "outputId": "25e0a23e-355b-44d9-bd8d-f8d9dd2db322"
      },
      "execution_count": null,
      "outputs": [
        {
          "output_type": "stream",
          "name": "stdout",
          "text": [
            "{'kwiat': 'flower', 'gleba': 'soil'}\n",
            "{'kwiat': 'flower'}\n"
          ]
        }
      ]
    },
    {
      "cell_type": "code",
      "source": [
        "pol_eng_dictionary = {\n",
        "    \"zamek\": \"castle\",\n",
        "    \"woda\": \"water\",\n",
        "    \"gleba\": \"soil\"\n",
        "    }\n",
        "\n",
        "for item in pol_eng_dictionary:\n",
        "    print(item)"
      ],
      "metadata": {
        "id": "1fMjkuZ4ws4T"
      },
      "execution_count": null,
      "outputs": []
    },
    {
      "cell_type": "code",
      "source": [
        "pol_eng_dictionary = {\n",
        "    \"zamek\": \"castle\",\n",
        "    \"woda\": \"water\",\n",
        "    \"gleba\": \"soil\"\n",
        "    }\n",
        "\n",
        "for key, value in pol_eng_dictionary.items():\n",
        "    print(\"Pol/Eng ->\", key, \":\", value)"
      ],
      "metadata": {
        "id": "heHrAuIby_d8"
      },
      "execution_count": null,
      "outputs": []
    },
    {
      "cell_type": "code",
      "source": [
        "pol_eng_dictionary = {\n",
        "    \"zamek\": \"castle\",\n",
        "    \"woda\": \"water\",\n",
        "    \"gleba\": \"soil\"\n",
        "}\n",
        "\n",
        "if \"zamek\" in pol_eng_dictionary:\n",
        "  print(\"YYYYYEEEESSS\")\n",
        "\n",
        "else:\n",
        "  print(\"Nonononononono\")"
      ],
      "metadata": {
        "colab": {
          "base_uri": "https://localhost:8080/"
        },
        "id": "9A-uRSe3zFuV",
        "outputId": "6174fa9f-37d3-42b9-a584-423a6eabfa4a"
      },
      "execution_count": null,
      "outputs": [
        {
          "output_type": "stream",
          "name": "stdout",
          "text": [
            "YYYYYEEEESSS\n"
          ]
        }
      ]
    },
    {
      "cell_type": "code",
      "source": [
        "pol_eng_dictionary = {\n",
        "    \"zamek\": \"castle\",\n",
        "    \"woda\": \"water\",\n",
        "    \"gleba\": \"soil\"\n",
        "}\n",
        "\n",
        "print(len(pol_eng_dictionary))\n",
        "\n",
        "del pol_eng_dictionary[\"zamek\"]\n",
        "\n",
        "print(len(pol_eng_dictionary))\n",
        "\n",
        "pol_eng_dictionary.clear()\n",
        "\n",
        "print(len(pol_eng_dictionary))\n",
        "\n",
        "del pol_eng_dictionary"
      ],
      "metadata": {
        "id": "Hpgyk4E7z5Xm"
      },
      "execution_count": null,
      "outputs": []
    },
    {
      "cell_type": "code",
      "source": [
        "pol_eng_dictionary = {\n",
        "    \"zamek\": \"castle\",\n",
        "    \"woda\": \"water\",\n",
        "    \"gleba\": \"soil\"\n",
        "    }\n",
        "\n",
        "copy_dictionary = pol_eng_dictionary.copy()"
      ],
      "metadata": {
        "id": "RqcYAt0I2OIE"
      },
      "execution_count": null,
      "outputs": []
    },
    {
      "cell_type": "markdown",
      "source": [
        "Tupla"
      ],
      "metadata": {
        "id": "E557ublc2mv_"
      }
    },
    {
      "cell_type": "code",
      "source": [
        "my_tup = (1, 2, 3)\n",
        "\n",
        "print(my_tup[2])"
      ],
      "metadata": {
        "colab": {
          "base_uri": "https://localhost:8080/"
        },
        "id": "Y1bSRa7O2ig5",
        "outputId": "1416dfd6-23b7-4fce-c669-f1d0b7d79e33"
      },
      "execution_count": null,
      "outputs": [
        {
          "output_type": "stream",
          "name": "stdout",
          "text": [
            "3\n"
          ]
        }
      ]
    },
    {
      "cell_type": "code",
      "source": [
        "tup = 1, 2, 3\n",
        "a, b, c = tup\n",
        "\n",
        "print(a * b * c)"
      ],
      "metadata": {
        "colab": {
          "base_uri": "https://localhost:8080/"
        },
        "id": "BhOFcbsc2wQR",
        "outputId": "bf05df53-1f6f-4c2c-8f68-69c5857b551f"
      },
      "execution_count": null,
      "outputs": [
        {
          "output_type": "stream",
          "name": "stdout",
          "text": [
            "6\n"
          ]
        }
      ]
    },
    {
      "cell_type": "code",
      "source": [
        "tup = 1, 2, 3, 2, 4, 5, 6, 2, 7, 2, 8, 9\n",
        "duplicates = tup.count(2)\n",
        "\n",
        "print(duplicates)"
      ],
      "metadata": {
        "colab": {
          "base_uri": "https://localhost:8080/"
        },
        "id": "yGft813r3PPD",
        "outputId": "4136f792-cc52-4667-a441-d3bf483da491"
      },
      "execution_count": null,
      "outputs": [
        {
          "output_type": "stream",
          "name": "stdout",
          "text": [
            "4\n"
          ]
        }
      ]
    },
    {
      "cell_type": "code",
      "source": [
        "d1 = {'Adam Smith': 'A', 'Judy Paxton': 'B+'}\n",
        "d2 = {'Mary Louis': 'A', 'Patrick White': 'C'}\n",
        "d3 = {}\n",
        "\n",
        "for item in (d1, d2):\n",
        "  d3.update(item)\n",
        "\n",
        "print(d3)"
      ],
      "metadata": {
        "colab": {
          "base_uri": "https://localhost:8080/"
        },
        "id": "U3IkhKqI3Zmh",
        "outputId": "4e369878-e842-40a8-f9e7-9064611412d0"
      },
      "execution_count": null,
      "outputs": [
        {
          "output_type": "stream",
          "name": "stdout",
          "text": [
            "{'Adam Smith': 'A', 'Judy Paxton': 'B+', 'Mary Louis': 'A', 'Patrick White': 'C'}\n"
          ]
        }
      ]
    },
    {
      "cell_type": "code",
      "source": [
        "my_list = [\"car\", \"ford\", \"flower\", \"Tulip\"]\n",
        "\n",
        "t = tuple(my_list)\n",
        "\n",
        "print(t)"
      ],
      "metadata": {
        "colab": {
          "base_uri": "https://localhost:8080/"
        },
        "id": "TGJhZPMP5yix",
        "outputId": "573d672f-4c90-4ce8-c98a-38d1e5ba3827"
      },
      "execution_count": null,
      "outputs": [
        {
          "output_type": "stream",
          "name": "stdout",
          "text": [
            "('car', 'ford', 'flower', 'Tulip')\n"
          ]
        }
      ]
    },
    {
      "cell_type": "code",
      "source": [
        "colors = ((\"green\", \"#008000\"), (\"blue\", \"#000FF\"))\n",
        "\n",
        "colors_dictionary = dict(colors)\n",
        "\n",
        "print(colors_dictionary)"
      ],
      "metadata": {
        "colab": {
          "base_uri": "https://localhost:8080/"
        },
        "id": "jABhRfES6Wuj",
        "outputId": "8272cc6c-eb55-44a8-bca8-b6ce7c9bc5f8"
      },
      "execution_count": null,
      "outputs": [
        {
          "output_type": "stream",
          "name": "stdout",
          "text": [
            "{'green': '#008000', 'blue': '#000FF'}\n"
          ]
        }
      ]
    },
    {
      "cell_type": "code",
      "source": [
        "my_dictionary = {\"A\": 1, \"B\": 2}\n",
        "\n",
        "copy_my_dictionary = my_dictionary.copy()\n",
        "\n",
        "my_dictionary.clear()\n",
        "\n",
        "print(copy_my_dictionary)"
      ],
      "metadata": {
        "colab": {
          "base_uri": "https://localhost:8080/"
        },
        "id": "yq1ux6gz6-7T",
        "outputId": "4b8dc7c9-c4f6-403a-df3a-8cebfb97f548"
      },
      "execution_count": null,
      "outputs": [
        {
          "output_type": "stream",
          "name": "stdout",
          "text": [
            "{'A': 1, 'B': 2}\n"
          ]
        }
      ]
    },
    {
      "cell_type": "code",
      "source": [
        "colors = {\n",
        "    \"white\": (255, 255, 255),\n",
        "    \"grey\": (128, 128, 128),\n",
        "    \"red\": (255, 0, 0),\n",
        "    \"green\": (0, 128, 0)\n",
        "}\n",
        "\n",
        "for col, rgb in colors.items():\n",
        "  print(col, \":\", rgb)"
      ],
      "metadata": {
        "id": "S6TA3pHP798w"
      },
      "execution_count": null,
      "outputs": []
    },
    {
      "cell_type": "code",
      "source": [
        "import math\n",
        "\n",
        "\n",
        "def sin(x):\n",
        "    if 2 * x == pi:\n",
        "        return 0.99999999\n",
        "    else:\n",
        "        return None\n",
        "\n",
        "\n",
        "pi = 3.14\n",
        "\n",
        "print(sin(pi/2))\n",
        "print(math.sin(math.pi/2))"
      ],
      "metadata": {
        "colab": {
          "base_uri": "https://localhost:8080/"
        },
        "id": "yP3r7XHXSh0O",
        "outputId": "1ac82c62-782a-498d-8cd9-0a6e7dd43f80"
      },
      "execution_count": null,
      "outputs": [
        {
          "output_type": "stream",
          "name": "stdout",
          "text": [
            "0.99999999\n",
            "1.0\n"
          ]
        }
      ]
    },
    {
      "cell_type": "code",
      "source": [
        "from math import pi\n",
        "print(math.e)\n",
        "print(math.pi)"
      ],
      "metadata": {
        "id": "9SSKQsr_Slmj"
      },
      "execution_count": null,
      "outputs": []
    },
    {
      "cell_type": "code",
      "source": [
        "from math import sin, pi\n",
        "\n",
        "print(sin(pi/2))"
      ],
      "metadata": {
        "colab": {
          "base_uri": "https://localhost:8080/"
        },
        "id": "ScI1c0q8V2SB",
        "outputId": "a54426ce-56e1-4a9b-8cf4-d567ff76dc15"
      },
      "execution_count": null,
      "outputs": [
        {
          "output_type": "stream",
          "name": "stdout",
          "text": [
            "1.0\n"
          ]
        }
      ]
    },
    {
      "cell_type": "code",
      "source": [
        "from math import sin, pi\n",
        "\n",
        "print(sin(pi / 2))\n",
        "\n",
        "pi = 3.14\n",
        "\n",
        "\n",
        "def sin(x):\n",
        "    if 2 * x == pi:\n",
        "        return 0.99999999\n",
        "    else:\n",
        "        return None\n",
        "\n",
        "\n",
        "print(sin(pi / 2))"
      ],
      "metadata": {
        "id": "gMih5ZznYddW"
      },
      "execution_count": null,
      "outputs": []
    },
    {
      "cell_type": "code",
      "source": [
        "pi = 3.14\n",
        "\n",
        "def sin (x):\n",
        "  if 2 * x == pi:\n",
        "    return 0.9999999\n",
        "  else:\n",
        "    return None\n",
        "\n",
        "print(sin (pi / 2))\n",
        "\n",
        "from math import sin, pi\n",
        "\n",
        "print(sin(pi / 2))"
      ],
      "metadata": {
        "id": "q85MajqoYuN0"
      },
      "execution_count": null,
      "outputs": []
    },
    {
      "cell_type": "code",
      "source": [
        "import math as m\n",
        "\n",
        "print(m.sin(m.pi/2))"
      ],
      "metadata": {
        "id": "Jr6IFIPLZs9A"
      },
      "execution_count": null,
      "outputs": []
    },
    {
      "cell_type": "code",
      "source": [
        "from module import name as alias"
      ],
      "metadata": {
        "id": "8a_Ybd56aZa-"
      },
      "execution_count": null,
      "outputs": []
    },
    {
      "cell_type": "code",
      "source": [
        "from module import my_function, my_data\n",
        "\n",
        "result = my_function(my_data)"
      ],
      "metadata": {
        "id": "aqXURNpzalz0"
      },
      "execution_count": null,
      "outputs": []
    },
    {
      "cell_type": "code",
      "source": [
        "from module import my_function as fun, my_data as data\n",
        "\n",
        "result = fun(dat)"
      ],
      "metadata": {
        "id": "OaZ-niFubjNz"
      },
      "execution_count": null,
      "outputs": []
    },
    {
      "cell_type": "code",
      "source": [
        "import mint\n",
        "\n",
        "mint.make_money()"
      ],
      "metadata": {
        "id": "78jx-czRb1ub"
      },
      "execution_count": null,
      "outputs": []
    },
    {
      "cell_type": "code",
      "source": [
        "from mint import make_money\n",
        "\n",
        "make_money()"
      ],
      "metadata": {
        "id": "XDkZW1facXBY"
      },
      "execution_count": null,
      "outputs": []
    },
    {
      "cell_type": "code",
      "source": [
        "import mod1 # correto\n",
        "\n",
        "import mod2, mod3, mod4 # Funciona mas não é recomendada\n"
      ],
      "metadata": {
        "id": "EJV2vkm7cP0c"
      },
      "execution_count": null,
      "outputs": []
    },
    {
      "cell_type": "code",
      "source": [],
      "metadata": {
        "id": "9FROiH66dSCG"
      },
      "execution_count": null,
      "outputs": []
    },
    {
      "cell_type": "code",
      "source": [
        "# forma correta e padrão\n",
        "import mod1\n",
        "import mod2\n",
        "import mod3"
      ],
      "metadata": {
        "id": "sEsYzye8dPwj"
      },
      "execution_count": null,
      "outputs": []
    },
    {
      "cell_type": "code",
      "source": [
        "# notação de ponto para prefixar o nome da entidade\n",
        "\n",
        "import my_module\n",
        "result my_module.my_function(my_module.my_data)"
      ],
      "metadata": {
        "id": "sxveENS9dcqS"
      },
      "execution_count": null,
      "outputs": []
    },
    {
      "cell_type": "code",
      "source": [
        "from module import my_function, my_data\n",
        "\n",
        "result = my_function(my_data)\n",
        "# Forma não recomendada pois pode gerar conflitos com nomes derivados"
      ],
      "metadata": {
        "id": "Zktb_HMkeNBR"
      },
      "execution_count": null,
      "outputs": []
    },
    {
      "cell_type": "code",
      "source": [
        "# Forma geral de declaração de todas as entidades de um módulo\n",
        "from my_module import *\n",
        "\n",
        "result = my_function(my_data)\n",
        "\n",
        "# Forma não recomendada altas chances de gerar conflito"
      ],
      "metadata": {
        "id": "3W-r_MKkeMkn"
      },
      "execution_count": null,
      "outputs": []
    },
    {
      "cell_type": "code",
      "source": [
        "# gerando aliases\n",
        "from module import my_function as fun, my_data as dat\n",
        "\n",
        "result = fun(dat)"
      ],
      "metadata": {
        "id": "DoHcsJVxf5d7"
      },
      "execution_count": null,
      "outputs": []
    },
    {
      "cell_type": "code",
      "source": [
        "import mint\n",
        "\n",
        "mint.make_money()"
      ],
      "metadata": {
        "id": "a_Q9OuOagZbO"
      },
      "execution_count": null,
      "outputs": []
    },
    {
      "cell_type": "code",
      "source": [
        "from mint import make_money\n",
        "\n",
        "make_money()"
      ],
      "metadata": {
        "id": "JuKM7r73guBl"
      },
      "execution_count": null,
      "outputs": []
    },
    {
      "cell_type": "code",
      "source": [
        "from mint import make_money as make_more_money"
      ],
      "metadata": {
        "id": "5eS87-9xg1aW"
      },
      "execution_count": null,
      "outputs": []
    },
    {
      "cell_type": "code",
      "source": [
        "from mint import *\n",
        "\n",
        "make_money()"
      ],
      "metadata": {
        "id": "DIyjCUEIhaC4"
      },
      "execution_count": null,
      "outputs": []
    },
    {
      "cell_type": "code",
      "source": [
        "from math import pi, radians, degrees, sin, cos, tan, asin\n",
        "\n",
        "ad = 90\n",
        "ar = radians(ad)\n",
        "ad = degrees(ar)\n",
        "\n",
        "print(ad == 90.)\n",
        "print(ar == pi / 2.)\n",
        "print(sin(ar) / cos(ar) == tan(ar))\n",
        "print(asin(sin(ar)) == ar)"
      ],
      "metadata": {
        "id": "M3GuqC-tiJsh"
      },
      "execution_count": null,
      "outputs": []
    },
    {
      "cell_type": "code",
      "source": [
        "from math import e, exp, log\n",
        "\n",
        "print(pow(e, 1)) == exp(log((e)))\n",
        "print(pow(2, 2)) == exp(2 * log((2)))\n",
        "print(log(e, e) == exp(0))"
      ],
      "metadata": {
        "id": "UsYacvcjJx9U",
        "outputId": "d5d3b819-6b3b-4936-ddcd-1d2781367b5a",
        "colab": {
          "base_uri": "https://localhost:8080/"
        }
      },
      "execution_count": null,
      "outputs": [
        {
          "output_type": "stream",
          "name": "stdout",
          "text": [
            "2.718281828459045\n",
            "4\n",
            "True\n"
          ]
        }
      ]
    },
    {
      "cell_type": "code",
      "source": [
        "from math import ceil, floor, trunc\n",
        "\n",
        "x = 1.4\n",
        "y = 2.6\n",
        "\n",
        "print(floor(x), floor(y))\n",
        "print(floor(-x), floor(-y))"
      ],
      "metadata": {
        "id": "nZRh0-gjMnbJ",
        "outputId": "2cf70027-000a-435a-9588-6200bc20fc3f",
        "colab": {
          "base_uri": "https://localhost:8080/"
        }
      },
      "execution_count": null,
      "outputs": [
        {
          "output_type": "stream",
          "name": "stdout",
          "text": [
            "1 2\n",
            "-2 -3\n"
          ]
        }
      ]
    },
    {
      "cell_type": "code",
      "source": [
        "from random import randrange, randint\n",
        "\n",
        "print(randrange(1), end=' ')\n",
        "print(randrange(0, 1), end=' ')\n",
        "print(randrange(0, 1, 1), end=' ')\n",
        "print(randint(0, 1))"
      ],
      "metadata": {
        "colab": {
          "base_uri": "https://localhost:8080/"
        },
        "id": "wjFbt_7in5BC",
        "outputId": "232c68a7-33e7-4c9e-f3bf-ac5952fa6d6d"
      },
      "execution_count": null,
      "outputs": [
        {
          "output_type": "stream",
          "name": "stdout",
          "text": [
            "0 0 0 0\n"
          ]
        }
      ]
    },
    {
      "cell_type": "code",
      "source": [
        "from random import randint\n",
        "\n",
        "for i in range(10):\n",
        "  print(randint(1, 10), end=\",\")"
      ],
      "metadata": {
        "colab": {
          "base_uri": "https://localhost:8080/"
        },
        "id": "Qso9MpkQ4pCJ",
        "outputId": "6b02d219-ab6f-4c69-c16f-e55fd44023b1"
      },
      "execution_count": null,
      "outputs": [
        {
          "output_type": "stream",
          "name": "stdout",
          "text": [
            "5,5,1,1,9,5,3,9,6,5,"
          ]
        }
      ]
    },
    {
      "cell_type": "markdown",
      "source": [
        "String"
      ],
      "metadata": {
        "id": "35w1uaF9mXnF"
      }
    },
    {
      "cell_type": "code",
      "source": [
        "# Example 1\n",
        "word = \"by\"\n",
        "print(len(word))"
      ],
      "metadata": {
        "colab": {
          "base_uri": "https://localhost:8080/"
        },
        "id": "hG2Gmz7Bmb_B",
        "outputId": "a63538cf-6b5a-406c-dbab-f44fc5423fe7"
      },
      "execution_count": null,
      "outputs": [
        {
          "output_type": "stream",
          "name": "stdout",
          "text": [
            "2\n"
          ]
        }
      ]
    },
    {
      "cell_type": "code",
      "source": [
        "#Example 2\n",
        "empty = \"\"\n",
        "print(len(empty))"
      ],
      "metadata": {
        "colab": {
          "base_uri": "https://localhost:8080/"
        },
        "id": "iJWjj7Mkm0Zp",
        "outputId": "52523159-02fb-461c-9d60-703f3dcd9e9f"
      },
      "execution_count": null,
      "outputs": [
        {
          "output_type": "stream",
          "name": "stdout",
          "text": [
            "0\n"
          ]
        }
      ]
    },
    {
      "cell_type": "code",
      "source": [
        "#example 3\n",
        "i_am = 'I\\'m'\n",
        "print(len(i_am))"
      ],
      "metadata": {
        "colab": {
          "base_uri": "https://localhost:8080/"
        },
        "id": "duJ2CKDlnAYQ",
        "outputId": "e2626b91-d996-4cc2-91ff-183c36e68feb"
      },
      "execution_count": null,
      "outputs": [
        {
          "output_type": "stream",
          "name": "stdout",
          "text": [
            "3\n"
          ]
        }
      ]
    },
    {
      "cell_type": "code",
      "source": [
        "multiline = '''Line#1\n",
        "Line2 '''\n",
        "print(len(multiline))"
      ],
      "metadata": {
        "colab": {
          "base_uri": "https://localhost:8080/"
        },
        "id": "oXlOjay9nYAJ",
        "outputId": "d32788c2-9c60-4312-c1dc-e245cb74c887"
      },
      "execution_count": null,
      "outputs": [
        {
          "output_type": "stream",
          "name": "stdout",
          "text": [
            "13\n"
          ]
        }
      ]
    },
    {
      "cell_type": "code",
      "source": [
        "str1 = 'a'\n",
        "str2 = 'b'\n",
        "\n",
        "print(str1+str2)\n",
        "print(str2+str1)\n",
        "print(5*'a')\n",
        "print('b' * 4)"
      ],
      "metadata": {
        "colab": {
          "base_uri": "https://localhost:8080/"
        },
        "id": "wjlxxqrinpkj",
        "outputId": "45308cab-3e4b-45a2-e2e4-902b2b1f76d5"
      },
      "execution_count": null,
      "outputs": [
        {
          "output_type": "stream",
          "name": "stdout",
          "text": [
            "ab\n",
            "ba\n",
            "aaaaa\n",
            "bbbb\n"
          ]
        }
      ]
    },
    {
      "cell_type": "code",
      "source": [
        "# Demonstrating the ord() function.\n",
        "\n",
        "char_1 = 'α'\n",
        "char_2 = ' ' #space\n",
        "print(ord(char_1))\n",
        "print(ord(char_2))"
      ],
      "metadata": {
        "colab": {
          "base_uri": "https://localhost:8080/"
        },
        "id": "pcWjXvOMoaxr",
        "outputId": "c995d0df-5c7a-4e64-957b-61ccf3075401"
      },
      "execution_count": null,
      "outputs": [
        {
          "output_type": "stream",
          "name": "stdout",
          "text": [
            "945\n",
            "32\n"
          ]
        }
      ]
    },
    {
      "cell_type": "code",
      "source": [
        "# Demonstrating the chr() function.\n",
        "\n",
        "print(chr(97))\n",
        "print(chr(33))"
      ],
      "metadata": {
        "colab": {
          "base_uri": "https://localhost:8080/"
        },
        "id": "7MWyUrtIqL-E",
        "outputId": "e0ed20b9-68fc-4c56-a3fd-6db71c68e8e6"
      },
      "execution_count": null,
      "outputs": [
        {
          "output_type": "stream",
          "name": "stdout",
          "text": [
            "a\n",
            "!\n"
          ]
        }
      ]
    },
    {
      "cell_type": "code",
      "source": [
        "# Indexing strings.\n",
        "\n",
        "the_string = 'silly walks'\n",
        "\n",
        "for ix in range(len(the_string)):\n",
        "    print(the_string[ix], end=' ')\n",
        "\n",
        "print()"
      ],
      "metadata": {
        "colab": {
          "base_uri": "https://localhost:8080/"
        },
        "id": "OAQebFfdqtw4",
        "outputId": "e5608b2e-9561-4a87-e940-4376db414258"
      },
      "execution_count": null,
      "outputs": [
        {
          "output_type": "stream",
          "name": "stdout",
          "text": [
            "s i l l y   w a l k s \n"
          ]
        }
      ]
    },
    {
      "cell_type": "code",
      "source": [
        "# Slices\n",
        "alpha = \"abdefg\"\n",
        "\n",
        "print(alpha[1:3])\n",
        "print(alpha[3:])\n"
      ],
      "metadata": {
        "colab": {
          "base_uri": "https://localhost:8080/"
        },
        "id": "FhIknE5u32tD",
        "outputId": "a19de3ca-cb08-47a2-898a-b676578ddfed"
      },
      "execution_count": null,
      "outputs": [
        {
          "output_type": "stream",
          "name": "stdout",
          "text": [
            "bd\n",
            "efg\n"
          ]
        }
      ]
    },
    {
      "cell_type": "code",
      "source": [
        "#operadores in e not in\n",
        "\n",
        "alphabet = \"abcdefghijklmnopqrstuvwxyz\"\n",
        "\n",
        "print(\"f\" in alphabet)\n",
        "print(\"F\" in alphabet)\n",
        "print(\"E\" not in alphabet)\n",
        "\n"
      ],
      "metadata": {
        "colab": {
          "base_uri": "https://localhost:8080/"
        },
        "id": "XtTbruFj5dbL",
        "outputId": "b266e2e6-f8bf-474d-aaa2-029cd6e1960c"
      },
      "execution_count": null,
      "outputs": [
        {
          "output_type": "stream",
          "name": "stdout",
          "text": [
            "True\n",
            "False\n",
            "True\n"
          ]
        }
      ]
    },
    {
      "cell_type": "code",
      "source": [
        "#Strings são imutaveis em python\n",
        "alphabet = \"abcdefghijklmnopqrstuvwxyz\"\n",
        "\n",
        "print(alphabet)\n"
      ],
      "metadata": {
        "colab": {
          "base_uri": "https://localhost:8080/"
        },
        "id": "2KWxw8CH6HpN",
        "outputId": "cd731309-0264-4d98-d40b-ad4c2aa103f7"
      },
      "execution_count": null,
      "outputs": [
        {
          "output_type": "stream",
          "name": "stdout",
          "text": [
            "abcdefghijklmnopqrstuvwxyz\n"
          ]
        }
      ]
    },
    {
      "cell_type": "code",
      "source": [
        "# Example 1\n",
        "\n",
        "word = 'by'\n",
        "print(len(word))"
      ],
      "metadata": {
        "id": "LtiIbWPB66BQ",
        "colab": {
          "base_uri": "https://localhost:8080/"
        },
        "outputId": "94f05296-7332-4af7-ef83-290486a84e62"
      },
      "execution_count": null,
      "outputs": [
        {
          "output_type": "stream",
          "name": "stdout",
          "text": [
            "1\n"
          ]
        }
      ]
    },
    {
      "cell_type": "code",
      "source": [
        "# Example 2\n",
        "\n",
        "empty = ''\n",
        "print(len(empty))\n"
      ],
      "metadata": {
        "colab": {
          "base_uri": "https://localhost:8080/"
        },
        "id": "VlIIsxRQKU27",
        "outputId": "9698c48e-5196-43c1-f315-3cdd7954cf17"
      },
      "execution_count": null,
      "outputs": [
        {
          "output_type": "stream",
          "name": "stdout",
          "text": [
            "0\n"
          ]
        }
      ]
    },
    {
      "cell_type": "code",
      "source": [
        "# Example 3\n",
        "\n",
        "i_am = 'I\\'m'\n",
        "print(len(i_am))"
      ],
      "metadata": {
        "colab": {
          "base_uri": "https://localhost:8080/"
        },
        "id": "jdVi6-KgKbEI",
        "outputId": "c63accc3-c1c7-41f8-eae2-c777c948e936"
      },
      "execution_count": null,
      "outputs": [
        {
          "output_type": "stream",
          "name": "stdout",
          "text": [
            "3\n"
          ]
        }
      ]
    },
    {
      "cell_type": "code",
      "source": [
        "multiline = '''Line #1\n",
        "Line #2'''\n",
        "\n",
        "print(len(multiline))"
      ],
      "metadata": {
        "colab": {
          "base_uri": "https://localhost:8080/"
        },
        "id": "507MT-xVKhOw",
        "outputId": "08f49e69-1871-4e32-fbe4-2d2db4602e26"
      },
      "execution_count": null,
      "outputs": [
        {
          "output_type": "stream",
          "name": "stdout",
          "text": [
            "15\n"
          ]
        }
      ]
    },
    {
      "cell_type": "code",
      "source": [
        "str1 = 'a'\n",
        "str2 = 'b'\n",
        "\n",
        "print(str1 + str2)\n",
        "print(str2 + str1)\n",
        "print(5 * 'a')\n",
        "print('b' * 4)"
      ],
      "metadata": {
        "colab": {
          "base_uri": "https://localhost:8080/"
        },
        "id": "uJNZudIKKqaO",
        "outputId": "4780fb20-e5a8-4202-d3a6-a7caf7c8dc1a"
      },
      "execution_count": null,
      "outputs": [
        {
          "output_type": "stream",
          "name": "stdout",
          "text": [
            "ab\n",
            "ba\n",
            "aaaaa\n",
            "bbbb\n"
          ]
        }
      ]
    },
    {
      "cell_type": "code",
      "source": [
        "# Demonstrating the ord() function.\n",
        "\n",
        "char_1 = 'a'\n",
        "char_2 = ' '  # space\n",
        "\n",
        "print(ord(char_1))\n",
        "print(ord(char_2))\n"
      ],
      "metadata": {
        "colab": {
          "base_uri": "https://localhost:8080/"
        },
        "id": "sugC4lnSKxGJ",
        "outputId": "b808127e-e634-42a9-e562-8b8f3f943563"
      },
      "execution_count": null,
      "outputs": [
        {
          "output_type": "stream",
          "name": "stdout",
          "text": [
            "97\n",
            "32\n"
          ]
        }
      ]
    },
    {
      "cell_type": "code",
      "source": [
        "# Demonstrating the chr() function.\n",
        "\n",
        "print(chr(97))\n",
        "print(chr(945))"
      ],
      "metadata": {
        "colab": {
          "base_uri": "https://localhost:8080/"
        },
        "id": "Zt-HSNcjK_YQ",
        "outputId": "08dd8db5-e4d7-4e24-c631-f74781e20fbd"
      },
      "execution_count": null,
      "outputs": [
        {
          "output_type": "stream",
          "name": "stdout",
          "text": [
            "a\n",
            "α\n"
          ]
        }
      ]
    },
    {
      "cell_type": "code",
      "source": [
        "# indexing strings.\n",
        "\n",
        "the_string = 'silly walks'\n",
        "\n",
        "for ix in range (len(the_string)):\n",
        "  print(the_string[ix], end=' ')\n",
        "\n",
        "\n",
        "print()\n",
        "\n"
      ],
      "metadata": {
        "colab": {
          "base_uri": "https://localhost:8080/"
        },
        "id": "6dD3GAXMLJV6",
        "outputId": "5242653f-9648-478d-947a-1d4a570baa0b"
      },
      "execution_count": null,
      "outputs": [
        {
          "output_type": "stream",
          "name": "stdout",
          "text": [
            "s i l l y   w a l k s \n"
          ]
        }
      ]
    },
    {
      "cell_type": "code",
      "source": [
        "# interating through a string\n",
        "\n",
        "the_string = 'silly walks'\n",
        "\n",
        "for character in the_string:\n",
        "  print(character, end='**')\n",
        "\n",
        "print()"
      ],
      "metadata": {
        "colab": {
          "base_uri": "https://localhost:8080/"
        },
        "id": "sbTrC_M9MC_a",
        "outputId": "798210c6-c45e-439f-eaa5-1565e785bef1"
      },
      "execution_count": null,
      "outputs": [
        {
          "output_type": "stream",
          "name": "stdout",
          "text": [
            "s**i**l**l**y** **w**a**l**k**s**\n"
          ]
        }
      ]
    },
    {
      "cell_type": "code",
      "source": [
        "alphabet = 'bcdefghijklmnopqrstuvwxy'\n",
        "\n",
        "alphabet = \"a\" + alphabet\n",
        "alphabet = alphabet + \"z\"\n",
        "\n",
        "print(alphabet)"
      ],
      "metadata": {
        "colab": {
          "base_uri": "https://localhost:8080/"
        },
        "id": "z5A0jeBMNBiV",
        "outputId": "3ab8e275-5281-4dc7-be83-76d5369a9cdb"
      },
      "execution_count": null,
      "outputs": [
        {
          "output_type": "stream",
          "name": "stdout",
          "text": [
            "abcdefghijklmnopqrstuvwxyz\n"
          ]
        }
      ]
    },
    {
      "cell_type": "code",
      "source": [
        "# Demonstrating min() - Example 1:\n",
        "print(min(\"aAbByYzZ\"))\n"
      ],
      "metadata": {
        "colab": {
          "base_uri": "https://localhost:8080/"
        },
        "id": "ch4nxs-mNliC",
        "outputId": "30f6cd47-5760-48b9-bd50-78a842308724"
      },
      "execution_count": null,
      "outputs": [
        {
          "output_type": "stream",
          "name": "stdout",
          "text": [
            "A\n"
          ]
        }
      ]
    },
    {
      "cell_type": "code",
      "source": [
        "# Demonstrating min() - Examples 2 &amp; 3:\n",
        "t = 'The Knights Who Say \"Ni!\"'\n",
        "print('[' + min(t) + ']')"
      ],
      "metadata": {
        "colab": {
          "base_uri": "https://localhost:8080/"
        },
        "id": "3MWT-x7pOCO1",
        "outputId": "f06d8aa8-d47a-42ea-e75d-6e02cca921d4"
      },
      "execution_count": null,
      "outputs": [
        {
          "output_type": "stream",
          "name": "stdout",
          "text": [
            "[ ]\n"
          ]
        }
      ]
    },
    {
      "cell_type": "code",
      "source": [
        "t = [0,1,2]\n",
        "print(min(t))"
      ],
      "metadata": {
        "colab": {
          "base_uri": "https://localhost:8080/"
        },
        "id": "AuE4Ye4GOhiV",
        "outputId": "3cd298e4-ce99-4785-d57e-c370b5c47336"
      },
      "execution_count": null,
      "outputs": [
        {
          "output_type": "stream",
          "name": "stdout",
          "text": [
            "0\n"
          ]
        }
      ]
    },
    {
      "cell_type": "code",
      "source": [
        "# Demonstrating max() - Example 1:\n",
        "print (max(\"aAbByYzZ\"))\n"
      ],
      "metadata": {
        "colab": {
          "base_uri": "https://localhost:8080/"
        },
        "id": "rVWi0KYtPQDZ",
        "outputId": "5fb33c85-1a41-4583-8fb7-8af4dd98dfd9"
      },
      "execution_count": null,
      "outputs": [
        {
          "output_type": "stream",
          "name": "stdout",
          "text": [
            "z\n"
          ]
        }
      ]
    },
    {
      "cell_type": "code",
      "source": [
        "# Demonstrating max() - eXAMPLE 2 &AM; 3:\n",
        "t = 'The Knights who Say \"Ni!\"'\n",
        "print('[' + max(t) + ']')\n"
      ],
      "metadata": {
        "colab": {
          "base_uri": "https://localhost:8080/"
        },
        "id": "jcJbceDmPpQa",
        "outputId": "a84f87e3-55ba-446b-c36a-6dbfb3449678"
      },
      "execution_count": null,
      "outputs": [
        {
          "output_type": "stream",
          "name": "stdout",
          "text": [
            "[y]\n"
          ]
        }
      ]
    },
    {
      "cell_type": "code",
      "source": [
        "t = [0, 1, 2]\n",
        "print(max(t))"
      ],
      "metadata": {
        "colab": {
          "base_uri": "https://localhost:8080/"
        },
        "id": "uCZA-EnzRBCj",
        "outputId": "cef8213d-91ad-4167-fe29-c52ebe659e8d"
      },
      "execution_count": null,
      "outputs": [
        {
          "output_type": "stream",
          "name": "stdout",
          "text": [
            "2\n"
          ]
        }
      ]
    },
    {
      "cell_type": "code",
      "source": [
        "# Demonstrating the index() method:\n",
        "print(\"aAbByYzZaA\".index(\"b\"))\n",
        "print(\"aAbByYzZaA\".index(\"Z\"))\n",
        "print(\"aAbByYzZaA\".index(\"A\"))"
      ],
      "metadata": {
        "colab": {
          "base_uri": "https://localhost:8080/"
        },
        "id": "Bz12X7PRROqK",
        "outputId": "ee46d0bc-a497-4f61-d1fb-e5f95d5f39ff"
      },
      "execution_count": null,
      "outputs": [
        {
          "output_type": "stream",
          "name": "stdout",
          "text": [
            "2\n",
            "7\n",
            "1\n"
          ]
        }
      ]
    },
    {
      "cell_type": "code",
      "source": [
        "# Demonstrating the list() function:\n",
        "print(list(\"abcabc\"))"
      ],
      "metadata": {
        "colab": {
          "base_uri": "https://localhost:8080/"
        },
        "id": "dENXdMMCWCSN",
        "outputId": "d599fa6f-5873-4c88-b9c0-3677bc0a5aa8"
      },
      "execution_count": null,
      "outputs": [
        {
          "output_type": "stream",
          "name": "stdout",
          "text": [
            "['a', 'b', 'c', 'a', 'b', 'c']\n"
          ]
        }
      ]
    },
    {
      "cell_type": "code",
      "source": [
        "# Demonstrating the count() method:\n",
        "print(\"abcabc\".count(\"b\"))\n",
        "print(\"abcabc\".count(\"d\"))"
      ],
      "metadata": {
        "colab": {
          "base_uri": "https://localhost:8080/"
        },
        "id": "v1dWAzrvWvqf",
        "outputId": "f32d1776-970f-4c95-f325-49fdfa71b5dd"
      },
      "execution_count": null,
      "outputs": [
        {
          "output_type": "stream",
          "name": "stdout",
          "text": [
            "2\n",
            "0\n"
          ]
        }
      ]
    },
    {
      "cell_type": "code",
      "source": [],
      "metadata": {
        "id": "9n4f_efBYV4A"
      },
      "execution_count": null,
      "outputs": []
    },
    {
      "cell_type": "code",
      "source": [
        "# Demonstring the capitalize() method:\n",
        "print('aBcD'.capitalize())"
      ],
      "metadata": {
        "colab": {
          "base_uri": "https://localhost:8080/"
        },
        "id": "af-KB_WBYKYE",
        "outputId": "ad1ab721-d040-46af-d3f2-f4f97dfecb26"
      },
      "execution_count": null,
      "outputs": [
        {
          "output_type": "stream",
          "name": "stdout",
          "text": [
            "Abcd\n"
          ]
        }
      ]
    },
    {
      "cell_type": "code",
      "source": [
        "# Demonstring 2 the capitalize() method:\n",
        "print(\"Alpha\".capitalize())\n",
        "print(\"123\".capitalize())\n",
        "print(\"ALPHA\".capitalize())"
      ],
      "metadata": {
        "colab": {
          "base_uri": "https://localhost:8080/"
        },
        "id": "C9ScqwyGZWXu",
        "outputId": "e89fd676-d711-4a6c-b5b2-6cd21ca23dcd"
      },
      "execution_count": null,
      "outputs": [
        {
          "output_type": "stream",
          "name": "stdout",
          "text": [
            "Alpha\n",
            "123\n",
            "Alpha\n"
          ]
        }
      ]
    },
    {
      "cell_type": "code",
      "source": [
        "# Demonstring the center() method:\n",
        "\n",
        "print('[' + 'alpha'.center() + ']')"
      ],
      "metadata": {
        "colab": {
          "base_uri": "https://localhost:8080/"
        },
        "id": "IGrD1tWfZ5K4",
        "outputId": "480b1cdd-b1a2-4a85-8793-5d181c22382b"
      },
      "execution_count": null,
      "outputs": [
        {
          "output_type": "stream",
          "name": "stdout",
          "text": [
            "[     alpha     ]\n"
          ]
        }
      ]
    },
    {
      "cell_type": "code",
      "source": [
        "# Demonstring the endswith() method:\n",
        "if \"epsilon\".endswith(\"on\"):\n",
        "  print(\"Yes\")\n",
        "else:\n",
        "  print(\"No\")"
      ],
      "metadata": {
        "colab": {
          "base_uri": "https://localhost:8080/"
        },
        "id": "wfT1kSUCa4pM",
        "outputId": "32e12d28-f1b5-4639-dcf5-69d89a8a25d1"
      },
      "execution_count": null,
      "outputs": [
        {
          "output_type": "stream",
          "name": "stdout",
          "text": [
            "No\n"
          ]
        }
      ]
    },
    {
      "cell_type": "code",
      "source": [
        "# Demonstring the find() method:\n",
        "print(\"Eta\".find(\"ta\"))\n",
        "print(\"Eta\".find(\"mma\"))"
      ],
      "metadata": {
        "id": "K6rzIsTNcMMM",
        "outputId": "efd25364-5a42-4d6f-d250-3d7894e02f1c",
        "colab": {
          "base_uri": "https://localhost:8080/"
        }
      },
      "execution_count": null,
      "outputs": [
        {
          "output_type": "stream",
          "name": "stdout",
          "text": [
            "1\n",
            "-1\n"
          ]
        }
      ]
    },
    {
      "cell_type": "code",
      "source": [
        "# Demonstrating the isalnum() method:\n",
        "print(\"lambda30\".isalnum())\n",
        "print('lambda'.isalnum())\n",
        "print(\"30\".isalnum())\n",
        "print('@'.isalnum())\n",
        "print(''.isalnum())"
      ],
      "metadata": {
        "colab": {
          "base_uri": "https://localhost:8080/"
        },
        "id": "L0_Uufr5YHUS",
        "outputId": "6353565e-7f87-44a5-8793-281372922a2b"
      },
      "execution_count": null,
      "outputs": [
        {
          "output_type": "stream",
          "name": "stdout",
          "text": [
            "True\n",
            "True\n",
            "True\n",
            "False\n",
            "False\n"
          ]
        }
      ]
    },
    {
      "cell_type": "code",
      "source": [
        "# Example 1: Demonstrating the isapha() method:\n",
        "print(\"Mooo\".isalpha())\n",
        "print(\"mu40\".isalpha())"
      ],
      "metadata": {
        "id": "LQk9joTIaiEP",
        "outputId": "f550b79a-e019-45d7-8159-508d30183014",
        "colab": {
          "base_uri": "https://localhost:8080/"
        }
      },
      "execution_count": null,
      "outputs": [
        {
          "output_type": "stream",
          "name": "stdout",
          "text": [
            "True\n",
            "False\n"
          ]
        }
      ]
    },
    {
      "cell_type": "code",
      "source": [
        "#Example 2\n",
        "print('2018'.isdigit())\n",
        "print('Year2019'.isdigit())"
      ],
      "metadata": {
        "id": "PkbanDY4a3O5",
        "outputId": "f492b6e8-6e64-4f0f-9435-aa8a8947e647",
        "colab": {
          "base_uri": "https://localhost:8080/"
        }
      },
      "execution_count": null,
      "outputs": [
        {
          "output_type": "stream",
          "name": "stdout",
          "text": [
            "True\n",
            "False\n"
          ]
        }
      ]
    },
    {
      "cell_type": "code",
      "source": [
        "#Example 1: Demonstrating the islower()\n",
        "print(\"Mooo\".islower())\n",
        "print(\"mooo\".islower())"
      ],
      "metadata": {
        "id": "fuP90vznb0v2",
        "outputId": "838c8b4e-faa2-474b-81b8-2ca5876e3a36",
        "colab": {
          "base_uri": "https://localhost:8080/"
        }
      },
      "execution_count": null,
      "outputs": [
        {
          "output_type": "stream",
          "name": "stdout",
          "text": [
            "False\n",
            "True\n"
          ]
        }
      ]
    },
    {
      "cell_type": "code",
      "source": [
        "#example 2: Demostrating the isspace()\n",
        "print(' \\n '.isspace())\n",
        "print(\" \".isspace())\n",
        "print(\"moo oo ooo\".isspace())"
      ],
      "metadata": {
        "id": "PF7hD5m0cFNv",
        "outputId": "9234a2f6-bf32-4b8f-c91e-01a7b4ff280c",
        "colab": {
          "base_uri": "https://localhost:8080/"
        }
      },
      "execution_count": null,
      "outputs": [
        {
          "output_type": "stream",
          "name": "stdout",
          "text": [
            "True\n",
            "True\n",
            "False\n"
          ]
        }
      ]
    },
    {
      "cell_type": "code",
      "source": [
        "#Example 3: Demonstrating the isupper()\n",
        "print(\"Mooo\".isupper())\n",
        "print('mooo'.isupper())\n",
        "print('MOOO'.isupper())"
      ],
      "metadata": {
        "id": "CUijqJgWceSY",
        "outputId": "a93cbb27-9ae3-4602-cac1-aa2dfcfffdc1",
        "colab": {
          "base_uri": "https://localhost:8080/"
        }
      },
      "execution_count": null,
      "outputs": [
        {
          "output_type": "stream",
          "name": "stdout",
          "text": [
            "False\n",
            "False\n",
            "True\n"
          ]
        }
      ]
    },
    {
      "cell_type": "code",
      "source": [
        "# Demonstrating the join() method:\n",
        "print(\",\".join([\"omicron\", \"pi\", \"rho\"]))"
      ],
      "metadata": {
        "id": "Oa2PUIp0eTA3",
        "outputId": "371d96de-3fc0-4308-e44a-f797be563f6e",
        "colab": {
          "base_uri": "https://localhost:8080/"
        }
      },
      "execution_count": null,
      "outputs": [
        {
          "output_type": "stream",
          "name": "stdout",
          "text": [
            "omicron,pi,rho\n"
          ]
        }
      ]
    },
    {
      "cell_type": "code",
      "source": [
        "#Demonstrating the lower() method:\n",
        "print(\"SiGmA=60\".lower())"
      ],
      "metadata": {
        "id": "o4zirev7Sh1J",
        "outputId": "d4404735-c3ba-4e4a-f08b-7720aa5e5f7a",
        "colab": {
          "base_uri": "https://localhost:8080/"
        }
      },
      "execution_count": null,
      "outputs": [
        {
          "output_type": "stream",
          "name": "stdout",
          "text": [
            "sigma=60\n"
          ]
        }
      ]
    },
    {
      "cell_type": "code",
      "source": [
        "# Demonstrating the lstrip() method:\n",
        "print(\"[\" + \" tau \".lstrip() + \"]\")"
      ],
      "metadata": {
        "id": "7fMG4mNsTltr",
        "outputId": "07cb8642-9645-407d-9f69-e14b3c1246e1",
        "colab": {
          "base_uri": "https://localhost:8080/"
        }
      },
      "execution_count": null,
      "outputs": [
        {
          "output_type": "stream",
          "name": "stdout",
          "text": [
            "[tau ]\n"
          ]
        }
      ]
    },
    {
      "cell_type": "code",
      "source": [
        "# Example2 lstrip:\n",
        "print(\"www.cisco.com\".lstrip(\"w.\"))"
      ],
      "metadata": {
        "id": "zM9JW1_LUlUI",
        "outputId": "f6575aa6-63f7-472c-c45f-f2b3e8c5e964",
        "colab": {
          "base_uri": "https://localhost:8080/"
        }
      },
      "execution_count": null,
      "outputs": [
        {
          "output_type": "stream",
          "name": "stdout",
          "text": [
            "cisco.com\n"
          ]
        }
      ]
    },
    {
      "cell_type": "code",
      "source": [
        "# Demonstrating the replace() method:\n",
        "print(\"www.netacad.com\".replace(\"netacad.com\", \"pythoninstitute.org\"))"
      ],
      "metadata": {
        "id": "VTvkeHxLVfex",
        "outputId": "00a2436f-c0b1-4292-befe-85f3943793ba",
        "colab": {
          "base_uri": "https://localhost:8080/"
        }
      },
      "execution_count": null,
      "outputs": [
        {
          "output_type": "stream",
          "name": "stdout",
          "text": [
            "www.pythoninstitute.org\n"
          ]
        }
      ]
    },
    {
      "cell_type": "code",
      "source": [
        "#Example 2:\n",
        "print(\"This is it!\".replace(\"is\", \"are\"))"
      ],
      "metadata": {
        "id": "rdwPHBeWV_7Y",
        "outputId": "acd4dd15-3acf-498f-e09e-4a7fb3c8f72d",
        "colab": {
          "base_uri": "https://localhost:8080/"
        }
      },
      "execution_count": null,
      "outputs": [
        {
          "output_type": "stream",
          "name": "stdout",
          "text": [
            "Thare are it!\n"
          ]
        }
      ]
    },
    {
      "cell_type": "code",
      "source": [
        "# Example 3:\n",
        "print(\"Apple juice\".replace(\"juice\", \"\"))"
      ],
      "metadata": {
        "id": "XmubRbVLWSJ7",
        "outputId": "891fba19-c0d9-406b-ea12-6ed18e40d879",
        "colab": {
          "base_uri": "https://localhost:8080/"
        }
      },
      "execution_count": null,
      "outputs": [
        {
          "output_type": "stream",
          "name": "stdout",
          "text": [
            "Apple \n"
          ]
        }
      ]
    },
    {
      "cell_type": "code",
      "source": [
        "# Demonstrating the lower() method:\n",
        "print(\"SiGmA=60\".lower())"
      ],
      "metadata": {
        "id": "IY2B4dQDrEf8"
      },
      "execution_count": null,
      "outputs": []
    },
    {
      "cell_type": "code",
      "source": [
        "# Demonstrating the rfind() method:\n",
        "print(\"tau tau tau\".rfind(\"ta\"))\n",
        "print(\"tau tau tau\".rfind(\"ta\", 9))\n",
        "print(\"tau tau tau\".rfind(\"ta\", 3, 9))"
      ],
      "metadata": {
        "id": "h7IEoFuQWdoJ",
        "colab": {
          "base_uri": "https://localhost:8080/"
        },
        "outputId": "0cf22dae-b3b6-490f-819b-385a6c4e4f85"
      },
      "execution_count": null,
      "outputs": [
        {
          "output_type": "stream",
          "name": "stdout",
          "text": [
            "8\n",
            "-1\n",
            "4\n"
          ]
        }
      ]
    },
    {
      "cell_type": "code",
      "source": [
        "# Demonstrating the rstrip() method:\n",
        "\n",
        "print(\"[\" + \" upsiolon \".rstrip() +\"]\")\n",
        "\n",
        "print(\"cisco.com\".rstrip(\".com\"))"
      ],
      "metadata": {
        "colab": {
          "base_uri": "https://localhost:8080/"
        },
        "id": "GvamMYpRtE6h",
        "outputId": "c8f1e478-c846-4cb2-d40e-937a36f5d95e"
      },
      "execution_count": null,
      "outputs": [
        {
          "output_type": "stream",
          "name": "stdout",
          "text": [
            "[ upsiolon]\n",
            "cis\n"
          ]
        }
      ]
    },
    {
      "cell_type": "code",
      "source": [
        "# Demonstrating the split() method:\n",
        "print(\"pi       chi\\npsi\".split())"
      ],
      "metadata": {
        "colab": {
          "base_uri": "https://localhost:8080/"
        },
        "id": "2QtAvALjt-NI",
        "outputId": "eafc7450-42d4-4226-b191-f0fa02dbfac7"
      },
      "execution_count": null,
      "outputs": [
        {
          "output_type": "stream",
          "name": "stdout",
          "text": [
            "['pi', 'chi', 'psi']\n"
          ]
        }
      ]
    },
    {
      "cell_type": "code",
      "source": [
        "# Demonstrating the startswitch()\n",
        "print(\"omega\".startswith(\"meg\"))\n",
        "print(\"omeg\".startswith(\"om\"))"
      ],
      "metadata": {
        "colab": {
          "base_uri": "https://localhost:8080/"
        },
        "id": "crA8rocivlep",
        "outputId": "77242fec-4b97-437e-810b-525d944b3f50"
      },
      "execution_count": null,
      "outputs": [
        {
          "output_type": "stream",
          "name": "stdout",
          "text": [
            "False\n",
            "True\n"
          ]
        }
      ]
    },
    {
      "cell_type": "code",
      "source": [
        "# Demostrating the strip() method:\n",
        "print(\"[\" + \"  Aleph  \".strip() + \"]\")"
      ],
      "metadata": {
        "colab": {
          "base_uri": "https://localhost:8080/"
        },
        "id": "i15B6l7VwFQg",
        "outputId": "bc80f618-81b3-45ac-97b2-bd8a330f53b1"
      },
      "execution_count": null,
      "outputs": [
        {
          "output_type": "stream",
          "name": "stdout",
          "text": [
            "[Aleph]\n"
          ]
        }
      ]
    },
    {
      "cell_type": "code",
      "source": [
        "# Demonstrating the swapcase() method:\n",
        "\n",
        "print(\"I know that I know nothing\".swapcase())"
      ],
      "metadata": {
        "colab": {
          "base_uri": "https://localhost:8080/"
        },
        "id": "YEA3De07xRYJ",
        "outputId": "930f8ece-1eea-490f-b87c-fe349d3ff5e7"
      },
      "execution_count": null,
      "outputs": [
        {
          "output_type": "stream",
          "name": "stdout",
          "text": [
            "i KNOW THAT i KNOW NOTHING\n"
          ]
        }
      ]
    },
    {
      "cell_type": "code",
      "source": [
        "# Demostrating the title() method:\n",
        "\n",
        "print(\"I know that I know nothing\".title())"
      ],
      "metadata": {
        "colab": {
          "base_uri": "https://localhost:8080/"
        },
        "id": "9T6452BOxder",
        "outputId": "b8c798ff-9fe4-465f-90e3-352dda6e298f"
      },
      "execution_count": null,
      "outputs": [
        {
          "output_type": "stream",
          "name": "stdout",
          "text": [
            "I Know That I Know Nothing\n"
          ]
        }
      ]
    },
    {
      "cell_type": "code",
      "source": [
        "for ch in \"abc123XYX\":\n",
        "  if ch.isupper():\n",
        "    print(ch.lower(), end='')\n",
        "  elif ch.islower():\n",
        "    print(ch.upper(), end='')\n",
        "  else:\n",
        "    print(ch, end='')"
      ],
      "metadata": {
        "colab": {
          "base_uri": "https://localhost:8080/"
        },
        "id": "vWN6aMHrx-Z_",
        "outputId": "770fe4f3-625b-4c24-970d-79b3f21d501b"
      },
      "execution_count": null,
      "outputs": [
        {
          "output_type": "stream",
          "name": "stdout",
          "text": [
            "ABC123xyx"
          ]
        }
      ]
    },
    {
      "cell_type": "code",
      "source": [
        "s1 = 'Where are the snows of yesteryear?'\n",
        "s2 = s1.split()\n",
        "print(s2[-2])"
      ],
      "metadata": {
        "colab": {
          "base_uri": "https://localhost:8080/"
        },
        "id": "KlxBC4amzkrG",
        "outputId": "f2d7bf64-aa33-4618-fbfe-bd75535a9185"
      },
      "execution_count": null,
      "outputs": [
        {
          "output_type": "stream",
          "name": "stdout",
          "text": [
            "of\n"
          ]
        }
      ]
    },
    {
      "cell_type": "code",
      "source": [
        "the_list = ['Where', 'are', 'the', 'snows?']\n",
        "s = '*'.join(the_list)\n",
        "print(s)"
      ],
      "metadata": {
        "colab": {
          "base_uri": "https://localhost:8080/"
        },
        "id": "_J5HUeK5z6n9",
        "outputId": "2f357c66-a65c-4f38-880c-54ddda16848d"
      },
      "execution_count": null,
      "outputs": [
        {
          "output_type": "stream",
          "name": "stdout",
          "text": [
            "Where*are*the*snows?\n"
          ]
        }
      ]
    },
    {
      "cell_type": "code",
      "source": [
        "s = 'It is either easy or impossible'\n",
        "s = s.replace('easy', 'hard').replace('im', '')\n",
        "print(s)"
      ],
      "metadata": {
        "colab": {
          "base_uri": "https://localhost:8080/"
        },
        "id": "WhSn1u2n0V99",
        "outputId": "8989c122-e3ae-4efa-b2c4-c7b71a15ec27"
      },
      "execution_count": null,
      "outputs": [
        {
          "output_type": "stream",
          "name": "stdout",
          "text": [
            "It is either hard or possible\n"
          ]
        }
      ]
    },
    {
      "cell_type": "code",
      "source": [
        "def mysplit(strng):\n",
        "    words = []\n",
        "    current_word = \"\"\n",
        "    for char in strng:\n",
        "        if char != \" \":\n",
        "            current_word += char\n",
        "        elif current_word:\n",
        "            words.append(current_word)\n",
        "            current_word = \"\"\n",
        "    if current_word:\n",
        "        words.append(current_word)\n",
        "    return words\n",
        "print(mysplit(\"To be or not to be, that is the question\"))\n",
        "print(mysplit(\"To be or not to be,that is the question\"))\n",
        "print(mysplit(' '))\n",
        "print(mysplit(\" abc \"))\n",
        "print(mysplit(\"\"))"
      ],
      "metadata": {
        "colab": {
          "base_uri": "https://localhost:8080/"
        },
        "id": "JUP6OKx61Whz",
        "outputId": "fa4fd361-30aa-459d-88f2-67b278f94453"
      },
      "execution_count": null,
      "outputs": [
        {
          "output_type": "stream",
          "name": "stdout",
          "text": [
            "['To', 'be', 'or', 'not', 'to', 'be,', 'that', 'is', 'the', 'question']\n",
            "['To', 'be', 'or', 'not', 'to', 'be,that', 'is', 'the', 'question']\n",
            "[]\n",
            "['abc']\n",
            "[]\n"
          ]
        }
      ]
    },
    {
      "cell_type": "code",
      "source": [
        "'alpha' == 'alpha'\n",
        "'alpha' != 'Alpha'"
      ],
      "metadata": {
        "colab": {
          "base_uri": "https://localhost:8080/"
        },
        "id": "93aq1SiF8uMG",
        "outputId": "4560d318-a6c6-4f8d-9cd7-5bccee2a4779"
      },
      "execution_count": null,
      "outputs": [
        {
          "output_type": "execute_result",
          "data": {
            "text/plain": [
              "True"
            ]
          },
          "metadata": {},
          "execution_count": 29
        }
      ]
    },
    {
      "cell_type": "code",
      "source": [
        "'alpha' < 'alphabet'"
      ],
      "metadata": {
        "colab": {
          "base_uri": "https://localhost:8080/"
        },
        "id": "fu4GCMXu9ul1",
        "outputId": "d9bb93f5-e3cd-4f3a-d1bb-0761800294a9"
      },
      "execution_count": null,
      "outputs": [
        {
          "output_type": "execute_result",
          "data": {
            "text/plain": [
              "True"
            ]
          },
          "metadata": {},
          "execution_count": 30
        }
      ]
    },
    {
      "cell_type": "code",
      "source": [
        "'beta' > 'Beta'"
      ],
      "metadata": {
        "colab": {
          "base_uri": "https://localhost:8080/"
        },
        "id": "8shytmaI_Tve",
        "outputId": "6aed8e48-c38e-447e-ac93-8b5c4b8bff32"
      },
      "execution_count": null,
      "outputs": [
        {
          "output_type": "execute_result",
          "data": {
            "text/plain": [
              "True"
            ]
          },
          "metadata": {},
          "execution_count": 31
        }
      ]
    },
    {
      "cell_type": "code",
      "source": [
        "'10' == '010'\n",
        "'10' > '010'\n"
      ],
      "metadata": {
        "colab": {
          "base_uri": "https://localhost:8080/"
        },
        "id": "lsT0mUMO_niY",
        "outputId": "2236ab0b-21d8-48b7-c0e9-cb2667bb75a9"
      },
      "execution_count": null,
      "outputs": [
        {
          "output_type": "execute_result",
          "data": {
            "text/plain": [
              "True"
            ]
          },
          "metadata": {},
          "execution_count": 33
        }
      ]
    },
    {
      "cell_type": "code",
      "source": [
        "# Demonstrating the sorted() function:\n",
        "\n",
        "first_greek = ['omega', 'alfa', 'pi', 'gamma']\n",
        "first_greek2 = sorted(first_greek)\n",
        "\n",
        "print(first_greek)\n",
        "print(first_greek2)\n",
        "\n",
        "print()\n",
        "\n"
      ],
      "metadata": {
        "colab": {
          "base_uri": "https://localhost:8080/"
        },
        "id": "ooA6SXOaL8wo",
        "outputId": "09dd38b2-0b03-4a94-8b74-628391540f65"
      },
      "execution_count": null,
      "outputs": [
        {
          "output_type": "stream",
          "name": "stdout",
          "text": [
            "['omega', 'alfa', 'pi', 'gamma']\n",
            "['alfa', 'gamma', 'omega', 'pi']\n",
            "\n"
          ]
        }
      ]
    },
    {
      "cell_type": "code",
      "source": [
        "# Demonstrating the sort() method:\n",
        "second_greek = ['omega', 'alpha', 'pi', 'gamma']\n",
        "\n",
        "print(second_greek)\n",
        "\n",
        "second_greek.sort()\n",
        "print(second_greek)"
      ],
      "metadata": {
        "colab": {
          "base_uri": "https://localhost:8080/"
        },
        "id": "DU3b0cJfNr_U",
        "outputId": "c7896480-af81-4479-836b-e8a07bb231f8"
      },
      "execution_count": null,
      "outputs": [
        {
          "output_type": "stream",
          "name": "stdout",
          "text": [
            "['omega', 'alpha', 'pi', 'gamma']\n",
            "['alpha', 'gamma', 'omega', 'pi']\n"
          ]
        }
      ]
    },
    {
      "cell_type": "code",
      "source": [
        "# Função str():\n",
        "itg = 13\n",
        "flt = 1.3\n",
        "si = str(itg)\n",
        "sf = str(flt)\n",
        "\n",
        "print(si + \" \" + sf)"
      ],
      "metadata": {
        "colab": {
          "base_uri": "https://localhost:8080/"
        },
        "id": "m8epmyirMt5N",
        "outputId": "0e80113b-c11c-4eac-d1e1-e8bf8a2f0941"
      },
      "execution_count": null,
      "outputs": [
        {
          "output_type": "stream",
          "name": "stdout",
          "text": [
            "13 1.3\n"
          ]
        }
      ]
    },
    {
      "cell_type": "code",
      "source": [
        "si = '13'\n",
        "sf = '1.3'\n",
        "itg = int(si)\n",
        "flt = float(sf)\n",
        "\n",
        "print(itg + flt)"
      ],
      "metadata": {
        "colab": {
          "base_uri": "https://localhost:8080/"
        },
        "id": "jCLH9z5lOHOi",
        "outputId": "d723980f-35e3-463d-da9e-fc37fd00d733"
      },
      "execution_count": null,
      "outputs": [
        {
          "output_type": "stream",
          "name": "stdout",
          "text": [
            "14.3\n"
          ]
        }
      ]
    },
    {
      "cell_type": "code",
      "source": [
        "'smith' > 'Smith'"
      ],
      "metadata": {
        "colab": {
          "base_uri": "https://localhost:8080/"
        },
        "id": "sZl_dDbfO3Jw",
        "outputId": "8dcbdb76-883c-4969-f678-8dfbdbba1c24"
      },
      "execution_count": null,
      "outputs": [
        {
          "output_type": "execute_result",
          "data": {
            "text/plain": [
              "True"
            ]
          },
          "metadata": {},
          "execution_count": 9
        }
      ]
    },
    {
      "cell_type": "code",
      "source": [
        "'Smith' < 'Smith'"
      ],
      "metadata": {
        "colab": {
          "base_uri": "https://localhost:8080/"
        },
        "id": "T9O8YMAXPegy",
        "outputId": "5ef96162-07cc-45be-b0a2-6fb16c01d82a"
      },
      "execution_count": null,
      "outputs": [
        {
          "output_type": "execute_result",
          "data": {
            "text/plain": [
              "False"
            ]
          },
          "metadata": {},
          "execution_count": 5
        }
      ]
    },
    {
      "cell_type": "code",
      "source": [
        "'Smith' > '1000'"
      ],
      "metadata": {
        "colab": {
          "base_uri": "https://localhost:8080/"
        },
        "id": "-ibQ8lt9PooF",
        "outputId": "a0df40b7-02c5-4512-e6dd-0b0ba73ca523"
      },
      "execution_count": null,
      "outputs": [
        {
          "output_type": "execute_result",
          "data": {
            "text/plain": [
              "True"
            ]
          },
          "metadata": {},
          "execution_count": 10
        }
      ]
    },
    {
      "cell_type": "code",
      "source": [
        "'11' < '8'"
      ],
      "metadata": {
        "colab": {
          "base_uri": "https://localhost:8080/"
        },
        "id": "AxxizeEhPu7M",
        "outputId": "fd8c9cf4-2fa1-43c9-bb31-c22ba2f54219"
      },
      "execution_count": null,
      "outputs": [
        {
          "output_type": "execute_result",
          "data": {
            "text/plain": [
              "True"
            ]
          },
          "metadata": {},
          "execution_count": 11
        }
      ]
    },
    {
      "cell_type": "code",
      "source": [
        "s1 = 'Where are the snows of yesteryear?'\n",
        "s2 = s1.split()\n",
        "s3 = sorted(s2)\n",
        "print(s3[1])"
      ],
      "metadata": {
        "colab": {
          "base_uri": "https://localhost:8080/"
        },
        "id": "IhIZ0X5MP_x4",
        "outputId": "9b4faac5-706a-4b83-f98d-62ff5535b01d"
      },
      "execution_count": null,
      "outputs": [
        {
          "output_type": "stream",
          "name": "stdout",
          "text": [
            "are\n"
          ]
        }
      ]
    },
    {
      "cell_type": "code",
      "source": [
        "s1 = '12.8'\n",
        "i = int(s1)\n",
        "s2 = str(i)\n",
        "f = float(s2)\n",
        "print(s1 == s2)"
      ],
      "metadata": {
        "id": "wTSBgZTeQgYD"
      },
      "execution_count": null,
      "outputs": []
    },
    {
      "cell_type": "code",
      "source": [
        "# Define os caracteres que representam cada LED para cada dígito\n",
        "leds = {\n",
        "    0: [' _ ', '| |', '|_|', '   '],  # 0\n",
        "    1: ['   ', '  |', '  |', '   '],  # 1\n",
        "    2: [' _ ', ' _|', '|_ ', '   '],  # 2\n",
        "    3: [' _ ', ' _|', ' _|', '   '],  # 3\n",
        "    4: ['   ', '|_|', '  |', '   '],  # 4\n",
        "    5: [' _ ', '|_ ', ' _|', '   '],  # 5\n",
        "    6: [' _ ', '|_ ', '|_|', '   '],  # 6\n",
        "    7: [' _ ', '  |', '  |', '   '],  # 7\n",
        "    8: [' _ ', '|_|', '|_|', '   '],  # 8\n",
        "    9: [' _ ', '|_|', ' _|', '   ']   # 9\n",
        "}\n",
        "\n",
        "# Função para converter um número inteiro em uma lista de dígitos\n",
        "def convert_to_digits(num):\n",
        "    digits = []\n",
        "    if num == 0:\n",
        "        return [0]\n",
        "    while num:\n",
        "        digits.append(num % 10)\n",
        "        num //= 10\n",
        "    return digits[::-1]\n",
        "\n",
        "# Função para exibir um número inteiro em um display de sete segmentos\n",
        "def display_number(number):\n",
        "    digits = convert_to_digits(number)\n",
        "    for i in range(4):  # Há 4 linhas para cada dígito\n",
        "        for digit in digits:\n",
        "            print(leds[digit][i], end=' ')\n",
        "        print()\n",
        "\n",
        "# Solicita ao usuário inserir um número inteiro não negativo\n",
        "try:\n",
        "    number = int(input(\"Digite um número inteiro não negativo: \"))\n",
        "    if number < 0:\n",
        "        raise ValueError(\"O número deve ser não negativo.\")\n",
        "    display_number(number)\n",
        "except ValueError as e:\n",
        "    print(f\"Erro: {e}\")\n"
      ],
      "metadata": {
        "colab": {
          "base_uri": "https://localhost:8080/"
        },
        "id": "4x15OAZPRzH7",
        "outputId": "f59ed393-26bf-4cb6-bc44-3d3893686905"
      },
      "execution_count": null,
      "outputs": [
        {
          "output_type": "stream",
          "name": "stdout",
          "text": [
            "Digite um número inteiro não negativo: -1\n",
            "Erro: O número deve ser não negativo.\n"
          ]
        }
      ]
    },
    {
      "cell_type": "code",
      "source": [
        "#  Cifra de César\n",
        "\n",
        "# insira uma mensagem aberta (não encriptada), de uma linha.\n",
        "text  = input(\"Digite sua mensagem: \")\n",
        "# Prepara uma string para uma mensagem encriptada (vazia por agora).\n",
        "cifra = ''\n",
        "# Coverte a mensagem, verifica letras, tira espaço e incrementa +1.\n",
        "for char in text:\n",
        "  if not char.isalpha():\n",
        "    continue\n",
        "  char = char.upper()\n",
        "  code = ord(char) + 1\n",
        "  if code > ord('Z'):\n",
        "    code = ord('A')\n",
        "  cifra += chr(code)\n",
        "# imprimi a mensagem encriptada.\n",
        "print(cifra)"
      ],
      "metadata": {
        "colab": {
          "base_uri": "https://localhost:8080/"
        },
        "id": "yXjLGjcUTODh",
        "outputId": "71f89271-e473-44b3-d5c3-ad4a62fc9ee5"
      },
      "execution_count": null,
      "outputs": [
        {
          "output_type": "stream",
          "name": "stdout",
          "text": [
            "Digite sua mensagem: ze da manga\n",
            "AFEBNBOHB\n"
          ]
        }
      ]
    },
    {
      "cell_type": "code",
      "source": [
        "# Cifra de César - decodificação\n",
        "\n",
        "# Insira a Cifra Codificada\n",
        "cifra = input('Insira o criptograma: ')\n",
        "# Prepara uma string para decriptar a mensagem (vazia por agora).\n",
        "text = ''\n",
        "# Verifica a mensagem\n",
        "for char in cifra:\n",
        "  if not char.isalpha():\n",
        "    continue\n",
        "  char = char.upper()\n",
        "  code = ord(char) - 1\n",
        "  if code < ord('A'):\n",
        "    code = ord('Z')\n",
        "  text += chr(code)\n",
        "\n",
        "# Revela a menssagem\n",
        "print('Sua mensagem é: ',text)"
      ],
      "metadata": {
        "colab": {
          "base_uri": "https://localhost:8080/"
        },
        "id": "AqdBsWScaGxk",
        "outputId": "06f5ff2d-f559-4b20-81b8-a1383489f4f9"
      },
      "execution_count": null,
      "outputs": [
        {
          "output_type": "stream",
          "name": "stdout",
          "text": [
            "Insira o criptograma: AFEBNBOHB\n",
            "Sua mensagem é:  ZEDAMANGA\n"
          ]
        }
      ]
    },
    {
      "cell_type": "code",
      "source": [
        "# Processador de números\n",
        "\n",
        "line = input(\"Entre com os números - sepaarando com espaços: \")\n",
        "strings = line.split()\n",
        "total = 0\n",
        "try:\n",
        "  for substr in strings:\n",
        "    total += float(substr)\n",
        "  print(\"O total é: \", total)\n",
        "except:\n",
        "  print(substr, \"Isso não é um número.\")"
      ],
      "metadata": {
        "id": "7XGElQZSchHj",
        "colab": {
          "base_uri": "https://localhost:8080/"
        },
        "outputId": "b90a8366-ba84-4fa5-c7c9-4771058de2bc"
      },
      "execution_count": null,
      "outputs": [
        {
          "output_type": "stream",
          "name": "stdout",
          "text": [
            "Entre com os números - sepaarando com espaços: aaa\n",
            "aaa Isso não é um número.\n"
          ]
        }
      ]
    },
    {
      "cell_type": "code",
      "source": [
        "# IBAN Validator.\n",
        "#Entra copm o endeço IBAN\n",
        "iban = input(\"Ente com o núemro IBAN, por gentileza: \")\n",
        "iban = iban.replace(' ','')\n",
        "# Verifica se os caracteres correspondem ao IBAN\n",
        "if not iban.isalnum():\n",
        "    print(\"Use caracteres válidos.\")\n",
        "elif len(iban) < 15:\n",
        "    print(\"Eendereço IBAN muito curto.\")\n",
        "elif len(iban) > 31:\n",
        "    print(\"Endereço IBAN muito longo.\")\n",
        "\n",
        "# Verifica no BD se existe o endereço IBAN\n",
        "else:\n",
        "    iban = (iban[4:] + iban[0:4]).upper()\n",
        "    iban2 = ''\n",
        "    for ch in iban:\n",
        "        if ch.isdigit():\n",
        "            iban2 += ch\n",
        "        else:\n",
        "            iban2 += str(10 + ord(ch) - ord('A'))\n",
        "    iban = int(iban2)\n",
        "    if iban % 97 == 1:\n",
        "        print(\"IBAN endereço válido.\")\n",
        "    else:\n",
        "        print(\"IBAN endereço inválido.\")\n"
      ],
      "metadata": {
        "colab": {
          "base_uri": "https://localhost:8080/"
        },
        "id": "ojbbuzVIIWWO",
        "outputId": "f9285c93-15d2-412c-9285-4fae1b250fc9"
      },
      "execution_count": null,
      "outputs": [
        {
          "output_type": "stream",
          "name": "stdout",
          "text": [
            "Ente com o núemro IBAN, por gentileza: FR76 30003 03620 00020216907 50\n",
            "IBAN endereço válido.\n"
          ]
        }
      ]
    },
    {
      "cell_type": "code",
      "source": [
        "# Cifra de César melhorada\n",
        "\n",
        "\n",
        "def cifra_de_cesar(texto, deslocamento):\n",
        "    texto_codificado = ''\n",
        "    for char in texto:\n",
        "       # Verifica se o caractere é uma letra\n",
        "        if char.isalpha():\n",
        "          # Se for letra maiúscula\n",
        "            if char.isupper():\n",
        "                codigo = ord('A') + ((ord(char) - ord('A') + deslocamento) % 26)\n",
        "                texto_codificado += chr(codigo)\n",
        "          # Se for letra minúscula\n",
        "            else:\n",
        "                codigo = ord('a') + ((ord(char) - ord('a') + deslocamento) % 26)\n",
        "                texto_codificado += chr(codigo)\n",
        "        # Se não for uma letra, mantém o caractere original\n",
        "        else:\n",
        "            texto_codificado += char\n",
        "    return texto_codificado\n",
        " # Verifica o valor do deslocamento\n",
        "def obter_deslocamento_valido():\n",
        "    while True:\n",
        "        deslocamento = input(\"Insira um valor de deslocamento (um número inteiro no intervalo de 1 a 25): \")\n",
        "        if deslocamento.isdigit():\n",
        "            deslocamento = int(deslocamento)\n",
        "            if 1 <= deslocamento <= 25:\n",
        "                return deslocamento\n",
        "        print(\"Por favor, insira um valor de deslocamento válido.\")\n",
        "\n",
        "# Exibe o texto modificado\n",
        "def main():\n",
        "    texto = input(\"Digite sua mensagem: \")\n",
        "    deslocamento = obter_deslocamento_valido()\n",
        "    texto_codificado = cifra_de_cesar(texto, deslocamento)\n",
        "    print(\"Texto codificado:\", texto_codificado)\n",
        "\n",
        "if __name__ == \"__main__\":\n",
        "    main()\n"
      ],
      "metadata": {
        "id": "rsqLuSu8Oo-q"
      },
      "execution_count": null,
      "outputs": []
    },
    {
      "cell_type": "code",
      "source": [
        "# Verificar palíndromo\n",
        "\n",
        "def verifica_palindromo(texto):\n",
        "    # Remove os espaços e converte todas as letras para minúsculas\n",
        "    texto = texto.replace(\" \", \"\").lower()\n",
        "    # Compara o texto com sua versão invertida\n",
        "    return texto == texto[::-1]\n",
        "\n",
        "def main():\n",
        "    texto = input(\"Digite algum texto: \")\n",
        "\n",
        "    if not texto:\n",
        "        print(\"Por favor, insira um texto válido.\")\n",
        "    elif verifica_palindromo(texto):\n",
        "        print(\"O texto é um palíndromo!\")\n",
        "    else:\n",
        "        print(\"O texto não é um palíndromo.\")\n",
        "\n",
        "if __name__ == \"__main__\":\n",
        "    main()"
      ],
      "metadata": {
        "colab": {
          "base_uri": "https://localhost:8080/"
        },
        "id": "uwarCIY_h2jQ",
        "outputId": "55675d45-fc3b-47af-ddec-26f6881cb0c3"
      },
      "execution_count": null,
      "outputs": [
        {
          "output_type": "stream",
          "name": "stdout",
          "text": [
            "Digite algum texto: Ten animals I slam in a net\n",
            "O texto é um palíndromo!\n"
          ]
        }
      ]
    },
    {
      "cell_type": "code",
      "source": [
        " # Anagrama\n",
        "def verifica_anagrama(texto1, texto2):\n",
        "    # Remove os espaços e converte todas as letras para minúsculas\n",
        "    texto1 = texto1.replace(\" \", \"\").lower()\n",
        "    texto2 = texto2.replace(\" \", \"\").lower()\n",
        "    # Verifica se as strings possuem os mesmos caracteres\n",
        "    return sorted(texto1) == sorted(texto2)\n",
        "\n",
        "def main():\n",
        "    texto1 = input(\"Digite o primeiro texto: \")\n",
        "    texto2 = input(\"Digite o segundo texto: \")\n",
        "  # Verifica se uma das strings é vazia.\n",
        "    if not texto1 or not texto2:\n",
        "        print(\"Por favor, insira dois textos válidos.\")\n",
        "    elif verifica_anagrama(texto1, texto2):\n",
        "        print(\"Os textos são anagramas!\")\n",
        "    else:\n",
        "        print(\"Os textos não são anagramas.\")\n",
        "\n",
        "if __name__ == \"__main__\":\n",
        "    main()\n"
      ],
      "metadata": {
        "id": "iwhTVvXT9yTw",
        "outputId": "503b8802-4fa9-46e9-f336-a39454dd8fff",
        "colab": {
          "base_uri": "https://localhost:8080/"
        }
      },
      "execution_count": null,
      "outputs": [
        {
          "output_type": "stream",
          "name": "stdout",
          "text": [
            "Digite o primeiro texto: Listen\n",
            "Digite o segundo texto: Silent\n",
            "Os textos são anagramas!\n"
          ]
        }
      ]
    },
    {
      "cell_type": "code",
      "source": [
        "# Digito da vida\n",
        "\n",
        "line = input(\"Entre com os números - separando-os com espaços: \")\n",
        "strings = line.split()\n",
        "total = 0\n",
        "try:\n",
        "  for substr in strings:\n",
        "    total += float(substr)\n",
        "  print(\"O total é: \", total)\n",
        "except:\n",
        "  print(substr, \"Isso não é um número.\")"
      ],
      "metadata": {
        "id": "D2N_-ElMGXsh",
        "outputId": "5db3f6ad-aa57-44a3-c6b5-b98b91b45733",
        "colab": {
          "base_uri": "https://localhost:8080/"
        }
      },
      "execution_count": null,
      "outputs": [
        {
          "output_type": "stream",
          "name": "stdout",
          "text": [
            "Entre com os números - separando-os com espaços: 3 0\n",
            "O total é:  3.0\n"
          ]
        }
      ]
    },
    {
      "cell_type": "code",
      "source": [
        "# Jogo das strings\n",
        "\n",
        "# procura as strings selecionadas\n",
        "def caracteres_escondidos(palavra, combinacao):\n",
        "    posicao = -1\n",
        "\n",
        "    for char in palavra:\n",
        "        posicao = combinacao.find(char, posicao + 1)\n",
        "        if posicao == -1:\n",
        "            return \"no\"\n",
        "\n",
        "    return \"yes\"\n",
        "\n",
        "# Teste\n",
        "palavra = input(\"Digite a palavra: \")\n",
        "combinacao = input(\"Digite a combinação: \")\n",
        "\n",
        "print(caracteres_escondidos(palavra, combinacao))\n",
        "\n"
      ],
      "metadata": {
        "id": "VmcLLQa2WBD7",
        "outputId": "894bbd30-f1e7-4722-e200-d1175a23f279",
        "colab": {
          "base_uri": "https://localhost:8080/"
        }
      },
      "execution_count": null,
      "outputs": [
        {
          "output_type": "stream",
          "name": "stdout",
          "text": [
            "Digite a palavra: donor\n",
            "Digite a combinação: Nabucodonosor\n",
            "yes\n"
          ]
        }
      ]
    },
    {
      "cell_type": "code",
      "source": [
        "# Sudoku\n",
        "def verifica_sudoku(tabuleiro):\n",
        "# Verifica se todas as linhas são válidas\n",
        "    for linha in tabuleiro:\n",
        "        if not linha_valida(linha):\n",
        "            return False\n",
        "\n",
        "# Verifica se todas as colunas são válidas\n",
        "    for j in range(9):\n",
        "        coluna = [tabuleiro[i][j] for i in range(9)]\n",
        "        if not linha_valida(coluna):\n",
        "            return False\n",
        "\n",
        "# Verifica se todos os subquadrados são válidos\n",
        "    for i in range(0, 9, 3):\n",
        "        for j in range(0, 9, 3):\n",
        "            subquadrado = [tabuleiro[x][y] for x in range(i, i+3) for y in range(j, j+3)]\n",
        "            if not linha_valida(subquadrado):\n",
        "                return False\n",
        "\n",
        "    return True\n",
        "\n",
        "def linha_valida(linha):\n",
        "# Verifica se a linha contém exatamente os dígitos de 1 a 9\n",
        "    return sorted(linha) == [str(i) for i in range(1, 10)]\n",
        "\n",
        "# Armazena as linhas e verifica se é válido.\n",
        "def main():\n",
        "    tabuleiro = []\n",
        "    print(\"Digite o tabuleiro de Sudoku (9 linhas, cada uma com 9 dígitos):\")\n",
        "    for _ in range(9):\n",
        "        linha = input().strip()\n",
        "        if len(linha) != 9 or not linha.isdigit():\n",
        "            print(\"Entrada inválida. Por favor, insira 9 dígitos em cada linha.\")\n",
        "            return\n",
        "# Armazena cada linha como uma lista de dígitos\n",
        "        tabuleiro.append(list(linha))\n",
        "\n",
        "    if verifica_sudoku(tabuleiro):\n",
        "        print(\"Yes\")\n",
        "    else:\n",
        "        print(\"No\")\n",
        "\n",
        "if __name__ == \"__main__\":\n",
        "    main()\n",
        "\n"
      ],
      "metadata": {
        "colab": {
          "base_uri": "https://localhost:8080/"
        },
        "id": "FdwoML5ogH2l",
        "outputId": "021ae616-fc26-4cdc-a4d6-67a7f893dec8"
      },
      "execution_count": null,
      "outputs": [
        {
          "output_type": "stream",
          "name": "stdout",
          "text": [
            "Digite o tabuleiro de Sudoku (9 linhas, cada uma com 9 dígitos):\n",
            "295743861\n",
            "431865927\n",
            "876192543\n",
            "387459216\n",
            "612387495\n",
            "549216738\n",
            "763524189\n",
            "928671354\n",
            "154938672\n",
            "Yes\n"
          ]
        }
      ]
    },
    {
      "cell_type": "code",
      "source": [
        "import math\n",
        "\n",
        "x = float(input(\"Enter x: \"))\n",
        "y = math.sqrt(x)\n",
        "\n",
        "print(\"The square root of\", x, \"equals to\", y)\n"
      ],
      "metadata": {
        "id": "mbKqou4j02bg",
        "outputId": "11f34d88-3370-4eb2-8630-3218d047f637",
        "colab": {
          "base_uri": "https://localhost:8080/",
          "height": 228
        }
      },
      "execution_count": null,
      "outputs": [
        {
          "name": "stdout",
          "output_type": "stream",
          "text": [
            "Enter x: abracadara\n"
          ]
        },
        {
          "output_type": "error",
          "ename": "ValueError",
          "evalue": "could not convert string to float: 'abracadara'",
          "traceback": [
            "\u001b[0;31m---------------------------------------------------------------------------\u001b[0m",
            "\u001b[0;31mValueError\u001b[0m                                Traceback (most recent call last)",
            "\u001b[0;32m<ipython-input-6-8c0b3ffe9411>\u001b[0m in \u001b[0;36m<cell line: 3>\u001b[0;34m()\u001b[0m\n\u001b[1;32m      1\u001b[0m \u001b[0;32mimport\u001b[0m \u001b[0mmath\u001b[0m\u001b[0;34m\u001b[0m\u001b[0;34m\u001b[0m\u001b[0m\n\u001b[1;32m      2\u001b[0m \u001b[0;34m\u001b[0m\u001b[0m\n\u001b[0;32m----> 3\u001b[0;31m \u001b[0mx\u001b[0m \u001b[0;34m=\u001b[0m \u001b[0mfloat\u001b[0m\u001b[0;34m(\u001b[0m\u001b[0minput\u001b[0m\u001b[0;34m(\u001b[0m\u001b[0;34m\"Enter x: \"\u001b[0m\u001b[0;34m)\u001b[0m\u001b[0;34m)\u001b[0m\u001b[0;34m\u001b[0m\u001b[0;34m\u001b[0m\u001b[0m\n\u001b[0m\u001b[1;32m      4\u001b[0m \u001b[0my\u001b[0m \u001b[0;34m=\u001b[0m \u001b[0mmath\u001b[0m\u001b[0;34m.\u001b[0m\u001b[0msqrt\u001b[0m\u001b[0;34m(\u001b[0m\u001b[0mx\u001b[0m\u001b[0;34m)\u001b[0m\u001b[0;34m\u001b[0m\u001b[0;34m\u001b[0m\u001b[0m\n\u001b[1;32m      5\u001b[0m \u001b[0;34m\u001b[0m\u001b[0m\n",
            "\u001b[0;31mValueError\u001b[0m: could not convert string to float: 'abracadara'"
          ]
        }
      ]
    },
    {
      "cell_type": "code",
      "source": [
        "# Erro de exceção é chamado ZeroDivisionError.\n",
        "value = 1\n",
        "value /= 0"
      ],
      "metadata": {
        "colab": {
          "base_uri": "https://localhost:8080/",
          "height": 158
        },
        "id": "afHJ7KawpKeK",
        "outputId": "064d6f50-c160-4aa2-9324-9953e677a5fe"
      },
      "execution_count": null,
      "outputs": [
        {
          "output_type": "error",
          "ename": "ZeroDivisionError",
          "evalue": "division by zero",
          "traceback": [
            "\u001b[0;31m---------------------------------------------------------------------------\u001b[0m",
            "\u001b[0;31mZeroDivisionError\u001b[0m                         Traceback (most recent call last)",
            "\u001b[0;32m<ipython-input-1-ad45975c684c>\u001b[0m in \u001b[0;36m<cell line: 2>\u001b[0;34m()\u001b[0m\n\u001b[1;32m      1\u001b[0m \u001b[0mvalue\u001b[0m \u001b[0;34m=\u001b[0m \u001b[0;36m1\u001b[0m\u001b[0;34m\u001b[0m\u001b[0;34m\u001b[0m\u001b[0m\n\u001b[0;32m----> 2\u001b[0;31m \u001b[0mvalue\u001b[0m \u001b[0;34m/=\u001b[0m \u001b[0;36m0\u001b[0m\u001b[0;34m\u001b[0m\u001b[0;34m\u001b[0m\u001b[0m\n\u001b[0m",
            "\u001b[0;31mZeroDivisionError\u001b[0m: division by zero"
          ]
        }
      ]
    },
    {
      "cell_type": "code",
      "source": [
        "# Este é o IndexError.\n",
        "my_list = []\n",
        "x = my_list[0]\n"
      ],
      "metadata": {
        "colab": {
          "base_uri": "https://localhost:8080/",
          "height": 176
        },
        "id": "JrlsXB9upwIZ",
        "outputId": "5aceae70-8361-489d-83f8-1001cbaa0e42"
      },
      "execution_count": null,
      "outputs": [
        {
          "output_type": "error",
          "ename": "IndexError",
          "evalue": "list index out of range",
          "traceback": [
            "\u001b[0;31m---------------------------------------------------------------------------\u001b[0m",
            "\u001b[0;31mIndexError\u001b[0m                                Traceback (most recent call last)",
            "\u001b[0;32m<ipython-input-2-eb1735c61c8f>\u001b[0m in \u001b[0;36m<cell line: 3>\u001b[0;34m()\u001b[0m\n\u001b[1;32m      1\u001b[0m \u001b[0;31m# Este é o IndexError.\u001b[0m\u001b[0;34m\u001b[0m\u001b[0;34m\u001b[0m\u001b[0m\n\u001b[1;32m      2\u001b[0m \u001b[0mmy_list\u001b[0m \u001b[0;34m=\u001b[0m \u001b[0;34m[\u001b[0m\u001b[0;34m]\u001b[0m\u001b[0;34m\u001b[0m\u001b[0;34m\u001b[0m\u001b[0m\n\u001b[0;32m----> 3\u001b[0;31m \u001b[0mx\u001b[0m \u001b[0;34m=\u001b[0m \u001b[0mmy_list\u001b[0m\u001b[0;34m[\u001b[0m\u001b[0;36m0\u001b[0m\u001b[0;34m]\u001b[0m\u001b[0;34m\u001b[0m\u001b[0;34m\u001b[0m\u001b[0m\n\u001b[0m",
            "\u001b[0;31mIndexError\u001b[0m: list index out of range"
          ]
        }
      ]
    },
    {
      "cell_type": "code",
      "source": [
        "first_number = int(input(\"Enter the first number: \"))\n",
        "second_number = int(input(\"Enter the second number: \"))\n",
        "\n",
        "if second_number != 0:\n",
        "    print(first_number / second_number)\n",
        "else:\n",
        "    print(\"This operation cannot be done.\")\n",
        "\n",
        "print(\"THE END.\")"
      ],
      "metadata": {
        "colab": {
          "base_uri": "https://localhost:8080/"
        },
        "id": "TxaRVHDDp4v4",
        "outputId": "24e70976-2740-4e12-e95c-76ee4cf69eba"
      },
      "execution_count": null,
      "outputs": [
        {
          "output_type": "stream",
          "name": "stdout",
          "text": [
            "Enter the first number: 1\n",
            "Enter the second number: 2\n",
            "0.5\n",
            "THE END.\n"
          ]
        }
      ]
    },
    {
      "cell_type": "code",
      "source": [
        "first_number = int(input(\"Enter a first number: \"))\n",
        "second_number = int(input(\"Enter a second number: \"))\n",
        "\n",
        "try:\n",
        "  print(first_number / second_number)\n",
        "\n",
        "except:\n",
        "  print(\"This operation cannot be done.\")\n",
        "\n",
        "print(\"Zé da manga\")"
      ],
      "metadata": {
        "colab": {
          "base_uri": "https://localhost:8080/"
        },
        "id": "91DSMPz409YT",
        "outputId": "fc5d38d0-9eff-4b3e-f97c-225511644385"
      },
      "execution_count": null,
      "outputs": [
        {
          "output_type": "stream",
          "name": "stdout",
          "text": [
            "Enter a first number: 0\n",
            "Enter a second number: 0\n",
            "This operation cannot be done.\n",
            "Zé da manga\n"
          ]
        }
      ]
    },
    {
      "cell_type": "code",
      "source": [
        "x = 1\n",
        "y = 3\n",
        "\n",
        "try:\n",
        "    print(\"1\")\n",
        "    x = 1 / 0\n",
        "    print(\"2\")\n",
        "except:\n",
        "    print(\"Oh dear, something went wrong...\")\n",
        "\n",
        "print(\"3\")\n"
      ],
      "metadata": {
        "colab": {
          "base_uri": "https://localhost:8080/"
        },
        "id": "bae1IV7q22sb",
        "outputId": "d0f70034-def0-4f6c-fb57-ec337069f5e9"
      },
      "execution_count": null,
      "outputs": [
        {
          "output_type": "stream",
          "name": "stdout",
          "text": [
            "1\n",
            "Oh dear, something went wrong...\n",
            "3\n"
          ]
        }
      ]
    },
    {
      "cell_type": "code",
      "source": [
        "try:\n",
        "  x = int(input(\"Enter a Number: \"))\n",
        "  y = 1 / x\n",
        "  print(y)\n",
        "except ZeroDivisionError:\n",
        "  print(\"You cannot divide by zero, sorry.\")\n",
        "\n",
        "except ValueError:\n",
        "  print(\"You must enter an integer value.\")\n",
        "\n",
        "except:\n",
        "  print(\"Oh dear, something went wrong.\")\n",
        "\n",
        "print(\"The End.\")"
      ],
      "metadata": {
        "colab": {
          "base_uri": "https://localhost:8080/"
        },
        "id": "-Z4XEhN5S9XX",
        "outputId": "03b4b692-2e78-4109-aa61-46aa6b2e108e"
      },
      "execution_count": null,
      "outputs": [
        {
          "output_type": "stream",
          "name": "stdout",
          "text": [
            "Enter a Number: 0\n",
            "You cannot divide by zero, sorry.\n",
            "The End.\n"
          ]
        }
      ]
    },
    {
      "cell_type": "code",
      "source": [
        "try:\n",
        "    print(\"Let's try to do this\")\n",
        "    print(\"#\"[2])\n",
        "    print(\"We succeeded!\")\n",
        "except:\n",
        "  print(\"We failed!\")\n",
        "\n",
        "print(\"We're done\")"
      ],
      "metadata": {
        "colab": {
          "base_uri": "https://localhost:8080/"
        },
        "id": "tYL_h0WdTz6d",
        "outputId": "b94274aa-6174-4b85-a0d0-10d516794703"
      },
      "execution_count": null,
      "outputs": [
        {
          "output_type": "stream",
          "name": "stdout",
          "text": [
            "Let's try to do this\n",
            "We failed!\n",
            "We're done\n"
          ]
        }
      ]
    },
    {
      "cell_type": "code",
      "source": [
        "try:\n",
        "  print(\"Alpha\"[1/0])\n",
        "\n",
        "except ZeroDivisionError:\n",
        "  print(\"Zero\")\n",
        "\n",
        "except IndexError:\n",
        "  print(\"Index\")\n",
        "\n",
        "except:\n",
        "  print(\"some\")"
      ],
      "metadata": {
        "colab": {
          "base_uri": "https://localhost:8080/"
        },
        "id": "AlvImFLoXxby",
        "outputId": "bc6bc834-cc19-4de2-9969-ed6be4d09188"
      },
      "execution_count": null,
      "outputs": [
        {
          "output_type": "stream",
          "name": "stdout",
          "text": [
            "Zero\n"
          ]
        }
      ]
    },
    {
      "cell_type": "code",
      "source": [
        "try:\n",
        "  y = 1 / 0\n",
        "except BaseException:\n",
        "  print(\"OOOOPPPPPSSSSS..\")\n",
        "\n",
        "print(\"The End.\")"
      ],
      "metadata": {
        "colab": {
          "base_uri": "https://localhost:8080/"
        },
        "id": "st5aGzIoedMU",
        "outputId": "d9c8dbdf-fd18-49bd-e901-521a17f7ebba"
      },
      "execution_count": null,
      "outputs": [
        {
          "output_type": "stream",
          "name": "stdout",
          "text": [
            "OOOOPPPPPSSSSS..\n",
            "The End.\n"
          ]
        }
      ]
    },
    {
      "cell_type": "code",
      "source": [
        "# Exceção dentro da função\n",
        "try:\n",
        "    y = 1 / 0\n",
        "except ArithmeticError:\n",
        "    print(\"Arithmetic problem!\")\n",
        "\n",
        "except ZeroDivisionError:\n",
        "    print(\"Zero Division!\")\n",
        "\n",
        "print(\"THE END.\")\n"
      ],
      "metadata": {
        "colab": {
          "base_uri": "https://localhost:8080/"
        },
        "id": "XyIL47lXecwY",
        "outputId": "5c4ba0d2-4fdc-4cd6-8e12-667bef79e64d"
      },
      "execution_count": null,
      "outputs": [
        {
          "output_type": "stream",
          "name": "stdout",
          "text": [
            "Arithmetic problem!\n",
            "THE END.\n"
          ]
        }
      ]
    },
    {
      "cell_type": "code",
      "source": [
        "def bad_fun(n):\n",
        "  try:\n",
        "    return 1 / n\n",
        "  except ArithmeticError:\n",
        "    print(\"Arithmetic Problem!\")\n",
        "  return None\n",
        "\n",
        "bad_fun(0)\n",
        "\n",
        "print(\"the End.\")"
      ],
      "metadata": {
        "colab": {
          "base_uri": "https://localhost:8080/"
        },
        "id": "UyypajnQrcv6",
        "outputId": "e7ad238c-2f93-41e1-b2ac-a207374b5a25"
      },
      "execution_count": null,
      "outputs": [
        {
          "output_type": "stream",
          "name": "stdout",
          "text": [
            "Arithmetic Problem!\n",
            "the End.\n"
          ]
        }
      ]
    },
    {
      "cell_type": "code",
      "source": [
        "# Fora da Função\n",
        "\n",
        "def bad_fun(n):\n",
        "  return 1 / n\n",
        "\n",
        "try:\n",
        "  bad_fun(0)\n",
        "\n",
        "except ArithmeticError:\n",
        "  print(\"What heppned? An exception was raised!\")\n",
        "\n",
        "print(\"The End.\")"
      ],
      "metadata": {
        "colab": {
          "base_uri": "https://localhost:8080/"
        },
        "id": "FpniU8iZr_Sh",
        "outputId": "cc4d0b58-eb8a-4218-9e63-70e519430f2c"
      },
      "execution_count": null,
      "outputs": [
        {
          "output_type": "stream",
          "name": "stdout",
          "text": [
            "What heppned? An exception was raised!\n",
            "The End.\n"
          ]
        }
      ]
    },
    {
      "cell_type": "code",
      "source": [
        "# Raise\n",
        "\n",
        "def bad_fun(n):\n",
        "  raise ZeroDivisionError\n",
        "\n",
        "try:\n",
        "  bad_fun(0)\n",
        "except ArithmeticError:\n",
        "  print(\"What happened ? An error?\")\n",
        "\n",
        "print(\"The End.\")"
      ],
      "metadata": {
        "colab": {
          "base_uri": "https://localhost:8080/"
        },
        "id": "UIDwKSTyKBF1",
        "outputId": "dc88da08-aadb-4341-d32a-2a1b3772c965"
      },
      "execution_count": null,
      "outputs": [
        {
          "output_type": "stream",
          "name": "stdout",
          "text": [
            "What happened ? An error?\n",
            "The End.\n"
          ]
        }
      ]
    },
    {
      "cell_type": "code",
      "source": [
        "def bad_fun(n):\n",
        "    try:\n",
        "      return n / 0\n",
        "    except:\n",
        "      print(\"I did it again!\")\n",
        "      raise\n",
        "\n",
        "try:\n",
        "  bad_fun(0)\n",
        "except ArithmeticError:\n",
        "  print(\"I see!\")\n",
        "\n",
        "print(\"the End.\")"
      ],
      "metadata": {
        "colab": {
          "base_uri": "https://localhost:8080/"
        },
        "id": "wHgvJ48VKogl",
        "outputId": "1ca30f1d-40b4-4b93-bf59-e8d5b02e609c"
      },
      "execution_count": null,
      "outputs": [
        {
          "output_type": "stream",
          "name": "stdout",
          "text": [
            "I did it again!\n",
            "I see!\n",
            "the End.\n"
          ]
        }
      ]
    },
    {
      "cell_type": "code",
      "source": [
        "import math\n",
        "\n",
        "x = float(input(\"Enter a number: \"))\n",
        "assert x >= 0.0\n",
        "\n",
        "x = math.sqrt(x)\n",
        "\n",
        "print(x)"
      ],
      "metadata": {
        "colab": {
          "base_uri": "https://localhost:8080/",
          "height": 228
        },
        "id": "VaXKeV2Ywn2Q",
        "outputId": "0a7e00f4-c6bb-428b-dace-364cbb9f3fe9"
      },
      "execution_count": null,
      "outputs": [
        {
          "name": "stdout",
          "output_type": "stream",
          "text": [
            "Enter a number: -1\n"
          ]
        },
        {
          "output_type": "error",
          "ename": "AssertionError",
          "evalue": "",
          "traceback": [
            "\u001b[0;31m---------------------------------------------------------------------------\u001b[0m",
            "\u001b[0;31mAssertionError\u001b[0m                            Traceback (most recent call last)",
            "\u001b[0;32m<ipython-input-2-49fad9c6e200>\u001b[0m in \u001b[0;36m<cell line: 4>\u001b[0;34m()\u001b[0m\n\u001b[1;32m      2\u001b[0m \u001b[0;34m\u001b[0m\u001b[0m\n\u001b[1;32m      3\u001b[0m \u001b[0mx\u001b[0m \u001b[0;34m=\u001b[0m \u001b[0mfloat\u001b[0m\u001b[0;34m(\u001b[0m\u001b[0minput\u001b[0m\u001b[0;34m(\u001b[0m\u001b[0;34m\"Enter a number: \"\u001b[0m\u001b[0;34m)\u001b[0m\u001b[0;34m)\u001b[0m\u001b[0;34m\u001b[0m\u001b[0;34m\u001b[0m\u001b[0m\n\u001b[0;32m----> 4\u001b[0;31m \u001b[0;32massert\u001b[0m \u001b[0mx\u001b[0m \u001b[0;34m>=\u001b[0m \u001b[0;36m0.0\u001b[0m\u001b[0;34m\u001b[0m\u001b[0;34m\u001b[0m\u001b[0m\n\u001b[0m\u001b[1;32m      5\u001b[0m \u001b[0;34m\u001b[0m\u001b[0m\n\u001b[1;32m      6\u001b[0m \u001b[0mx\u001b[0m \u001b[0;34m=\u001b[0m \u001b[0mmath\u001b[0m\u001b[0;34m.\u001b[0m\u001b[0msqrt\u001b[0m\u001b[0;34m(\u001b[0m\u001b[0mx\u001b[0m\u001b[0;34m)\u001b[0m\u001b[0;34m\u001b[0m\u001b[0;34m\u001b[0m\u001b[0m\n",
            "\u001b[0;31mAssertionError\u001b[0m: "
          ]
        }
      ]
    },
    {
      "cell_type": "code",
      "source": [
        "try:\n",
        "  print(1/0)\n",
        "\n",
        "except ZeroDivisionError:\n",
        "  print(\"zero\")\n",
        "except ArithmeticError:\n",
        "  print(\"Arith\")\n",
        "except:\n",
        "  print(\"Some\")"
      ],
      "metadata": {
        "colab": {
          "base_uri": "https://localhost:8080/"
        },
        "id": "qFemVwIxw4UN",
        "outputId": "b0d29b9b-5525-4b87-f0a6-0ab6c87d03d0"
      },
      "execution_count": null,
      "outputs": [
        {
          "output_type": "stream",
          "name": "stdout",
          "text": [
            "zero\n"
          ]
        }
      ]
    },
    {
      "cell_type": "code",
      "source": [
        "try:\n",
        "  print(1/0)\n",
        "except ArithmeticError:\n",
        "  print(\"arith\")\n",
        "except ZeroDivisionError:\n",
        "  print(\"zero\")\n",
        "except:\n",
        "  print(\"some\")"
      ],
      "metadata": {
        "colab": {
          "base_uri": "https://localhost:8080/"
        },
        "id": "ncrv5jGexRys",
        "outputId": "bc127263-260e-4559-f9f2-41887e2e3a1a"
      },
      "execution_count": null,
      "outputs": [
        {
          "output_type": "stream",
          "name": "stdout",
          "text": [
            "arith\n"
          ]
        }
      ]
    },
    {
      "cell_type": "code",
      "source": [
        "def foo(x):\n",
        "  assert x\n",
        "  return 1/x\n",
        "\n",
        "try:\n",
        "  print(foo(0))\n",
        "except ZeroDivisionError:\n",
        "  print(\"zero\")\n",
        "\n",
        "except:\n",
        "  print(\"some\")"
      ],
      "metadata": {
        "colab": {
          "base_uri": "https://localhost:8080/"
        },
        "id": "WonOmxmNxmeu",
        "outputId": "9e61b270-6449-440c-990c-9cc91b9f7d08"
      },
      "execution_count": null,
      "outputs": [
        {
          "output_type": "stream",
          "name": "stdout",
          "text": [
            "some\n"
          ]
        }
      ]
    },
    {
      "cell_type": "code",
      "source": [
        "def read_int(prompt, min, max):\n",
        "  while True:\n",
        "    try:\n",
        "      value = int(input(prompt))\n",
        "      if value < min or value > max:\n",
        "        print(f\"Value is not within permitted range ({min}..{max})\")\n",
        "\n",
        "      else:\n",
        "          return value\n",
        "    except ValueError:\n",
        "      print(\"Erro\")\n",
        "    except:\n",
        "      print(\"Zé da mangá\")\n",
        "# Example\n",
        "\n",
        "v = read_int(\"Enter a number from -10 a 10 \", -10, 10)\n",
        "print(\"the number is\", v)"
      ],
      "metadata": {
        "id": "ug28F2RL0jl8"
      },
      "execution_count": null,
      "outputs": []
    },
    {
      "cell_type": "code",
      "source": [
        "# Minha Primeira Classe\n",
        "class TheSimplestClass:\n",
        "  pass"
      ],
      "metadata": {
        "id": "CEmB3hhvvanM"
      },
      "execution_count": null,
      "outputs": []
    },
    {
      "cell_type": "code",
      "source": [
        "# Meu Primeiro Objeto\n",
        "my_first_object = TheSimplestClass"
      ],
      "metadata": {
        "id": "D2Jql1w0xIhS"
      },
      "execution_count": null,
      "outputs": []
    },
    {
      "cell_type": "code",
      "source": [
        "# Stack - Abordagem procesual\n",
        "stack = []\n",
        "\n",
        "def push(val):\n",
        "  stack.append(val)\n",
        "\n",
        "def pop():\n",
        "  val = stack[-1]\n",
        "  del stack[-1]\n",
        "  return val\n",
        "\n",
        "push(3)\n",
        "push(2)\n",
        "push(1)\n",
        "\n",
        "print(pop() )\n",
        "print(pop() )\n",
        "print(pop() )"
      ],
      "metadata": {
        "id": "ec1wNz28xIRq",
        "colab": {
          "base_uri": "https://localhost:8080/"
        },
        "outputId": "93320717-5d9a-4a0a-fc8c-e0a40452a813"
      },
      "execution_count": null,
      "outputs": [
        {
          "output_type": "stream",
          "name": "stdout",
          "text": [
            "1\n",
            "2\n",
            "3\n"
          ]
        }
      ]
    },
    {
      "cell_type": "code",
      "source": [
        "class Stack: # Definindo a stack class\n",
        "  def __init__(self):\n",
        "     print(\"Oi!\")\n",
        "\n",
        "stack_object = Stack()"
      ],
      "metadata": {
        "colab": {
          "base_uri": "https://localhost:8080/"
        },
        "id": "BlSUNAvwbZ1K",
        "outputId": "45aa67b3-ab91-4049-8a73-c6520278a287"
      },
      "execution_count": null,
      "outputs": [
        {
          "output_type": "stream",
          "name": "stdout",
          "text": [
            "Oi!\n",
            "Zé da manga Zé da manga Zé da manga \n"
          ]
        }
      ]
    },
    {
      "cell_type": "code",
      "source": [
        "# Self\n",
        "class Stack:\n",
        "    def __init__(self):\n",
        "        self.stack_list = []\n",
        "\n",
        "\n",
        "stack_object = Stack()\n",
        "print(len(stack_object.stack_list))\n"
      ],
      "metadata": {
        "colab": {
          "base_uri": "https://localhost:8080/"
        },
        "id": "5nr488kw7uPO",
        "outputId": "ae8e7bc4-8376-4d81-d476-e360195847f4"
      },
      "execution_count": null,
      "outputs": [
        {
          "output_type": "stream",
          "name": "stdout",
          "text": [
            "0\n"
          ]
        }
      ]
    },
    {
      "cell_type": "code",
      "source": [
        "# stack_list\n",
        "class Stack:\n",
        "  def __init__(self):\n",
        "    self.__stack_list = []\n",
        "\n",
        "stack_object = Stack()\n",
        "print(len(stack_object.__stack_list))"
      ],
      "metadata": {
        "colab": {
          "base_uri": "https://localhost:8080/",
          "height": 176
        },
        "id": "xU_UvhAw_SpZ",
        "outputId": "5c85e474-abac-4bee-8a94-f9cb24fe050d"
      },
      "execution_count": null,
      "outputs": [
        {
          "output_type": "error",
          "ename": "AttributeError",
          "evalue": "'Stack' object has no attribute '__stack_list'",
          "traceback": [
            "\u001b[0;31m---------------------------------------------------------------------------\u001b[0m",
            "\u001b[0;31mAttributeError\u001b[0m                            Traceback (most recent call last)",
            "\u001b[0;32m<ipython-input-3-1a46d1a8b949>\u001b[0m in \u001b[0;36m<cell line: 7>\u001b[0;34m()\u001b[0m\n\u001b[1;32m      5\u001b[0m \u001b[0;34m\u001b[0m\u001b[0m\n\u001b[1;32m      6\u001b[0m \u001b[0mstack_object\u001b[0m \u001b[0;34m=\u001b[0m \u001b[0mStack\u001b[0m\u001b[0;34m(\u001b[0m\u001b[0;34m)\u001b[0m\u001b[0;34m\u001b[0m\u001b[0;34m\u001b[0m\u001b[0m\n\u001b[0;32m----> 7\u001b[0;31m \u001b[0mprint\u001b[0m\u001b[0;34m(\u001b[0m\u001b[0mlen\u001b[0m\u001b[0;34m(\u001b[0m\u001b[0mstack_object\u001b[0m\u001b[0;34m.\u001b[0m\u001b[0m__stack_list\u001b[0m\u001b[0;34m)\u001b[0m\u001b[0;34m)\u001b[0m\u001b[0;34m\u001b[0m\u001b[0;34m\u001b[0m\u001b[0m\n\u001b[0m",
            "\u001b[0;31mAttributeError\u001b[0m: 'Stack' object has no attribute '__stack_list'"
          ]
        }
      ]
    },
    {
      "cell_type": "code",
      "source": [
        "class Stack:\n",
        "  def __init__(self):\n",
        "    self.__stack_list = []\n",
        "\n",
        "  def push(self, val):\n",
        "    self.__stack_list.append(val)\n",
        "\n",
        "  def pop(self):\n",
        "    val = self.__stack_list[-1]\n",
        "    del self.__stack_list[-1]\n",
        "    return val\n",
        "\n",
        "stack_object = Stack()\n",
        "\n",
        "stack_object.push(3)\n",
        "stack_object.push(2)\n",
        "stack_object.push(1)\n",
        "\n",
        "print(stack_object.pop())\n",
        "print(stack_object.pop())\n",
        "print(stack_object.pop())"
      ],
      "metadata": {
        "colab": {
          "base_uri": "https://localhost:8080/"
        },
        "id": "Wwpkge8hJnLZ",
        "outputId": "978cfe9d-60fa-4e9d-afef-d5accfa4c3ca"
      },
      "execution_count": null,
      "outputs": [
        {
          "output_type": "stream",
          "name": "stdout",
          "text": [
            "1\n",
            "2\n",
            "3\n"
          ]
        }
      ]
    },
    {
      "cell_type": "code",
      "source": [
        "class Stack:\n",
        "  def __init__(self):\n",
        "    self.__stack_list = []\n",
        "\n",
        "  def push(self, val):\n",
        "    self.__stack_list.append(val)\n",
        "\n",
        "  def pop(self):\n",
        "    val = self.__stack_list[-1]\n",
        "    del self.__stack_list[-1]\n",
        "    return val\n",
        "\n",
        "stack_object_1 = Stack()\n",
        "stack_object_2 = Stack()\n",
        "\n",
        "stack_object_1.push(12)\n",
        "stack_object_2.push(stack_object_1.pop())\n",
        "\n",
        "print(stack_object_2.pop())"
      ],
      "metadata": {
        "colab": {
          "base_uri": "https://localhost:8080/"
        },
        "id": "GiA1JvU_Yy8z",
        "outputId": "4bf2a82a-575e-4ec5-f020-e06d3d087a45"
      },
      "execution_count": null,
      "outputs": [
        {
          "output_type": "stream",
          "name": "stdout",
          "text": [
            "23\n"
          ]
        }
      ]
    },
    {
      "cell_type": "code",
      "source": [
        "class Stack:\n",
        "  def __init__(self):\n",
        "    self.__stack_list = []\n",
        "\n",
        "  def push(self, val):\n",
        "    self.__stack_list.append(val)\n",
        "\n",
        "  def pop(self):\n",
        "    val = self.__stack_list[-1]\n",
        "    del self.__stack_list[-1]\n",
        "    return val\n",
        "\n",
        "stack_object_1 = Stack()\n",
        "stack_object_2 = Stack()\n",
        "stack_object_3 = Stack()\n",
        "\n",
        "stack_object_1.push(4)\n",
        "stack_object_2.push(stack_object_1.pop() + 1)\n",
        "stack_object_3.push(stack_object_2.pop() - 2)\n",
        "\n",
        "print(stack_object_3.pop())\n"
      ],
      "metadata": {
        "id": "IHOk1QXycg-H",
        "outputId": "54af5707-e6dc-4d74-a050-f843a9f0d407",
        "colab": {
          "base_uri": "https://localhost:8080/"
        }
      },
      "execution_count": null,
      "outputs": [
        {
          "output_type": "stream",
          "name": "stdout",
          "text": [
            "3\n"
          ]
        }
      ]
    },
    {
      "cell_type": "code",
      "source": [
        "class Stack:\n",
        "  def __init_(self):\n",
        "    self.__Stack_list = []\n",
        "\n",
        "  def push(self, val):\n",
        "    self.__stack_list.append(val)\n",
        "\n",
        "  def pop(self):\n",
        "    val = self.__stack_list[-1]\n",
        "    del self.__stack_list[-1]\n",
        "    return val\n",
        "\n",
        "class AddingStack(Stack):\n",
        "  def __init__(self):\n",
        "    Stack.__init__(self)\n",
        "    self.__sum = 0"
      ],
      "metadata": {
        "id": "di6AZ7-FoyHW"
      },
      "execution_count": null,
      "outputs": []
    },
    {
      "cell_type": "code",
      "source": [
        "class Stack:\n",
        "  def __init__(self):\n",
        "    self.__stackList = []\n",
        "\n",
        "  def push(self, val):\n",
        "    self.__stackList.append(val)\n",
        "\n",
        "  def pop(self):\n",
        "    val = self.__stackList[-1]\n",
        "    del self.__stackList[-1]\n",
        "    return val\n",
        "\n",
        "class AddingStack(Stack):\n",
        "  def __init__(self):\n",
        "    Stack.__init__(self)\n",
        "    self.__sum = 0\n",
        "\n",
        "  def push(self, val):\n",
        "    self.__sum += val\n",
        "    Stack.push(self, val)"
      ],
      "metadata": {
        "id": "jS7SKxrULzX8"
      },
      "execution_count": null,
      "outputs": []
    },
    {
      "cell_type": "code",
      "source": [
        "class Stack:\n",
        "    def __init__(self):\n",
        "        self.__stack_list=[]\n",
        "\n",
        "    def push(self, val):\n",
        "        self.__stack_list.append(val)\n",
        "\n",
        "    def pop(self):\n",
        "        val = self.__stack_list[-1]\n",
        "        del self.__stack_list[-1]\n",
        "        return val\n",
        "\n",
        "class AddingStack(Stack):\n",
        "    def __init__(self):\n",
        "        Stack.__init__(self)\n",
        "        self.__sum = 0\n",
        "\n",
        "    def get_sum(self):\n",
        "        return self.__sum\n",
        "\n",
        "    def push(self, val):\n",
        "        self.__sum += val\n",
        "        Stack.push(self, val)\n",
        "    def pop(self):\n",
        "      val = Stack.pop(self)\n",
        "      self.__sum -= val\n",
        "      return val\n",
        "\n",
        "stack_object = AddingStack()\n",
        "\n",
        "for i in range(5):\n",
        "  stack_object.push(i)\n",
        "\n",
        "print(stack_object.get_sum())\n",
        "\n",
        "for i in range(5):\n",
        "  print(stack_object.pop())"
      ],
      "metadata": {
        "colab": {
          "base_uri": "https://localhost:8080/"
        },
        "id": "vyn3iCIDPMQr",
        "outputId": "affbb771-f164-453c-97f5-e6a5e22bce6e"
      },
      "execution_count": null,
      "outputs": [
        {
          "output_type": "stream",
          "name": "stdout",
          "text": [
            "10\n",
            "4\n",
            "3\n",
            "2\n",
            "1\n",
            "0\n"
          ]
        }
      ]
    },
    {
      "cell_type": "code",
      "source": [
        "class Stack:\n",
        "    def __init__(self):\n",
        "      self.__stk = []\n",
        "\n",
        "    def push(self, val):\n",
        "      self.__stk.append(val)\n",
        "\n",
        "    def pop(self):\n",
        "      val = self.__stk[-1]\n",
        "      del self.__stk[-1]\n",
        "      return val\n",
        "\n",
        "class CountingStack(Stack):\n",
        "    def __init__(self):\n",
        "      Stack.__init__(self)\n",
        "      self.__counter = 0\n",
        "\n",
        "    def get_counter(self):\n",
        "      return self.__counter\n",
        "\n",
        "    def pop(self):\n",
        "      self.__counter += 1\n",
        "      return Stack.pop(self)\n",
        "\n",
        "stk = CountingStack()\n",
        "for i in range(100):\n",
        "  stk.push(i)\n",
        "  stk.pop()\n",
        "print(stk.get_counter())"
      ],
      "metadata": {
        "id": "LiBIITxbTk0U",
        "outputId": "5048dae9-1fe1-4bf4-829b-ddd980f1b4c9",
        "colab": {
          "base_uri": "https://localhost:8080/"
        }
      },
      "execution_count": null,
      "outputs": [
        {
          "output_type": "stream",
          "name": "stdout",
          "text": [
            "100\n"
          ]
        }
      ]
    },
    {
      "cell_type": "code",
      "source": [
        "class QueueErro(Exception):\n",
        "  pass\n",
        "\n",
        "class Queue:\n",
        "    def __init__(self):\n",
        "      self.__queue_list = []\n",
        "\n",
        "    def put(self, elem):\n",
        "        self.__queue_list.insert(0, elem)\n",
        "\n",
        "    def get(self):\n",
        "        if not self.__queue_list:\n",
        "            raise QueueError(\"Queue is empty!\")\n",
        "        return self.__queue_list.pop()\n",
        "\n",
        "    def is_empty(self):\n",
        "      return not self.__queue_list\n",
        "\n",
        "que = Queue()\n",
        "que.put(1)\n",
        "que.put(\"dog\")\n",
        "que.put(False)\n",
        "\n",
        "print(que.is_empty())\n",
        "\n",
        "try:\n",
        "    for i in range(4):\n",
        "        print(que.get())\n",
        "\n",
        "except:\n",
        "  print(\"Queue error\")"
      ],
      "metadata": {
        "id": "QzFl_6UXoSYP",
        "outputId": "e1941a0c-12c4-4347-8375-d89bcea4a8db",
        "colab": {
          "base_uri": "https://localhost:8080/"
        }
      },
      "execution_count": null,
      "outputs": [
        {
          "output_type": "stream",
          "name": "stdout",
          "text": [
            "False\n",
            "1\n",
            "dog\n",
            "False\n",
            "Queue error\n"
          ]
        }
      ]
    },
    {
      "cell_type": "code",
      "source": [
        "# Variavel de estância\n",
        "class ExampleClass:\n",
        "    def __init__(self, val = 1):\n",
        "        self.first = val\n",
        "\n",
        "    def set_second(self, val):\n",
        "        self.second = val\n",
        "\n",
        "example_object_1 = ExampleClass(1)\n",
        "example_object_2 = ExampleClass(2)\n",
        "\n",
        "example_object_2.set_second(3)\n",
        "\n",
        "example_object_3 = ExampleClass(4)\n",
        "example_object_3.third = 5\n",
        "\n",
        "print(example_object_1.__dict__)\n",
        "print(example_object_2.__dict__)\n",
        "print(example_object_3.__dict__)"
      ],
      "metadata": {
        "id": "5NrjC5kSww6g",
        "outputId": "aa663a52-2c47-46ec-ec67-f5a50d41b8b2",
        "colab": {
          "base_uri": "https://localhost:8080/"
        }
      },
      "execution_count": null,
      "outputs": [
        {
          "output_type": "stream",
          "name": "stdout",
          "text": [
            "{'first': 1}\n",
            "{'first': 2, 'second': 3}\n",
            "{'first': 4, 'third': 5}\n"
          ]
        }
      ]
    },
    {
      "cell_type": "code",
      "source": [
        "class ExampleClass:\n",
        "    def __init__(self, val = 1):\n",
        "        self.__first = val\n",
        "\n",
        "    def set_second(self, val = 2):\n",
        "        self.__second = val\n",
        "\n",
        "\n",
        "example_object_1 = ExampleClass()\n",
        "example_object_2 = ExampleClass(2)\n",
        "\n",
        "example_object_2.set_second(3)\n",
        "\n",
        "example_object_3 = ExampleClass(4)\n",
        "example_object_3.__third = 5\n",
        "\n",
        "\n",
        "print(example_object_1._ExampleClass__first)\n",
        "print(example_object_2.__dict__)\n",
        "print(example_object_3.__dict__)\n"
      ],
      "metadata": {
        "id": "Jotx5cJb5gm1",
        "outputId": "db371187-fc9a-4516-a09a-bbbcd13b1560",
        "colab": {
          "base_uri": "https://localhost:8080/"
        }
      },
      "execution_count": null,
      "outputs": [
        {
          "output_type": "stream",
          "name": "stdout",
          "text": [
            "1\n",
            "{'_ExampleClass__first': 2, '_ExampleClass__second': 3}\n",
            "{'_ExampleClass__first': 4, '__third': 5}\n"
          ]
        }
      ]
    },
    {
      "cell_type": "code",
      "source": [
        "class ExampleClass:\n",
        "     counter = 0\n",
        "     def __init__(self, val = 1):\n",
        "         self.__first = val\n",
        "         ExampleClass.counter += 1\n",
        "\n",
        "example_object_1 = ExampleClass()\n",
        "example_object_2 = ExampleClass(2)\n",
        "example_object_3 = ExampleClass(4)\n",
        "\n",
        "print(example_object_1.__dict__, example_object_1.counter)\n",
        "print(example_object_2.__dict__, example_object_2.counter)\n",
        "print(example_object_3.__dict__, example_object_3.counter)"
      ],
      "metadata": {
        "id": "qscAVnIY7aHf",
        "outputId": "1efa7baa-643a-4a29-ab58-2be4a5501d1a",
        "colab": {
          "base_uri": "https://localhost:8080/"
        }
      },
      "execution_count": null,
      "outputs": [
        {
          "output_type": "stream",
          "name": "stdout",
          "text": [
            "{'_ExampleClass__first': 1} 3\n",
            "{'_ExampleClass__first': 2} 3\n",
            "{'_ExampleClass__first': 4} 3\n"
          ]
        }
      ]
    },
    {
      "cell_type": "code",
      "source": [
        "class ExampleClass:\n",
        "  varia = 1\n",
        "  def __init__(self, val):\n",
        "      ExampleClass.varia = val\n",
        "\n",
        "print(ExampleClass.__dict__)\n",
        "example_object = ExampleClass(2)\n",
        "\n",
        "print(ExampleClass.__dict__)\n",
        "print(example_object.__dict__)"
      ],
      "metadata": {
        "colab": {
          "base_uri": "https://localhost:8080/"
        },
        "id": "JK09_1AQiRBC",
        "outputId": "274135f2-71ad-4a95-f39c-cd11b5169c0b"
      },
      "execution_count": null,
      "outputs": [
        {
          "output_type": "stream",
          "name": "stdout",
          "text": [
            "{'__module__': '__main__', 'varia': 1, '__init__': <function ExampleClass.__init__ at 0x79107e21c0d0>, '__dict__': <attribute '__dict__' of 'ExampleClass' objects>, '__weakref__': <attribute '__weakref__' of 'ExampleClass' objects>, '__doc__': None}\n",
            "{'__module__': '__main__', 'varia': 2, '__init__': <function ExampleClass.__init__ at 0x79107e21c0d0>, '__dict__': <attribute '__dict__' of 'ExampleClass' objects>, '__weakref__': <attribute '__weakref__' of 'ExampleClass' objects>, '__doc__': None}\n",
            "{}\n"
          ]
        }
      ]
    },
    {
      "cell_type": "code",
      "source": [
        "class ExampleClass:\n",
        "  def __init__(self, val):\n",
        "      if val % 2 != 0:\n",
        "          self.a = 1\n",
        "      else:\n",
        "          self.b = 1\n",
        "\n",
        "example_object = ExampleClass(1)\n",
        "\n",
        "print(example_object.a)\n",
        "print(example_object.b)"
      ],
      "metadata": {
        "colab": {
          "base_uri": "https://localhost:8080/",
          "height": 193
        },
        "id": "3p1f2Blwkjtn",
        "outputId": "6e023cea-5569-4b95-844d-5b5859664ee0"
      },
      "execution_count": null,
      "outputs": [
        {
          "output_type": "stream",
          "name": "stdout",
          "text": [
            "1\n"
          ]
        },
        {
          "output_type": "error",
          "ename": "AttributeError",
          "evalue": "'ExampleClass' object has no attribute 'b'",
          "traceback": [
            "\u001b[0;31m---------------------------------------------------------------------------\u001b[0m",
            "\u001b[0;31mAttributeError\u001b[0m                            Traceback (most recent call last)",
            "\u001b[0;32m<ipython-input-5-d562b60c8a46>\u001b[0m in \u001b[0;36m<cell line: 11>\u001b[0;34m()\u001b[0m\n\u001b[1;32m      9\u001b[0m \u001b[0;34m\u001b[0m\u001b[0m\n\u001b[1;32m     10\u001b[0m \u001b[0mprint\u001b[0m\u001b[0;34m(\u001b[0m\u001b[0mexample_object\u001b[0m\u001b[0;34m.\u001b[0m\u001b[0ma\u001b[0m\u001b[0;34m)\u001b[0m\u001b[0;34m\u001b[0m\u001b[0;34m\u001b[0m\u001b[0m\n\u001b[0;32m---> 11\u001b[0;31m \u001b[0mprint\u001b[0m\u001b[0;34m(\u001b[0m\u001b[0mexample_object\u001b[0m\u001b[0;34m.\u001b[0m\u001b[0mb\u001b[0m\u001b[0;34m)\u001b[0m\u001b[0;34m\u001b[0m\u001b[0;34m\u001b[0m\u001b[0m\n\u001b[0m",
            "\u001b[0;31mAttributeError\u001b[0m: 'ExampleClass' object has no attribute 'b'"
          ]
        }
      ]
    },
    {
      "cell_type": "code",
      "source": [
        "class ExampleClass:\n",
        "  def __init__(self, val):\n",
        "      if val % 2 != 0:\n",
        "          self.a = 1\n",
        "      else:\n",
        "          self.b = 1\n",
        "\n",
        "example_object = ExampleClass(1)\n",
        "print(example_object.a)\n",
        "\n",
        "try:\n",
        "  print(example_object.b)\n",
        "except AttributeError:\n",
        "  pass"
      ],
      "metadata": {
        "colab": {
          "base_uri": "https://localhost:8080/"
        },
        "id": "ORvdFJDCnC7s",
        "outputId": "82d2df42-e4ab-4a53-c680-4ca53f14ba9c"
      },
      "execution_count": null,
      "outputs": [
        {
          "output_type": "stream",
          "name": "stdout",
          "text": [
            "1\n"
          ]
        }
      ]
    },
    {
      "cell_type": "code",
      "source": [
        "class ExampleClass:\n",
        "  def __init__(self, val):\n",
        "      if val % 2 != 0:\n",
        "          self.a = 1\n",
        "      else:\n",
        "          self.b = 1\n",
        "\n",
        "example_object = ExampleClass(1)\n",
        "print(example_object.a)\n",
        "\n",
        "if hasattr (example_object,'b'):\n",
        "  print(example_object.b)"
      ],
      "metadata": {
        "colab": {
          "base_uri": "https://localhost:8080/"
        },
        "id": "2G1h3iYUnzMf",
        "outputId": "571204ec-92c2-46ff-87e5-baf6ce6f42e0"
      },
      "execution_count": null,
      "outputs": [
        {
          "output_type": "stream",
          "name": "stdout",
          "text": [
            "1\n"
          ]
        }
      ]
    },
    {
      "cell_type": "code",
      "source": [
        "class ExampleClass:\n",
        "    attr = 1\n",
        "\n",
        "print(hasattr(ExampleClass, 'attr'))\n",
        "print(hasattr(ExampleClass,'poop'))"
      ],
      "metadata": {
        "colab": {
          "base_uri": "https://localhost:8080/"
        },
        "id": "OI400_RNrjQi",
        "outputId": "0d9443c1-8ec3-4469-8b48-8f787349db06"
      },
      "execution_count": null,
      "outputs": [
        {
          "output_type": "stream",
          "name": "stdout",
          "text": [
            "True\n",
            "False\n"
          ]
        }
      ]
    },
    {
      "cell_type": "code",
      "source": [
        "class ExampleClass:\n",
        "    a = 1\n",
        "    def __init__(self):\n",
        "        self.b = 2\n",
        "\n",
        "example_object = ExampleClass()\n",
        "\n",
        "print(hasattr(example_object,'b'))\n",
        "print(hasattr(example_object,'a'))\n",
        "print(hasattr(ExampleClass,'b'))\n",
        "print(hasattr(ExampleClass,'a'))"
      ],
      "metadata": {
        "colab": {
          "base_uri": "https://localhost:8080/"
        },
        "id": "oVRdILJtzLF7",
        "outputId": "480869c3-2740-409a-95b4-2080b4c210a3"
      },
      "execution_count": null,
      "outputs": [
        {
          "output_type": "stream",
          "name": "stdout",
          "text": [
            "True\n",
            "True\n",
            "False\n",
            "True\n"
          ]
        }
      ]
    },
    {
      "cell_type": "code",
      "source": [
        "class Classy:\n",
        "    def method(self):\n",
        "        print('method')\n",
        "\n",
        "obj = Classy()\n",
        "obj.method"
      ],
      "metadata": {
        "colab": {
          "base_uri": "https://localhost:8080/",
          "height": 103
        },
        "id": "sbzXgZPjkO1l",
        "outputId": "ff08932a-63b5-4853-e5f3-9a32c4b907e6"
      },
      "execution_count": null,
      "outputs": [
        {
          "output_type": "execute_result",
          "data": {
            "text/plain": [
              "<bound method Classy.method of <__main__.Classy object at 0x7c4e2e279de0>>"
            ],
            "text/html": [
              "<div style=\"max-width:800px; border: 1px solid var(--colab-border-color);\"><style>\n",
              "      pre.function-repr-contents {\n",
              "        overflow-x: auto;\n",
              "        padding: 8px 12px;\n",
              "        max-height: 500px;\n",
              "      }\n",
              "\n",
              "      pre.function-repr-contents.function-repr-contents-collapsed {\n",
              "        cursor: pointer;\n",
              "        max-height: 100px;\n",
              "      }\n",
              "    </style>\n",
              "    <pre style=\"white-space: initial; background:\n",
              "         var(--colab-secondary-surface-color); padding: 8px 12px;\n",
              "         border-bottom: 1px solid var(--colab-border-color);\"><b>Classy.method</b><br/>def method()</pre><pre class=\"function-repr-contents function-repr-contents-collapsed\" style=\"\"><a class=\"filepath\" style=\"display:none\" href=\"#\">/content/&lt;ipython-input-3-3130fd1a83c7&gt;</a>&lt;no docstring&gt;</pre></div>"
            ]
          },
          "metadata": {},
          "execution_count": 3
        }
      ]
    },
    {
      "cell_type": "code",
      "source": [
        "class Classy:\n",
        "    def method(self, par):\n",
        "        print(\"method:\", par)\n",
        "\n",
        "obj = Classy()\n",
        "obj.method(1)\n",
        "obj.method(2)\n",
        "obj.method(3)"
      ],
      "metadata": {
        "colab": {
          "base_uri": "https://localhost:8080/"
        },
        "id": "OvbpMlPgmGNt",
        "outputId": "b0ae56da-28ab-427c-ddf0-f014e2e64509"
      },
      "execution_count": null,
      "outputs": [
        {
          "output_type": "stream",
          "name": "stdout",
          "text": [
            "method: 1\n",
            "method: 2\n",
            "method: 3\n"
          ]
        }
      ]
    },
    {
      "cell_type": "code",
      "source": [
        "class Classy:\n",
        "    varia = 2\n",
        "    def method(self):\n",
        "        print(self.varia, self.var)\n",
        "\n",
        "\n",
        "obj = Classy()\n",
        "obj.var = 3\n",
        "obj.method()\n",
        "\n"
      ],
      "metadata": {
        "id": "St8oQBSlmnOU"
      },
      "execution_count": null,
      "outputs": []
    },
    {
      "cell_type": "code",
      "source": [
        "class Classy:\n",
        "    def other(self):\n",
        "        print(\"other\")\n",
        "\n",
        "    def method(self):\n",
        "        print(\"method\")\n",
        "        self.other()\n",
        "\n",
        "\n",
        "obj = Classy()\n",
        "obj.method()\n",
        "\n",
        "\n"
      ],
      "metadata": {
        "id": "T_yTU3u0mpYk"
      },
      "execution_count": null,
      "outputs": []
    },
    {
      "cell_type": "code",
      "source": [
        "class Classy:\n",
        "    varia = 2\n",
        "    def method(self):\n",
        "        print(self.varia, self.var)\n",
        "\n",
        "obj = Classy()\n",
        "obj.var = 3\n",
        "obj.method()"
      ],
      "metadata": {
        "colab": {
          "base_uri": "https://localhost:8080/"
        },
        "id": "wHMC7DG5Vbeo",
        "outputId": "433c9c6e-ac87-4638-8010-953c9062d132"
      },
      "execution_count": null,
      "outputs": [
        {
          "output_type": "stream",
          "name": "stdout",
          "text": [
            "2 3\n"
          ]
        }
      ]
    },
    {
      "cell_type": "code",
      "source": [
        "class Classy:\n",
        "    def other(self):\n",
        "        print(\"other\")\n",
        "\n",
        "    def method(self):\n",
        "        print(\"method\")\n",
        "        self.other()\n",
        "\n",
        "\n",
        "obj = Classy()\n",
        "obj.method()\n"
      ],
      "metadata": {
        "colab": {
          "base_uri": "https://localhost:8080/"
        },
        "id": "26yNwBMpjo6s",
        "outputId": "f6dd2427-717c-4bd5-bc13-cabd31276881"
      },
      "execution_count": null,
      "outputs": [
        {
          "output_type": "stream",
          "name": "stdout",
          "text": [
            "method\n",
            "other\n"
          ]
        }
      ]
    },
    {
      "cell_type": "code",
      "source": [
        "class Classy:\n",
        "    def __init__(self, value):\n",
        "        self.var = value\n",
        "\n",
        "\n",
        "obj_1 = Classy(\"object\")\n",
        "\n",
        "print(obj_1.var)"
      ],
      "metadata": {
        "colab": {
          "base_uri": "https://localhost:8080/"
        },
        "id": "t-NX2im4mM33",
        "outputId": "02f3153b-e2b9-4570-b449-b9d122bcf000"
      },
      "execution_count": null,
      "outputs": [
        {
          "output_type": "stream",
          "name": "stdout",
          "text": [
            "object\n"
          ]
        }
      ]
    },
    {
      "cell_type": "code",
      "source": [
        "class Classy:\n",
        "  def __init__(self, value = None):\n",
        "      self.var = value\n",
        "\n",
        "\n",
        "obj_1 = Classy(\"object\")\n",
        "obj_2 = Classy()\n",
        "\n",
        "print(obj_1.var)\n",
        "print(obj_2.var)"
      ],
      "metadata": {
        "id": "wo_euPRqm6kl",
        "outputId": "bcc97de0-c776-44b6-ec29-3a7faafe4c6d",
        "colab": {
          "base_uri": "https://localhost:8080/"
        }
      },
      "execution_count": null,
      "outputs": [
        {
          "output_type": "stream",
          "name": "stdout",
          "text": [
            "object\n",
            "None\n"
          ]
        }
      ]
    },
    {
      "cell_type": "code",
      "source": [
        "class Classy:\n",
        "    def visible(self):\n",
        "        print(\"visible\")\n",
        "\n",
        "    def __hidden(self):\n",
        "        print(\"hidden\")\n",
        "\n",
        "\n",
        "obj = Classy()\n",
        "obj.visible()\n",
        "\n",
        "try:\n",
        "    obj.__hidden()\n",
        "except:\n",
        "    print(\"failed\")\n",
        "\n",
        "obj._Classy__hidden()"
      ],
      "metadata": {
        "id": "4bS_TMXaw5-0"
      },
      "execution_count": null,
      "outputs": []
    },
    {
      "cell_type": "code",
      "source": [
        "class Classy:\n",
        "    pass\n",
        "class B:\n",
        "    pass\n",
        "\n",
        "print(B.__name__)\n",
        "print(Classy.__name__)\n",
        "obj = Classy()\n",
        "print(type(obj).__name__)\n",
        "print(obj.__name__)"
      ],
      "metadata": {
        "colab": {
          "base_uri": "https://localhost:8080/",
          "height": 228
        },
        "id": "Gpb3pd9bgQiC",
        "outputId": "d1987f8a-ef5d-40d0-a6f4-9b1f868cd18c"
      },
      "execution_count": null,
      "outputs": [
        {
          "output_type": "stream",
          "name": "stdout",
          "text": [
            "B\n",
            "Classy\n",
            "Classy\n"
          ]
        },
        {
          "output_type": "error",
          "ename": "AttributeError",
          "evalue": "'Classy' object has no attribute '__name__'",
          "traceback": [
            "\u001b[0;31m---------------------------------------------------------------------------\u001b[0m",
            "\u001b[0;31mAttributeError\u001b[0m                            Traceback (most recent call last)",
            "\u001b[0;32m<ipython-input-35-469f5a83f5d4>\u001b[0m in \u001b[0;36m<cell line: 10>\u001b[0;34m()\u001b[0m\n\u001b[1;32m      8\u001b[0m \u001b[0mobj\u001b[0m \u001b[0;34m=\u001b[0m \u001b[0mClassy\u001b[0m\u001b[0;34m(\u001b[0m\u001b[0;34m)\u001b[0m\u001b[0;34m\u001b[0m\u001b[0;34m\u001b[0m\u001b[0m\n\u001b[1;32m      9\u001b[0m \u001b[0mprint\u001b[0m\u001b[0;34m(\u001b[0m\u001b[0mtype\u001b[0m\u001b[0;34m(\u001b[0m\u001b[0mobj\u001b[0m\u001b[0;34m)\u001b[0m\u001b[0;34m.\u001b[0m\u001b[0m__name__\u001b[0m\u001b[0;34m)\u001b[0m\u001b[0;34m\u001b[0m\u001b[0;34m\u001b[0m\u001b[0m\n\u001b[0;32m---> 10\u001b[0;31m \u001b[0mprint\u001b[0m\u001b[0;34m(\u001b[0m\u001b[0mobj\u001b[0m\u001b[0;34m.\u001b[0m\u001b[0m__name__\u001b[0m\u001b[0;34m)\u001b[0m\u001b[0;34m\u001b[0m\u001b[0;34m\u001b[0m\u001b[0m\n\u001b[0m",
            "\u001b[0;31mAttributeError\u001b[0m: 'Classy' object has no attribute '__name__'"
          ]
        }
      ]
    },
    {
      "cell_type": "code",
      "source": [
        "class Classy:\n",
        "  pass\n",
        "\n",
        "print(Classy.__module__)\n",
        "obj = Classy()\n",
        "print(obj.__module__)"
      ],
      "metadata": {
        "colab": {
          "base_uri": "https://localhost:8080/"
        },
        "id": "aqVsIWh1iPwz",
        "outputId": "000f27f5-8b26-42c9-a3fc-d9aead2d9dac"
      },
      "execution_count": null,
      "outputs": [
        {
          "output_type": "stream",
          "name": "stdout",
          "text": [
            "__main__\n",
            "__main__\n"
          ]
        }
      ]
    },
    {
      "cell_type": "code",
      "source": [
        "class SuperOne:\n",
        "    pass\n",
        "\n",
        "class SuperTwo:\n",
        "    pass\n",
        "\n",
        "class Sub(SuperOne, SuperTwo):\n",
        "    pass\n",
        "\n",
        "def printBases(cls):\n",
        "    print('( ', end='')\n",
        "\n",
        "    for x in cls.__bases__:\n",
        "        print(x.__name__, end=' ')\n",
        "    print(')')\n",
        "\n",
        "printBases(SuperOne)\n",
        "printBases(SuperTwo)\n",
        "printBases(Sub)"
      ],
      "metadata": {
        "colab": {
          "base_uri": "https://localhost:8080/"
        },
        "id": "BBnhu_3nkUUg",
        "outputId": "098db65e-9886-4d5c-8dee-6188dac9ee66"
      },
      "execution_count": null,
      "outputs": [
        {
          "output_type": "stream",
          "name": "stdout",
          "text": [
            "( object )\n",
            "( object )\n",
            "( SuperOne SuperTwo )\n"
          ]
        }
      ]
    },
    {
      "cell_type": "code",
      "source": [
        "class MyClass:\n",
        "    pass\n",
        "\n",
        "obj = MyClass()\n",
        "obj.a = 1\n",
        "obj.b = 2\n",
        "obj.i = 3\n",
        "obj.ireal = 3.5\n",
        "obj.integer = 4\n",
        "obj.z = 5\n",
        "\n",
        "\n",
        "def incIntsI(obj):\n",
        "    for name in obj.__dict__.keys():\n",
        "        if name.startswith('i'):\n",
        "            val = getattr(obj, name)\n",
        "            if isinstance(val, int):\n",
        "                setattr(obj, name, val + 1)\n",
        "\n",
        "\n",
        "print(obj.__dict__)\n",
        "incIntsI(obj)\n",
        "print(obj.__dict__)"
      ],
      "metadata": {
        "colab": {
          "base_uri": "https://localhost:8080/"
        },
        "id": "Y1PKDz3VjNgC",
        "outputId": "f05cd9aa-02de-46b7-cc72-bde3474ca694"
      },
      "execution_count": null,
      "outputs": [
        {
          "output_type": "stream",
          "name": "stdout",
          "text": [
            "{'a': 1, 'b': 2, 'i': 3, 'ireal': 3.5, 'integer': 4, 'z': 5}\n",
            "{'a': 1, 'b': 2, 'i': 4, 'ireal': 3.5, 'integer': 5, 'z': 5}\n"
          ]
        }
      ]
    },
    {
      "cell_type": "code",
      "source": [
        "class Timer:\n",
        "    def __init__(self, hours=0, minutes=0, seconds=0):\n",
        "        self.hours = hours\n",
        "        self.minutes = minutes\n",
        "        self.seconds = seconds\n",
        "\n",
        "    def __str__(self):\n",
        "        return f\"{self.hours:02d}:{self.minutes:02d}:{self.seconds:02d}\"\n",
        "\n",
        "    def next_second(self):\n",
        "        self.seconds += 1\n",
        "        if self.seconds == 60:\n",
        "            self.seconds = 0\n",
        "            self.minutes += 1\n",
        "            if self.minutes == 60:\n",
        "                self.minutes = 0\n",
        "                self.hours += 1\n",
        "                if self.hours == 24:\n",
        "                    self.hours = 0\n",
        "\n",
        "    def prev_second(self):\n",
        "        self.seconds -= 1\n",
        "        if self.seconds == -1:\n",
        "            self.seconds = 59\n",
        "            self.minutes -= 1\n",
        "            if self.minutes == -1:\n",
        "                self.minutes = 59\n",
        "                self.hours -= 1\n",
        "                if self.hours == -1:\n",
        "                    self.hours = 23\n",
        "\n",
        "\n",
        "timer = Timer(23, 59, 59)\n",
        "print(timer)\n",
        "timer.next_second()\n",
        "print(timer)\n",
        "timer.prev_second()\n",
        "print(timer)\n"
      ],
      "metadata": {
        "colab": {
          "base_uri": "https://localhost:8080/"
        },
        "id": "1NwiSZeolYe8",
        "outputId": "effc013c-916f-4fb5-ff92-6dd2482630d2"
      },
      "execution_count": null,
      "outputs": [
        {
          "output_type": "stream",
          "name": "stdout",
          "text": [
            "23:59:59\n",
            "00:00:00\n",
            "23:59:59\n"
          ]
        }
      ]
    },
    {
      "cell_type": "code",
      "source": [
        "class WeekDayError(Exception):\n",
        "    pass\n",
        "\n",
        "class Weeker:\n",
        "    _days_of_week = ['Mon', 'Tue', 'Wed', 'Thu', 'Fri', 'Sat', 'Sun']\n",
        "\n",
        "    def __init__(self, day):\n",
        "        if day not in self._days_of_week:\n",
        "            raise WeekDayError(\"Invalid day of the week\")\n",
        "        self._day = day\n",
        "\n",
        "    def __str__(self):\n",
        "        return f\"Da'y of the week: {self._day}\"\n",
        "\n",
        "    def add_days(self, n):\n",
        "        current_index = self._days_of_week.index(self._day)\n",
        "        new_index = (current_index + n) % 7\n",
        "        self._day = self._days_of_week[new_index]\n",
        "\n",
        "    def subtract_days(self, n):\n",
        "        current_index = self._days_of_week.index(self._day)\n",
        "        new_index = (current_index - n) % 7\n",
        "        self._day = self._days_of_week[new_index]\n",
        "\n",
        "\n",
        "try:\n",
        "    weekday = Weeker('Mon')\n",
        "    print(weekday)\n",
        "    weekday.add_days(15)\n",
        "    print(weekday)\n",
        "    weekday.subtract_days(23)\n",
        "    print(weekday)\n",
        "    weekday = Weeker('Monday')\n",
        "except WeekDayError:\n",
        "    print(\"Sorry, I can't serve your request.\")"
      ],
      "metadata": {
        "colab": {
          "base_uri": "https://localhost:8080/"
        },
        "id": "eQCxm5kfqMQV",
        "outputId": "74571f3a-4fb5-4188-95ea-f43406760250"
      },
      "execution_count": null,
      "outputs": [
        {
          "output_type": "stream",
          "name": "stdout",
          "text": [
            "Day of the week: Mon\n",
            "Day of the week: Tue\n",
            "Day of the week: Sun\n",
            "Sorry, I can't serve your request.\n"
          ]
        }
      ]
    },
    {
      "cell_type": "code",
      "source": [
        "import math\n",
        "\n",
        "class Point:\n",
        "    def __init__(self, x=0.0, y=0.0):\n",
        "        self._x = x\n",
        "        self._y = y\n",
        "\n",
        "    def getx(self):\n",
        "        return self._x\n",
        "\n",
        "    def gety(self):\n",
        "        return self._y\n",
        "\n",
        "    def distance_from_xy(self, x, y):\n",
        "        return math.hypot(self._x - x, self._y - y)\n",
        "\n",
        "    def distance_from_point(self, point):\n",
        "        return math.hypot(self._x - point.getx(), self._y - point.gety())\n",
        "\n",
        "point1 = Point(0, 0)\n",
        "point2 = Point(1, 1)\n",
        "print(point1.distance_from_point(point2))\n",
        "print(point2.distance_from_xy(2, 0))\n"
      ],
      "metadata": {
        "colab": {
          "base_uri": "https://localhost:8080/"
        },
        "id": "TQ6WEmpUtDzC",
        "outputId": "d6fd14da-1933-4513-884a-91fe0447f50e"
      },
      "execution_count": null,
      "outputs": [
        {
          "output_type": "stream",
          "name": "stdout",
          "text": [
            "1.4142135623730951\n",
            "1.4142135623730951\n"
          ]
        }
      ]
    },
    {
      "cell_type": "code",
      "source": [
        "import math\n",
        "\n",
        "class Point:\n",
        "    def __init__(self, x=0.0, y=0.0):\n",
        "        self.__x = x\n",
        "        self.__y = y\n",
        "\n",
        "    def get_x(self):\n",
        "        return self.__x\n",
        "\n",
        "    def get_y(self):\n",
        "        return self.__y\n",
        "\n",
        "class Triangle:\n",
        "    def __init__(self, vertice1, vertice2, vertice3):\n",
        "        self.__vertices = [vertice1, vertice2, vertice3]\n",
        "\n",
        "    def perimeter(self):\n",
        "        dist1 = math.hypot(self.__vertices[0].get_x() - self.__vertices[1].get_x(),\n",
        "                           self.__vertices[0].get_y() - self.__vertices[1].get_y())\n",
        "        dist2 = math.hypot(self.__vertices[1].get_x() - self.__vertices[2].get_x(),\n",
        "                           self.__vertices[1].get_y() - self.__vertices[2].get_y())\n",
        "        dist3 = math.hypot(self.__vertices[2].get_x() - self.__vertices[0].get_x(),\n",
        "                           self.__vertices[2].get_y() - self.__vertices[0].get_y())\n",
        "        return dist1 + dist2 + dist3\n",
        "\n",
        "triangle = Triangle(Point(0, 0), Point(1, 0), Point(0, 1))\n",
        "print(triangle.perimeter())\n"
      ],
      "metadata": {
        "colab": {
          "base_uri": "https://localhost:8080/"
        },
        "id": "GSoSJVaFwQrD",
        "outputId": "005f26e1-0409-4ba6-eeae-50aed4c29177"
      },
      "execution_count": null,
      "outputs": [
        {
          "output_type": "stream",
          "name": "stdout",
          "text": [
            "3.414213562373095\n"
          ]
        }
      ]
    },
    {
      "cell_type": "code",
      "source": [
        "class Star:\n",
        "    def __init__(self, name, galaxy):\n",
        "        self.name = name\n",
        "        self.galaxy = galaxy\n",
        "\n",
        "sun = Star(\"Sun\", \"Milk Way\")\n",
        "print(sun)"
      ],
      "metadata": {
        "id": "tWv9y6P62Qm2",
        "outputId": "21679a51-050a-4638-ff92-f6dc98771662",
        "colab": {
          "base_uri": "https://localhost:8080/"
        }
      },
      "execution_count": null,
      "outputs": [
        {
          "output_type": "stream",
          "name": "stdout",
          "text": [
            "<__main__.Star object at 0x782eaf41bfa0>\n"
          ]
        }
      ]
    },
    {
      "cell_type": "code",
      "source": [
        "class Star:\n",
        "    def __init__(self, name, galaxy):\n",
        "        self.name = name\n",
        "        self.galaxy = galaxy\n",
        "\n",
        "    def __str__(self):\n",
        "        return self.name + ' in ' + self.galaxy\n",
        "\n",
        "sun = Star(\"Sun\", \"Milky Way\")\n",
        "print(sun)"
      ],
      "metadata": {
        "id": "FACxFOuT3QFM",
        "outputId": "aa706559-0e76-423a-db15-6487709618d3",
        "colab": {
          "base_uri": "https://localhost:8080/"
        }
      },
      "execution_count": null,
      "outputs": [
        {
          "output_type": "stream",
          "name": "stdout",
          "text": [
            "Sun in Milky Way\n"
          ]
        }
      ]
    },
    {
      "cell_type": "code",
      "source": [
        "#Herança\n",
        "\n",
        "class Vehicle: #Super Classe\n",
        "    pass\n",
        "\n",
        "class LandVehicle: # SubClasse de Vehicle e Super Classe de Tracked\n",
        "    pass\n",
        "\n",
        "class TrackedVehicle:# SubClasse de Vehicle e Tracked\n",
        "    pass\n",
        "\n",
        "for cls1 in [Vehicle, LandVehicle, TrackedVehicle]:\n",
        "    for cls2 in [Vehicle, LandVehicle, TrackedVehicle]:\n",
        "        print(issubclass(cls1, cls2), end=\"\\t\")\n",
        "    print()"
      ],
      "metadata": {
        "id": "_VWWKTmt8xSV",
        "colab": {
          "base_uri": "https://localhost:8080/"
        },
        "outputId": "badad1de-f7f8-43a2-f592-f7ee5561bf5b"
      },
      "execution_count": null,
      "outputs": [
        {
          "output_type": "stream",
          "name": "stdout",
          "text": [
            "True\tFalse\tFalse\t\n",
            "False\tTrue\tFalse\t\n",
            "False\tFalse\tTrue\t\n"
          ]
        }
      ]
    },
    {
      "cell_type": "code",
      "source": [
        "class Vehicle: #Super Classe\n",
        "    pass\n",
        "\n",
        "class LandVehicle: # SubClasse de Vehicle e Super Classe de Tracked\n",
        "    pass\n",
        "\n",
        "class TrackedVehicle:# SubClasse de Vehicle e Tracked\n",
        "    pass\n",
        "\n",
        "my_vehicle = Vehicle()\n",
        "my_land_vehicle = LandVehicle()\n",
        "my_tracked_vehicle = TrackedVehicle()\n",
        "\n",
        "for obj in (my_vehicle, my_land_vehicle, my_tracked_vehicle):\n",
        "    for cls in [Vehicle, LandVehicle, TrackedVehicle]:\n",
        "        print(isinstance(obj, cls), end=' ')\n",
        "    print()"
      ],
      "metadata": {
        "colab": {
          "base_uri": "https://localhost:8080/"
        },
        "id": "8pT8HES23vQn",
        "outputId": "293db2cc-abdf-4c41-969a-06008b10370c"
      },
      "execution_count": null,
      "outputs": [
        {
          "output_type": "stream",
          "name": "stdout",
          "text": [
            "True False False \n",
            "False True False \n",
            "False False True \n"
          ]
        }
      ]
    },
    {
      "cell_type": "code",
      "source": [
        "class SampleClass:\n",
        "    def __init__(self, val):\n",
        "        self.val = val\n",
        "\n",
        "object_1 = SampleClass(0)\n",
        "object_2 = SampleClass(2)\n",
        "object_3 = object_1\n",
        "object_3.val += 1\n",
        "\n",
        "print(object_1 is object_2)\n",
        "print(object_2 is object_3)\n",
        "print(object_3 is object_1)\n",
        "print(object_1.val, object_2.val, object_3.val)\n",
        "\n",
        "string_1 = \"Mary had a little \"\n",
        "string_2 = \"Mary had a little lamb\"\n",
        "string_1 += \"lamb\"\n",
        "\n",
        "print(string_1 == string_2, string_1 is string_2)"
      ],
      "metadata": {
        "id": "-lq0YdhI8ZOh",
        "outputId": "d3c06e45-d924-4dfe-982b-633330ce34b0",
        "colab": {
          "base_uri": "https://localhost:8080/"
        }
      },
      "execution_count": null,
      "outputs": [
        {
          "output_type": "stream",
          "name": "stdout",
          "text": [
            "False\n",
            "False\n",
            "True\n",
            "1 2 1\n",
            "True False\n"
          ]
        }
      ]
    },
    {
      "cell_type": "code",
      "source": [
        "# De que forma o Python encontra propriedades e métodos?\n",
        "\n",
        "class Super:\n",
        "    def __init__(self, name):\n",
        "        self.name = name\n",
        "\n",
        "    def __str__(self):\n",
        "        return \"My name is \" + self.name + \".\"\n",
        "\n",
        "class Sub(Super):\n",
        "    def __init__(self, name):\n",
        "        Super.__init__(self, name)\n",
        "\n",
        "\n",
        "obj = Sub(\"Andy\")\n",
        "\n",
        "print(obj)\n",
        "\n"
      ],
      "metadata": {
        "id": "0hyQqD-e-68R",
        "outputId": "9e7e89bd-5d70-47da-b8a3-c71b38e94342",
        "colab": {
          "base_uri": "https://localhost:8080/"
        }
      },
      "execution_count": null,
      "outputs": [
        {
          "output_type": "stream",
          "name": "stdout",
          "text": [
            "My name is Andy.\n"
          ]
        }
      ]
    },
    {
      "cell_type": "code",
      "source": [
        "class Super:\n",
        "    def __init__(self, name):\n",
        "        self.name = name\n",
        "\n",
        "    def __str__(self):\n",
        "        return \"My name is \" + self.name + \".\"\n",
        "\n",
        "class Sub(Super):\n",
        "    def __init__(self, name):\n",
        "        super().__init__(name)\n",
        "\n",
        "obj = Sub(\"Andy\")\n",
        "\n",
        "print(obj)"
      ],
      "metadata": {
        "colab": {
          "base_uri": "https://localhost:8080/"
        },
        "id": "hr5UUoYn3IPd",
        "outputId": "eedaf2da-fd12-44aa-cac4-787734032364"
      },
      "execution_count": 1,
      "outputs": [
        {
          "output_type": "stream",
          "name": "stdout",
          "text": [
            "My name is Andy.\n"
          ]
        }
      ]
    },
    {
      "cell_type": "code",
      "source": [
        "# Testando propriedades - Variaveis de Classe\n",
        "class Super:\n",
        "    supVar = 1\n",
        "\n",
        "class Sub(Super):\n",
        "    subVar = 2\n",
        "\n",
        "obj = Sub()\n",
        "\n",
        "print(obj.subVar)\n",
        "print(obj.supVar)"
      ],
      "metadata": {
        "colab": {
          "base_uri": "https://localhost:8080/"
        },
        "id": "7NLoUu_m5QUq",
        "outputId": "6933bfee-8f70-4c3b-f671-550b9787e8cc"
      },
      "execution_count": 3,
      "outputs": [
        {
          "output_type": "stream",
          "name": "stdout",
          "text": [
            "2\n",
            "1\n"
          ]
        }
      ]
    },
    {
      "cell_type": "code",
      "source": [
        "# Testando propriedades - Variáveis de instância\n",
        "class Super:\n",
        "    def __init__(self):\n",
        "        self.supVar = 11\n",
        "\n",
        "class Sub(Super):\n",
        "    def __init__(self):\n",
        "        super().__init__()\n",
        "        self.subVar = 12\n",
        "\n",
        "obj = Sub()\n",
        "\n",
        "print(obj.subVar)\n",
        "print(obj.supVar)"
      ],
      "metadata": {
        "colab": {
          "base_uri": "https://localhost:8080/"
        },
        "id": "IgwuWBjX6DV1",
        "outputId": "5b8e19e1-ca54-4661-df04-d9e9d8102b2d"
      },
      "execution_count": 6,
      "outputs": [
        {
          "output_type": "stream",
          "name": "stdout",
          "text": [
            "12\n",
            "11\n"
          ]
        }
      ]
    }
  ]
}