{
  "nbformat": 4,
  "nbformat_minor": 0,
  "metadata": {
    "colab": {
      "provenance": [],
      "authorship_tag": "ABX9TyOA8TOQ3q2FiphRjmuAnt5g",
      "include_colab_link": true
    },
    "kernelspec": {
      "name": "python3",
      "display_name": "Python 3"
    },
    "language_info": {
      "name": "python"
    }
  },
  "cells": [
    {
      "cell_type": "markdown",
      "metadata": {
        "id": "view-in-github",
        "colab_type": "text"
      },
      "source": [
        "<a href=\"https://colab.research.google.com/github/vitorwmoutinho/projeto1aprender/blob/main/Recursos_uteis.ipynb\" target=\"_parent\"><img src=\"https://colab.research.google.com/assets/colab-badge.svg\" alt=\"Open In Colab\"/></a>"
      ]
    },
    {
      "cell_type": "markdown",
      "source": [
        "9.1 Compreensão de listas"
      ],
      "metadata": {
        "id": "xP7E3X2Hsn5r"
      }
    },
    {
      "cell_type": "code",
      "source": [
        "# Listas comprehension sem condiconal\n",
        "[expr(item) for item in sequencia]"
      ],
      "metadata": {
        "id": "Y6xU6Wcpsvs0"
      },
      "execution_count": null,
      "outputs": []
    },
    {
      "cell_type": "code",
      "source": [
        "# listas comprehension com condicional\n",
        "[exprt(item) for item in sequencia if condicao]"
      ],
      "metadata": {
        "id": "UOtCzRpNuiEZ"
      },
      "execution_count": null,
      "outputs": []
    },
    {
      "cell_type": "code",
      "source": [
        "# cria uma lista de numeros de 1 a 10 elevados à 2\n",
        "potencia = []\n",
        "for item in range(1, 11):\n",
        "  potencia.append(item ** 2)\n",
        "print(potencia)"
      ],
      "metadata": {
        "colab": {
          "base_uri": "https://localhost:8080/"
        },
        "id": "LZepHfWCu893",
        "outputId": "1cd78590-6ecb-4311-9a8e-7201a4361306"
      },
      "execution_count": null,
      "outputs": [
        {
          "output_type": "stream",
          "name": "stdout",
          "text": [
            "[1, 4, 9, 16, 25, 36, 49, 64, 81, 100]\n"
          ]
        }
      ]
    },
    {
      "cell_type": "code",
      "source": [
        "# Podemos reescrever a mesma operação de outra forma, utilizando list comprehension\n",
        "potencias = [item ** 2 for item in range(1, 11)]\n",
        "print(potencias)"
      ],
      "metadata": {
        "colab": {
          "base_uri": "https://localhost:8080/"
        },
        "id": "yzeonMy3vxmc",
        "outputId": "4e9cf94b-6331-4234-d5a1-72aa7dec0473"
      },
      "execution_count": null,
      "outputs": [
        {
          "output_type": "stream",
          "name": "stdout",
          "text": [
            "[1, 4, 9, 16, 25, 36, 49, 64, 81, 100]\n"
          ]
        }
      ]
    },
    {
      "cell_type": "code",
      "source": [
        "# Multiplica por 10 os numeros de 1 a 15\n",
        "[n * 10 for n in range(1, 16)]"
      ],
      "metadata": {
        "colab": {
          "base_uri": "https://localhost:8080/"
        },
        "id": "nuqFjw2zwwn9",
        "outputId": "b74c794d-5e79-457e-e82a-1b2dfcdf9fc2"
      },
      "execution_count": null,
      "outputs": [
        {
          "output_type": "execute_result",
          "data": {
            "text/plain": [
              "[10, 20, 30, 40, 50, 60, 70, 80, 90, 100, 110, 120, 130, 140, 150]"
            ]
          },
          "metadata": {},
          "execution_count": 3
        }
      ]
    },
    {
      "cell_type": "code",
      "source": [
        "# Indica se n é par ou não\n",
        "[(n % 2 == 0) for n in range (0, 10)]"
      ],
      "metadata": {
        "colab": {
          "base_uri": "https://localhost:8080/"
        },
        "id": "Lws_qfVzyLaS",
        "outputId": "60586b54-c2e3-4ad0-91c5-8a1b0d626f0e"
      },
      "execution_count": null,
      "outputs": [
        {
          "output_type": "execute_result",
          "data": {
            "text/plain": [
              "[True, False, True, False, True, False, True, False, True, False]"
            ]
          },
          "metadata": {},
          "execution_count": 4
        }
      ]
    },
    {
      "cell_type": "code",
      "source": [
        "# Cria uma lista com os números IMPARES de 1 a 10 elevados a 2\n",
        "potencia1 = []\n",
        "for item in range(1, 11):\n",
        "  if item % 2 == 1:\n",
        "   potencia1.append(item ** 2)\n",
        "print(potencia1)"
      ],
      "metadata": {
        "colab": {
          "base_uri": "https://localhost:8080/"
        },
        "id": "9iQWn6ji0eNu",
        "outputId": "7a680598-c826-4bc9-f817-ceac5118534f"
      },
      "execution_count": null,
      "outputs": [
        {
          "output_type": "stream",
          "name": "stdout",
          "text": [
            "[1, 9, 25, 49, 81]\n"
          ]
        }
      ]
    },
    {
      "cell_type": "markdown",
      "source": [
        "9.2 Compreensão sde diconários"
      ],
      "metadata": {
        "id": "3mKr6UozCVQD"
      }
    },
    {
      "cell_type": "code",
      "source": [
        "(Chave, valor for item in sequencia)"
      ],
      "metadata": {
        "id": "mYb66d1J1vsV"
      },
      "execution_count": null,
      "outputs": []
    },
    {
      "cell_type": "code",
      "source": [
        "# Todos os numéros elevados a 2\n",
        "\n",
        "dict_todos = {}\n",
        "for item in range(1, 11):\n",
        "  dict_todos[item] = item ** 2\n",
        "print('Todos os numeros ', dict_todos)"
      ],
      "metadata": {
        "colab": {
          "base_uri": "https://localhost:8080/"
        },
        "id": "IGKFd4FNCsDA",
        "outputId": "23fe335a-f21e-45c7-80cf-b05604476eed"
      },
      "execution_count": 3,
      "outputs": [
        {
          "output_type": "stream",
          "name": "stdout",
          "text": [
            "Todos os numeros  {1: 1, 2: 4, 3: 9, 4: 16, 5: 25, 6: 36, 7: 49, 8: 64, 9: 81, 10: 100}\n"
          ]
        }
      ]
    },
    {
      "cell_type": "code",
      "source": [
        "# Podemos reescrever á nossa operação de outra forma, utilizando o dic comprehension\n",
        "dict_todos ={item: item ** 2 for item in range(1, 11)}\n",
        "print('Todos números: ', dict_todos)"
      ],
      "metadata": {
        "colab": {
          "base_uri": "https://localhost:8080/"
        },
        "id": "EkY2GZMSDzA9",
        "outputId": "c09eaa57-ec79-4580-e751-9ecabdde0834"
      },
      "execution_count": 4,
      "outputs": [
        {
          "output_type": "stream",
          "name": "stdout",
          "text": [
            "Todos números:  {1: 1, 2: 4, 3: 9, 4: 16, 5: 25, 6: 36, 7: 49, 8: 64, 9: 81, 10: 100}\n"
          ]
        }
      ]
    },
    {
      "cell_type": "code",
      "source": [
        "# Apenas números ímpares elevados a 2\n",
        "dict_impares = {}\n",
        "for item in range(1, 11):\n",
        "  if item % 2 != 0:\n",
        "    dict_impares[item] = item ** 2\n",
        "print('Números impares: ', dict_impares)"
      ],
      "metadata": {
        "colab": {
          "base_uri": "https://localhost:8080/"
        },
        "id": "a8AyrdGgE1Cc",
        "outputId": "6a9749e9-1cbf-4d0b-bdb0-6674ffef7de5"
      },
      "execution_count": 5,
      "outputs": [
        {
          "output_type": "stream",
          "name": "stdout",
          "text": [
            "Números impares:  {1: 1, 3: 9, 5: 25, 7: 49, 9: 81}\n"
          ]
        }
      ]
    },
    {
      "cell_type": "markdown",
      "source": [
        "9.3 Funções Anônimas (Funções Lambda)"
      ],
      "metadata": {
        "id": "45KwG6xiIM4V"
      }
    },
    {
      "cell_type": "markdown",
      "source": [
        "\n",
        "Sintaxe:\n",
        "Lambda argumentos <expressão>\n",
        "\n"
      ],
      "metadata": {
        "id": "CYPKeJnKI46Y"
      }
    },
    {
      "cell_type": "code",
      "source": [
        "# Declaração da função explicita (declaração tradicional)\n",
        "def area_quadrado(lado):\n",
        "  return lado * lado"
      ],
      "metadata": {
        "id": "fDUNM7S4JEkD"
      },
      "execution_count": 7,
      "outputs": []
    },
    {
      "cell_type": "code",
      "source": [
        "area_quadrado(5)"
      ],
      "metadata": {
        "colab": {
          "base_uri": "https://localhost:8080/"
        },
        "id": "SalIFHS7JWHF",
        "outputId": "6f67db98-dc7e-4413-981a-77f6f91871ae"
      },
      "execution_count": 8,
      "outputs": [
        {
          "output_type": "execute_result",
          "data": {
            "text/plain": [
              "25"
            ]
          },
          "metadata": {},
          "execution_count": 8
        }
      ]
    },
    {
      "cell_type": "code",
      "source": [
        "# Declaração da função lambda\n",
        "area_quad = lambda lado: lado * lado\n",
        "\n",
        "# Utilizado\n",
        "area_quad(4)"
      ],
      "metadata": {
        "colab": {
          "base_uri": "https://localhost:8080/"
        },
        "id": "UPDQEIrdJdNZ",
        "outputId": "cd83c24c-932f-49b1-b79e-b3104c6a0d32"
      },
      "execution_count": 9,
      "outputs": [
        {
          "output_type": "execute_result",
          "data": {
            "text/plain": [
              "16"
            ]
          },
          "metadata": {},
          "execution_count": 9
        }
      ]
    },
    {
      "cell_type": "code",
      "source": [
        "area_triangulo = lambda base, altura: (base * altura)/ 2\n",
        "\n",
        "# Utilização\n",
        "area_triangulo(10, 20)"
      ],
      "metadata": {
        "colab": {
          "base_uri": "https://localhost:8080/"
        },
        "id": "p0wQDIZBJ2GS",
        "outputId": "80594d23-255d-4251-8587-5ae9089c1330"
      },
      "execution_count": 10,
      "outputs": [
        {
          "output_type": "execute_result",
          "data": {
            "text/plain": [
              "100.0"
            ]
          },
          "metadata": {},
          "execution_count": 10
        }
      ]
    },
    {
      "cell_type": "code",
      "source": [
        "# Verificação do tipo de váriavel\n",
        "type(area_quad)"
      ],
      "metadata": {
        "colab": {
          "base_uri": "https://localhost:8080/"
        },
        "id": "C1ytecN6KOYK",
        "outputId": "4faa414e-e3f9-4ee5-8a17-6afc6c9fab6f"
      },
      "execution_count": 11,
      "outputs": [
        {
          "output_type": "execute_result",
          "data": {
            "text/plain": [
              "function"
            ]
          },
          "metadata": {},
          "execution_count": 11
        }
      ]
    },
    {
      "cell_type": "code",
      "source": [
        "# Função que calcula o triplo\n",
        "triplo = lambda x: x * 3\n",
        "\n",
        "# Uilização\n",
        "triplo(10)"
      ],
      "metadata": {
        "colab": {
          "base_uri": "https://localhost:8080/"
        },
        "id": "6iRaBcgxKc_D",
        "outputId": "cf3b9053-3eb0-4e90-8ba2-37549c171c85"
      },
      "execution_count": 12,
      "outputs": [
        {
          "output_type": "execute_result",
          "data": {
            "text/plain": [
              "30"
            ]
          },
          "metadata": {},
          "execution_count": 12
        }
      ]
    },
    {
      "cell_type": "code",
      "source": [
        "# Calcule o triplo do numero da lista\n",
        "lista = [4, 5, 9, 7, 0, 1, 8]\n",
        "list(map(triplo, lista))"
      ],
      "metadata": {
        "colab": {
          "base_uri": "https://localhost:8080/"
        },
        "id": "Oi-_E6vXKwy0",
        "outputId": "2ab67569-2245-4e5b-e83c-6ff0e3672c41"
      },
      "execution_count": 13,
      "outputs": [
        {
          "output_type": "execute_result",
          "data": {
            "text/plain": [
              "[12, 15, 27, 21, 0, 3, 24]"
            ]
          },
          "metadata": {},
          "execution_count": 13
        }
      ]
    },
    {
      "cell_type": "code",
      "source": [
        "# Podemos fazer de um jeito mais pythonico ainda\n",
        "list(map(lambda x: x ** 3, [4, 5, 9, 7, 0, 1,8]))"
      ],
      "metadata": {
        "colab": {
          "base_uri": "https://localhost:8080/"
        },
        "id": "7klN1UFkLVO8",
        "outputId": "79c2237a-911e-428e-c568-93d52f297472"
      },
      "execution_count": 15,
      "outputs": [
        {
          "output_type": "execute_result",
          "data": {
            "text/plain": [
              "[64, 125, 729, 343, 0, 1, 512]"
            ]
          },
          "metadata": {},
          "execution_count": 15
        }
      ]
    }
  ]
}