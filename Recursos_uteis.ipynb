{
  "nbformat": 4,
  "nbformat_minor": 0,
  "metadata": {
    "colab": {
      "provenance": [],
      "authorship_tag": "ABX9TyOSfdk9sWWx4Ofw10OecqO7",
      "include_colab_link": true
    },
    "kernelspec": {
      "name": "python3",
      "display_name": "Python 3"
    },
    "language_info": {
      "name": "python"
    }
  },
  "cells": [
    {
      "cell_type": "markdown",
      "metadata": {
        "id": "view-in-github",
        "colab_type": "text"
      },
      "source": [
        "<a href=\"https://colab.research.google.com/github/vitorwmoutinho/projeto1aprender/blob/main/Recursos_uteis.ipynb\" target=\"_parent\"><img src=\"https://colab.research.google.com/assets/colab-badge.svg\" alt=\"Open In Colab\"/></a>"
      ]
    },
    {
      "cell_type": "markdown",
      "source": [
        "9.1 Compreensão de listas"
      ],
      "metadata": {
        "id": "xP7E3X2Hsn5r"
      }
    },
    {
      "cell_type": "code",
      "source": [
        "# Listas comprehension sem condiconal\n",
        "[expr(item) for item in sequencia]"
      ],
      "metadata": {
        "id": "Y6xU6Wcpsvs0"
      },
      "execution_count": null,
      "outputs": []
    },
    {
      "cell_type": "code",
      "source": [
        "# listas comprehension com condicional\n",
        "[exprt(item) for item in sequencia if condicao]"
      ],
      "metadata": {
        "id": "UOtCzRpNuiEZ"
      },
      "execution_count": null,
      "outputs": []
    },
    {
      "cell_type": "code",
      "source": [
        "# cria uma lista de numeros de 1 a 10 elevados à 2\n",
        "potencia = []\n",
        "for item in range(1, 11):\n",
        "  potencia.append(item ** 2)\n",
        "print(potencia)"
      ],
      "metadata": {
        "colab": {
          "base_uri": "https://localhost:8080/"
        },
        "id": "LZepHfWCu893",
        "outputId": "1cd78590-6ecb-4311-9a8e-7201a4361306"
      },
      "execution_count": 1,
      "outputs": [
        {
          "output_type": "stream",
          "name": "stdout",
          "text": [
            "[1, 4, 9, 16, 25, 36, 49, 64, 81, 100]\n"
          ]
        }
      ]
    },
    {
      "cell_type": "code",
      "source": [
        "# Podemos reescrever a mesma operação de outra forma, utilizando list comprehension\n",
        "potencias = [item ** 2 for item in range(1, 11)]\n",
        "print(potencias)"
      ],
      "metadata": {
        "colab": {
          "base_uri": "https://localhost:8080/"
        },
        "id": "yzeonMy3vxmc",
        "outputId": "4e9cf94b-6331-4234-d5a1-72aa7dec0473"
      },
      "execution_count": 2,
      "outputs": [
        {
          "output_type": "stream",
          "name": "stdout",
          "text": [
            "[1, 4, 9, 16, 25, 36, 49, 64, 81, 100]\n"
          ]
        }
      ]
    },
    {
      "cell_type": "code",
      "source": [
        "# Multiplica por 10 os numeros de 1 a 15\n",
        "[n * 10 for n in range(1, 16)]"
      ],
      "metadata": {
        "colab": {
          "base_uri": "https://localhost:8080/"
        },
        "id": "nuqFjw2zwwn9",
        "outputId": "b74c794d-5e79-457e-e82a-1b2dfcdf9fc2"
      },
      "execution_count": 3,
      "outputs": [
        {
          "output_type": "execute_result",
          "data": {
            "text/plain": [
              "[10, 20, 30, 40, 50, 60, 70, 80, 90, 100, 110, 120, 130, 140, 150]"
            ]
          },
          "metadata": {},
          "execution_count": 3
        }
      ]
    },
    {
      "cell_type": "code",
      "source": [
        "# Indica se n é par ou não\n",
        "[(n % 2 == 0) for n in range (0, 10)]"
      ],
      "metadata": {
        "colab": {
          "base_uri": "https://localhost:8080/"
        },
        "id": "Lws_qfVzyLaS",
        "outputId": "60586b54-c2e3-4ad0-91c5-8a1b0d626f0e"
      },
      "execution_count": 4,
      "outputs": [
        {
          "output_type": "execute_result",
          "data": {
            "text/plain": [
              "[True, False, True, False, True, False, True, False, True, False]"
            ]
          },
          "metadata": {},
          "execution_count": 4
        }
      ]
    },
    {
      "cell_type": "code",
      "source": [
        "# Cria uma lista com os números IMPARES de 1 a 10 elevados a 2\n",
        "potencia1 = []\n",
        "for item in range(1, 11):\n",
        "  if item % 2 == 1:\n",
        "   potencia1.append(item ** 2)\n",
        "print(potencia1)"
      ],
      "metadata": {
        "colab": {
          "base_uri": "https://localhost:8080/"
        },
        "id": "9iQWn6ji0eNu",
        "outputId": "7a680598-c826-4bc9-f817-ceac5118534f"
      },
      "execution_count": 5,
      "outputs": [
        {
          "output_type": "stream",
          "name": "stdout",
          "text": [
            "[1, 9, 25, 49, 81]\n"
          ]
        }
      ]
    },
    {
      "cell_type": "code",
      "source": [],
      "metadata": {
        "id": "mYb66d1J1vsV"
      },
      "execution_count": null,
      "outputs": []
    }
  ]
}